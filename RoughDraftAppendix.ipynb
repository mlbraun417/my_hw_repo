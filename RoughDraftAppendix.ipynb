{
 "cells": [
  {
   "cell_type": "code",
   "execution_count": 46,
   "metadata": {
    "collapsed": true
   },
   "outputs": [],
   "source": [
    "import pandas as pd\n",
    "import numpy as np\n",
    "import matplotlib.pyplot as plt\n",
    "import seaborn as sns\n",
    "%matplotlib inline"
   ]
  },
  {
   "cell_type": "code",
   "execution_count": 47,
   "metadata": {
    "collapsed": true
   },
   "outputs": [],
   "source": [
    "raw = pd.read_csv(\"PLS_FY2014_AE_pupld14a.csv\")"
   ]
  },
  {
   "cell_type": "markdown",
   "metadata": {},
   "source": [
    "## Original Data"
   ]
  },
  {
   "cell_type": "code",
   "execution_count": 48,
   "metadata": {
    "collapsed": false
   },
   "outputs": [
    {
     "name": "stdout",
     "output_type": "stream",
     "text": [
      "<class 'pandas.core.frame.DataFrame'>\n",
      "RangeIndex: 9305 entries, 0 to 9304\n",
      "Columns: 159 entries, STABR to YR_SUB\n",
      "dtypes: float64(9), int64(62), object(88)\n",
      "memory usage: 11.3+ MB\n"
     ]
    }
   ],
   "source": [
    "raw.info()"
   ]
  },
  {
   "cell_type": "code",
   "execution_count": 134,
   "metadata": {
    "collapsed": false
   },
   "outputs": [
    {
     "data": {
      "text/html": [
       "<div>\n",
       "<table border=\"1\" class=\"dataframe\">\n",
       "  <thead>\n",
       "    <tr style=\"text-align: right;\">\n",
       "      <th></th>\n",
       "      <th>TOTCIR</th>\n",
       "      <th>POPU_LSA</th>\n",
       "      <th>STGVT</th>\n",
       "      <th>GEOCODE</th>\n",
       "      <th>OBEREG</th>\n",
       "      <th>LOCALE</th>\n",
       "    </tr>\n",
       "  </thead>\n",
       "  <tbody>\n",
       "    <tr>\n",
       "      <th>0</th>\n",
       "      <td>11607</td>\n",
       "      <td>2059</td>\n",
       "      <td>18993</td>\n",
       "      <td>CI1</td>\n",
       "      <td>8</td>\n",
       "      <td>43</td>\n",
       "    </tr>\n",
       "    <tr>\n",
       "      <th>1</th>\n",
       "      <td>1886620</td>\n",
       "      <td>300549</td>\n",
       "      <td>56724</td>\n",
       "      <td>MA1</td>\n",
       "      <td>8</td>\n",
       "      <td>11</td>\n",
       "    </tr>\n",
       "    <tr>\n",
       "      <th>2</th>\n",
       "      <td>1092</td>\n",
       "      <td>209</td>\n",
       "      <td>6300</td>\n",
       "      <td>CI1</td>\n",
       "      <td>8</td>\n",
       "      <td>43</td>\n",
       "    </tr>\n",
       "    <tr>\n",
       "      <th>3</th>\n",
       "      <td>12347</td>\n",
       "      <td>6241</td>\n",
       "      <td>6600</td>\n",
       "      <td>CI1</td>\n",
       "      <td>8</td>\n",
       "      <td>33</td>\n",
       "    </tr>\n",
       "    <tr>\n",
       "      <th>4</th>\n",
       "      <td>59630</td>\n",
       "      <td>12793</td>\n",
       "      <td>6600</td>\n",
       "      <td>CO1</td>\n",
       "      <td>8</td>\n",
       "      <td>42</td>\n",
       "    </tr>\n",
       "  </tbody>\n",
       "</table>\n",
       "</div>"
      ],
      "text/plain": [
       "    TOTCIR  POPU_LSA  STGVT GEOCODE  OBEREG LOCALE\n",
       "0    11607      2059  18993     CI1       8     43\n",
       "1  1886620    300549  56724     MA1       8     11\n",
       "2     1092       209   6300     CI1       8     43\n",
       "3    12347      6241   6600     CI1       8     33\n",
       "4    59630     12793   6600     CO1       8     42"
      ]
     },
     "execution_count": 134,
     "metadata": {},
     "output_type": "execute_result"
    }
   ],
   "source": [
    "#variables to use in the model\n",
    "to_use = ['TOTCIR', 'POPU_LSA', 'STGVT', 'GEOCODE', 'OBEREG', 'LOCALE']\n",
    "to_use_df = raw[to_use]\n",
    "to_use_df.head()"
   ]
  },
  {
   "cell_type": "code",
   "execution_count": 135,
   "metadata": {
    "collapsed": false
   },
   "outputs": [
    {
     "name": "stdout",
     "output_type": "stream",
     "text": [
      "<class 'pandas.core.frame.DataFrame'>\n",
      "RangeIndex: 9305 entries, 0 to 9304\n",
      "Data columns (total 6 columns):\n",
      "TOTCIR      9305 non-null int64\n",
      "POPU_LSA    9305 non-null int64\n",
      "STGVT       9305 non-null int64\n",
      "GEOCODE     9305 non-null object\n",
      "OBEREG      9305 non-null int64\n",
      "LOCALE      9305 non-null object\n",
      "dtypes: int64(4), object(2)\n",
      "memory usage: 436.2+ KB\n"
     ]
    }
   ],
   "source": [
    "to_use_df.info()"
   ]
  },
  {
   "cell_type": "code",
   "execution_count": 136,
   "metadata": {
    "collapsed": false
   },
   "outputs": [
    {
     "data": {
      "text/html": [
       "<div>\n",
       "<table border=\"1\" class=\"dataframe\">\n",
       "  <thead>\n",
       "    <tr style=\"text-align: right;\">\n",
       "      <th></th>\n",
       "      <th>TOTCIR</th>\n",
       "      <th>POPU_LSA</th>\n",
       "      <th>STGVT</th>\n",
       "      <th>OBEREG</th>\n",
       "    </tr>\n",
       "  </thead>\n",
       "  <tbody>\n",
       "    <tr>\n",
       "      <th>count</th>\n",
       "      <td>9.305000e+03</td>\n",
       "      <td>9.305000e+03</td>\n",
       "      <td>9.305000e+03</td>\n",
       "      <td>9305.000000</td>\n",
       "    </tr>\n",
       "    <tr>\n",
       "      <th>mean</th>\n",
       "      <td>2.487170e+05</td>\n",
       "      <td>3.434550e+04</td>\n",
       "      <td>9.140340e+04</td>\n",
       "      <td>3.726384</td>\n",
       "    </tr>\n",
       "    <tr>\n",
       "      <th>std</th>\n",
       "      <td>1.027975e+06</td>\n",
       "      <td>1.365817e+05</td>\n",
       "      <td>8.202488e+05</td>\n",
       "      <td>1.978533</td>\n",
       "    </tr>\n",
       "    <tr>\n",
       "      <th>min</th>\n",
       "      <td>-3.000000e+00</td>\n",
       "      <td>-3.000000e+00</td>\n",
       "      <td>-3.000000e+00</td>\n",
       "      <td>1.000000</td>\n",
       "    </tr>\n",
       "    <tr>\n",
       "      <th>25%</th>\n",
       "      <td>1.146800e+04</td>\n",
       "      <td>2.190000e+03</td>\n",
       "      <td>2.020000e+02</td>\n",
       "      <td>2.000000</td>\n",
       "    </tr>\n",
       "    <tr>\n",
       "      <th>50%</th>\n",
       "      <td>4.099700e+04</td>\n",
       "      <td>7.284000e+03</td>\n",
       "      <td>4.042000e+03</td>\n",
       "      <td>3.000000</td>\n",
       "    </tr>\n",
       "    <tr>\n",
       "      <th>75%</th>\n",
       "      <td>1.432910e+05</td>\n",
       "      <td>2.280800e+04</td>\n",
       "      <td>2.142900e+04</td>\n",
       "      <td>5.000000</td>\n",
       "    </tr>\n",
       "    <tr>\n",
       "      <th>max</th>\n",
       "      <td>2.410174e+07</td>\n",
       "      <td>4.008651e+06</td>\n",
       "      <td>3.561788e+07</td>\n",
       "      <td>9.000000</td>\n",
       "    </tr>\n",
       "  </tbody>\n",
       "</table>\n",
       "</div>"
      ],
      "text/plain": [
       "             TOTCIR      POPU_LSA         STGVT       OBEREG\n",
       "count  9.305000e+03  9.305000e+03  9.305000e+03  9305.000000\n",
       "mean   2.487170e+05  3.434550e+04  9.140340e+04     3.726384\n",
       "std    1.027975e+06  1.365817e+05  8.202488e+05     1.978533\n",
       "min   -3.000000e+00 -3.000000e+00 -3.000000e+00     1.000000\n",
       "25%    1.146800e+04  2.190000e+03  2.020000e+02     2.000000\n",
       "50%    4.099700e+04  7.284000e+03  4.042000e+03     3.000000\n",
       "75%    1.432910e+05  2.280800e+04  2.142900e+04     5.000000\n",
       "max    2.410174e+07  4.008651e+06  3.561788e+07     9.000000"
      ]
     },
     "execution_count": 136,
     "metadata": {},
     "output_type": "execute_result"
    }
   ],
   "source": [
    "to_use_df.describe()\n",
    "# -3 and -1 are missing"
   ]
  },
  {
   "cell_type": "code",
   "execution_count": 137,
   "metadata": {
    "collapsed": false
   },
   "outputs": [
    {
     "data": {
      "text/plain": [
       "<matplotlib.axes._subplots.AxesSubplot at 0x105eb320>"
      ]
     },
     "execution_count": 137,
     "metadata": {},
     "output_type": "execute_result"
    },
    {
     "data": {
      "image/png": "[encoded data removed]",
      "text/plain": [
       "<matplotlib.figure.Figure at 0xc1e4c88>"
      ]
     },
     "metadata": {},
     "output_type": "display_data"
    }
   ],
   "source": [
    "sns.violinplot(to_use_df['TOTCIR'])"
   ]
  },
  {
   "cell_type": "code",
   "execution_count": 138,
   "metadata": {
    "collapsed": false
   },
   "outputs": [
    {
     "data": {
      "text/plain": [
       "<matplotlib.axes._subplots.AxesSubplot at 0x13c28cf8>"
      ]
     },
     "execution_count": 138,
     "metadata": {},
     "output_type": "execute_result"
    },
    {
     "data": {
      "image/png": "[encoded data removed]",
      "text/plain": [
       "<matplotlib.figure.Figure at 0x131f0f28>"
      ]
     },
     "metadata": {},
     "output_type": "display_data"
    }
   ],
   "source": [
    "sns.violinplot(to_use_df['POPU_LSA'])"
   ]
  },
  {
   "cell_type": "code",
   "execution_count": 139,
   "metadata": {
    "collapsed": false
   },
   "outputs": [
    {
     "data": {
      "text/plain": [
       "<matplotlib.axes._subplots.AxesSubplot at 0x15186ba8>"
      ]
     },
     "execution_count": 139,
     "metadata": {},
     "output_type": "execute_result"
    },
    {
     "data": {
      "image/png": "[encoded data removed]",
      "text/plain": [
       "<matplotlib.figure.Figure at 0xbca3d68>"
      ]
     },
     "metadata": {},
     "output_type": "display_data"
    }
   ],
   "source": [
    "sns.violinplot(to_use_df['STGVT'])"
   ]
  },
  {
   "cell_type": "code",
   "execution_count": 140,
   "metadata": {
    "collapsed": false
   },
   "outputs": [
    {
     "data": {
      "text/plain": [
       "CI1    3357\n",
       "OTH    2150\n",
       "CI2    1494\n",
       "CO1    1129\n",
       "CO2     508\n",
       "SD1     423\n",
       "MC1     129\n",
       "SD2      52\n",
       "MC2      42\n",
       "MA1      11\n",
       "MA2      10\n",
       "Name: GEOCODE, dtype: int64"
      ]
     },
     "execution_count": 140,
     "metadata": {},
     "output_type": "execute_result"
    }
   ],
   "source": [
    "to_use_df['GEOCODE'].value_counts()"
   ]
  },
  {
   "cell_type": "code",
   "execution_count": 141,
   "metadata": {
    "collapsed": false
   },
   "outputs": [
    {
     "data": {
      "text/plain": [
       "3    1883\n",
       "4    1620\n",
       "2    1553\n",
       "1    1288\n",
       "5    1162\n",
       "6     859\n",
       "8     483\n",
       "7     395\n",
       "9      62\n",
       "Name: OBEREG, dtype: int64"
      ]
     },
     "execution_count": 141,
     "metadata": {},
     "output_type": "execute_result"
    }
   ],
   "source": [
    "to_use_df['OBEREG'].value_counts()"
   ]
  },
  {
   "cell_type": "code",
   "execution_count": 142,
   "metadata": {
    "collapsed": false
   },
   "outputs": [
    {
     "data": {
      "text/plain": [
       "42    2041\n",
       "21    1881\n",
       "43    1613\n",
       "32    1057\n",
       "33     647\n",
       "41     505\n",
       "31     502\n",
       "13     296\n",
       "22     258\n",
       "23     206\n",
       "12     117\n",
       ".      106\n",
       "11      76\n",
       "Name: LOCALE, dtype: int64"
      ]
     },
     "execution_count": 142,
     "metadata": {},
     "output_type": "execute_result"
    }
   ],
   "source": [
    "to_use_df['LOCALE'].value_counts()\n",
    "#period is missing"
   ]
  },
  {
   "cell_type": "code",
   "execution_count": 143,
   "metadata": {
    "collapsed": false
   },
   "outputs": [
    {
     "data": {
      "text/html": [
       "<div>\n",
       "<table border=\"1\" class=\"dataframe\">\n",
       "  <thead>\n",
       "    <tr style=\"text-align: right;\">\n",
       "      <th></th>\n",
       "      <th>TOTCIR</th>\n",
       "      <th>POPU_LSA</th>\n",
       "      <th>STGVT</th>\n",
       "      <th>OBEREG</th>\n",
       "    </tr>\n",
       "  </thead>\n",
       "  <tbody>\n",
       "    <tr>\n",
       "      <th>TOTCIR</th>\n",
       "      <td>1.000000</td>\n",
       "      <td>0.792547</td>\n",
       "      <td>0.518021</td>\n",
       "      <td>0.097316</td>\n",
       "    </tr>\n",
       "    <tr>\n",
       "      <th>POPU_LSA</th>\n",
       "      <td>0.792547</td>\n",
       "      <td>1.000000</td>\n",
       "      <td>0.426361</td>\n",
       "      <td>0.130130</td>\n",
       "    </tr>\n",
       "    <tr>\n",
       "      <th>STGVT</th>\n",
       "      <td>0.518021</td>\n",
       "      <td>0.426361</td>\n",
       "      <td>1.000000</td>\n",
       "      <td>-0.011859</td>\n",
       "    </tr>\n",
       "    <tr>\n",
       "      <th>OBEREG</th>\n",
       "      <td>0.097316</td>\n",
       "      <td>0.130130</td>\n",
       "      <td>-0.011859</td>\n",
       "      <td>1.000000</td>\n",
       "    </tr>\n",
       "  </tbody>\n",
       "</table>\n",
       "</div>"
      ],
      "text/plain": [
       "            TOTCIR  POPU_LSA     STGVT    OBEREG\n",
       "TOTCIR    1.000000  0.792547  0.518021  0.097316\n",
       "POPU_LSA  0.792547  1.000000  0.426361  0.130130\n",
       "STGVT     0.518021  0.426361  1.000000 -0.011859\n",
       "OBEREG    0.097316  0.130130 -0.011859  1.000000"
      ]
     },
     "execution_count": 143,
     "metadata": {},
     "output_type": "execute_result"
    }
   ],
   "source": [
    "to_use_df.corr()"
   ]
  },
  {
   "cell_type": "markdown",
   "metadata": {},
   "source": [
    "## Impute Missing Data"
   ]
  },
  {
   "cell_type": "code",
   "execution_count": 144,
   "metadata": {
    "collapsed": false
   },
   "outputs": [
    {
     "name": "stderr",
     "output_type": "stream",
     "text": [
      "C:\\Users\\Molly\\Anaconda2\\lib\\site-packages\\ipykernel\\__main__.py:2: SettingWithCopyWarning: \n",
      "A value is trying to be set on a copy of a slice from a DataFrame.\n",
      "Try using .loc[row_indexer,col_indexer] = value instead\n",
      "\n",
      "See the caveats in the documentation: http://pandas.pydata.org/pandas-docs/stable/indexing.html#indexing-view-versus-copy\n",
      "  from ipykernel import kernelapp as app\n",
      "C:\\Users\\Molly\\Anaconda2\\lib\\site-packages\\ipykernel\\__main__.py:3: SettingWithCopyWarning: \n",
      "A value is trying to be set on a copy of a slice from a DataFrame.\n",
      "Try using .loc[row_indexer,col_indexer] = value instead\n",
      "\n",
      "See the caveats in the documentation: http://pandas.pydata.org/pandas-docs/stable/indexing.html#indexing-view-versus-copy\n",
      "  app.launch_new_instance()\n",
      "C:\\Users\\Molly\\Anaconda2\\lib\\site-packages\\ipykernel\\__main__.py:4: SettingWithCopyWarning: \n",
      "A value is trying to be set on a copy of a slice from a DataFrame.\n",
      "Try using .loc[row_indexer,col_indexer] = value instead\n",
      "\n",
      "See the caveats in the documentation: http://pandas.pydata.org/pandas-docs/stable/indexing.html#indexing-view-versus-copy\n"
     ]
    }
   ],
   "source": [
    "temp_median = to_use_df['TOTCIR'].median()\n",
    "to_use_df['TOTCIR'] = to_use_df['TOTCIR'].replace(to_replace=-3.0, value=temp_median)\n",
    "to_use_df['TOTCIR'] = to_use_df['TOTCIR'].replace(to_replace=-1.0, value=temp_median)\n",
    "to_use_df['TOTCIR'] = to_use_df['TOTCIR'].replace(to_replace=0.0, value=temp_median)"
   ]
  },
  {
   "cell_type": "code",
   "execution_count": 145,
   "metadata": {
    "collapsed": false
   },
   "outputs": [
    {
     "name": "stderr",
     "output_type": "stream",
     "text": [
      "C:\\Users\\Molly\\Anaconda2\\lib\\site-packages\\ipykernel\\__main__.py:2: SettingWithCopyWarning: \n",
      "A value is trying to be set on a copy of a slice from a DataFrame.\n",
      "Try using .loc[row_indexer,col_indexer] = value instead\n",
      "\n",
      "See the caveats in the documentation: http://pandas.pydata.org/pandas-docs/stable/indexing.html#indexing-view-versus-copy\n",
      "  from ipykernel import kernelapp as app\n",
      "C:\\Users\\Molly\\Anaconda2\\lib\\site-packages\\ipykernel\\__main__.py:3: SettingWithCopyWarning: \n",
      "A value is trying to be set on a copy of a slice from a DataFrame.\n",
      "Try using .loc[row_indexer,col_indexer] = value instead\n",
      "\n",
      "See the caveats in the documentation: http://pandas.pydata.org/pandas-docs/stable/indexing.html#indexing-view-versus-copy\n",
      "  app.launch_new_instance()\n"
     ]
    }
   ],
   "source": [
    "temp_median = to_use_df['POPU_LSA'].median()\n",
    "to_use_df['POPU_LSA'] = to_use_df['POPU_LSA'].replace(to_replace=-3.0, value=temp_median)\n",
    "to_use_df['POPU_LSA'] = to_use_df['POPU_LSA'].replace(to_replace=-1.0, value=temp_median)"
   ]
  },
  {
   "cell_type": "code",
   "execution_count": 146,
   "metadata": {
    "collapsed": false
   },
   "outputs": [
    {
     "name": "stderr",
     "output_type": "stream",
     "text": [
      "C:\\Users\\Molly\\Anaconda2\\lib\\site-packages\\ipykernel\\__main__.py:2: SettingWithCopyWarning: \n",
      "A value is trying to be set on a copy of a slice from a DataFrame.\n",
      "Try using .loc[row_indexer,col_indexer] = value instead\n",
      "\n",
      "See the caveats in the documentation: http://pandas.pydata.org/pandas-docs/stable/indexing.html#indexing-view-versus-copy\n",
      "  from ipykernel import kernelapp as app\n",
      "C:\\Users\\Molly\\Anaconda2\\lib\\site-packages\\ipykernel\\__main__.py:3: SettingWithCopyWarning: \n",
      "A value is trying to be set on a copy of a slice from a DataFrame.\n",
      "Try using .loc[row_indexer,col_indexer] = value instead\n",
      "\n",
      "See the caveats in the documentation: http://pandas.pydata.org/pandas-docs/stable/indexing.html#indexing-view-versus-copy\n",
      "  app.launch_new_instance()\n",
      "C:\\Users\\Molly\\Anaconda2\\lib\\site-packages\\ipykernel\\__main__.py:4: SettingWithCopyWarning: \n",
      "A value is trying to be set on a copy of a slice from a DataFrame.\n",
      "Try using .loc[row_indexer,col_indexer] = value instead\n",
      "\n",
      "See the caveats in the documentation: http://pandas.pydata.org/pandas-docs/stable/indexing.html#indexing-view-versus-copy\n"
     ]
    }
   ],
   "source": [
    "temp_median = to_use_df['STGVT'].median()\n",
    "to_use_df['STGVT'] = to_use_df['STGVT'].replace(to_replace=-3.0, value=temp_median)\n",
    "to_use_df['STGVT'] = to_use_df['STGVT'].replace(to_replace=-1.0, value=temp_median)\n",
    "to_use_df['STGVT'] = to_use_df['STGVT'].replace(to_replace=0.0, value=temp_median)"
   ]
  },
  {
   "cell_type": "code",
   "execution_count": 147,
   "metadata": {
    "collapsed": false
   },
   "outputs": [
    {
     "data": {
      "text/html": [
       "<div>\n",
       "<table border=\"1\" class=\"dataframe\">\n",
       "  <thead>\n",
       "    <tr style=\"text-align: right;\">\n",
       "      <th></th>\n",
       "      <th>TOTCIR</th>\n",
       "      <th>POPU_LSA</th>\n",
       "      <th>STGVT</th>\n",
       "      <th>OBEREG</th>\n",
       "    </tr>\n",
       "  </thead>\n",
       "  <tbody>\n",
       "    <tr>\n",
       "      <th>count</th>\n",
       "      <td>9.305000e+03</td>\n",
       "      <td>9.305000e+03</td>\n",
       "      <td>9.305000e+03</td>\n",
       "      <td>9305.000000</td>\n",
       "    </tr>\n",
       "    <tr>\n",
       "      <th>mean</th>\n",
       "      <td>2.489726e+05</td>\n",
       "      <td>3.435333e+04</td>\n",
       "      <td>9.237688e+04</td>\n",
       "      <td>3.726384</td>\n",
       "    </tr>\n",
       "    <tr>\n",
       "      <th>std</th>\n",
       "      <td>1.027918e+06</td>\n",
       "      <td>1.365800e+05</td>\n",
       "      <td>8.201422e+05</td>\n",
       "      <td>1.978533</td>\n",
       "    </tr>\n",
       "    <tr>\n",
       "      <th>min</th>\n",
       "      <td>1.700000e+01</td>\n",
       "      <td>1.000000e+01</td>\n",
       "      <td>1.000000e+01</td>\n",
       "      <td>1.000000</td>\n",
       "    </tr>\n",
       "    <tr>\n",
       "      <th>25%</th>\n",
       "      <td>1.193700e+04</td>\n",
       "      <td>2.201000e+03</td>\n",
       "      <td>3.910000e+03</td>\n",
       "      <td>2.000000</td>\n",
       "    </tr>\n",
       "    <tr>\n",
       "      <th>50%</th>\n",
       "      <td>4.099700e+04</td>\n",
       "      <td>7.284000e+03</td>\n",
       "      <td>4.042000e+03</td>\n",
       "      <td>3.000000</td>\n",
       "    </tr>\n",
       "    <tr>\n",
       "      <th>75%</th>\n",
       "      <td>1.432910e+05</td>\n",
       "      <td>2.280800e+04</td>\n",
       "      <td>2.142900e+04</td>\n",
       "      <td>5.000000</td>\n",
       "    </tr>\n",
       "    <tr>\n",
       "      <th>max</th>\n",
       "      <td>2.410174e+07</td>\n",
       "      <td>4.008651e+06</td>\n",
       "      <td>3.561788e+07</td>\n",
       "      <td>9.000000</td>\n",
       "    </tr>\n",
       "  </tbody>\n",
       "</table>\n",
       "</div>"
      ],
      "text/plain": [
       "             TOTCIR      POPU_LSA         STGVT       OBEREG\n",
       "count  9.305000e+03  9.305000e+03  9.305000e+03  9305.000000\n",
       "mean   2.489726e+05  3.435333e+04  9.237688e+04     3.726384\n",
       "std    1.027918e+06  1.365800e+05  8.201422e+05     1.978533\n",
       "min    1.700000e+01  1.000000e+01  1.000000e+01     1.000000\n",
       "25%    1.193700e+04  2.201000e+03  3.910000e+03     2.000000\n",
       "50%    4.099700e+04  7.284000e+03  4.042000e+03     3.000000\n",
       "75%    1.432910e+05  2.280800e+04  2.142900e+04     5.000000\n",
       "max    2.410174e+07  4.008651e+06  3.561788e+07     9.000000"
      ]
     },
     "execution_count": 147,
     "metadata": {},
     "output_type": "execute_result"
    }
   ],
   "source": [
    "to_use_df.describe()"
   ]
  },
  {
   "cell_type": "code",
   "execution_count": 148,
   "metadata": {
    "collapsed": false
   },
   "outputs": [
    {
     "name": "stdout",
     "output_type": "stream",
     "text": [
      "0    42\n",
      "dtype: object\n"
     ]
    }
   ],
   "source": [
    "temp_mode = to_use_df['LOCALE'].mode()\n",
    "print temp_mode"
   ]
  },
  {
   "cell_type": "code",
   "execution_count": 149,
   "metadata": {
    "collapsed": false
   },
   "outputs": [
    {
     "name": "stderr",
     "output_type": "stream",
     "text": [
      "C:\\Users\\Molly\\Anaconda2\\lib\\site-packages\\ipykernel\\__main__.py:1: SettingWithCopyWarning: \n",
      "A value is trying to be set on a copy of a slice from a DataFrame.\n",
      "Try using .loc[row_indexer,col_indexer] = value instead\n",
      "\n",
      "See the caveats in the documentation: http://pandas.pydata.org/pandas-docs/stable/indexing.html#indexing-view-versus-copy\n",
      "  if __name__ == '__main__':\n"
     ]
    }
   ],
   "source": [
    "to_use_df['LOCALE'] = to_use_df['LOCALE'].replace(to_replace='.', value=42).astype(int)"
   ]
  },
  {
   "cell_type": "code",
   "execution_count": 150,
   "metadata": {
    "collapsed": false
   },
   "outputs": [
    {
     "data": {
      "text/plain": [
       "42    2147\n",
       "21    1881\n",
       "43    1613\n",
       "32    1057\n",
       "33     647\n",
       "41     505\n",
       "31     502\n",
       "13     296\n",
       "22     258\n",
       "23     206\n",
       "12     117\n",
       "11      76\n",
       "Name: LOCALE, dtype: int64"
      ]
     },
     "execution_count": 150,
     "metadata": {},
     "output_type": "execute_result"
    }
   ],
   "source": [
    "to_use_df['LOCALE'].value_counts()"
   ]
  },
  {
   "cell_type": "markdown",
   "metadata": {},
   "source": [
    "## Transform continuous variables"
   ]
  },
  {
   "cell_type": "code",
   "execution_count": 151,
   "metadata": {
    "collapsed": true
   },
   "outputs": [],
   "source": [
    "log_columns = ['TOTCIR', 'POPU_LSA', 'STGVT']\n",
    "log_df = to_use_df.copy()\n",
    "log_df[log_columns] = log_df[log_columns].apply(np.log10)"
   ]
  },
  {
   "cell_type": "code",
   "execution_count": 152,
   "metadata": {
    "collapsed": false
   },
   "outputs": [
    {
     "data": {
      "text/html": [
       "<div>\n",
       "<table border=\"1\" class=\"dataframe\">\n",
       "  <thead>\n",
       "    <tr style=\"text-align: right;\">\n",
       "      <th></th>\n",
       "      <th>TOTCIR</th>\n",
       "      <th>POPU_LSA</th>\n",
       "      <th>STGVT</th>\n",
       "      <th>GEOCODE</th>\n",
       "      <th>OBEREG</th>\n",
       "      <th>LOCALE</th>\n",
       "    </tr>\n",
       "  </thead>\n",
       "  <tbody>\n",
       "    <tr>\n",
       "      <th>0</th>\n",
       "      <td>4.064720</td>\n",
       "      <td>3.313656</td>\n",
       "      <td>4.278594</td>\n",
       "      <td>CI1</td>\n",
       "      <td>8</td>\n",
       "      <td>43</td>\n",
       "    </tr>\n",
       "    <tr>\n",
       "      <th>1</th>\n",
       "      <td>6.275684</td>\n",
       "      <td>5.477915</td>\n",
       "      <td>4.753767</td>\n",
       "      <td>MA1</td>\n",
       "      <td>8</td>\n",
       "      <td>11</td>\n",
       "    </tr>\n",
       "    <tr>\n",
       "      <th>2</th>\n",
       "      <td>3.038223</td>\n",
       "      <td>2.320146</td>\n",
       "      <td>3.799341</td>\n",
       "      <td>CI1</td>\n",
       "      <td>8</td>\n",
       "      <td>43</td>\n",
       "    </tr>\n",
       "    <tr>\n",
       "      <th>3</th>\n",
       "      <td>4.091561</td>\n",
       "      <td>3.795254</td>\n",
       "      <td>3.819544</td>\n",
       "      <td>CI1</td>\n",
       "      <td>8</td>\n",
       "      <td>33</td>\n",
       "    </tr>\n",
       "    <tr>\n",
       "      <th>4</th>\n",
       "      <td>4.775465</td>\n",
       "      <td>4.106972</td>\n",
       "      <td>3.819544</td>\n",
       "      <td>CO1</td>\n",
       "      <td>8</td>\n",
       "      <td>42</td>\n",
       "    </tr>\n",
       "  </tbody>\n",
       "</table>\n",
       "</div>"
      ],
      "text/plain": [
       "     TOTCIR  POPU_LSA     STGVT GEOCODE  OBEREG  LOCALE\n",
       "0  4.064720  3.313656  4.278594     CI1       8      43\n",
       "1  6.275684  5.477915  4.753767     MA1       8      11\n",
       "2  3.038223  2.320146  3.799341     CI1       8      43\n",
       "3  4.091561  3.795254  3.819544     CI1       8      33\n",
       "4  4.775465  4.106972  3.819544     CO1       8      42"
      ]
     },
     "execution_count": 152,
     "metadata": {},
     "output_type": "execute_result"
    }
   ],
   "source": [
    "log_df.head()"
   ]
  },
  {
   "cell_type": "code",
   "execution_count": 153,
   "metadata": {
    "collapsed": false
   },
   "outputs": [
    {
     "data": {
      "text/html": [
       "<div>\n",
       "<table border=\"1\" class=\"dataframe\">\n",
       "  <thead>\n",
       "    <tr style=\"text-align: right;\">\n",
       "      <th></th>\n",
       "      <th>TOTCIR</th>\n",
       "      <th>POPU_LSA</th>\n",
       "      <th>STGVT</th>\n",
       "      <th>OBEREG</th>\n",
       "      <th>LOCALE</th>\n",
       "    </tr>\n",
       "  </thead>\n",
       "  <tbody>\n",
       "    <tr>\n",
       "      <th>count</th>\n",
       "      <td>9305.000000</td>\n",
       "      <td>9305.000000</td>\n",
       "      <td>9305.000000</td>\n",
       "      <td>9305.000000</td>\n",
       "      <td>9305.000000</td>\n",
       "    </tr>\n",
       "    <tr>\n",
       "      <th>mean</th>\n",
       "      <td>4.618093</td>\n",
       "      <td>3.869884</td>\n",
       "      <td>3.930347</td>\n",
       "      <td>3.726384</td>\n",
       "      <td>32.990650</td>\n",
       "    </tr>\n",
       "    <tr>\n",
       "      <th>std</th>\n",
       "      <td>0.811753</td>\n",
       "      <td>0.729308</td>\n",
       "      <td>0.764932</td>\n",
       "      <td>1.978533</td>\n",
       "      <td>9.835499</td>\n",
       "    </tr>\n",
       "    <tr>\n",
       "      <th>min</th>\n",
       "      <td>1.230449</td>\n",
       "      <td>1.000000</td>\n",
       "      <td>1.000000</td>\n",
       "      <td>1.000000</td>\n",
       "      <td>11.000000</td>\n",
       "    </tr>\n",
       "    <tr>\n",
       "      <th>25%</th>\n",
       "      <td>4.076895</td>\n",
       "      <td>3.342620</td>\n",
       "      <td>3.592177</td>\n",
       "      <td>2.000000</td>\n",
       "      <td>21.000000</td>\n",
       "    </tr>\n",
       "    <tr>\n",
       "      <th>50%</th>\n",
       "      <td>4.612752</td>\n",
       "      <td>3.862370</td>\n",
       "      <td>3.606596</td>\n",
       "      <td>3.000000</td>\n",
       "      <td>33.000000</td>\n",
       "    </tr>\n",
       "    <tr>\n",
       "      <th>75%</th>\n",
       "      <td>5.156219</td>\n",
       "      <td>4.358087</td>\n",
       "      <td>4.331002</td>\n",
       "      <td>5.000000</td>\n",
       "      <td>42.000000</td>\n",
       "    </tr>\n",
       "    <tr>\n",
       "      <th>max</th>\n",
       "      <td>7.382048</td>\n",
       "      <td>6.602998</td>\n",
       "      <td>7.551668</td>\n",
       "      <td>9.000000</td>\n",
       "      <td>43.000000</td>\n",
       "    </tr>\n",
       "  </tbody>\n",
       "</table>\n",
       "</div>"
      ],
      "text/plain": [
       "            TOTCIR     POPU_LSA        STGVT       OBEREG       LOCALE\n",
       "count  9305.000000  9305.000000  9305.000000  9305.000000  9305.000000\n",
       "mean      4.618093     3.869884     3.930347     3.726384    32.990650\n",
       "std       0.811753     0.729308     0.764932     1.978533     9.835499\n",
       "min       1.230449     1.000000     1.000000     1.000000    11.000000\n",
       "25%       4.076895     3.342620     3.592177     2.000000    21.000000\n",
       "50%       4.612752     3.862370     3.606596     3.000000    33.000000\n",
       "75%       5.156219     4.358087     4.331002     5.000000    42.000000\n",
       "max       7.382048     6.602998     7.551668     9.000000    43.000000"
      ]
     },
     "execution_count": 153,
     "metadata": {},
     "output_type": "execute_result"
    }
   ],
   "source": [
    "log_df.describe()"
   ]
  },
  {
   "cell_type": "code",
   "execution_count": 154,
   "metadata": {
    "collapsed": false
   },
   "outputs": [
    {
     "data": {
      "text/plain": [
       "<matplotlib.axes._subplots.AxesSubplot at 0x15598470>"
      ]
     },
     "execution_count": 154,
     "metadata": {},
     "output_type": "execute_result"
    },
    {
     "data": {
      "image/png": "[encoded data removed]",
      "text/plain": [
       "<matplotlib.figure.Figure at 0x131524a8>"
      ]
     },
     "metadata": {},
     "output_type": "display_data"
    }
   ],
   "source": [
    "sns.violinplot(log_df['TOTCIR'])"
   ]
  },
  {
   "cell_type": "code",
   "execution_count": 155,
   "metadata": {
    "collapsed": false
   },
   "outputs": [
    {
     "data": {
      "text/plain": [
       "<matplotlib.axes._subplots.AxesSubplot at 0x151d1c50>"
      ]
     },
     "execution_count": 155,
     "metadata": {},
     "output_type": "execute_result"
    },
    {
     "data": {
      "image/png": "[encoded data removed]",
      "text/plain": [
       "<matplotlib.figure.Figure at 0x13e1b9e8>"
      ]
     },
     "metadata": {},
     "output_type": "display_data"
    }
   ],
   "source": [
    "sns.violinplot(log_df['POPU_LSA'])"
   ]
  },
  {
   "cell_type": "code",
   "execution_count": 156,
   "metadata": {
    "collapsed": false
   },
   "outputs": [
    {
     "data": {
      "text/plain": [
       "<matplotlib.axes._subplots.AxesSubplot at 0x109c5390>"
      ]
     },
     "execution_count": 156,
     "metadata": {},
     "output_type": "execute_result"
    },
    {
     "data": {
      "image/png": "[encoded data removed]",
      "text/plain": [
       "<matplotlib.figure.Figure at 0x1330de10>"
      ]
     },
     "metadata": {},
     "output_type": "display_data"
    }
   ],
   "source": [
    "sns.violinplot(log_df['STGVT'])"
   ]
  },
  {
   "cell_type": "markdown",
   "metadata": {},
   "source": [
    "## Get Dummy Variables"
   ]
  },
  {
   "cell_type": "code",
   "execution_count": 157,
   "metadata": {
    "collapsed": false
   },
   "outputs": [],
   "source": [
    "dummy_df = pd.get_dummies(log_df, columns=['GEOCODE', 'OBEREG', 'LOCALE'], drop_first=True)"
   ]
  },
  {
   "cell_type": "code",
   "execution_count": 158,
   "metadata": {
    "collapsed": false
   },
   "outputs": [
    {
     "data": {
      "text/html": [
       "<div>\n",
       "<table border=\"1\" class=\"dataframe\">\n",
       "  <thead>\n",
       "    <tr style=\"text-align: right;\">\n",
       "      <th></th>\n",
       "      <th>TOTCIR</th>\n",
       "      <th>POPU_LSA</th>\n",
       "      <th>STGVT</th>\n",
       "      <th>GEOCODE_CI2</th>\n",
       "      <th>GEOCODE_CO1</th>\n",
       "      <th>GEOCODE_CO2</th>\n",
       "      <th>GEOCODE_MA1</th>\n",
       "      <th>GEOCODE_MA2</th>\n",
       "      <th>GEOCODE_MC1</th>\n",
       "      <th>GEOCODE_MC2</th>\n",
       "      <th>...</th>\n",
       "      <th>LOCALE_13</th>\n",
       "      <th>LOCALE_21</th>\n",
       "      <th>LOCALE_22</th>\n",
       "      <th>LOCALE_23</th>\n",
       "      <th>LOCALE_31</th>\n",
       "      <th>LOCALE_32</th>\n",
       "      <th>LOCALE_33</th>\n",
       "      <th>LOCALE_41</th>\n",
       "      <th>LOCALE_42</th>\n",
       "      <th>LOCALE_43</th>\n",
       "    </tr>\n",
       "  </thead>\n",
       "  <tbody>\n",
       "    <tr>\n",
       "      <th>0</th>\n",
       "      <td>4.064720</td>\n",
       "      <td>3.313656</td>\n",
       "      <td>4.278594</td>\n",
       "      <td>0.0</td>\n",
       "      <td>0.0</td>\n",
       "      <td>0.0</td>\n",
       "      <td>0.0</td>\n",
       "      <td>0.0</td>\n",
       "      <td>0.0</td>\n",
       "      <td>0.0</td>\n",
       "      <td>...</td>\n",
       "      <td>0.0</td>\n",
       "      <td>0.0</td>\n",
       "      <td>0.0</td>\n",
       "      <td>0.0</td>\n",
       "      <td>0.0</td>\n",
       "      <td>0.0</td>\n",
       "      <td>0.0</td>\n",
       "      <td>0.0</td>\n",
       "      <td>0.0</td>\n",
       "      <td>1.0</td>\n",
       "    </tr>\n",
       "    <tr>\n",
       "      <th>1</th>\n",
       "      <td>6.275684</td>\n",
       "      <td>5.477915</td>\n",
       "      <td>4.753767</td>\n",
       "      <td>0.0</td>\n",
       "      <td>0.0</td>\n",
       "      <td>0.0</td>\n",
       "      <td>1.0</td>\n",
       "      <td>0.0</td>\n",
       "      <td>0.0</td>\n",
       "      <td>0.0</td>\n",
       "      <td>...</td>\n",
       "      <td>0.0</td>\n",
       "      <td>0.0</td>\n",
       "      <td>0.0</td>\n",
       "      <td>0.0</td>\n",
       "      <td>0.0</td>\n",
       "      <td>0.0</td>\n",
       "      <td>0.0</td>\n",
       "      <td>0.0</td>\n",
       "      <td>0.0</td>\n",
       "      <td>0.0</td>\n",
       "    </tr>\n",
       "    <tr>\n",
       "      <th>2</th>\n",
       "      <td>3.038223</td>\n",
       "      <td>2.320146</td>\n",
       "      <td>3.799341</td>\n",
       "      <td>0.0</td>\n",
       "      <td>0.0</td>\n",
       "      <td>0.0</td>\n",
       "      <td>0.0</td>\n",
       "      <td>0.0</td>\n",
       "      <td>0.0</td>\n",
       "      <td>0.0</td>\n",
       "      <td>...</td>\n",
       "      <td>0.0</td>\n",
       "      <td>0.0</td>\n",
       "      <td>0.0</td>\n",
       "      <td>0.0</td>\n",
       "      <td>0.0</td>\n",
       "      <td>0.0</td>\n",
       "      <td>0.0</td>\n",
       "      <td>0.0</td>\n",
       "      <td>0.0</td>\n",
       "      <td>1.0</td>\n",
       "    </tr>\n",
       "    <tr>\n",
       "      <th>3</th>\n",
       "      <td>4.091561</td>\n",
       "      <td>3.795254</td>\n",
       "      <td>3.819544</td>\n",
       "      <td>0.0</td>\n",
       "      <td>0.0</td>\n",
       "      <td>0.0</td>\n",
       "      <td>0.0</td>\n",
       "      <td>0.0</td>\n",
       "      <td>0.0</td>\n",
       "      <td>0.0</td>\n",
       "      <td>...</td>\n",
       "      <td>0.0</td>\n",
       "      <td>0.0</td>\n",
       "      <td>0.0</td>\n",
       "      <td>0.0</td>\n",
       "      <td>0.0</td>\n",
       "      <td>0.0</td>\n",
       "      <td>1.0</td>\n",
       "      <td>0.0</td>\n",
       "      <td>0.0</td>\n",
       "      <td>0.0</td>\n",
       "    </tr>\n",
       "    <tr>\n",
       "      <th>4</th>\n",
       "      <td>4.775465</td>\n",
       "      <td>4.106972</td>\n",
       "      <td>3.819544</td>\n",
       "      <td>0.0</td>\n",
       "      <td>1.0</td>\n",
       "      <td>0.0</td>\n",
       "      <td>0.0</td>\n",
       "      <td>0.0</td>\n",
       "      <td>0.0</td>\n",
       "      <td>0.0</td>\n",
       "      <td>...</td>\n",
       "      <td>0.0</td>\n",
       "      <td>0.0</td>\n",
       "      <td>0.0</td>\n",
       "      <td>0.0</td>\n",
       "      <td>0.0</td>\n",
       "      <td>0.0</td>\n",
       "      <td>0.0</td>\n",
       "      <td>0.0</td>\n",
       "      <td>1.0</td>\n",
       "      <td>0.0</td>\n",
       "    </tr>\n",
       "  </tbody>\n",
       "</table>\n",
       "<p>5 rows × 32 columns</p>\n",
       "</div>"
      ],
      "text/plain": [
       "     TOTCIR  POPU_LSA     STGVT  GEOCODE_CI2  GEOCODE_CO1  GEOCODE_CO2  \\\n",
       "0  4.064720  3.313656  4.278594          0.0          0.0          0.0   \n",
       "1  6.275684  5.477915  4.753767          0.0          0.0          0.0   \n",
       "2  3.038223  2.320146  3.799341          0.0          0.0          0.0   \n",
       "3  4.091561  3.795254  3.819544          0.0          0.0          0.0   \n",
       "4  4.775465  4.106972  3.819544          0.0          1.0          0.0   \n",
       "\n",
       "   GEOCODE_MA1  GEOCODE_MA2  GEOCODE_MC1  GEOCODE_MC2    ...      LOCALE_13  \\\n",
       "0          0.0          0.0          0.0          0.0    ...            0.0   \n",
       "1          1.0          0.0          0.0          0.0    ...            0.0   \n",
       "2          0.0          0.0          0.0          0.0    ...            0.0   \n",
       "3          0.0          0.0          0.0          0.0    ...            0.0   \n",
       "4          0.0          0.0          0.0          0.0    ...            0.0   \n",
       "\n",
       "   LOCALE_21  LOCALE_22  LOCALE_23  LOCALE_31  LOCALE_32  LOCALE_33  \\\n",
       "0        0.0        0.0        0.0        0.0        0.0        0.0   \n",
       "1        0.0        0.0        0.0        0.0        0.0        0.0   \n",
       "2        0.0        0.0        0.0        0.0        0.0        0.0   \n",
       "3        0.0        0.0        0.0        0.0        0.0        1.0   \n",
       "4        0.0        0.0        0.0        0.0        0.0        0.0   \n",
       "\n",
       "   LOCALE_41  LOCALE_42  LOCALE_43  \n",
       "0        0.0        0.0        1.0  \n",
       "1        0.0        0.0        0.0  \n",
       "2        0.0        0.0        1.0  \n",
       "3        0.0        0.0        0.0  \n",
       "4        0.0        1.0        0.0  \n",
       "\n",
       "[5 rows x 32 columns]"
      ]
     },
     "execution_count": 158,
     "metadata": {},
     "output_type": "execute_result"
    }
   ],
   "source": [
    "dummy_df.head()"
   ]
  },
  {
   "cell_type": "code",
   "execution_count": 159,
   "metadata": {
    "collapsed": false
   },
   "outputs": [
    {
     "data": {
      "text/html": [
       "<div>\n",
       "<table border=\"1\" class=\"dataframe\">\n",
       "  <thead>\n",
       "    <tr style=\"text-align: right;\">\n",
       "      <th></th>\n",
       "      <th>TOTCIR</th>\n",
       "      <th>POPU_LSA</th>\n",
       "      <th>STGVT</th>\n",
       "      <th>GEOCODE_CI2</th>\n",
       "      <th>GEOCODE_CO1</th>\n",
       "      <th>GEOCODE_CO2</th>\n",
       "      <th>GEOCODE_MA1</th>\n",
       "      <th>GEOCODE_MA2</th>\n",
       "      <th>GEOCODE_MC1</th>\n",
       "      <th>GEOCODE_MC2</th>\n",
       "      <th>...</th>\n",
       "      <th>LOCALE_13</th>\n",
       "      <th>LOCALE_21</th>\n",
       "      <th>LOCALE_22</th>\n",
       "      <th>LOCALE_23</th>\n",
       "      <th>LOCALE_31</th>\n",
       "      <th>LOCALE_32</th>\n",
       "      <th>LOCALE_33</th>\n",
       "      <th>LOCALE_41</th>\n",
       "      <th>LOCALE_42</th>\n",
       "      <th>LOCALE_43</th>\n",
       "    </tr>\n",
       "  </thead>\n",
       "  <tbody>\n",
       "    <tr>\n",
       "      <th>TOTCIR</th>\n",
       "      <td>1.000000</td>\n",
       "      <td>0.862533</td>\n",
       "      <td>0.575790</td>\n",
       "      <td>-0.137112</td>\n",
       "      <td>0.211502</td>\n",
       "      <td>0.044927</td>\n",
       "      <td>0.032813</td>\n",
       "      <td>0.024527</td>\n",
       "      <td>0.109065</td>\n",
       "      <td>0.068634</td>\n",
       "      <td>...</td>\n",
       "      <td>0.216686</td>\n",
       "      <td>0.359039</td>\n",
       "      <td>0.096474</td>\n",
       "      <td>0.035195</td>\n",
       "      <td>0.052943</td>\n",
       "      <td>0.078049</td>\n",
       "      <td>0.043717</td>\n",
       "      <td>-0.051656</td>\n",
       "      <td>-0.317084</td>\n",
       "      <td>-0.383898</td>\n",
       "    </tr>\n",
       "    <tr>\n",
       "      <th>POPU_LSA</th>\n",
       "      <td>0.862533</td>\n",
       "      <td>1.000000</td>\n",
       "      <td>0.617840</td>\n",
       "      <td>-0.182728</td>\n",
       "      <td>0.289273</td>\n",
       "      <td>0.129429</td>\n",
       "      <td>0.033883</td>\n",
       "      <td>0.037792</td>\n",
       "      <td>0.167042</td>\n",
       "      <td>0.091472</td>\n",
       "      <td>...</td>\n",
       "      <td>0.228467</td>\n",
       "      <td>0.335654</td>\n",
       "      <td>0.104531</td>\n",
       "      <td>0.052298</td>\n",
       "      <td>0.052111</td>\n",
       "      <td>0.102664</td>\n",
       "      <td>0.060149</td>\n",
       "      <td>-0.052099</td>\n",
       "      <td>-0.308466</td>\n",
       "      <td>-0.429378</td>\n",
       "    </tr>\n",
       "    <tr>\n",
       "      <th>STGVT</th>\n",
       "      <td>0.575790</td>\n",
       "      <td>0.617840</td>\n",
       "      <td>1.000000</td>\n",
       "      <td>-0.272251</td>\n",
       "      <td>0.268306</td>\n",
       "      <td>0.034237</td>\n",
       "      <td>0.008896</td>\n",
       "      <td>0.012739</td>\n",
       "      <td>0.221807</td>\n",
       "      <td>0.072577</td>\n",
       "      <td>...</td>\n",
       "      <td>0.141803</td>\n",
       "      <td>0.215778</td>\n",
       "      <td>0.035355</td>\n",
       "      <td>0.035931</td>\n",
       "      <td>0.020933</td>\n",
       "      <td>0.087127</td>\n",
       "      <td>-0.011330</td>\n",
       "      <td>-0.049168</td>\n",
       "      <td>-0.180719</td>\n",
       "      <td>-0.239618</td>\n",
       "    </tr>\n",
       "    <tr>\n",
       "      <th>GEOCODE_CI2</th>\n",
       "      <td>-0.137112</td>\n",
       "      <td>-0.182728</td>\n",
       "      <td>-0.272251</td>\n",
       "      <td>1.000000</td>\n",
       "      <td>-0.162517</td>\n",
       "      <td>-0.105096</td>\n",
       "      <td>-0.015046</td>\n",
       "      <td>-0.014345</td>\n",
       "      <td>-0.051855</td>\n",
       "      <td>-0.029449</td>\n",
       "      <td>...</td>\n",
       "      <td>-0.009217</td>\n",
       "      <td>-0.139959</td>\n",
       "      <td>-0.020368</td>\n",
       "      <td>-0.008108</td>\n",
       "      <td>-0.011144</td>\n",
       "      <td>-0.003423</td>\n",
       "      <td>0.000136</td>\n",
       "      <td>-0.028533</td>\n",
       "      <td>0.112062</td>\n",
       "      <td>0.082758</td>\n",
       "    </tr>\n",
       "    <tr>\n",
       "      <th>GEOCODE_CO1</th>\n",
       "      <td>0.211502</td>\n",
       "      <td>0.289273</td>\n",
       "      <td>0.268306</td>\n",
       "      <td>-0.162517</td>\n",
       "      <td>1.000000</td>\n",
       "      <td>-0.089298</td>\n",
       "      <td>-0.012784</td>\n",
       "      <td>-0.012189</td>\n",
       "      <td>-0.044060</td>\n",
       "      <td>-0.025022</td>\n",
       "      <td>...</td>\n",
       "      <td>0.026417</td>\n",
       "      <td>-0.100173</td>\n",
       "      <td>0.001396</td>\n",
       "      <td>-0.024595</td>\n",
       "      <td>-0.030462</td>\n",
       "      <td>0.105543</td>\n",
       "      <td>0.110635</td>\n",
       "      <td>-0.058509</td>\n",
       "      <td>-0.047266</td>\n",
       "      <td>0.030685</td>\n",
       "    </tr>\n",
       "    <tr>\n",
       "      <th>GEOCODE_CO2</th>\n",
       "      <td>0.044927</td>\n",
       "      <td>0.129429</td>\n",
       "      <td>0.034237</td>\n",
       "      <td>-0.105096</td>\n",
       "      <td>-0.089298</td>\n",
       "      <td>1.000000</td>\n",
       "      <td>-0.008267</td>\n",
       "      <td>-0.007882</td>\n",
       "      <td>-0.028493</td>\n",
       "      <td>-0.016181</td>\n",
       "      <td>...</td>\n",
       "      <td>-0.000431</td>\n",
       "      <td>-0.051464</td>\n",
       "      <td>0.034327</td>\n",
       "      <td>0.008853</td>\n",
       "      <td>0.030557</td>\n",
       "      <td>0.040688</td>\n",
       "      <td>0.012419</td>\n",
       "      <td>-0.011630</td>\n",
       "      <td>-0.033924</td>\n",
       "      <td>0.006172</td>\n",
       "    </tr>\n",
       "    <tr>\n",
       "      <th>GEOCODE_MA1</th>\n",
       "      <td>0.032813</td>\n",
       "      <td>0.033883</td>\n",
       "      <td>0.008896</td>\n",
       "      <td>-0.015046</td>\n",
       "      <td>-0.012784</td>\n",
       "      <td>-0.008267</td>\n",
       "      <td>1.000000</td>\n",
       "      <td>-0.001128</td>\n",
       "      <td>-0.004079</td>\n",
       "      <td>-0.002317</td>\n",
       "      <td>...</td>\n",
       "      <td>0.011585</td>\n",
       "      <td>0.006046</td>\n",
       "      <td>-0.005810</td>\n",
       "      <td>0.016080</td>\n",
       "      <td>-0.008215</td>\n",
       "      <td>0.007397</td>\n",
       "      <td>-0.009405</td>\n",
       "      <td>0.005563</td>\n",
       "      <td>-0.018841</td>\n",
       "      <td>-0.007492</td>\n",
       "    </tr>\n",
       "    <tr>\n",
       "      <th>GEOCODE_MA2</th>\n",
       "      <td>0.024527</td>\n",
       "      <td>0.037792</td>\n",
       "      <td>0.012739</td>\n",
       "      <td>-0.014345</td>\n",
       "      <td>-0.012189</td>\n",
       "      <td>-0.007882</td>\n",
       "      <td>-0.001128</td>\n",
       "      <td>1.000000</td>\n",
       "      <td>-0.003889</td>\n",
       "      <td>-0.002209</td>\n",
       "      <td>...</td>\n",
       "      <td>0.031434</td>\n",
       "      <td>0.007992</td>\n",
       "      <td>-0.005539</td>\n",
       "      <td>-0.004935</td>\n",
       "      <td>0.006686</td>\n",
       "      <td>-0.001405</td>\n",
       "      <td>-0.008966</td>\n",
       "      <td>-0.007857</td>\n",
       "      <td>-0.010178</td>\n",
       "      <td>-0.015020</td>\n",
       "    </tr>\n",
       "    <tr>\n",
       "      <th>GEOCODE_MC1</th>\n",
       "      <td>0.109065</td>\n",
       "      <td>0.167042</td>\n",
       "      <td>0.221807</td>\n",
       "      <td>-0.051855</td>\n",
       "      <td>-0.044060</td>\n",
       "      <td>-0.028493</td>\n",
       "      <td>-0.004079</td>\n",
       "      <td>-0.003889</td>\n",
       "      <td>1.000000</td>\n",
       "      <td>-0.007984</td>\n",
       "      <td>...</td>\n",
       "      <td>-0.000543</td>\n",
       "      <td>-0.048239</td>\n",
       "      <td>0.002369</td>\n",
       "      <td>-0.017840</td>\n",
       "      <td>-0.020177</td>\n",
       "      <td>0.035762</td>\n",
       "      <td>0.029018</td>\n",
       "      <td>-0.024347</td>\n",
       "      <td>0.024511</td>\n",
       "      <td>-0.000879</td>\n",
       "    </tr>\n",
       "    <tr>\n",
       "      <th>GEOCODE_MC2</th>\n",
       "      <td>0.068634</td>\n",
       "      <td>0.091472</td>\n",
       "      <td>0.072577</td>\n",
       "      <td>-0.029449</td>\n",
       "      <td>-0.025022</td>\n",
       "      <td>-0.016181</td>\n",
       "      <td>-0.002317</td>\n",
       "      <td>-0.002209</td>\n",
       "      <td>-0.007984</td>\n",
       "      <td>1.000000</td>\n",
       "      <td>...</td>\n",
       "      <td>0.024336</td>\n",
       "      <td>-0.021918</td>\n",
       "      <td>-0.001607</td>\n",
       "      <td>-0.010132</td>\n",
       "      <td>-0.008983</td>\n",
       "      <td>0.006210</td>\n",
       "      <td>0.006805</td>\n",
       "      <td>-0.001977</td>\n",
       "      <td>0.012592</td>\n",
       "      <td>-0.001188</td>\n",
       "    </tr>\n",
       "    <tr>\n",
       "      <th>GEOCODE_OTH</th>\n",
       "      <td>-0.003520</td>\n",
       "      <td>-0.041806</td>\n",
       "      <td>0.060282</td>\n",
       "      <td>-0.239738</td>\n",
       "      <td>-0.203700</td>\n",
       "      <td>-0.131728</td>\n",
       "      <td>-0.018859</td>\n",
       "      <td>-0.017980</td>\n",
       "      <td>-0.064995</td>\n",
       "      <td>-0.036912</td>\n",
       "      <td>...</td>\n",
       "      <td>-0.044156</td>\n",
       "      <td>0.129117</td>\n",
       "      <td>0.002154</td>\n",
       "      <td>0.028422</td>\n",
       "      <td>0.069980</td>\n",
       "      <td>-0.045179</td>\n",
       "      <td>-0.097727</td>\n",
       "      <td>0.087010</td>\n",
       "      <td>0.053810</td>\n",
       "      <td>-0.155381</td>\n",
       "    </tr>\n",
       "    <tr>\n",
       "      <th>GEOCODE_SD1</th>\n",
       "      <td>0.092112</td>\n",
       "      <td>0.049259</td>\n",
       "      <td>0.154582</td>\n",
       "      <td>-0.095441</td>\n",
       "      <td>-0.081094</td>\n",
       "      <td>-0.052442</td>\n",
       "      <td>-0.007508</td>\n",
       "      <td>-0.007158</td>\n",
       "      <td>-0.025875</td>\n",
       "      <td>-0.014695</td>\n",
       "      <td>...</td>\n",
       "      <td>-0.030738</td>\n",
       "      <td>0.081562</td>\n",
       "      <td>-0.011716</td>\n",
       "      <td>0.002228</td>\n",
       "      <td>0.025529</td>\n",
       "      <td>0.011299</td>\n",
       "      <td>-0.015034</td>\n",
       "      <td>-0.004457</td>\n",
       "      <td>-0.021554</td>\n",
       "      <td>-0.049508</td>\n",
       "    </tr>\n",
       "    <tr>\n",
       "      <th>GEOCODE_SD2</th>\n",
       "      <td>-0.002652</td>\n",
       "      <td>-0.003335</td>\n",
       "      <td>0.011366</td>\n",
       "      <td>-0.032786</td>\n",
       "      <td>-0.027857</td>\n",
       "      <td>-0.018015</td>\n",
       "      <td>-0.002579</td>\n",
       "      <td>-0.002459</td>\n",
       "      <td>-0.008889</td>\n",
       "      <td>-0.005048</td>\n",
       "      <td>...</td>\n",
       "      <td>0.011056</td>\n",
       "      <td>-0.023375</td>\n",
       "      <td>-0.003879</td>\n",
       "      <td>0.008317</td>\n",
       "      <td>0.001242</td>\n",
       "      <td>0.004966</td>\n",
       "      <td>0.002178</td>\n",
       "      <td>-0.005232</td>\n",
       "      <td>-0.003416</td>\n",
       "      <td>0.018988</td>\n",
       "    </tr>\n",
       "    <tr>\n",
       "      <th>OBEREG_2</th>\n",
       "      <td>0.067949</td>\n",
       "      <td>0.064287</td>\n",
       "      <td>0.077553</td>\n",
       "      <td>-0.183189</td>\n",
       "      <td>-0.115128</td>\n",
       "      <td>-0.099947</td>\n",
       "      <td>-0.015398</td>\n",
       "      <td>-0.014681</td>\n",
       "      <td>-0.050605</td>\n",
       "      <td>-0.030139</td>\n",
       "      <td>...</td>\n",
       "      <td>-0.023652</td>\n",
       "      <td>0.289974</td>\n",
       "      <td>-0.024680</td>\n",
       "      <td>0.036471</td>\n",
       "      <td>0.039824</td>\n",
       "      <td>-0.043972</td>\n",
       "      <td>-0.089496</td>\n",
       "      <td>0.026353</td>\n",
       "      <td>-0.051535</td>\n",
       "      <td>-0.171464</td>\n",
       "    </tr>\n",
       "    <tr>\n",
       "      <th>OBEREG_3</th>\n",
       "      <td>0.112439</td>\n",
       "      <td>0.038059</td>\n",
       "      <td>0.146261</td>\n",
       "      <td>0.049304</td>\n",
       "      <td>-0.106886</td>\n",
       "      <td>-0.082185</td>\n",
       "      <td>-0.017328</td>\n",
       "      <td>-0.008357</td>\n",
       "      <td>-0.055146</td>\n",
       "      <td>-0.033917</td>\n",
       "      <td>...</td>\n",
       "      <td>0.004725</td>\n",
       "      <td>0.012224</td>\n",
       "      <td>-0.029667</td>\n",
       "      <td>0.024203</td>\n",
       "      <td>0.057323</td>\n",
       "      <td>0.071739</td>\n",
       "      <td>-0.073541</td>\n",
       "      <td>-0.029747</td>\n",
       "      <td>0.073983</td>\n",
       "      <td>-0.110527</td>\n",
       "    </tr>\n",
       "    <tr>\n",
       "      <th>OBEREG_4</th>\n",
       "      <td>-0.256229</td>\n",
       "      <td>-0.336087</td>\n",
       "      <td>-0.258295</td>\n",
       "      <td>0.278605</td>\n",
       "      <td>-0.079473</td>\n",
       "      <td>-0.060432</td>\n",
       "      <td>-0.015795</td>\n",
       "      <td>0.010890</td>\n",
       "      <td>-0.018080</td>\n",
       "      <td>0.028276</td>\n",
       "      <td>...</td>\n",
       "      <td>-0.049309</td>\n",
       "      <td>-0.191586</td>\n",
       "      <td>-0.056821</td>\n",
       "      <td>-0.059452</td>\n",
       "      <td>-0.068242</td>\n",
       "      <td>-0.048251</td>\n",
       "      <td>0.063909</td>\n",
       "      <td>-0.074959</td>\n",
       "      <td>0.042520</td>\n",
       "      <td>0.325062</td>\n",
       "    </tr>\n",
       "    <tr>\n",
       "      <th>OBEREG_5</th>\n",
       "      <td>0.135254</td>\n",
       "      <td>0.258572</td>\n",
       "      <td>0.277996</td>\n",
       "      <td>-0.113849</td>\n",
       "      <td>0.401256</td>\n",
       "      <td>0.092384</td>\n",
       "      <td>0.015386</td>\n",
       "      <td>0.007453</td>\n",
       "      <td>0.236026</td>\n",
       "      <td>0.066709</td>\n",
       "      <td>...</td>\n",
       "      <td>0.051934</td>\n",
       "      <td>-0.071961</td>\n",
       "      <td>0.019366</td>\n",
       "      <td>-0.003812</td>\n",
       "      <td>0.003325</td>\n",
       "      <td>0.113722</td>\n",
       "      <td>0.000260</td>\n",
       "      <td>-0.007266</td>\n",
       "      <td>0.009942</td>\n",
       "      <td>-0.074225</td>\n",
       "    </tr>\n",
       "    <tr>\n",
       "      <th>OBEREG_6</th>\n",
       "      <td>-0.051208</td>\n",
       "      <td>0.026490</td>\n",
       "      <td>-0.085942</td>\n",
       "      <td>-0.093967</td>\n",
       "      <td>0.037267</td>\n",
       "      <td>0.289416</td>\n",
       "      <td>0.043050</td>\n",
       "      <td>-0.010460</td>\n",
       "      <td>-0.012411</td>\n",
       "      <td>-0.015936</td>\n",
       "      <td>...</td>\n",
       "      <td>0.001427</td>\n",
       "      <td>-0.058837</td>\n",
       "      <td>0.004935</td>\n",
       "      <td>-0.020229</td>\n",
       "      <td>0.009297</td>\n",
       "      <td>0.054313</td>\n",
       "      <td>0.124462</td>\n",
       "      <td>-0.022319</td>\n",
       "      <td>-0.063626</td>\n",
       "      <td>0.004996</td>\n",
       "    </tr>\n",
       "    <tr>\n",
       "      <th>OBEREG_7</th>\n",
       "      <td>0.021942</td>\n",
       "      <td>-0.012399</td>\n",
       "      <td>-0.037686</td>\n",
       "      <td>-0.076112</td>\n",
       "      <td>0.094807</td>\n",
       "      <td>0.040908</td>\n",
       "      <td>-0.007244</td>\n",
       "      <td>-0.006906</td>\n",
       "      <td>-0.024965</td>\n",
       "      <td>0.001726</td>\n",
       "      <td>...</td>\n",
       "      <td>0.004358</td>\n",
       "      <td>-0.064837</td>\n",
       "      <td>-0.025817</td>\n",
       "      <td>-0.002698</td>\n",
       "      <td>-0.031404</td>\n",
       "      <td>-0.038418</td>\n",
       "      <td>0.133146</td>\n",
       "      <td>-0.031616</td>\n",
       "      <td>-0.057113</td>\n",
       "      <td>0.121842</td>\n",
       "    </tr>\n",
       "    <tr>\n",
       "      <th>OBEREG_8</th>\n",
       "      <td>0.112534</td>\n",
       "      <td>0.093485</td>\n",
       "      <td>-0.024942</td>\n",
       "      <td>-0.044271</td>\n",
       "      <td>0.033229</td>\n",
       "      <td>0.022669</td>\n",
       "      <td>0.020146</td>\n",
       "      <td>0.021896</td>\n",
       "      <td>-0.019457</td>\n",
       "      <td>0.020379</td>\n",
       "      <td>...</td>\n",
       "      <td>0.045921</td>\n",
       "      <td>-0.006801</td>\n",
       "      <td>0.010645</td>\n",
       "      <td>0.004303</td>\n",
       "      <td>0.012742</td>\n",
       "      <td>-0.016589</td>\n",
       "      <td>0.000792</td>\n",
       "      <td>-0.036808</td>\n",
       "      <td>-0.066055</td>\n",
       "      <td>0.037462</td>\n",
       "    </tr>\n",
       "    <tr>\n",
       "      <th>OBEREG_9</th>\n",
       "      <td>-0.037026</td>\n",
       "      <td>0.085973</td>\n",
       "      <td>-0.029313</td>\n",
       "      <td>-0.010631</td>\n",
       "      <td>-0.030434</td>\n",
       "      <td>-0.019681</td>\n",
       "      <td>0.035625</td>\n",
       "      <td>0.077948</td>\n",
       "      <td>-0.009711</td>\n",
       "      <td>0.014192</td>\n",
       "      <td>...</td>\n",
       "      <td>0.030317</td>\n",
       "      <td>0.047585</td>\n",
       "      <td>0.034442</td>\n",
       "      <td>0.059501</td>\n",
       "      <td>-0.007864</td>\n",
       "      <td>-0.029319</td>\n",
       "      <td>-0.001615</td>\n",
       "      <td>-0.007958</td>\n",
       "      <td>-0.041719</td>\n",
       "      <td>-0.037505</td>\n",
       "    </tr>\n",
       "    <tr>\n",
       "      <th>LOCALE_12</th>\n",
       "      <td>0.191491</td>\n",
       "      <td>0.215458</td>\n",
       "      <td>0.115820</td>\n",
       "      <td>-0.033589</td>\n",
       "      <td>0.020099</td>\n",
       "      <td>0.032318</td>\n",
       "      <td>-0.003882</td>\n",
       "      <td>0.025735</td>\n",
       "      <td>0.019615</td>\n",
       "      <td>0.006790</td>\n",
       "      <td>...</td>\n",
       "      <td>-0.020455</td>\n",
       "      <td>-0.056801</td>\n",
       "      <td>-0.019056</td>\n",
       "      <td>-0.016979</td>\n",
       "      <td>-0.026948</td>\n",
       "      <td>-0.040397</td>\n",
       "      <td>-0.030848</td>\n",
       "      <td>-0.027033</td>\n",
       "      <td>-0.061802</td>\n",
       "      <td>-0.051675</td>\n",
       "    </tr>\n",
       "    <tr>\n",
       "      <th>LOCALE_13</th>\n",
       "      <td>0.216686</td>\n",
       "      <td>0.228467</td>\n",
       "      <td>0.141803</td>\n",
       "      <td>-0.009217</td>\n",
       "      <td>0.026417</td>\n",
       "      <td>-0.000431</td>\n",
       "      <td>0.011585</td>\n",
       "      <td>0.031434</td>\n",
       "      <td>-0.000543</td>\n",
       "      <td>0.024336</td>\n",
       "      <td>...</td>\n",
       "      <td>1.000000</td>\n",
       "      <td>-0.091240</td>\n",
       "      <td>-0.030610</td>\n",
       "      <td>-0.027274</td>\n",
       "      <td>-0.043286</td>\n",
       "      <td>-0.064889</td>\n",
       "      <td>-0.049551</td>\n",
       "      <td>-0.043422</td>\n",
       "      <td>-0.099272</td>\n",
       "      <td>-0.083005</td>\n",
       "    </tr>\n",
       "    <tr>\n",
       "      <th>LOCALE_21</th>\n",
       "      <td>0.359039</td>\n",
       "      <td>0.335654</td>\n",
       "      <td>0.215778</td>\n",
       "      <td>-0.139959</td>\n",
       "      <td>-0.100173</td>\n",
       "      <td>-0.051464</td>\n",
       "      <td>0.006046</td>\n",
       "      <td>0.007992</td>\n",
       "      <td>-0.048239</td>\n",
       "      <td>-0.021918</td>\n",
       "      <td>...</td>\n",
       "      <td>-0.091240</td>\n",
       "      <td>1.000000</td>\n",
       "      <td>-0.085003</td>\n",
       "      <td>-0.075738</td>\n",
       "      <td>-0.120202</td>\n",
       "      <td>-0.180193</td>\n",
       "      <td>-0.137600</td>\n",
       "      <td>-0.120581</td>\n",
       "      <td>-0.275674</td>\n",
       "      <td>-0.230501</td>\n",
       "    </tr>\n",
       "    <tr>\n",
       "      <th>LOCALE_22</th>\n",
       "      <td>0.096474</td>\n",
       "      <td>0.104531</td>\n",
       "      <td>0.035355</td>\n",
       "      <td>-0.020368</td>\n",
       "      <td>0.001396</td>\n",
       "      <td>0.034327</td>\n",
       "      <td>-0.005810</td>\n",
       "      <td>-0.005539</td>\n",
       "      <td>0.002369</td>\n",
       "      <td>-0.001607</td>\n",
       "      <td>...</td>\n",
       "      <td>-0.030610</td>\n",
       "      <td>-0.085003</td>\n",
       "      <td>1.000000</td>\n",
       "      <td>-0.025409</td>\n",
       "      <td>-0.040327</td>\n",
       "      <td>-0.060453</td>\n",
       "      <td>-0.046164</td>\n",
       "      <td>-0.040454</td>\n",
       "      <td>-0.092486</td>\n",
       "      <td>-0.077331</td>\n",
       "    </tr>\n",
       "    <tr>\n",
       "      <th>LOCALE_23</th>\n",
       "      <td>0.035195</td>\n",
       "      <td>0.052298</td>\n",
       "      <td>0.035931</td>\n",
       "      <td>-0.008108</td>\n",
       "      <td>-0.024595</td>\n",
       "      <td>0.008853</td>\n",
       "      <td>0.016080</td>\n",
       "      <td>-0.004935</td>\n",
       "      <td>-0.017840</td>\n",
       "      <td>-0.010132</td>\n",
       "      <td>...</td>\n",
       "      <td>-0.027274</td>\n",
       "      <td>-0.075738</td>\n",
       "      <td>-0.025409</td>\n",
       "      <td>1.000000</td>\n",
       "      <td>-0.035931</td>\n",
       "      <td>-0.053864</td>\n",
       "      <td>-0.041132</td>\n",
       "      <td>-0.036045</td>\n",
       "      <td>-0.082406</td>\n",
       "      <td>-0.068902</td>\n",
       "    </tr>\n",
       "    <tr>\n",
       "      <th>LOCALE_31</th>\n",
       "      <td>0.052943</td>\n",
       "      <td>0.052111</td>\n",
       "      <td>0.020933</td>\n",
       "      <td>-0.011144</td>\n",
       "      <td>-0.030462</td>\n",
       "      <td>0.030557</td>\n",
       "      <td>-0.008215</td>\n",
       "      <td>0.006686</td>\n",
       "      <td>-0.020177</td>\n",
       "      <td>-0.008983</td>\n",
       "      <td>...</td>\n",
       "      <td>-0.043286</td>\n",
       "      <td>-0.120202</td>\n",
       "      <td>-0.040327</td>\n",
       "      <td>-0.035931</td>\n",
       "      <td>1.000000</td>\n",
       "      <td>-0.085487</td>\n",
       "      <td>-0.065280</td>\n",
       "      <td>-0.057206</td>\n",
       "      <td>-0.130785</td>\n",
       "      <td>-0.109354</td>\n",
       "    </tr>\n",
       "    <tr>\n",
       "      <th>LOCALE_32</th>\n",
       "      <td>0.078049</td>\n",
       "      <td>0.102664</td>\n",
       "      <td>0.087127</td>\n",
       "      <td>-0.003423</td>\n",
       "      <td>0.105543</td>\n",
       "      <td>0.040688</td>\n",
       "      <td>0.007397</td>\n",
       "      <td>-0.001405</td>\n",
       "      <td>0.035762</td>\n",
       "      <td>0.006210</td>\n",
       "      <td>...</td>\n",
       "      <td>-0.064889</td>\n",
       "      <td>-0.180193</td>\n",
       "      <td>-0.060453</td>\n",
       "      <td>-0.053864</td>\n",
       "      <td>-0.085487</td>\n",
       "      <td>1.000000</td>\n",
       "      <td>-0.097860</td>\n",
       "      <td>-0.085757</td>\n",
       "      <td>-0.196057</td>\n",
       "      <td>-0.163931</td>\n",
       "    </tr>\n",
       "    <tr>\n",
       "      <th>LOCALE_33</th>\n",
       "      <td>0.043717</td>\n",
       "      <td>0.060149</td>\n",
       "      <td>-0.011330</td>\n",
       "      <td>0.000136</td>\n",
       "      <td>0.110635</td>\n",
       "      <td>0.012419</td>\n",
       "      <td>-0.009405</td>\n",
       "      <td>-0.008966</td>\n",
       "      <td>0.029018</td>\n",
       "      <td>0.006805</td>\n",
       "      <td>...</td>\n",
       "      <td>-0.049551</td>\n",
       "      <td>-0.137600</td>\n",
       "      <td>-0.046164</td>\n",
       "      <td>-0.041132</td>\n",
       "      <td>-0.065280</td>\n",
       "      <td>-0.097860</td>\n",
       "      <td>1.000000</td>\n",
       "      <td>-0.065486</td>\n",
       "      <td>-0.149714</td>\n",
       "      <td>-0.125182</td>\n",
       "    </tr>\n",
       "    <tr>\n",
       "      <th>LOCALE_41</th>\n",
       "      <td>-0.051656</td>\n",
       "      <td>-0.052099</td>\n",
       "      <td>-0.049168</td>\n",
       "      <td>-0.028533</td>\n",
       "      <td>-0.058509</td>\n",
       "      <td>-0.011630</td>\n",
       "      <td>0.005563</td>\n",
       "      <td>-0.007857</td>\n",
       "      <td>-0.024347</td>\n",
       "      <td>-0.001977</td>\n",
       "      <td>...</td>\n",
       "      <td>-0.043422</td>\n",
       "      <td>-0.120581</td>\n",
       "      <td>-0.040454</td>\n",
       "      <td>-0.036045</td>\n",
       "      <td>-0.057206</td>\n",
       "      <td>-0.085757</td>\n",
       "      <td>-0.065486</td>\n",
       "      <td>1.000000</td>\n",
       "      <td>-0.131197</td>\n",
       "      <td>-0.109699</td>\n",
       "    </tr>\n",
       "    <tr>\n",
       "      <th>LOCALE_42</th>\n",
       "      <td>-0.317084</td>\n",
       "      <td>-0.308466</td>\n",
       "      <td>-0.180719</td>\n",
       "      <td>0.112062</td>\n",
       "      <td>-0.047266</td>\n",
       "      <td>-0.033924</td>\n",
       "      <td>-0.018841</td>\n",
       "      <td>-0.010178</td>\n",
       "      <td>0.024511</td>\n",
       "      <td>0.012592</td>\n",
       "      <td>...</td>\n",
       "      <td>-0.099272</td>\n",
       "      <td>-0.275674</td>\n",
       "      <td>-0.092486</td>\n",
       "      <td>-0.082406</td>\n",
       "      <td>-0.130785</td>\n",
       "      <td>-0.196057</td>\n",
       "      <td>-0.149714</td>\n",
       "      <td>-0.131197</td>\n",
       "      <td>1.000000</td>\n",
       "      <td>-0.250794</td>\n",
       "    </tr>\n",
       "    <tr>\n",
       "      <th>LOCALE_43</th>\n",
       "      <td>-0.383898</td>\n",
       "      <td>-0.429378</td>\n",
       "      <td>-0.239618</td>\n",
       "      <td>0.082758</td>\n",
       "      <td>0.030685</td>\n",
       "      <td>0.006172</td>\n",
       "      <td>-0.007492</td>\n",
       "      <td>-0.015020</td>\n",
       "      <td>-0.000879</td>\n",
       "      <td>-0.001188</td>\n",
       "      <td>...</td>\n",
       "      <td>-0.083005</td>\n",
       "      <td>-0.230501</td>\n",
       "      <td>-0.077331</td>\n",
       "      <td>-0.068902</td>\n",
       "      <td>-0.109354</td>\n",
       "      <td>-0.163931</td>\n",
       "      <td>-0.125182</td>\n",
       "      <td>-0.109699</td>\n",
       "      <td>-0.250794</td>\n",
       "      <td>1.000000</td>\n",
       "    </tr>\n",
       "  </tbody>\n",
       "</table>\n",
       "<p>32 rows × 32 columns</p>\n",
       "</div>"
      ],
      "text/plain": [
       "               TOTCIR  POPU_LSA     STGVT  GEOCODE_CI2  GEOCODE_CO1  \\\n",
       "TOTCIR       1.000000  0.862533  0.575790    -0.137112     0.211502   \n",
       "POPU_LSA     0.862533  1.000000  0.617840    -0.182728     0.289273   \n",
       "STGVT        0.575790  0.617840  1.000000    -0.272251     0.268306   \n",
       "GEOCODE_CI2 -0.137112 -0.182728 -0.272251     1.000000    -0.162517   \n",
       "GEOCODE_CO1  0.211502  0.289273  0.268306    -0.162517     1.000000   \n",
       "GEOCODE_CO2  0.044927  0.129429  0.034237    -0.105096    -0.089298   \n",
       "GEOCODE_MA1  0.032813  0.033883  0.008896    -0.015046    -0.012784   \n",
       "GEOCODE_MA2  0.024527  0.037792  0.012739    -0.014345    -0.012189   \n",
       "GEOCODE_MC1  0.109065  0.167042  0.221807    -0.051855    -0.044060   \n",
       "GEOCODE_MC2  0.068634  0.091472  0.072577    -0.029449    -0.025022   \n",
       "GEOCODE_OTH -0.003520 -0.041806  0.060282    -0.239738    -0.203700   \n",
       "GEOCODE_SD1  0.092112  0.049259  0.154582    -0.095441    -0.081094   \n",
       "GEOCODE_SD2 -0.002652 -0.003335  0.011366    -0.032786    -0.027857   \n",
       "OBEREG_2     0.067949  0.064287  0.077553    -0.183189    -0.115128   \n",
       "OBEREG_3     0.112439  0.038059  0.146261     0.049304    -0.106886   \n",
       "OBEREG_4    -0.256229 -0.336087 -0.258295     0.278605    -0.079473   \n",
       "OBEREG_5     0.135254  0.258572  0.277996    -0.113849     0.401256   \n",
       "OBEREG_6    -0.051208  0.026490 -0.085942    -0.093967     0.037267   \n",
       "OBEREG_7     0.021942 -0.012399 -0.037686    -0.076112     0.094807   \n",
       "OBEREG_8     0.112534  0.093485 -0.024942    -0.044271     0.033229   \n",
       "OBEREG_9    -0.037026  0.085973 -0.029313    -0.010631    -0.030434   \n",
       "LOCALE_12    0.191491  0.215458  0.115820    -0.033589     0.020099   \n",
       "LOCALE_13    0.216686  0.228467  0.141803    -0.009217     0.026417   \n",
       "LOCALE_21    0.359039  0.335654  0.215778    -0.139959    -0.100173   \n",
       "LOCALE_22    0.096474  0.104531  0.035355    -0.020368     0.001396   \n",
       "LOCALE_23    0.035195  0.052298  0.035931    -0.008108    -0.024595   \n",
       "LOCALE_31    0.052943  0.052111  0.020933    -0.011144    -0.030462   \n",
       "LOCALE_32    0.078049  0.102664  0.087127    -0.003423     0.105543   \n",
       "LOCALE_33    0.043717  0.060149 -0.011330     0.000136     0.110635   \n",
       "LOCALE_41   -0.051656 -0.052099 -0.049168    -0.028533    -0.058509   \n",
       "LOCALE_42   -0.317084 -0.308466 -0.180719     0.112062    -0.047266   \n",
       "LOCALE_43   -0.383898 -0.429378 -0.239618     0.082758     0.030685   \n",
       "\n",
       "             GEOCODE_CO2  GEOCODE_MA1  GEOCODE_MA2  GEOCODE_MC1  GEOCODE_MC2  \\\n",
       "TOTCIR          0.044927     0.032813     0.024527     0.109065     0.068634   \n",
       "POPU_LSA        0.129429     0.033883     0.037792     0.167042     0.091472   \n",
       "STGVT           0.034237     0.008896     0.012739     0.221807     0.072577   \n",
       "GEOCODE_CI2    -0.105096    -0.015046    -0.014345    -0.051855    -0.029449   \n",
       "GEOCODE_CO1    -0.089298    -0.012784    -0.012189    -0.044060    -0.025022   \n",
       "GEOCODE_CO2     1.000000    -0.008267    -0.007882    -0.028493    -0.016181   \n",
       "GEOCODE_MA1    -0.008267     1.000000    -0.001128    -0.004079    -0.002317   \n",
       "GEOCODE_MA2    -0.007882    -0.001128     1.000000    -0.003889    -0.002209   \n",
       "GEOCODE_MC1    -0.028493    -0.004079    -0.003889     1.000000    -0.007984   \n",
       "GEOCODE_MC2    -0.016181    -0.002317    -0.002209    -0.007984     1.000000   \n",
       "GEOCODE_OTH    -0.131728    -0.018859    -0.017980    -0.064995    -0.036912   \n",
       "GEOCODE_SD1    -0.052442    -0.007508    -0.007158    -0.025875    -0.014695   \n",
       "GEOCODE_SD2    -0.018015    -0.002579    -0.002459    -0.008889    -0.005048   \n",
       "OBEREG_2       -0.099947    -0.015398    -0.014681    -0.050605    -0.030139   \n",
       "OBEREG_3       -0.082185    -0.017328    -0.008357    -0.055146    -0.033917   \n",
       "OBEREG_4       -0.060432    -0.015795     0.010890    -0.018080     0.028276   \n",
       "OBEREG_5        0.092384     0.015386     0.007453     0.236026     0.066709   \n",
       "OBEREG_6        0.289416     0.043050    -0.010460    -0.012411    -0.015936   \n",
       "OBEREG_7        0.040908    -0.007244    -0.006906    -0.024965     0.001726   \n",
       "OBEREG_8        0.022669     0.020146     0.021896    -0.019457     0.020379   \n",
       "OBEREG_9       -0.019681     0.035625     0.077948    -0.009711     0.014192   \n",
       "LOCALE_12       0.032318    -0.003882     0.025735     0.019615     0.006790   \n",
       "LOCALE_13      -0.000431     0.011585     0.031434    -0.000543     0.024336   \n",
       "LOCALE_21      -0.051464     0.006046     0.007992    -0.048239    -0.021918   \n",
       "LOCALE_22       0.034327    -0.005810    -0.005539     0.002369    -0.001607   \n",
       "LOCALE_23       0.008853     0.016080    -0.004935    -0.017840    -0.010132   \n",
       "LOCALE_31       0.030557    -0.008215     0.006686    -0.020177    -0.008983   \n",
       "LOCALE_32       0.040688     0.007397    -0.001405     0.035762     0.006210   \n",
       "LOCALE_33       0.012419    -0.009405    -0.008966     0.029018     0.006805   \n",
       "LOCALE_41      -0.011630     0.005563    -0.007857    -0.024347    -0.001977   \n",
       "LOCALE_42      -0.033924    -0.018841    -0.010178     0.024511     0.012592   \n",
       "LOCALE_43       0.006172    -0.007492    -0.015020    -0.000879    -0.001188   \n",
       "\n",
       "               ...      LOCALE_13  LOCALE_21  LOCALE_22  LOCALE_23  LOCALE_31  \\\n",
       "TOTCIR         ...       0.216686   0.359039   0.096474   0.035195   0.052943   \n",
       "POPU_LSA       ...       0.228467   0.335654   0.104531   0.052298   0.052111   \n",
       "STGVT          ...       0.141803   0.215778   0.035355   0.035931   0.020933   \n",
       "GEOCODE_CI2    ...      -0.009217  -0.139959  -0.020368  -0.008108  -0.011144   \n",
       "GEOCODE_CO1    ...       0.026417  -0.100173   0.001396  -0.024595  -0.030462   \n",
       "GEOCODE_CO2    ...      -0.000431  -0.051464   0.034327   0.008853   0.030557   \n",
       "GEOCODE_MA1    ...       0.011585   0.006046  -0.005810   0.016080  -0.008215   \n",
       "GEOCODE_MA2    ...       0.031434   0.007992  -0.005539  -0.004935   0.006686   \n",
       "GEOCODE_MC1    ...      -0.000543  -0.048239   0.002369  -0.017840  -0.020177   \n",
       "GEOCODE_MC2    ...       0.024336  -0.021918  -0.001607  -0.010132  -0.008983   \n",
       "GEOCODE_OTH    ...      -0.044156   0.129117   0.002154   0.028422   0.069980   \n",
       "GEOCODE_SD1    ...      -0.030738   0.081562  -0.011716   0.002228   0.025529   \n",
       "GEOCODE_SD2    ...       0.011056  -0.023375  -0.003879   0.008317   0.001242   \n",
       "OBEREG_2       ...      -0.023652   0.289974  -0.024680   0.036471   0.039824   \n",
       "OBEREG_3       ...       0.004725   0.012224  -0.029667   0.024203   0.057323   \n",
       "OBEREG_4       ...      -0.049309  -0.191586  -0.056821  -0.059452  -0.068242   \n",
       "OBEREG_5       ...       0.051934  -0.071961   0.019366  -0.003812   0.003325   \n",
       "OBEREG_6       ...       0.001427  -0.058837   0.004935  -0.020229   0.009297   \n",
       "OBEREG_7       ...       0.004358  -0.064837  -0.025817  -0.002698  -0.031404   \n",
       "OBEREG_8       ...       0.045921  -0.006801   0.010645   0.004303   0.012742   \n",
       "OBEREG_9       ...       0.030317   0.047585   0.034442   0.059501  -0.007864   \n",
       "LOCALE_12      ...      -0.020455  -0.056801  -0.019056  -0.016979  -0.026948   \n",
       "LOCALE_13      ...       1.000000  -0.091240  -0.030610  -0.027274  -0.043286   \n",
       "LOCALE_21      ...      -0.091240   1.000000  -0.085003  -0.075738  -0.120202   \n",
       "LOCALE_22      ...      -0.030610  -0.085003   1.000000  -0.025409  -0.040327   \n",
       "LOCALE_23      ...      -0.027274  -0.075738  -0.025409   1.000000  -0.035931   \n",
       "LOCALE_31      ...      -0.043286  -0.120202  -0.040327  -0.035931   1.000000   \n",
       "LOCALE_32      ...      -0.064889  -0.180193  -0.060453  -0.053864  -0.085487   \n",
       "LOCALE_33      ...      -0.049551  -0.137600  -0.046164  -0.041132  -0.065280   \n",
       "LOCALE_41      ...      -0.043422  -0.120581  -0.040454  -0.036045  -0.057206   \n",
       "LOCALE_42      ...      -0.099272  -0.275674  -0.092486  -0.082406  -0.130785   \n",
       "LOCALE_43      ...      -0.083005  -0.230501  -0.077331  -0.068902  -0.109354   \n",
       "\n",
       "             LOCALE_32  LOCALE_33  LOCALE_41  LOCALE_42  LOCALE_43  \n",
       "TOTCIR        0.078049   0.043717  -0.051656  -0.317084  -0.383898  \n",
       "POPU_LSA      0.102664   0.060149  -0.052099  -0.308466  -0.429378  \n",
       "STGVT         0.087127  -0.011330  -0.049168  -0.180719  -0.239618  \n",
       "GEOCODE_CI2  -0.003423   0.000136  -0.028533   0.112062   0.082758  \n",
       "GEOCODE_CO1   0.105543   0.110635  -0.058509  -0.047266   0.030685  \n",
       "GEOCODE_CO2   0.040688   0.012419  -0.011630  -0.033924   0.006172  \n",
       "GEOCODE_MA1   0.007397  -0.009405   0.005563  -0.018841  -0.007492  \n",
       "GEOCODE_MA2  -0.001405  -0.008966  -0.007857  -0.010178  -0.015020  \n",
       "GEOCODE_MC1   0.035762   0.029018  -0.024347   0.024511  -0.000879  \n",
       "GEOCODE_MC2   0.006210   0.006805  -0.001977   0.012592  -0.001188  \n",
       "GEOCODE_OTH  -0.045179  -0.097727   0.087010   0.053810  -0.155381  \n",
       "GEOCODE_SD1   0.011299  -0.015034  -0.004457  -0.021554  -0.049508  \n",
       "GEOCODE_SD2   0.004966   0.002178  -0.005232  -0.003416   0.018988  \n",
       "OBEREG_2     -0.043972  -0.089496   0.026353  -0.051535  -0.171464  \n",
       "OBEREG_3      0.071739  -0.073541  -0.029747   0.073983  -0.110527  \n",
       "OBEREG_4     -0.048251   0.063909  -0.074959   0.042520   0.325062  \n",
       "OBEREG_5      0.113722   0.000260  -0.007266   0.009942  -0.074225  \n",
       "OBEREG_6      0.054313   0.124462  -0.022319  -0.063626   0.004996  \n",
       "OBEREG_7     -0.038418   0.133146  -0.031616  -0.057113   0.121842  \n",
       "OBEREG_8     -0.016589   0.000792  -0.036808  -0.066055   0.037462  \n",
       "OBEREG_9     -0.029319  -0.001615  -0.007958  -0.041719  -0.037505  \n",
       "LOCALE_12    -0.040397  -0.030848  -0.027033  -0.061802  -0.051675  \n",
       "LOCALE_13    -0.064889  -0.049551  -0.043422  -0.099272  -0.083005  \n",
       "LOCALE_21    -0.180193  -0.137600  -0.120581  -0.275674  -0.230501  \n",
       "LOCALE_22    -0.060453  -0.046164  -0.040454  -0.092486  -0.077331  \n",
       "LOCALE_23    -0.053864  -0.041132  -0.036045  -0.082406  -0.068902  \n",
       "LOCALE_31    -0.085487  -0.065280  -0.057206  -0.130785  -0.109354  \n",
       "LOCALE_32     1.000000  -0.097860  -0.085757  -0.196057  -0.163931  \n",
       "LOCALE_33    -0.097860   1.000000  -0.065486  -0.149714  -0.125182  \n",
       "LOCALE_41    -0.085757  -0.065486   1.000000  -0.131197  -0.109699  \n",
       "LOCALE_42    -0.196057  -0.149714  -0.131197   1.000000  -0.250794  \n",
       "LOCALE_43    -0.163931  -0.125182  -0.109699  -0.250794   1.000000  \n",
       "\n",
       "[32 rows x 32 columns]"
      ]
     },
     "execution_count": 159,
     "metadata": {},
     "output_type": "execute_result"
    }
   ],
   "source": [
    "#correlation matrix\n",
    "dummy_df.corr()"
   ]
  },
  {
   "cell_type": "markdown",
   "metadata": {},
   "source": [
    "## Linear Regression"
   ]
  },
  {
   "cell_type": "code",
   "execution_count": 160,
   "metadata": {
    "collapsed": false
   },
   "outputs": [],
   "source": [
    "X = dummy_df.drop(['TOTCIR'], axis=1)\n",
    "y = dummy_df['TOTCIR']"
   ]
  },
  {
   "cell_type": "code",
   "execution_count": 161,
   "metadata": {
    "collapsed": false
   },
   "outputs": [
    {
     "data": {
      "text/html": [
       "<table class=\"simpletable\">\n",
       "<caption>OLS Regression Results</caption>\n",
       "<tr>\n",
       "  <th>Dep. Variable:</th>         <td>TOTCIR</td>      <th>  R-squared:         </th> <td>   0.994</td> \n",
       "</tr>\n",
       "<tr>\n",
       "  <th>Model:</th>                   <td>OLS</td>       <th>  Adj. R-squared:    </th> <td>   0.994</td> \n",
       "</tr>\n",
       "<tr>\n",
       "  <th>Method:</th>             <td>Least Squares</td>  <th>  F-statistic:       </th> <td>4.639e+04</td>\n",
       "</tr>\n",
       "<tr>\n",
       "  <th>Date:</th>             <td>Sun, 26 Mar 2017</td> <th>  Prob (F-statistic):</th>  <td>  0.00</td>  \n",
       "</tr>\n",
       "<tr>\n",
       "  <th>Time:</th>                 <td>16:09:49</td>     <th>  Log-Likelihood:    </th> <td> -4084.6</td> \n",
       "</tr>\n",
       "<tr>\n",
       "  <th>No. Observations:</th>      <td>  9305</td>      <th>  AIC:               </th> <td>   8231.</td> \n",
       "</tr>\n",
       "<tr>\n",
       "  <th>Df Residuals:</th>          <td>  9274</td>      <th>  BIC:               </th> <td>   8452.</td> \n",
       "</tr>\n",
       "<tr>\n",
       "  <th>Df Model:</th>              <td>    31</td>      <th>                     </th>     <td> </td>    \n",
       "</tr>\n",
       "<tr>\n",
       "  <th>Covariance Type:</th>      <td>nonrobust</td>    <th>                     </th>     <td> </td>    \n",
       "</tr>\n",
       "</table>\n",
       "<table class=\"simpletable\">\n",
       "<tr>\n",
       "       <td></td>          <th>coef</th>     <th>std err</th>      <th>t</th>      <th>P>|t|</th> <th>[95.0% Conf. Int.]</th> \n",
       "</tr>\n",
       "<tr>\n",
       "  <th>POPU_LSA</th>    <td>    0.9734</td> <td>    0.008</td> <td>  120.520</td> <td> 0.000</td> <td>    0.958     0.989</td>\n",
       "</tr>\n",
       "<tr>\n",
       "  <th>STGVT</th>       <td>    0.0907</td> <td>    0.007</td> <td>   12.925</td> <td> 0.000</td> <td>    0.077     0.104</td>\n",
       "</tr>\n",
       "<tr>\n",
       "  <th>GEOCODE_CI2</th> <td>    0.0515</td> <td>    0.012</td> <td>    4.170</td> <td> 0.000</td> <td>    0.027     0.076</td>\n",
       "</tr>\n",
       "<tr>\n",
       "  <th>GEOCODE_CO1</th> <td>   -0.0782</td> <td>    0.015</td> <td>   -5.081</td> <td> 0.000</td> <td>   -0.108    -0.048</td>\n",
       "</tr>\n",
       "<tr>\n",
       "  <th>GEOCODE_CO2</th> <td>   -0.1849</td> <td>    0.019</td> <td>   -9.533</td> <td> 0.000</td> <td>   -0.223    -0.147</td>\n",
       "</tr>\n",
       "<tr>\n",
       "  <th>GEOCODE_MA1</th> <td>    0.2805</td> <td>    0.114</td> <td>    2.458</td> <td> 0.014</td> <td>    0.057     0.504</td>\n",
       "</tr>\n",
       "<tr>\n",
       "  <th>GEOCODE_MA2</th> <td>   -0.0525</td> <td>    0.120</td> <td>   -0.439</td> <td> 0.661</td> <td>   -0.287     0.182</td>\n",
       "</tr>\n",
       "<tr>\n",
       "  <th>GEOCODE_MC1</th> <td>   -0.2384</td> <td>    0.036</td> <td>   -6.536</td> <td> 0.000</td> <td>   -0.310    -0.167</td>\n",
       "</tr>\n",
       "<tr>\n",
       "  <th>GEOCODE_MC2</th> <td>   -0.1664</td> <td>    0.059</td> <td>   -2.811</td> <td> 0.005</td> <td>   -0.282    -0.050</td>\n",
       "</tr>\n",
       "<tr>\n",
       "  <th>GEOCODE_OTH</th> <td>    0.0286</td> <td>    0.012</td> <td>    2.357</td> <td> 0.018</td> <td>    0.005     0.052</td>\n",
       "</tr>\n",
       "<tr>\n",
       "  <th>GEOCODE_SD1</th> <td>    0.0794</td> <td>    0.021</td> <td>    3.826</td> <td> 0.000</td> <td>    0.039     0.120</td>\n",
       "</tr>\n",
       "<tr>\n",
       "  <th>GEOCODE_SD2</th> <td>   -0.1073</td> <td>    0.053</td> <td>   -2.033</td> <td> 0.042</td> <td>   -0.211    -0.004</td>\n",
       "</tr>\n",
       "<tr>\n",
       "  <th>OBEREG_2</th>    <td>    0.0048</td> <td>    0.015</td> <td>    0.310</td> <td> 0.757</td> <td>   -0.026     0.035</td>\n",
       "</tr>\n",
       "<tr>\n",
       "  <th>OBEREG_3</th>    <td>    0.1396</td> <td>    0.014</td> <td>    9.728</td> <td> 0.000</td> <td>    0.112     0.168</td>\n",
       "</tr>\n",
       "<tr>\n",
       "  <th>OBEREG_4</th>    <td>    0.1834</td> <td>    0.015</td> <td>   12.194</td> <td> 0.000</td> <td>    0.154     0.213</td>\n",
       "</tr>\n",
       "<tr>\n",
       "  <th>OBEREG_5</th>    <td>   -0.1121</td> <td>    0.018</td> <td>   -6.287</td> <td> 0.000</td> <td>   -0.147    -0.077</td>\n",
       "</tr>\n",
       "<tr>\n",
       "  <th>OBEREG_6</th>    <td>   -0.0541</td> <td>    0.018</td> <td>   -3.016</td> <td> 0.003</td> <td>   -0.089    -0.019</td>\n",
       "</tr>\n",
       "<tr>\n",
       "  <th>OBEREG_7</th>    <td>    0.2379</td> <td>    0.023</td> <td>   10.366</td> <td> 0.000</td> <td>    0.193     0.283</td>\n",
       "</tr>\n",
       "<tr>\n",
       "  <th>OBEREG_8</th>    <td>    0.1953</td> <td>    0.021</td> <td>    9.379</td> <td> 0.000</td> <td>    0.154     0.236</td>\n",
       "</tr>\n",
       "<tr>\n",
       "  <th>OBEREG_9</th>    <td>   -1.0681</td> <td>    0.050</td> <td>  -21.485</td> <td> 0.000</td> <td>   -1.166    -0.971</td>\n",
       "</tr>\n",
       "<tr>\n",
       "  <th>LOCALE_12</th>   <td>    0.4593</td> <td>    0.047</td> <td>    9.857</td> <td> 0.000</td> <td>    0.368     0.551</td>\n",
       "</tr>\n",
       "<tr>\n",
       "  <th>LOCALE_13</th>   <td>    0.5093</td> <td>    0.036</td> <td>   14.074</td> <td> 0.000</td> <td>    0.438     0.580</td>\n",
       "</tr>\n",
       "<tr>\n",
       "  <th>LOCALE_21</th>   <td>    0.5395</td> <td>    0.029</td> <td>   18.903</td> <td> 0.000</td> <td>    0.484     0.595</td>\n",
       "</tr>\n",
       "<tr>\n",
       "  <th>LOCALE_22</th>   <td>    0.5279</td> <td>    0.035</td> <td>   15.101</td> <td> 0.000</td> <td>    0.459     0.596</td>\n",
       "</tr>\n",
       "<tr>\n",
       "  <th>LOCALE_23</th>   <td>    0.4128</td> <td>    0.037</td> <td>   11.228</td> <td> 0.000</td> <td>    0.341     0.485</td>\n",
       "</tr>\n",
       "<tr>\n",
       "  <th>LOCALE_31</th>   <td>    0.4679</td> <td>    0.030</td> <td>   15.415</td> <td> 0.000</td> <td>    0.408     0.527</td>\n",
       "</tr>\n",
       "<tr>\n",
       "  <th>LOCALE_32</th>   <td>    0.4306</td> <td>    0.028</td> <td>   15.585</td> <td> 0.000</td> <td>    0.376     0.485</td>\n",
       "</tr>\n",
       "<tr>\n",
       "  <th>LOCALE_33</th>   <td>    0.4253</td> <td>    0.029</td> <td>   14.614</td> <td> 0.000</td> <td>    0.368     0.482</td>\n",
       "</tr>\n",
       "<tr>\n",
       "  <th>LOCALE_41</th>   <td>    0.4613</td> <td>    0.029</td> <td>   15.990</td> <td> 0.000</td> <td>    0.405     0.518</td>\n",
       "</tr>\n",
       "<tr>\n",
       "  <th>LOCALE_42</th>   <td>    0.3801</td> <td>    0.024</td> <td>   15.909</td> <td> 0.000</td> <td>    0.333     0.427</td>\n",
       "</tr>\n",
       "<tr>\n",
       "  <th>LOCALE_43</th>   <td>    0.4073</td> <td>    0.024</td> <td>   17.073</td> <td> 0.000</td> <td>    0.360     0.454</td>\n",
       "</tr>\n",
       "</table>\n",
       "<table class=\"simpletable\">\n",
       "<tr>\n",
       "  <th>Omnibus:</th>       <td>2085.628</td> <th>  Durbin-Watson:     </th> <td>   1.711</td>\n",
       "</tr>\n",
       "<tr>\n",
       "  <th>Prob(Omnibus):</th>  <td> 0.000</td>  <th>  Jarque-Bera (JB):  </th> <td>8933.249</td>\n",
       "</tr>\n",
       "<tr>\n",
       "  <th>Skew:</th>           <td>-1.041</td>  <th>  Prob(JB):          </th> <td>    0.00</td>\n",
       "</tr>\n",
       "<tr>\n",
       "  <th>Kurtosis:</th>       <td> 7.325</td>  <th>  Cond. No.          </th> <td>    173.</td>\n",
       "</tr>\n",
       "</table>"
      ],
      "text/plain": [
       "<class 'statsmodels.iolib.summary.Summary'>\n",
       "\"\"\"\n",
       "                            OLS Regression Results                            \n",
       "==============================================================================\n",
       "Dep. Variable:                 TOTCIR   R-squared:                       0.994\n",
       "Model:                            OLS   Adj. R-squared:                  0.994\n",
       "Method:                 Least Squares   F-statistic:                 4.639e+04\n",
       "Date:                Sun, 26 Mar 2017   Prob (F-statistic):               0.00\n",
       "Time:                        16:09:49   Log-Likelihood:                -4084.6\n",
       "No. Observations:                9305   AIC:                             8231.\n",
       "Df Residuals:                    9274   BIC:                             8452.\n",
       "Df Model:                          31                                         \n",
       "Covariance Type:            nonrobust                                         \n",
       "===============================================================================\n",
       "                  coef    std err          t      P>|t|      [95.0% Conf. Int.]\n",
       "-------------------------------------------------------------------------------\n",
       "POPU_LSA        0.9734      0.008    120.520      0.000         0.958     0.989\n",
       "STGVT           0.0907      0.007     12.925      0.000         0.077     0.104\n",
       "GEOCODE_CI2     0.0515      0.012      4.170      0.000         0.027     0.076\n",
       "GEOCODE_CO1    -0.0782      0.015     -5.081      0.000        -0.108    -0.048\n",
       "GEOCODE_CO2    -0.1849      0.019     -9.533      0.000        -0.223    -0.147\n",
       "GEOCODE_MA1     0.2805      0.114      2.458      0.014         0.057     0.504\n",
       "GEOCODE_MA2    -0.0525      0.120     -0.439      0.661        -0.287     0.182\n",
       "GEOCODE_MC1    -0.2384      0.036     -6.536      0.000        -0.310    -0.167\n",
       "GEOCODE_MC2    -0.1664      0.059     -2.811      0.005        -0.282    -0.050\n",
       "GEOCODE_OTH     0.0286      0.012      2.357      0.018         0.005     0.052\n",
       "GEOCODE_SD1     0.0794      0.021      3.826      0.000         0.039     0.120\n",
       "GEOCODE_SD2    -0.1073      0.053     -2.033      0.042        -0.211    -0.004\n",
       "OBEREG_2        0.0048      0.015      0.310      0.757        -0.026     0.035\n",
       "OBEREG_3        0.1396      0.014      9.728      0.000         0.112     0.168\n",
       "OBEREG_4        0.1834      0.015     12.194      0.000         0.154     0.213\n",
       "OBEREG_5       -0.1121      0.018     -6.287      0.000        -0.147    -0.077\n",
       "OBEREG_6       -0.0541      0.018     -3.016      0.003        -0.089    -0.019\n",
       "OBEREG_7        0.2379      0.023     10.366      0.000         0.193     0.283\n",
       "OBEREG_8        0.1953      0.021      9.379      0.000         0.154     0.236\n",
       "OBEREG_9       -1.0681      0.050    -21.485      0.000        -1.166    -0.971\n",
       "LOCALE_12       0.4593      0.047      9.857      0.000         0.368     0.551\n",
       "LOCALE_13       0.5093      0.036     14.074      0.000         0.438     0.580\n",
       "LOCALE_21       0.5395      0.029     18.903      0.000         0.484     0.595\n",
       "LOCALE_22       0.5279      0.035     15.101      0.000         0.459     0.596\n",
       "LOCALE_23       0.4128      0.037     11.228      0.000         0.341     0.485\n",
       "LOCALE_31       0.4679      0.030     15.415      0.000         0.408     0.527\n",
       "LOCALE_32       0.4306      0.028     15.585      0.000         0.376     0.485\n",
       "LOCALE_33       0.4253      0.029     14.614      0.000         0.368     0.482\n",
       "LOCALE_41       0.4613      0.029     15.990      0.000         0.405     0.518\n",
       "LOCALE_42       0.3801      0.024     15.909      0.000         0.333     0.427\n",
       "LOCALE_43       0.4073      0.024     17.073      0.000         0.360     0.454\n",
       "==============================================================================\n",
       "Omnibus:                     2085.628   Durbin-Watson:                   1.711\n",
       "Prob(Omnibus):                  0.000   Jarque-Bera (JB):             8933.249\n",
       "Skew:                          -1.041   Prob(JB):                         0.00\n",
       "Kurtosis:                       7.325   Cond. No.                         173.\n",
       "==============================================================================\n",
       "\n",
       "Warnings:\n",
       "[1] Standard Errors assume that the covariance matrix of the errors is correctly specified.\n",
       "\"\"\""
      ]
     },
     "execution_count": 161,
     "metadata": {},
     "output_type": "execute_result"
    }
   ],
   "source": [
    "import statsmodels.formula.api as smf\n",
    "\n",
    "# statsmodel linear regression\n",
    "\n",
    "lin_model = smf.OLS(endog=y, exog=X)\n",
    "result = lin_model.fit()\n",
    "result.summary()"
   ]
  },
  {
   "cell_type": "code",
   "execution_count": 163,
   "metadata": {
    "collapsed": false
   },
   "outputs": [],
   "source": [
    "from sklearn.cross_validation import train_test_split\n",
    "dummy_df = dummy_df.astype(float)\n",
    "X, y = dummy_df.drop(['TOTCIR'], axis=1).values, dummy_df.loc[:, 'TOTCIR'].values\n",
    "X_train, X_test, y_train, y_test = train_test_split(X, y, test_size=0.2, random_state=0)"
   ]
  },
  {
   "cell_type": "code",
   "execution_count": 164,
   "metadata": {
    "collapsed": false
   },
   "outputs": [
    {
     "name": "stdout",
     "output_type": "stream",
     "text": [
      "0.788566477709\n"
     ]
    }
   ],
   "source": [
    "#sklearn linear regression\n",
    "from sklearn import linear_model, metrics\n",
    "\n",
    "lm=linear_model.LinearRegression().fit(X_train, y_train)\n",
    "print lm.score(X_train, y_train)"
   ]
  },
  {
   "cell_type": "code",
   "execution_count": 165,
   "metadata": {
    "collapsed": false
   },
   "outputs": [
    {
     "name": "stdout",
     "output_type": "stream",
     "text": [
      "~~~ OLS ~~~\n",
      "OLS MSE:  0.138112418661\n",
      "OLS R2: 0.788566477709\n",
      "~~~ Lasso ~~~\n",
      "Lasso MSE:  0.653219116648\n",
      "Lasso R2: 0.0\n",
      "~~~ Ridge ~~~\n",
      "Ridge MSE:  0.138119375806\n",
      "Ridge R2: 0.788555827156\n"
     ]
    }
   ],
   "source": [
    "lm = linear_model.LinearRegression().fit(X_train, y_train)\n",
    "print \"~~~ OLS ~~~\"\n",
    "print 'OLS MSE: ', metrics.mean_squared_error(y_train, lm.predict(X_train))\n",
    "print 'OLS R2:', lm.score(X_train, y_train)\n",
    "\n",
    "lm = linear_model.Lasso().fit(X_train, y_train)\n",
    "print \"~~~ Lasso ~~~\"\n",
    "print 'Lasso MSE: ', metrics.mean_squared_error(y_train, lm.predict(X_train))\n",
    "print 'Lasso R2:', lm.score(X_train, y_train)\n",
    "\n",
    "lm = linear_model.Ridge().fit(X_train, y_train)\n",
    "print \"~~~ Ridge ~~~\"\n",
    "print 'Ridge MSE: ', metrics.mean_squared_error(y_train, lm.predict(X_train))\n",
    "print 'Ridge R2:', lm.score(X_train, y_train)"
   ]
  },
  {
   "cell_type": "code",
   "execution_count": 166,
   "metadata": {
    "collapsed": false
   },
   "outputs": [
    {
     "data": {
      "text/plain": [
       "GridSearchCV(cv=5, error_score='raise',\n",
       "       estimator=Ridge(alpha=1.0, copy_X=True, fit_intercept=True, max_iter=None,\n",
       "   normalize=False, random_state=None, solver='auto', tol=0.001),\n",
       "       fit_params={}, iid=True, n_jobs=1,\n",
       "       param_grid={'alpha': array([  1.00000e-10,   1.00000e-09,   1.00000e-08,   1.00000e-07,\n",
       "         1.00000e-06,   1.00000e-05,   1.00000e-04,   1.00000e-03,\n",
       "         1.00000e-02,   1.00000e-01,   1.00000e+00,   1.00000e+01,\n",
       "         1.00000e+02,   1.00000e+03,   1.00000e+04,   1.00000e+05,\n",
       "         1.00000e+06,   1.00000e+07,   1.00000e+08,   1.00000e+09,\n",
       "         1.00000e+10]), 'fit_intercept': [True, False]},\n",
       "       pre_dispatch='2*n_jobs', refit=True, scoring='mean_squared_error',\n",
       "       verbose=0)"
      ]
     },
     "execution_count": 166,
     "metadata": {},
     "output_type": "execute_result"
    }
   ],
   "source": [
    "from sklearn import grid_search\n",
    "\n",
    "alphas = np.logspace(-10, 10, 21)\n",
    "gs = grid_search.GridSearchCV(\n",
    "    cv=5,\n",
    "    estimator=linear_model.Ridge(),\n",
    "    param_grid={'alpha': alphas, 'fit_intercept': [True, False]},\n",
    "    scoring='mean_squared_error')\n",
    "\n",
    "gs.fit(X_train, y_train)"
   ]
  },
  {
   "cell_type": "code",
   "execution_count": 167,
   "metadata": {
    "collapsed": false
   },
   "outputs": [
    {
     "name": "stdout",
     "output_type": "stream",
     "text": [
      "[mean: -0.13964, std: 0.00693, params: {'alpha': 1e-10, 'fit_intercept': True},\n",
      " mean: -0.14310, std: 0.00746, params: {'alpha': 1e-10, 'fit_intercept': False},\n",
      " mean: -0.13964, std: 0.00693, params: {'alpha': 1.0000000000000001e-09, 'fit_intercept': True},\n",
      " mean: -0.14310, std: 0.00746, params: {'alpha': 1.0000000000000001e-09, 'fit_intercept': False},\n",
      " mean: -0.13964, std: 0.00693, params: {'alpha': 1e-08, 'fit_intercept': True},\n",
      " mean: -0.14310, std: 0.00746, params: {'alpha': 1e-08, 'fit_intercept': False},\n",
      " mean: -0.13964, std: 0.00693, params: {'alpha': 9.9999999999999995e-08, 'fit_intercept': True},\n",
      " mean: -0.14310, std: 0.00746, params: {'alpha': 9.9999999999999995e-08, 'fit_intercept': False},\n",
      " mean: -0.13964, std: 0.00693, params: {'alpha': 9.9999999999999995e-07, 'fit_intercept': True},\n",
      " mean: -0.14310, std: 0.00746, params: {'alpha': 9.9999999999999995e-07, 'fit_intercept': False},\n",
      " mean: -0.13964, std: 0.00693, params: {'alpha': 1.0000000000000001e-05, 'fit_intercept': True},\n",
      " mean: -0.14310, std: 0.00746, params: {'alpha': 1.0000000000000001e-05, 'fit_intercept': False},\n",
      " mean: -0.13964, std: 0.00693, params: {'alpha': 0.0001, 'fit_intercept': True},\n",
      " mean: -0.14310, std: 0.00746, params: {'alpha': 0.0001, 'fit_intercept': False},\n",
      " mean: -0.13964, std: 0.00693, params: {'alpha': 0.001, 'fit_intercept': True},\n",
      " mean: -0.14310, std: 0.00746, params: {'alpha': 0.001, 'fit_intercept': False},\n",
      " mean: -0.13964, std: 0.00693, params: {'alpha': 0.01, 'fit_intercept': True},\n",
      " mean: -0.14310, std: 0.00745, params: {'alpha': 0.01, 'fit_intercept': False},\n",
      " mean: -0.13963, std: 0.00692, params: {'alpha': 0.10000000000000001, 'fit_intercept': True},\n",
      " mean: -0.14309, std: 0.00745, params: {'alpha': 0.10000000000000001, 'fit_intercept': False},\n",
      " mean: -0.13960, std: 0.00685, params: {'alpha': 1.0, 'fit_intercept': True},\n",
      " mean: -0.14305, std: 0.00740, params: {'alpha': 1.0, 'fit_intercept': False},\n",
      " mean: -0.13985, std: 0.00647, params: {'alpha': 10.0, 'fit_intercept': True},\n",
      " mean: -0.14391, std: 0.00714, params: {'alpha': 10.0, 'fit_intercept': False},\n",
      " mean: -0.14474, std: 0.00602, params: {'alpha': 100.0, 'fit_intercept': True},\n",
      " mean: -0.15152, std: 0.00690, params: {'alpha': 100.0, 'fit_intercept': False},\n",
      " mean: -0.17746, std: 0.00560, params: {'alpha': 1000.0, 'fit_intercept': True},\n",
      " mean: -0.18034, std: 0.00430, params: {'alpha': 1000.0, 'fit_intercept': False},\n",
      " mean: -0.38309, std: 0.01311, params: {'alpha': 10000.0, 'fit_intercept': True},\n",
      " mean: -0.29626, std: 0.00980, params: {'alpha': 10000.0, 'fit_intercept': False},\n",
      " mean: -0.60573, std: 0.01908, params: {'alpha': 100000.0, 'fit_intercept': True},\n",
      " mean: -2.86179, std: 0.04626, params: {'alpha': 100000.0, 'fit_intercept': False},\n",
      " mean: -0.64825, std: 0.02005, params: {'alpha': 1000000.0, 'fit_intercept': True},\n",
      " mean: -15.63054, std: 0.13271, params: {'alpha': 1000000.0, 'fit_intercept': False},\n",
      " mean: -0.65287, std: 0.02015, params: {'alpha': 10000000.0, 'fit_intercept': True},\n",
      " mean: -21.19071, std: 0.16085, params: {'alpha': 10000000.0, 'fit_intercept': False},\n",
      " mean: -0.65334, std: 0.02016, params: {'alpha': 100000000.0, 'fit_intercept': True},\n",
      " mean: -21.90745, std: 0.16420, params: {'alpha': 100000000.0, 'fit_intercept': False},\n",
      " mean: -0.65338, std: 0.02016, params: {'alpha': 1000000000.0, 'fit_intercept': True},\n",
      " mean: -21.98114, std: 0.16454, params: {'alpha': 1000000000.0, 'fit_intercept': False},\n",
      " mean: -0.65339, std: 0.02016, params: {'alpha': 10000000000.0, 'fit_intercept': True},\n",
      " mean: -21.98853, std: 0.16458, params: {'alpha': 10000000000.0, 'fit_intercept': False}]\n"
     ]
    }
   ],
   "source": [
    "from pprint import pprint\n",
    "pprint(gs.grid_scores_ )"
   ]
  },
  {
   "cell_type": "code",
   "execution_count": 168,
   "metadata": {
    "collapsed": false
   },
   "outputs": [
    {
     "name": "stdout",
     "output_type": "stream",
     "text": [
      "-0.139599724991\n",
      "Ridge(alpha=1.0, copy_X=True, fit_intercept=True, max_iter=None,\n",
      "   normalize=False, random_state=None, solver='auto', tol=0.001)\n"
     ]
    }
   ],
   "source": [
    "print gs.best_score_\n",
    "print gs.best_estimator_"
   ]
  },
  {
   "cell_type": "code",
   "execution_count": 169,
   "metadata": {
    "collapsed": false
   },
   "outputs": [],
   "source": [
    "prediction = gs.predict(X_test)"
   ]
  },
  {
   "cell_type": "code",
   "execution_count": 170,
   "metadata": {
    "collapsed": false
   },
   "outputs": [
    {
     "data": {
      "image/png": "[encoded data removed]",
      "text/plain": [
       "<matplotlib.figure.Figure at 0x13d6a160>"
      ]
     },
     "metadata": {},
     "output_type": "display_data"
    }
   ],
   "source": [
    "fig, ax = plt.subplots()\n",
    "ax.scatter(y_test, prediction)\n",
    "ax.plot([y.min(), y.max()], [y.min(), y.max()], 'k--', lw=4)\n",
    "ax.set_xlabel('Actual')\n",
    "ax.set_ylabel('Prediction')\n",
    "plt.show()"
   ]
  },
  {
   "cell_type": "markdown",
   "metadata": {},
   "source": [
    "## Random Forest"
   ]
  },
  {
   "cell_type": "code",
   "execution_count": 180,
   "metadata": {
    "collapsed": false
   },
   "outputs": [
    {
     "data": {
      "text/plain": [
       "RandomForestRegressor(bootstrap=True, criterion='mse', max_depth=None,\n",
       "           max_features='auto', max_leaf_nodes=None, min_samples_leaf=1,\n",
       "           min_samples_split=2, min_weight_fraction_leaf=0.0,\n",
       "           n_estimators=10, n_jobs=1, oob_score=False, random_state=None,\n",
       "           verbose=0, warm_start=False)"
      ]
     },
     "execution_count": 180,
     "metadata": {},
     "output_type": "execute_result"
    }
   ],
   "source": [
    "from sklearn.ensemble import RandomForestRegressor\n",
    "\n",
    "model = RandomForestRegressor(n_estimators=10)\n",
    "model.fit(X_train, y_train)"
   ]
  },
  {
   "cell_type": "code",
   "execution_count": 181,
   "metadata": {
    "collapsed": false
   },
   "outputs": [
    {
     "name": "stdout",
     "output_type": "stream",
     "text": [
      "CV MSE [-0.15551281 -0.1654919  -0.15396698], Average MSE -0.158323897535\n"
     ]
    }
   ],
   "source": [
    "from sklearn.cross_validation import cross_val_score\n",
    "\n",
    "scores = cross_val_score(model, X_train, y_train, scoring='mean_squared_error')\n",
    "print('CV MSE {}, Average MSE {}'.format(scores, scores.mean()))"
   ]
  },
  {
   "cell_type": "code",
   "execution_count": 183,
   "metadata": {
    "collapsed": true
   },
   "outputs": [],
   "source": [
    "prediction = model.predict(X_test)"
   ]
  },
  {
   "cell_type": "code",
   "execution_count": 184,
   "metadata": {
    "collapsed": false
   },
   "outputs": [
    {
     "data": {
      "image/png": "[encoded data removed]",
      "text/plain": [
       "<matplotlib.figure.Figure at 0x14ef9320>"
      ]
     },
     "metadata": {},
     "output_type": "display_data"
    }
   ],
   "source": [
    "fig, ax = plt.subplots()\n",
    "ax.scatter(y_test, prediction)\n",
    "ax.plot([y.min(), y.max()], [y.min(), y.max()], 'k--', lw=4)\n",
    "ax.set_xlabel('Actual')\n",
    "ax.set_ylabel('Prediction')\n",
    "plt.show()"
   ]
  },
  {
   "cell_type": "code",
   "execution_count": 185,
   "metadata": {
    "collapsed": false
   },
   "outputs": [
    {
     "data": {
      "image/png": "[encoded data removed]",
      "text/plain": [
       "<matplotlib.figure.Figure at 0x10ccbf60>"
      ]
     },
     "metadata": {},
     "output_type": "display_data"
    }
   ],
   "source": [
    "importances = model.feature_importances_\n",
    "std = np.std([model.feature_importances_ for tree in model.estimators_],\n",
    "             axis=0)\n",
    "indices = np.argsort(importances)[::-1]\n",
    "\n",
    "plt.figure()\n",
    "plt.title(\"Feature importances\")\n",
    "plt.bar(range(X.shape[1]), importances[indices],\n",
    "       color=\"r\", yerr=std[indices], align=\"center\")\n",
    "plt.xticks(range(X.shape[1]), indices)\n",
    "plt.xlim([-1, X.shape[1]])\n",
    "plt.show()"
   ]
  },
  {
   "cell_type": "code",
   "execution_count": 186,
   "metadata": {
    "collapsed": false
   },
   "outputs": [
    {
     "data": {
      "text/html": [
       "<div>\n",
       "<table border=\"1\" class=\"dataframe\">\n",
       "  <thead>\n",
       "    <tr style=\"text-align: right;\">\n",
       "      <th></th>\n",
       "      <th>Features</th>\n",
       "      <th>Importance Score</th>\n",
       "    </tr>\n",
       "  </thead>\n",
       "  <tbody>\n",
       "    <tr>\n",
       "      <th>0</th>\n",
       "      <td>POPU_LSA</td>\n",
       "      <td>0.829675</td>\n",
       "    </tr>\n",
       "    <tr>\n",
       "      <th>1</th>\n",
       "      <td>STGVT</td>\n",
       "      <td>0.058757</td>\n",
       "    </tr>\n",
       "    <tr>\n",
       "      <th>19</th>\n",
       "      <td>OBEREG_9</td>\n",
       "      <td>0.014579</td>\n",
       "    </tr>\n",
       "    <tr>\n",
       "      <th>15</th>\n",
       "      <td>OBEREG_5</td>\n",
       "      <td>0.009625</td>\n",
       "    </tr>\n",
       "    <tr>\n",
       "      <th>13</th>\n",
       "      <td>OBEREG_3</td>\n",
       "      <td>0.008165</td>\n",
       "    </tr>\n",
       "  </tbody>\n",
       "</table>\n",
       "</div>"
      ],
      "text/plain": [
       "    Features  Importance Score\n",
       "0   POPU_LSA          0.829675\n",
       "1      STGVT          0.058757\n",
       "19  OBEREG_9          0.014579\n",
       "15  OBEREG_5          0.009625\n",
       "13  OBEREG_3          0.008165"
      ]
     },
     "execution_count": 186,
     "metadata": {},
     "output_type": "execute_result"
    }
   ],
   "source": [
    "features = dummy_df.drop(['TOTCIR'], axis =1).columns\n",
    "feature_importances = model.feature_importances_\n",
    "\n",
    "features_df = pd.DataFrame({'Features': features, 'Importance Score': feature_importances})\n",
    "features_df.sort_values('Importance Score', inplace=True, ascending=False)\n",
    "\n",
    "features_df.head()"
   ]
  },
  {
   "cell_type": "code",
   "execution_count": null,
   "metadata": {
    "collapsed": true
   },
   "outputs": [],
   "source": [
    ""
   ]
  }
 ],
 "metadata": {
  "anaconda-cloud": {},
  "kernelspec": {
   "display_name": "Python [conda root]",
   "language": "python",
   "name": "conda-root-py"
  },
  "language_info": {
   "codemirror_mode": {
    "name": "ipython",
    "version": 2.0
   },
   "file_extension": ".py",
   "mimetype": "text/x-python",
   "name": "python",
   "nbconvert_exporter": "python",
   "pygments_lexer": "ipython2",
   "version": "2.7.12"
  }
 },
 "nbformat": 4,
 "nbformat_minor": 0
}