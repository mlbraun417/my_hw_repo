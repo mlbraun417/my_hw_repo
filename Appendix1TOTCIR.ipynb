{
 "cells": [
  {
   "cell_type": "code",
   "execution_count": 73,
   "metadata": {
    "collapsed": true
   },
   "outputs": [],
   "source": [
    "import pandas as pd\n",
    "import numpy as np\n",
    "import matplotlib.pyplot as plt\n",
    "import seaborn as sns\n",
    "%matplotlib inline"
   ]
  },
  {
   "cell_type": "code",
   "execution_count": 74,
   "metadata": {
    "collapsed": true
   },
   "outputs": [],
   "source": [
    "raw = pd.read_csv(\"PLS_FY2014_AE_pupld14a1.csv\")"
   ]
  },
  {
   "cell_type": "markdown",
   "metadata": {},
   "source": [
    "## Original Data"
   ]
  },
  {
   "cell_type": "code",
   "execution_count": 75,
   "metadata": {
    "collapsed": false
   },
   "outputs": [
    {
     "name": "stdout",
     "output_type": "stream",
     "text": [
      "<class 'pandas.core.frame.DataFrame'>\n",
      "RangeIndex: 9301 entries, 0 to 9300\n",
      "Columns: 161 entries, STABR to YR_SUB\n",
      "dtypes: float64(10), int64(63), object(88)\n",
      "memory usage: 11.4+ MB\n"
     ]
    }
   ],
   "source": [
    "raw.info()"
   ]
  },
  {
   "cell_type": "code",
   "execution_count": 76,
   "metadata": {
    "collapsed": false
   },
   "outputs": [
    {
     "data": {
      "text/html": [
       "<div>\n",
       "<table border=\"1\" class=\"dataframe\">\n",
       "  <thead>\n",
       "    <tr style=\"text-align: right;\">\n",
       "      <th></th>\n",
       "      <th>TOTCIR</th>\n",
       "      <th>POPU_LSA</th>\n",
       "      <th>STINCOME</th>\n",
       "      <th>STGVT</th>\n",
       "      <th>GEOCODE</th>\n",
       "      <th>OBEREG</th>\n",
       "      <th>LOCALE</th>\n",
       "    </tr>\n",
       "  </thead>\n",
       "  <tbody>\n",
       "    <tr>\n",
       "      <th>0</th>\n",
       "      <td>11607</td>\n",
       "      <td>2059</td>\n",
       "      <td>71829</td>\n",
       "      <td>18993</td>\n",
       "      <td>CI1</td>\n",
       "      <td>8</td>\n",
       "      <td>43</td>\n",
       "    </tr>\n",
       "    <tr>\n",
       "      <th>1</th>\n",
       "      <td>1886620</td>\n",
       "      <td>300549</td>\n",
       "      <td>71829</td>\n",
       "      <td>56724</td>\n",
       "      <td>MA1</td>\n",
       "      <td>8</td>\n",
       "      <td>11</td>\n",
       "    </tr>\n",
       "    <tr>\n",
       "      <th>2</th>\n",
       "      <td>1092</td>\n",
       "      <td>209</td>\n",
       "      <td>71829</td>\n",
       "      <td>6300</td>\n",
       "      <td>CI1</td>\n",
       "      <td>8</td>\n",
       "      <td>43</td>\n",
       "    </tr>\n",
       "    <tr>\n",
       "      <th>3</th>\n",
       "      <td>12347</td>\n",
       "      <td>6241</td>\n",
       "      <td>71829</td>\n",
       "      <td>6600</td>\n",
       "      <td>CI1</td>\n",
       "      <td>8</td>\n",
       "      <td>33</td>\n",
       "    </tr>\n",
       "    <tr>\n",
       "      <th>4</th>\n",
       "      <td>59630</td>\n",
       "      <td>12793</td>\n",
       "      <td>71829</td>\n",
       "      <td>6600</td>\n",
       "      <td>CO1</td>\n",
       "      <td>8</td>\n",
       "      <td>42</td>\n",
       "    </tr>\n",
       "  </tbody>\n",
       "</table>\n",
       "</div>"
      ],
      "text/plain": [
       "    TOTCIR  POPU_LSA  STINCOME  STGVT GEOCODE  OBEREG LOCALE\n",
       "0    11607      2059     71829  18993     CI1       8     43\n",
       "1  1886620    300549     71829  56724     MA1       8     11\n",
       "2     1092       209     71829   6300     CI1       8     43\n",
       "3    12347      6241     71829   6600     CI1       8     33\n",
       "4    59630     12793     71829   6600     CO1       8     42"
      ]
     },
     "execution_count": 76,
     "metadata": {},
     "output_type": "execute_result"
    }
   ],
   "source": [
    "#variables to use in the model\n",
    "to_use = ['TOTCIR', 'POPU_LSA', 'STINCOME', 'STGVT', 'GEOCODE', 'OBEREG', 'LOCALE']\n",
    "to_use_df = raw[to_use]\n",
    "to_use_df.head()"
   ]
  },
  {
   "cell_type": "code",
   "execution_count": 77,
   "metadata": {
    "collapsed": false
   },
   "outputs": [
    {
     "name": "stdout",
     "output_type": "stream",
     "text": [
      "<class 'pandas.core.frame.DataFrame'>\n",
      "RangeIndex: 9301 entries, 0 to 9300\n",
      "Data columns (total 7 columns):\n",
      "TOTCIR      9301 non-null int64\n",
      "POPU_LSA    9301 non-null int64\n",
      "STINCOME    9301 non-null int64\n",
      "STGVT       9301 non-null int64\n",
      "GEOCODE     9301 non-null object\n",
      "OBEREG      9301 non-null int64\n",
      "LOCALE      9301 non-null object\n",
      "dtypes: int64(5), object(2)\n",
      "memory usage: 508.7+ KB\n"
     ]
    }
   ],
   "source": [
    "to_use_df.info()"
   ]
  },
  {
   "cell_type": "code",
   "execution_count": 78,
   "metadata": {
    "collapsed": false
   },
   "outputs": [
    {
     "data": {
      "text/html": [
       "<div>\n",
       "<table border=\"1\" class=\"dataframe\">\n",
       "  <thead>\n",
       "    <tr style=\"text-align: right;\">\n",
       "      <th></th>\n",
       "      <th>TOTCIR</th>\n",
       "      <th>POPU_LSA</th>\n",
       "      <th>STINCOME</th>\n",
       "      <th>STGVT</th>\n",
       "      <th>OBEREG</th>\n",
       "    </tr>\n",
       "  </thead>\n",
       "  <tbody>\n",
       "    <tr>\n",
       "      <th>count</th>\n",
       "      <td>9.301000e+03</td>\n",
       "      <td>9.301000e+03</td>\n",
       "      <td>9301.000000</td>\n",
       "      <td>9.301000e+03</td>\n",
       "      <td>9301.000000</td>\n",
       "    </tr>\n",
       "    <tr>\n",
       "      <th>mean</th>\n",
       "      <td>2.488169e+05</td>\n",
       "      <td>3.431926e+04</td>\n",
       "      <td>54220.708096</td>\n",
       "      <td>9.140132e+04</td>\n",
       "      <td>3.724116</td>\n",
       "    </tr>\n",
       "    <tr>\n",
       "      <th>std</th>\n",
       "      <td>1.028185e+06</td>\n",
       "      <td>1.366025e+05</td>\n",
       "      <td>7976.629792</td>\n",
       "      <td>8.204179e+05</td>\n",
       "      <td>1.975933</td>\n",
       "    </tr>\n",
       "    <tr>\n",
       "      <th>min</th>\n",
       "      <td>-3.000000e+00</td>\n",
       "      <td>-3.000000e+00</td>\n",
       "      <td>19686.000000</td>\n",
       "      <td>-3.000000e+00</td>\n",
       "      <td>1.000000</td>\n",
       "    </tr>\n",
       "    <tr>\n",
       "      <th>25%</th>\n",
       "      <td>1.147500e+04</td>\n",
       "      <td>2.189000e+03</td>\n",
       "      <td>48849.000000</td>\n",
       "      <td>2.150000e+02</td>\n",
       "      <td>2.000000</td>\n",
       "    </tr>\n",
       "    <tr>\n",
       "      <th>50%</th>\n",
       "      <td>4.107100e+04</td>\n",
       "      <td>7.281000e+03</td>\n",
       "      <td>52716.000000</td>\n",
       "      <td>4.052000e+03</td>\n",
       "      <td>3.000000</td>\n",
       "    </tr>\n",
       "    <tr>\n",
       "      <th>75%</th>\n",
       "      <td>1.434180e+05</td>\n",
       "      <td>2.278700e+04</td>\n",
       "      <td>58687.000000</td>\n",
       "      <td>2.142900e+04</td>\n",
       "      <td>5.000000</td>\n",
       "    </tr>\n",
       "    <tr>\n",
       "      <th>max</th>\n",
       "      <td>2.410174e+07</td>\n",
       "      <td>4.008651e+06</td>\n",
       "      <td>74149.000000</td>\n",
       "      <td>3.561788e+07</td>\n",
       "      <td>9.000000</td>\n",
       "    </tr>\n",
       "  </tbody>\n",
       "</table>\n",
       "</div>"
      ],
      "text/plain": [
       "             TOTCIR      POPU_LSA      STINCOME         STGVT       OBEREG\n",
       "count  9.301000e+03  9.301000e+03   9301.000000  9.301000e+03  9301.000000\n",
       "mean   2.488169e+05  3.431926e+04  54220.708096  9.140132e+04     3.724116\n",
       "std    1.028185e+06  1.366025e+05   7976.629792  8.204179e+05     1.975933\n",
       "min   -3.000000e+00 -3.000000e+00  19686.000000 -3.000000e+00     1.000000\n",
       "25%    1.147500e+04  2.189000e+03  48849.000000  2.150000e+02     2.000000\n",
       "50%    4.107100e+04  7.281000e+03  52716.000000  4.052000e+03     3.000000\n",
       "75%    1.434180e+05  2.278700e+04  58687.000000  2.142900e+04     5.000000\n",
       "max    2.410174e+07  4.008651e+06  74149.000000  3.561788e+07     9.000000"
      ]
     },
     "execution_count": 78,
     "metadata": {},
     "output_type": "execute_result"
    }
   ],
   "source": [
    "to_use_df.describe()\n",
    "# -3 and -1 are missing"
   ]
  },
  {
   "cell_type": "code",
   "execution_count": 79,
   "metadata": {
    "collapsed": false
   },
   "outputs": [
    {
     "data": {
      "text/plain": [
       "<matplotlib.axes._subplots.AxesSubplot at 0x125aa198>"
      ]
     },
     "execution_count": 79,
     "metadata": {},
     "output_type": "execute_result"
    },
    {
     "data": {
      "image/png": "[encoded data removed]",
      "text/plain": [
       "<matplotlib.figure.Figure at 0x1bd96278>"
      ]
     },
     "metadata": {},
     "output_type": "display_data"
    }
   ],
   "source": [
    "sns.violinplot(to_use_df['TOTCIR'])"
   ]
  },
  {
   "cell_type": "code",
   "execution_count": 80,
   "metadata": {
    "collapsed": false
   },
   "outputs": [
    {
     "data": {
      "text/plain": [
       "<matplotlib.axes._subplots.AxesSubplot at 0x125bb438>"
      ]
     },
     "execution_count": 80,
     "metadata": {},
     "output_type": "execute_result"
    },
    {
     "data": {
      "image/png": "[encoded data removed]",
      "text/plain": [
       "<matplotlib.figure.Figure at 0x1a5212e8>"
      ]
     },
     "metadata": {},
     "output_type": "display_data"
    }
   ],
   "source": [
    "sns.violinplot(to_use_df['POPU_LSA'])"
   ]
  },
  {
   "cell_type": "code",
   "execution_count": 81,
   "metadata": {
    "collapsed": false
   },
   "outputs": [
    {
     "data": {
      "text/plain": [
       "<matplotlib.axes._subplots.AxesSubplot at 0x122e5cc0>"
      ]
     },
     "execution_count": 81,
     "metadata": {},
     "output_type": "execute_result"
    },
    {
     "data": {
      "image/png": "[encoded data removed]",
      "text/plain": [
       "<matplotlib.figure.Figure at 0x1395a6d8>"
      ]
     },
     "metadata": {},
     "output_type": "display_data"
    }
   ],
   "source": [
    "sns.violinplot(to_use_df['STINCOME'])"
   ]
  },
  {
   "cell_type": "code",
   "execution_count": 82,
   "metadata": {
    "collapsed": false
   },
   "outputs": [
    {
     "data": {
      "text/plain": [
       "<matplotlib.axes._subplots.AxesSubplot at 0x1bff9320>"
      ]
     },
     "execution_count": 82,
     "metadata": {},
     "output_type": "execute_result"
    },
    {
     "data": {
      "image/png": "[encoded data removed]",
      "text/plain": [
       "<matplotlib.figure.Figure at 0x1c008eb8>"
      ]
     },
     "metadata": {},
     "output_type": "display_data"
    }
   ],
   "source": [
    "sns.violinplot(to_use_df['STGVT'])"
   ]
  },
  {
   "cell_type": "code",
   "execution_count": 83,
   "metadata": {
    "collapsed": false
   },
   "outputs": [
    {
     "data": {
      "text/plain": [
       "CI1    3356\n",
       "OTH    2148\n",
       "CI2    1494\n",
       "CO1    1129\n",
       "CO2     508\n",
       "SD1     423\n",
       "MC1     129\n",
       "SD2      52\n",
       "MC2      41\n",
       "MA1      11\n",
       "MA2      10\n",
       "Name: GEOCODE, dtype: int64"
      ]
     },
     "execution_count": 83,
     "metadata": {},
     "output_type": "execute_result"
    }
   ],
   "source": [
    "to_use_df['GEOCODE'].value_counts()"
   ]
  },
  {
   "cell_type": "code",
   "execution_count": 84,
   "metadata": {
    "collapsed": false
   },
   "outputs": [
    {
     "data": {
      "text/plain": [
       "3    1883\n",
       "4    1620\n",
       "2    1553\n",
       "1    1288\n",
       "5    1162\n",
       "6     859\n",
       "8     483\n",
       "7     395\n",
       "9      58\n",
       "Name: OBEREG, dtype: int64"
      ]
     },
     "execution_count": 84,
     "metadata": {},
     "output_type": "execute_result"
    }
   ],
   "source": [
    "to_use_df['OBEREG'].value_counts()"
   ]
  },
  {
   "cell_type": "code",
   "execution_count": 85,
   "metadata": {
    "collapsed": false
   },
   "outputs": [
    {
     "data": {
      "text/plain": [
       "42    2041\n",
       "21    1881\n",
       "43    1613\n",
       "32    1057\n",
       "33     643\n",
       "41     505\n",
       "31     502\n",
       "13     296\n",
       "22     258\n",
       "23     206\n",
       "12     117\n",
       ".      106\n",
       "11      76\n",
       "Name: LOCALE, dtype: int64"
      ]
     },
     "execution_count": 85,
     "metadata": {},
     "output_type": "execute_result"
    }
   ],
   "source": [
    "to_use_df['LOCALE'].value_counts()\n",
    "#period is missing"
   ]
  },
  {
   "cell_type": "code",
   "execution_count": 86,
   "metadata": {
    "collapsed": false
   },
   "outputs": [
    {
     "data": {
      "text/html": [
       "<div>\n",
       "<table border=\"1\" class=\"dataframe\">\n",
       "  <thead>\n",
       "    <tr style=\"text-align: right;\">\n",
       "      <th></th>\n",
       "      <th>TOTCIR</th>\n",
       "      <th>POPU_LSA</th>\n",
       "      <th>STINCOME</th>\n",
       "      <th>STGVT</th>\n",
       "      <th>OBEREG</th>\n",
       "    </tr>\n",
       "  </thead>\n",
       "  <tbody>\n",
       "    <tr>\n",
       "      <th>TOTCIR</th>\n",
       "      <td>1.000000</td>\n",
       "      <td>0.792648</td>\n",
       "      <td>0.028471</td>\n",
       "      <td>0.518032</td>\n",
       "      <td>0.097726</td>\n",
       "    </tr>\n",
       "    <tr>\n",
       "      <th>POPU_LSA</th>\n",
       "      <td>0.792648</td>\n",
       "      <td>1.000000</td>\n",
       "      <td>-0.002005</td>\n",
       "      <td>0.426403</td>\n",
       "      <td>0.129824</td>\n",
       "    </tr>\n",
       "    <tr>\n",
       "      <th>STINCOME</th>\n",
       "      <td>0.028471</td>\n",
       "      <td>-0.002005</td>\n",
       "      <td>1.000000</td>\n",
       "      <td>-0.012486</td>\n",
       "      <td>-0.398696</td>\n",
       "    </tr>\n",
       "    <tr>\n",
       "      <th>STGVT</th>\n",
       "      <td>0.518032</td>\n",
       "      <td>0.426403</td>\n",
       "      <td>-0.012486</td>\n",
       "      <td>1.000000</td>\n",
       "      <td>-0.011884</td>\n",
       "    </tr>\n",
       "    <tr>\n",
       "      <th>OBEREG</th>\n",
       "      <td>0.097726</td>\n",
       "      <td>0.129824</td>\n",
       "      <td>-0.398696</td>\n",
       "      <td>-0.011884</td>\n",
       "      <td>1.000000</td>\n",
       "    </tr>\n",
       "  </tbody>\n",
       "</table>\n",
       "</div>"
      ],
      "text/plain": [
       "            TOTCIR  POPU_LSA  STINCOME     STGVT    OBEREG\n",
       "TOTCIR    1.000000  0.792648  0.028471  0.518032  0.097726\n",
       "POPU_LSA  0.792648  1.000000 -0.002005  0.426403  0.129824\n",
       "STINCOME  0.028471 -0.002005  1.000000 -0.012486 -0.398696\n",
       "STGVT     0.518032  0.426403 -0.012486  1.000000 -0.011884\n",
       "OBEREG    0.097726  0.129824 -0.398696 -0.011884  1.000000"
      ]
     },
     "execution_count": 86,
     "metadata": {},
     "output_type": "execute_result"
    }
   ],
   "source": [
    "to_use_df.corr()"
   ]
  },
  {
   "cell_type": "markdown",
   "metadata": {},
   "source": [
    "## Missing Data"
   ]
  },
  {
   "cell_type": "code",
   "execution_count": 87,
   "metadata": {
    "collapsed": false
   },
   "outputs": [
    {
     "name": "stderr",
     "output_type": "stream",
     "text": [
      "C:\\Users\\Molly\\Anaconda2\\lib\\site-packages\\ipykernel\\__main__.py:2: SettingWithCopyWarning: \n",
      "A value is trying to be set on a copy of a slice from a DataFrame.\n",
      "Try using .loc[row_indexer,col_indexer] = value instead\n",
      "\n",
      "See the caveats in the documentation: http://pandas.pydata.org/pandas-docs/stable/indexing.html#indexing-view-versus-copy\n",
      "  from ipykernel import kernelapp as app\n",
      "C:\\Users\\Molly\\Anaconda2\\lib\\site-packages\\ipykernel\\__main__.py:3: SettingWithCopyWarning: \n",
      "A value is trying to be set on a copy of a slice from a DataFrame.\n",
      "Try using .loc[row_indexer,col_indexer] = value instead\n",
      "\n",
      "See the caveats in the documentation: http://pandas.pydata.org/pandas-docs/stable/indexing.html#indexing-view-versus-copy\n",
      "  app.launch_new_instance()\n"
     ]
    }
   ],
   "source": [
    "temp_median = to_use_df['TOTCIR'].median()\n",
    "to_use_df['TOTCIR'] = to_use_df['TOTCIR'].replace(to_replace=-3.0, value=temp_median)\n",
    "to_use_df['TOTCIR'] = to_use_df['TOTCIR'].replace(to_replace=-1.0, value=temp_median)"
   ]
  },
  {
   "cell_type": "code",
   "execution_count": 88,
   "metadata": {
    "collapsed": false
   },
   "outputs": [
    {
     "name": "stderr",
     "output_type": "stream",
     "text": [
      "C:\\Users\\Molly\\Anaconda2\\lib\\site-packages\\ipykernel\\__main__.py:2: SettingWithCopyWarning: \n",
      "A value is trying to be set on a copy of a slice from a DataFrame.\n",
      "Try using .loc[row_indexer,col_indexer] = value instead\n",
      "\n",
      "See the caveats in the documentation: http://pandas.pydata.org/pandas-docs/stable/indexing.html#indexing-view-versus-copy\n",
      "  from ipykernel import kernelapp as app\n",
      "C:\\Users\\Molly\\Anaconda2\\lib\\site-packages\\ipykernel\\__main__.py:3: SettingWithCopyWarning: \n",
      "A value is trying to be set on a copy of a slice from a DataFrame.\n",
      "Try using .loc[row_indexer,col_indexer] = value instead\n",
      "\n",
      "See the caveats in the documentation: http://pandas.pydata.org/pandas-docs/stable/indexing.html#indexing-view-versus-copy\n",
      "  app.launch_new_instance()\n"
     ]
    }
   ],
   "source": [
    "temp_median = to_use_df['POPU_LSA'].median()\n",
    "to_use_df['POPU_LSA'] = to_use_df['POPU_LSA'].replace(to_replace=-3.0, value=temp_median)\n",
    "to_use_df['POPU_LSA'] = to_use_df['POPU_LSA'].replace(to_replace=-1.0, value=temp_median)"
   ]
  },
  {
   "cell_type": "code",
   "execution_count": 89,
   "metadata": {
    "collapsed": false
   },
   "outputs": [
    {
     "name": "stderr",
     "output_type": "stream",
     "text": [
      "C:\\Users\\Molly\\Anaconda2\\lib\\site-packages\\ipykernel\\__main__.py:2: SettingWithCopyWarning: \n",
      "A value is trying to be set on a copy of a slice from a DataFrame.\n",
      "Try using .loc[row_indexer,col_indexer] = value instead\n",
      "\n",
      "See the caveats in the documentation: http://pandas.pydata.org/pandas-docs/stable/indexing.html#indexing-view-versus-copy\n",
      "  from ipykernel import kernelapp as app\n",
      "C:\\Users\\Molly\\Anaconda2\\lib\\site-packages\\ipykernel\\__main__.py:3: SettingWithCopyWarning: \n",
      "A value is trying to be set on a copy of a slice from a DataFrame.\n",
      "Try using .loc[row_indexer,col_indexer] = value instead\n",
      "\n",
      "See the caveats in the documentation: http://pandas.pydata.org/pandas-docs/stable/indexing.html#indexing-view-versus-copy\n",
      "  app.launch_new_instance()\n"
     ]
    }
   ],
   "source": [
    "temp_median = to_use_df['STGVT'].median()\n",
    "to_use_df['STGVT'] = to_use_df['STGVT'].replace(to_replace=-3.0, value=temp_median)\n",
    "to_use_df['STGVT'] = to_use_df['STGVT'].replace(to_replace=-1.0, value=temp_median)"
   ]
  },
  {
   "cell_type": "code",
   "execution_count": 90,
   "metadata": {
    "collapsed": false
   },
   "outputs": [
    {
     "data": {
      "text/html": [
       "<div>\n",
       "<table border=\"1\" class=\"dataframe\">\n",
       "  <thead>\n",
       "    <tr style=\"text-align: right;\">\n",
       "      <th></th>\n",
       "      <th>TOTCIR</th>\n",
       "      <th>POPU_LSA</th>\n",
       "      <th>STINCOME</th>\n",
       "      <th>STGVT</th>\n",
       "      <th>OBEREG</th>\n",
       "    </tr>\n",
       "  </thead>\n",
       "  <tbody>\n",
       "    <tr>\n",
       "      <th>count</th>\n",
       "      <td>9.301000e+03</td>\n",
       "      <td>9.301000e+03</td>\n",
       "      <td>9301.000000</td>\n",
       "      <td>9.301000e+03</td>\n",
       "      <td>9301.000000</td>\n",
       "    </tr>\n",
       "    <tr>\n",
       "      <th>mean</th>\n",
       "      <td>2.490554e+05</td>\n",
       "      <td>3.432709e+04</td>\n",
       "      <td>54220.708096</td>\n",
       "      <td>9.142703e+04</td>\n",
       "      <td>3.724116</td>\n",
       "    </tr>\n",
       "    <tr>\n",
       "      <th>std</th>\n",
       "      <td>1.028132e+06</td>\n",
       "      <td>1.366007e+05</td>\n",
       "      <td>7976.629792</td>\n",
       "      <td>8.204151e+05</td>\n",
       "      <td>1.975933</td>\n",
       "    </tr>\n",
       "    <tr>\n",
       "      <th>min</th>\n",
       "      <td>0.000000e+00</td>\n",
       "      <td>1.000000e+01</td>\n",
       "      <td>19686.000000</td>\n",
       "      <td>0.000000e+00</td>\n",
       "      <td>1.000000</td>\n",
       "    </tr>\n",
       "    <tr>\n",
       "      <th>25%</th>\n",
       "      <td>1.191000e+04</td>\n",
       "      <td>2.195000e+03</td>\n",
       "      <td>48849.000000</td>\n",
       "      <td>3.250000e+02</td>\n",
       "      <td>2.000000</td>\n",
       "    </tr>\n",
       "    <tr>\n",
       "      <th>50%</th>\n",
       "      <td>4.107100e+04</td>\n",
       "      <td>7.281000e+03</td>\n",
       "      <td>52716.000000</td>\n",
       "      <td>4.052000e+03</td>\n",
       "      <td>3.000000</td>\n",
       "    </tr>\n",
       "    <tr>\n",
       "      <th>75%</th>\n",
       "      <td>1.434180e+05</td>\n",
       "      <td>2.278700e+04</td>\n",
       "      <td>58687.000000</td>\n",
       "      <td>2.142900e+04</td>\n",
       "      <td>5.000000</td>\n",
       "    </tr>\n",
       "    <tr>\n",
       "      <th>max</th>\n",
       "      <td>2.410174e+07</td>\n",
       "      <td>4.008651e+06</td>\n",
       "      <td>74149.000000</td>\n",
       "      <td>3.561788e+07</td>\n",
       "      <td>9.000000</td>\n",
       "    </tr>\n",
       "  </tbody>\n",
       "</table>\n",
       "</div>"
      ],
      "text/plain": [
       "             TOTCIR      POPU_LSA      STINCOME         STGVT       OBEREG\n",
       "count  9.301000e+03  9.301000e+03   9301.000000  9.301000e+03  9301.000000\n",
       "mean   2.490554e+05  3.432709e+04  54220.708096  9.142703e+04     3.724116\n",
       "std    1.028132e+06  1.366007e+05   7976.629792  8.204151e+05     1.975933\n",
       "min    0.000000e+00  1.000000e+01  19686.000000  0.000000e+00     1.000000\n",
       "25%    1.191000e+04  2.195000e+03  48849.000000  3.250000e+02     2.000000\n",
       "50%    4.107100e+04  7.281000e+03  52716.000000  4.052000e+03     3.000000\n",
       "75%    1.434180e+05  2.278700e+04  58687.000000  2.142900e+04     5.000000\n",
       "max    2.410174e+07  4.008651e+06  74149.000000  3.561788e+07     9.000000"
      ]
     },
     "execution_count": 90,
     "metadata": {},
     "output_type": "execute_result"
    }
   ],
   "source": [
    "to_use_df.describe()"
   ]
  },
  {
   "cell_type": "code",
   "execution_count": 91,
   "metadata": {
    "collapsed": false
   },
   "outputs": [
    {
     "name": "stdout",
     "output_type": "stream",
     "text": [
      "0    42\n",
      "dtype: object\n"
     ]
    }
   ],
   "source": [
    "temp_mode = to_use_df['LOCALE'].mode()\n",
    "print temp_mode"
   ]
  },
  {
   "cell_type": "code",
   "execution_count": 92,
   "metadata": {
    "collapsed": false
   },
   "outputs": [
    {
     "name": "stderr",
     "output_type": "stream",
     "text": [
      "C:\\Users\\Molly\\Anaconda2\\lib\\site-packages\\ipykernel\\__main__.py:1: SettingWithCopyWarning: \n",
      "A value is trying to be set on a copy of a slice from a DataFrame.\n",
      "Try using .loc[row_indexer,col_indexer] = value instead\n",
      "\n",
      "See the caveats in the documentation: http://pandas.pydata.org/pandas-docs/stable/indexing.html#indexing-view-versus-copy\n",
      "  if __name__ == '__main__':\n"
     ]
    }
   ],
   "source": [
    "to_use_df['LOCALE'] = to_use_df['LOCALE'].replace(to_replace='.', value=42).astype(int)"
   ]
  },
  {
   "cell_type": "code",
   "execution_count": 93,
   "metadata": {
    "collapsed": false
   },
   "outputs": [
    {
     "data": {
      "text/plain": [
       "42    2147\n",
       "21    1881\n",
       "43    1613\n",
       "32    1057\n",
       "33     643\n",
       "41     505\n",
       "31     502\n",
       "13     296\n",
       "22     258\n",
       "23     206\n",
       "12     117\n",
       "11      76\n",
       "Name: LOCALE, dtype: int64"
      ]
     },
     "execution_count": 93,
     "metadata": {},
     "output_type": "execute_result"
    }
   ],
   "source": [
    "to_use_df['LOCALE'].value_counts()"
   ]
  },
  {
   "cell_type": "markdown",
   "metadata": {},
   "source": [
    "## Transform continuous variables"
   ]
  },
  {
   "cell_type": "code",
   "execution_count": 94,
   "metadata": {
    "collapsed": false
   },
   "outputs": [],
   "source": [
    "log_columns = ['TOTCIR', 'POPU_LSA', 'STGVT']\n",
    "log_df = to_use_df.copy()\n",
    "log_df[log_columns] = log_df[log_columns].add(1)\n",
    "log_df[log_columns] = log_df[log_columns].apply(np.log10)"
   ]
  },
  {
   "cell_type": "code",
   "execution_count": 95,
   "metadata": {
    "collapsed": false
   },
   "outputs": [
    {
     "data": {
      "text/html": [
       "<div>\n",
       "<table border=\"1\" class=\"dataframe\">\n",
       "  <thead>\n",
       "    <tr style=\"text-align: right;\">\n",
       "      <th></th>\n",
       "      <th>TOTCIR</th>\n",
       "      <th>POPU_LSA</th>\n",
       "      <th>STINCOME</th>\n",
       "      <th>STGVT</th>\n",
       "      <th>GEOCODE</th>\n",
       "      <th>OBEREG</th>\n",
       "      <th>LOCALE</th>\n",
       "    </tr>\n",
       "  </thead>\n",
       "  <tbody>\n",
       "    <tr>\n",
       "      <th>0</th>\n",
       "      <td>4.064757</td>\n",
       "      <td>3.313867</td>\n",
       "      <td>71829</td>\n",
       "      <td>4.278616</td>\n",
       "      <td>CI1</td>\n",
       "      <td>8</td>\n",
       "      <td>43</td>\n",
       "    </tr>\n",
       "    <tr>\n",
       "      <th>1</th>\n",
       "      <td>6.275685</td>\n",
       "      <td>5.477917</td>\n",
       "      <td>71829</td>\n",
       "      <td>4.753775</td>\n",
       "      <td>MA1</td>\n",
       "      <td>8</td>\n",
       "      <td>11</td>\n",
       "    </tr>\n",
       "    <tr>\n",
       "      <th>2</th>\n",
       "      <td>3.038620</td>\n",
       "      <td>2.322219</td>\n",
       "      <td>71829</td>\n",
       "      <td>3.799409</td>\n",
       "      <td>CI1</td>\n",
       "      <td>8</td>\n",
       "      <td>43</td>\n",
       "    </tr>\n",
       "    <tr>\n",
       "      <th>3</th>\n",
       "      <td>4.091597</td>\n",
       "      <td>3.795324</td>\n",
       "      <td>71829</td>\n",
       "      <td>3.819610</td>\n",
       "      <td>CI1</td>\n",
       "      <td>8</td>\n",
       "      <td>33</td>\n",
       "    </tr>\n",
       "    <tr>\n",
       "      <th>4</th>\n",
       "      <td>4.775472</td>\n",
       "      <td>4.107006</td>\n",
       "      <td>71829</td>\n",
       "      <td>3.819610</td>\n",
       "      <td>CO1</td>\n",
       "      <td>8</td>\n",
       "      <td>42</td>\n",
       "    </tr>\n",
       "  </tbody>\n",
       "</table>\n",
       "</div>"
      ],
      "text/plain": [
       "     TOTCIR  POPU_LSA  STINCOME     STGVT GEOCODE  OBEREG  LOCALE\n",
       "0  4.064757  3.313867     71829  4.278616     CI1       8      43\n",
       "1  6.275685  5.477917     71829  4.753775     MA1       8      11\n",
       "2  3.038620  2.322219     71829  3.799409     CI1       8      43\n",
       "3  4.091597  3.795324     71829  3.819610     CI1       8      33\n",
       "4  4.775472  4.107006     71829  3.819610     CO1       8      42"
      ]
     },
     "execution_count": 95,
     "metadata": {},
     "output_type": "execute_result"
    }
   ],
   "source": [
    "log_df.head()"
   ]
  },
  {
   "cell_type": "code",
   "execution_count": 96,
   "metadata": {
    "collapsed": false
   },
   "outputs": [
    {
     "data": {
      "text/html": [
       "<div>\n",
       "<table border=\"1\" class=\"dataframe\">\n",
       "  <thead>\n",
       "    <tr style=\"text-align: right;\">\n",
       "      <th></th>\n",
       "      <th>TOTCIR</th>\n",
       "      <th>POPU_LSA</th>\n",
       "      <th>STINCOME</th>\n",
       "      <th>STGVT</th>\n",
       "      <th>OBEREG</th>\n",
       "      <th>LOCALE</th>\n",
       "    </tr>\n",
       "  </thead>\n",
       "  <tbody>\n",
       "    <tr>\n",
       "      <th>count</th>\n",
       "      <td>9301.000000</td>\n",
       "      <td>9301.000000</td>\n",
       "      <td>9301.000000</td>\n",
       "      <td>9301.000000</td>\n",
       "      <td>9301.000000</td>\n",
       "      <td>9301.000000</td>\n",
       "    </tr>\n",
       "    <tr>\n",
       "      <th>mean</th>\n",
       "      <td>4.617195</td>\n",
       "      <td>3.869640</td>\n",
       "      <td>54220.708096</td>\n",
       "      <td>3.085505</td>\n",
       "      <td>3.724116</td>\n",
       "      <td>32.990646</td>\n",
       "    </tr>\n",
       "    <tr>\n",
       "      <th>std</th>\n",
       "      <td>0.814615</td>\n",
       "      <td>0.728793</td>\n",
       "      <td>7976.629792</td>\n",
       "      <td>1.861611</td>\n",
       "      <td>1.975933</td>\n",
       "      <td>9.837614</td>\n",
       "    </tr>\n",
       "    <tr>\n",
       "      <th>min</th>\n",
       "      <td>0.000000</td>\n",
       "      <td>1.041393</td>\n",
       "      <td>19686.000000</td>\n",
       "      <td>0.000000</td>\n",
       "      <td>1.000000</td>\n",
       "      <td>11.000000</td>\n",
       "    </tr>\n",
       "    <tr>\n",
       "      <th>25%</th>\n",
       "      <td>4.075948</td>\n",
       "      <td>3.341632</td>\n",
       "      <td>48849.000000</td>\n",
       "      <td>2.513218</td>\n",
       "      <td>2.000000</td>\n",
       "      <td>21.000000</td>\n",
       "    </tr>\n",
       "    <tr>\n",
       "      <th>50%</th>\n",
       "      <td>4.613546</td>\n",
       "      <td>3.862251</td>\n",
       "      <td>52716.000000</td>\n",
       "      <td>3.607777</td>\n",
       "      <td>3.000000</td>\n",
       "      <td>33.000000</td>\n",
       "    </tr>\n",
       "    <tr>\n",
       "      <th>75%</th>\n",
       "      <td>5.156607</td>\n",
       "      <td>4.357706</td>\n",
       "      <td>58687.000000</td>\n",
       "      <td>4.331022</td>\n",
       "      <td>5.000000</td>\n",
       "      <td>42.000000</td>\n",
       "    </tr>\n",
       "    <tr>\n",
       "      <th>max</th>\n",
       "      <td>7.382049</td>\n",
       "      <td>6.602998</td>\n",
       "      <td>74149.000000</td>\n",
       "      <td>7.551668</td>\n",
       "      <td>9.000000</td>\n",
       "      <td>43.000000</td>\n",
       "    </tr>\n",
       "  </tbody>\n",
       "</table>\n",
       "</div>"
      ],
      "text/plain": [
       "            TOTCIR     POPU_LSA      STINCOME        STGVT       OBEREG  \\\n",
       "count  9301.000000  9301.000000   9301.000000  9301.000000  9301.000000   \n",
       "mean      4.617195     3.869640  54220.708096     3.085505     3.724116   \n",
       "std       0.814615     0.728793   7976.629792     1.861611     1.975933   \n",
       "min       0.000000     1.041393  19686.000000     0.000000     1.000000   \n",
       "25%       4.075948     3.341632  48849.000000     2.513218     2.000000   \n",
       "50%       4.613546     3.862251  52716.000000     3.607777     3.000000   \n",
       "75%       5.156607     4.357706  58687.000000     4.331022     5.000000   \n",
       "max       7.382049     6.602998  74149.000000     7.551668     9.000000   \n",
       "\n",
       "            LOCALE  \n",
       "count  9301.000000  \n",
       "mean     32.990646  \n",
       "std       9.837614  \n",
       "min      11.000000  \n",
       "25%      21.000000  \n",
       "50%      33.000000  \n",
       "75%      42.000000  \n",
       "max      43.000000  "
      ]
     },
     "execution_count": 96,
     "metadata": {},
     "output_type": "execute_result"
    }
   ],
   "source": [
    "log_df.describe()"
   ]
  },
  {
   "cell_type": "code",
   "execution_count": 97,
   "metadata": {
    "collapsed": false
   },
   "outputs": [
    {
     "data": {
      "text/plain": [
       "<matplotlib.axes._subplots.AxesSubplot at 0x1385add8>"
      ]
     },
     "execution_count": 97,
     "metadata": {},
     "output_type": "execute_result"
    },
    {
     "data": {
      "image/png": "[encoded data removed]",
      "text/plain": [
       "<matplotlib.figure.Figure at 0x138bfb38>"
      ]
     },
     "metadata": {},
     "output_type": "display_data"
    }
   ],
   "source": [
    "sns.violinplot(log_df['TOTCIR'])"
   ]
  },
  {
   "cell_type": "code",
   "execution_count": 98,
   "metadata": {
    "collapsed": false
   },
   "outputs": [
    {
     "data": {
      "text/plain": [
       "<matplotlib.axes._subplots.AxesSubplot at 0x19a5ecf8>"
      ]
     },
     "execution_count": 98,
     "metadata": {},
     "output_type": "execute_result"
    },
    {
     "data": {
      "image/png": "[encoded data removed]",
      "text/plain": [
       "<matplotlib.figure.Figure at 0x19a2cc18>"
      ]
     },
     "metadata": {},
     "output_type": "display_data"
    }
   ],
   "source": [
    "sns.violinplot(log_df['POPU_LSA'])"
   ]
  },
  {
   "cell_type": "code",
   "execution_count": 99,
   "metadata": {
    "collapsed": false
   },
   "outputs": [
    {
     "data": {
      "text/plain": [
       "<matplotlib.axes._subplots.AxesSubplot at 0x16970f28>"
      ]
     },
     "execution_count": 99,
     "metadata": {},
     "output_type": "execute_result"
    },
    {
     "data": {
      "image/png": "[encoded data removed]",
      "text/plain": [
       "<matplotlib.figure.Figure at 0x14bee9e8>"
      ]
     },
     "metadata": {},
     "output_type": "display_data"
    }
   ],
   "source": [
    "sns.violinplot(log_df['STGVT'])"
   ]
  },
  {
   "cell_type": "markdown",
   "metadata": {},
   "source": [
    "## Get Dummy Variables"
   ]
  },
  {
   "cell_type": "code",
   "execution_count": 100,
   "metadata": {
    "collapsed": false
   },
   "outputs": [],
   "source": [
    "dummy_df = pd.get_dummies(log_df, columns=['GEOCODE', 'OBEREG', 'LOCALE'], drop_first=True)"
   ]
  },
  {
   "cell_type": "code",
   "execution_count": 101,
   "metadata": {
    "collapsed": false
   },
   "outputs": [
    {
     "data": {
      "text/html": [
       "<div>\n",
       "<table border=\"1\" class=\"dataframe\">\n",
       "  <thead>\n",
       "    <tr style=\"text-align: right;\">\n",
       "      <th></th>\n",
       "      <th>TOTCIR</th>\n",
       "      <th>POPU_LSA</th>\n",
       "      <th>STINCOME</th>\n",
       "      <th>STGVT</th>\n",
       "      <th>GEOCODE_CI2</th>\n",
       "      <th>GEOCODE_CO1</th>\n",
       "      <th>GEOCODE_CO2</th>\n",
       "      <th>GEOCODE_MA1</th>\n",
       "      <th>GEOCODE_MA2</th>\n",
       "      <th>GEOCODE_MC1</th>\n",
       "      <th>...</th>\n",
       "      <th>LOCALE_13</th>\n",
       "      <th>LOCALE_21</th>\n",
       "      <th>LOCALE_22</th>\n",
       "      <th>LOCALE_23</th>\n",
       "      <th>LOCALE_31</th>\n",
       "      <th>LOCALE_32</th>\n",
       "      <th>LOCALE_33</th>\n",
       "      <th>LOCALE_41</th>\n",
       "      <th>LOCALE_42</th>\n",
       "      <th>LOCALE_43</th>\n",
       "    </tr>\n",
       "  </thead>\n",
       "  <tbody>\n",
       "    <tr>\n",
       "      <th>0</th>\n",
       "      <td>4.064757</td>\n",
       "      <td>3.313867</td>\n",
       "      <td>71829</td>\n",
       "      <td>4.278616</td>\n",
       "      <td>0.0</td>\n",
       "      <td>0.0</td>\n",
       "      <td>0.0</td>\n",
       "      <td>0.0</td>\n",
       "      <td>0.0</td>\n",
       "      <td>0.0</td>\n",
       "      <td>...</td>\n",
       "      <td>0.0</td>\n",
       "      <td>0.0</td>\n",
       "      <td>0.0</td>\n",
       "      <td>0.0</td>\n",
       "      <td>0.0</td>\n",
       "      <td>0.0</td>\n",
       "      <td>0.0</td>\n",
       "      <td>0.0</td>\n",
       "      <td>0.0</td>\n",
       "      <td>1.0</td>\n",
       "    </tr>\n",
       "    <tr>\n",
       "      <th>1</th>\n",
       "      <td>6.275685</td>\n",
       "      <td>5.477917</td>\n",
       "      <td>71829</td>\n",
       "      <td>4.753775</td>\n",
       "      <td>0.0</td>\n",
       "      <td>0.0</td>\n",
       "      <td>0.0</td>\n",
       "      <td>1.0</td>\n",
       "      <td>0.0</td>\n",
       "      <td>0.0</td>\n",
       "      <td>...</td>\n",
       "      <td>0.0</td>\n",
       "      <td>0.0</td>\n",
       "      <td>0.0</td>\n",
       "      <td>0.0</td>\n",
       "      <td>0.0</td>\n",
       "      <td>0.0</td>\n",
       "      <td>0.0</td>\n",
       "      <td>0.0</td>\n",
       "      <td>0.0</td>\n",
       "      <td>0.0</td>\n",
       "    </tr>\n",
       "    <tr>\n",
       "      <th>2</th>\n",
       "      <td>3.038620</td>\n",
       "      <td>2.322219</td>\n",
       "      <td>71829</td>\n",
       "      <td>3.799409</td>\n",
       "      <td>0.0</td>\n",
       "      <td>0.0</td>\n",
       "      <td>0.0</td>\n",
       "      <td>0.0</td>\n",
       "      <td>0.0</td>\n",
       "      <td>0.0</td>\n",
       "      <td>...</td>\n",
       "      <td>0.0</td>\n",
       "      <td>0.0</td>\n",
       "      <td>0.0</td>\n",
       "      <td>0.0</td>\n",
       "      <td>0.0</td>\n",
       "      <td>0.0</td>\n",
       "      <td>0.0</td>\n",
       "      <td>0.0</td>\n",
       "      <td>0.0</td>\n",
       "      <td>1.0</td>\n",
       "    </tr>\n",
       "    <tr>\n",
       "      <th>3</th>\n",
       "      <td>4.091597</td>\n",
       "      <td>3.795324</td>\n",
       "      <td>71829</td>\n",
       "      <td>3.819610</td>\n",
       "      <td>0.0</td>\n",
       "      <td>0.0</td>\n",
       "      <td>0.0</td>\n",
       "      <td>0.0</td>\n",
       "      <td>0.0</td>\n",
       "      <td>0.0</td>\n",
       "      <td>...</td>\n",
       "      <td>0.0</td>\n",
       "      <td>0.0</td>\n",
       "      <td>0.0</td>\n",
       "      <td>0.0</td>\n",
       "      <td>0.0</td>\n",
       "      <td>0.0</td>\n",
       "      <td>1.0</td>\n",
       "      <td>0.0</td>\n",
       "      <td>0.0</td>\n",
       "      <td>0.0</td>\n",
       "    </tr>\n",
       "    <tr>\n",
       "      <th>4</th>\n",
       "      <td>4.775472</td>\n",
       "      <td>4.107006</td>\n",
       "      <td>71829</td>\n",
       "      <td>3.819610</td>\n",
       "      <td>0.0</td>\n",
       "      <td>1.0</td>\n",
       "      <td>0.0</td>\n",
       "      <td>0.0</td>\n",
       "      <td>0.0</td>\n",
       "      <td>0.0</td>\n",
       "      <td>...</td>\n",
       "      <td>0.0</td>\n",
       "      <td>0.0</td>\n",
       "      <td>0.0</td>\n",
       "      <td>0.0</td>\n",
       "      <td>0.0</td>\n",
       "      <td>0.0</td>\n",
       "      <td>0.0</td>\n",
       "      <td>0.0</td>\n",
       "      <td>1.0</td>\n",
       "      <td>0.0</td>\n",
       "    </tr>\n",
       "  </tbody>\n",
       "</table>\n",
       "<p>5 rows × 33 columns</p>\n",
       "</div>"
      ],
      "text/plain": [
       "     TOTCIR  POPU_LSA  STINCOME     STGVT  GEOCODE_CI2  GEOCODE_CO1  \\\n",
       "0  4.064757  3.313867     71829  4.278616          0.0          0.0   \n",
       "1  6.275685  5.477917     71829  4.753775          0.0          0.0   \n",
       "2  3.038620  2.322219     71829  3.799409          0.0          0.0   \n",
       "3  4.091597  3.795324     71829  3.819610          0.0          0.0   \n",
       "4  4.775472  4.107006     71829  3.819610          0.0          1.0   \n",
       "\n",
       "   GEOCODE_CO2  GEOCODE_MA1  GEOCODE_MA2  GEOCODE_MC1    ...      LOCALE_13  \\\n",
       "0          0.0          0.0          0.0          0.0    ...            0.0   \n",
       "1          0.0          1.0          0.0          0.0    ...            0.0   \n",
       "2          0.0          0.0          0.0          0.0    ...            0.0   \n",
       "3          0.0          0.0          0.0          0.0    ...            0.0   \n",
       "4          0.0          0.0          0.0          0.0    ...            0.0   \n",
       "\n",
       "   LOCALE_21  LOCALE_22  LOCALE_23  LOCALE_31  LOCALE_32  LOCALE_33  \\\n",
       "0        0.0        0.0        0.0        0.0        0.0        0.0   \n",
       "1        0.0        0.0        0.0        0.0        0.0        0.0   \n",
       "2        0.0        0.0        0.0        0.0        0.0        0.0   \n",
       "3        0.0        0.0        0.0        0.0        0.0        1.0   \n",
       "4        0.0        0.0        0.0        0.0        0.0        0.0   \n",
       "\n",
       "   LOCALE_41  LOCALE_42  LOCALE_43  \n",
       "0        0.0        0.0        1.0  \n",
       "1        0.0        0.0        0.0  \n",
       "2        0.0        0.0        1.0  \n",
       "3        0.0        0.0        0.0  \n",
       "4        0.0        1.0        0.0  \n",
       "\n",
       "[5 rows x 33 columns]"
      ]
     },
     "execution_count": 101,
     "metadata": {},
     "output_type": "execute_result"
    }
   ],
   "source": [
    "dummy_df.head()"
   ]
  },
  {
   "cell_type": "code",
   "execution_count": 102,
   "metadata": {
    "collapsed": false
   },
   "outputs": [
    {
     "data": {
      "text/html": [
       "<div>\n",
       "<table border=\"1\" class=\"dataframe\">\n",
       "  <thead>\n",
       "    <tr style=\"text-align: right;\">\n",
       "      <th></th>\n",
       "      <th>TOTCIR</th>\n",
       "      <th>POPU_LSA</th>\n",
       "      <th>STINCOME</th>\n",
       "      <th>STGVT</th>\n",
       "      <th>GEOCODE_CI2</th>\n",
       "      <th>GEOCODE_CO1</th>\n",
       "      <th>GEOCODE_CO2</th>\n",
       "      <th>GEOCODE_MA1</th>\n",
       "      <th>GEOCODE_MA2</th>\n",
       "      <th>GEOCODE_MC1</th>\n",
       "      <th>...</th>\n",
       "      <th>LOCALE_13</th>\n",
       "      <th>LOCALE_21</th>\n",
       "      <th>LOCALE_22</th>\n",
       "      <th>LOCALE_23</th>\n",
       "      <th>LOCALE_31</th>\n",
       "      <th>LOCALE_32</th>\n",
       "      <th>LOCALE_33</th>\n",
       "      <th>LOCALE_41</th>\n",
       "      <th>LOCALE_42</th>\n",
       "      <th>LOCALE_43</th>\n",
       "    </tr>\n",
       "  </thead>\n",
       "  <tbody>\n",
       "    <tr>\n",
       "      <th>TOTCIR</th>\n",
       "      <td>1.000000</td>\n",
       "      <td>0.860231</td>\n",
       "      <td>0.083326</td>\n",
       "      <td>0.378904</td>\n",
       "      <td>-0.136142</td>\n",
       "      <td>0.211229</td>\n",
       "      <td>0.045055</td>\n",
       "      <td>0.032746</td>\n",
       "      <td>0.024489</td>\n",
       "      <td>0.103632</td>\n",
       "      <td>...</td>\n",
       "      <td>0.216181</td>\n",
       "      <td>0.358447</td>\n",
       "      <td>0.096348</td>\n",
       "      <td>0.035255</td>\n",
       "      <td>0.053037</td>\n",
       "      <td>0.076277</td>\n",
       "      <td>0.044125</td>\n",
       "      <td>-0.051190</td>\n",
       "      <td>-0.315383</td>\n",
       "      <td>-0.383669</td>\n",
       "    </tr>\n",
       "    <tr>\n",
       "      <th>POPU_LSA</th>\n",
       "      <td>0.860231</td>\n",
       "      <td>1.000000</td>\n",
       "      <td>-0.030646</td>\n",
       "      <td>0.339485</td>\n",
       "      <td>-0.182581</td>\n",
       "      <td>0.289697</td>\n",
       "      <td>0.129652</td>\n",
       "      <td>0.033928</td>\n",
       "      <td>0.037839</td>\n",
       "      <td>0.167239</td>\n",
       "      <td>...</td>\n",
       "      <td>0.228763</td>\n",
       "      <td>0.336176</td>\n",
       "      <td>0.104695</td>\n",
       "      <td>0.052410</td>\n",
       "      <td>0.052261</td>\n",
       "      <td>0.102911</td>\n",
       "      <td>0.058008</td>\n",
       "      <td>-0.052013</td>\n",
       "      <td>-0.308364</td>\n",
       "      <td>-0.429240</td>\n",
       "    </tr>\n",
       "    <tr>\n",
       "      <th>STINCOME</th>\n",
       "      <td>0.083326</td>\n",
       "      <td>-0.030646</td>\n",
       "      <td>1.000000</td>\n",
       "      <td>-0.002183</td>\n",
       "      <td>-0.133220</td>\n",
       "      <td>-0.190443</td>\n",
       "      <td>-0.100826</td>\n",
       "      <td>-0.016906</td>\n",
       "      <td>-0.034960</td>\n",
       "      <td>-0.084369</td>\n",
       "      <td>...</td>\n",
       "      <td>-0.022107</td>\n",
       "      <td>0.252591</td>\n",
       "      <td>0.040801</td>\n",
       "      <td>-0.013233</td>\n",
       "      <td>-0.011471</td>\n",
       "      <td>-0.116226</td>\n",
       "      <td>-0.091256</td>\n",
       "      <td>0.085839</td>\n",
       "      <td>-0.061700</td>\n",
       "      <td>-0.084534</td>\n",
       "    </tr>\n",
       "    <tr>\n",
       "      <th>STGVT</th>\n",
       "      <td>0.378904</td>\n",
       "      <td>0.339485</td>\n",
       "      <td>-0.002183</td>\n",
       "      <td>1.000000</td>\n",
       "      <td>-0.258742</td>\n",
       "      <td>0.121421</td>\n",
       "      <td>-0.118843</td>\n",
       "      <td>-0.004967</td>\n",
       "      <td>0.001061</td>\n",
       "      <td>0.139640</td>\n",
       "      <td>...</td>\n",
       "      <td>0.066992</td>\n",
       "      <td>0.211943</td>\n",
       "      <td>-0.010277</td>\n",
       "      <td>0.016557</td>\n",
       "      <td>0.018387</td>\n",
       "      <td>0.027051</td>\n",
       "      <td>-0.029753</td>\n",
       "      <td>-0.027270</td>\n",
       "      <td>-0.116269</td>\n",
       "      <td>-0.154619</td>\n",
       "    </tr>\n",
       "    <tr>\n",
       "      <th>GEOCODE_CI2</th>\n",
       "      <td>-0.136142</td>\n",
       "      <td>-0.182581</td>\n",
       "      <td>-0.133220</td>\n",
       "      <td>-0.258742</td>\n",
       "      <td>1.000000</td>\n",
       "      <td>-0.162598</td>\n",
       "      <td>-0.105147</td>\n",
       "      <td>-0.015053</td>\n",
       "      <td>-0.014352</td>\n",
       "      <td>-0.051880</td>\n",
       "      <td>...</td>\n",
       "      <td>-0.009251</td>\n",
       "      <td>-0.140067</td>\n",
       "      <td>-0.020401</td>\n",
       "      <td>-0.008136</td>\n",
       "      <td>-0.011190</td>\n",
       "      <td>-0.003491</td>\n",
       "      <td>0.000827</td>\n",
       "      <td>-0.028579</td>\n",
       "      <td>0.111970</td>\n",
       "      <td>0.082679</td>\n",
       "    </tr>\n",
       "    <tr>\n",
       "      <th>GEOCODE_CO1</th>\n",
       "      <td>0.211229</td>\n",
       "      <td>0.289697</td>\n",
       "      <td>-0.190443</td>\n",
       "      <td>0.121421</td>\n",
       "      <td>-0.162598</td>\n",
       "      <td>1.000000</td>\n",
       "      <td>-0.089340</td>\n",
       "      <td>-0.012790</td>\n",
       "      <td>-0.012194</td>\n",
       "      <td>-0.044080</td>\n",
       "      <td>...</td>\n",
       "      <td>0.026389</td>\n",
       "      <td>-0.100262</td>\n",
       "      <td>0.001369</td>\n",
       "      <td>-0.024620</td>\n",
       "      <td>-0.030502</td>\n",
       "      <td>0.105491</td>\n",
       "      <td>0.111544</td>\n",
       "      <td>-0.058550</td>\n",
       "      <td>-0.047358</td>\n",
       "      <td>0.030614</td>\n",
       "    </tr>\n",
       "    <tr>\n",
       "      <th>GEOCODE_CO2</th>\n",
       "      <td>0.045055</td>\n",
       "      <td>0.129652</td>\n",
       "      <td>-0.100826</td>\n",
       "      <td>-0.118843</td>\n",
       "      <td>-0.105147</td>\n",
       "      <td>-0.089340</td>\n",
       "      <td>1.000000</td>\n",
       "      <td>-0.008271</td>\n",
       "      <td>-0.007886</td>\n",
       "      <td>-0.028505</td>\n",
       "      <td>...</td>\n",
       "      <td>-0.000450</td>\n",
       "      <td>-0.051520</td>\n",
       "      <td>0.034310</td>\n",
       "      <td>0.008837</td>\n",
       "      <td>0.030533</td>\n",
       "      <td>0.040653</td>\n",
       "      <td>0.012834</td>\n",
       "      <td>-0.011655</td>\n",
       "      <td>-0.033984</td>\n",
       "      <td>0.006125</td>\n",
       "    </tr>\n",
       "    <tr>\n",
       "      <th>GEOCODE_MA1</th>\n",
       "      <td>0.032746</td>\n",
       "      <td>0.033928</td>\n",
       "      <td>-0.016906</td>\n",
       "      <td>-0.004967</td>\n",
       "      <td>-0.015053</td>\n",
       "      <td>-0.012790</td>\n",
       "      <td>-0.008271</td>\n",
       "      <td>1.000000</td>\n",
       "      <td>-0.001129</td>\n",
       "      <td>-0.004081</td>\n",
       "      <td>...</td>\n",
       "      <td>0.011583</td>\n",
       "      <td>0.006039</td>\n",
       "      <td>-0.005812</td>\n",
       "      <td>0.016078</td>\n",
       "      <td>-0.008219</td>\n",
       "      <td>0.007392</td>\n",
       "      <td>-0.009377</td>\n",
       "      <td>0.005560</td>\n",
       "      <td>-0.018851</td>\n",
       "      <td>-0.007499</td>\n",
       "    </tr>\n",
       "    <tr>\n",
       "      <th>GEOCODE_MA2</th>\n",
       "      <td>0.024489</td>\n",
       "      <td>0.037839</td>\n",
       "      <td>-0.034960</td>\n",
       "      <td>0.001061</td>\n",
       "      <td>-0.014352</td>\n",
       "      <td>-0.012194</td>\n",
       "      <td>-0.007886</td>\n",
       "      <td>-0.001129</td>\n",
       "      <td>1.000000</td>\n",
       "      <td>-0.003891</td>\n",
       "      <td>...</td>\n",
       "      <td>0.031432</td>\n",
       "      <td>0.007985</td>\n",
       "      <td>-0.005541</td>\n",
       "      <td>-0.004937</td>\n",
       "      <td>0.006683</td>\n",
       "      <td>-0.001410</td>\n",
       "      <td>-0.008941</td>\n",
       "      <td>-0.007861</td>\n",
       "      <td>-0.010187</td>\n",
       "      <td>-0.015027</td>\n",
       "    </tr>\n",
       "    <tr>\n",
       "      <th>GEOCODE_MC1</th>\n",
       "      <td>0.103632</td>\n",
       "      <td>0.167239</td>\n",
       "      <td>-0.084369</td>\n",
       "      <td>0.139640</td>\n",
       "      <td>-0.051880</td>\n",
       "      <td>-0.044080</td>\n",
       "      <td>-0.028505</td>\n",
       "      <td>-0.004081</td>\n",
       "      <td>-0.003891</td>\n",
       "      <td>1.000000</td>\n",
       "      <td>...</td>\n",
       "      <td>-0.000552</td>\n",
       "      <td>-0.048267</td>\n",
       "      <td>0.002361</td>\n",
       "      <td>-0.017848</td>\n",
       "      <td>-0.020190</td>\n",
       "      <td>0.035745</td>\n",
       "      <td>0.029289</td>\n",
       "      <td>-0.024359</td>\n",
       "      <td>0.024485</td>\n",
       "      <td>-0.000902</td>\n",
       "    </tr>\n",
       "    <tr>\n",
       "      <th>GEOCODE_MC2</th>\n",
       "      <td>0.069706</td>\n",
       "      <td>0.090633</td>\n",
       "      <td>0.000919</td>\n",
       "      <td>0.030645</td>\n",
       "      <td>-0.029108</td>\n",
       "      <td>-0.024733</td>\n",
       "      <td>-0.015994</td>\n",
       "      <td>-0.002290</td>\n",
       "      <td>-0.002183</td>\n",
       "      <td>-0.007891</td>\n",
       "      <td>...</td>\n",
       "      <td>0.024919</td>\n",
       "      <td>-0.021381</td>\n",
       "      <td>-0.001357</td>\n",
       "      <td>-0.010014</td>\n",
       "      <td>-0.008711</td>\n",
       "      <td>0.006855</td>\n",
       "      <td>0.001059</td>\n",
       "      <td>-0.001619</td>\n",
       "      <td>0.013618</td>\n",
       "      <td>-0.000473</td>\n",
       "    </tr>\n",
       "    <tr>\n",
       "      <th>GEOCODE_OTH</th>\n",
       "      <td>-0.002858</td>\n",
       "      <td>-0.042266</td>\n",
       "      <td>0.140339</td>\n",
       "      <td>0.233074</td>\n",
       "      <td>-0.239721</td>\n",
       "      <td>-0.203683</td>\n",
       "      <td>-0.131715</td>\n",
       "      <td>-0.018857</td>\n",
       "      <td>-0.017978</td>\n",
       "      <td>-0.064988</td>\n",
       "      <td>...</td>\n",
       "      <td>-0.044123</td>\n",
       "      <td>0.129313</td>\n",
       "      <td>0.002201</td>\n",
       "      <td>0.028475</td>\n",
       "      <td>0.070074</td>\n",
       "      <td>-0.045100</td>\n",
       "      <td>-0.099054</td>\n",
       "      <td>0.087111</td>\n",
       "      <td>0.053985</td>\n",
       "      <td>-0.155323</td>\n",
       "    </tr>\n",
       "    <tr>\n",
       "      <th>GEOCODE_SD1</th>\n",
       "      <td>0.092056</td>\n",
       "      <td>0.049410</td>\n",
       "      <td>-0.005605</td>\n",
       "      <td>0.134612</td>\n",
       "      <td>-0.095487</td>\n",
       "      <td>-0.081133</td>\n",
       "      <td>-0.052466</td>\n",
       "      <td>-0.007511</td>\n",
       "      <td>-0.007161</td>\n",
       "      <td>-0.025887</td>\n",
       "      <td>...</td>\n",
       "      <td>-0.030755</td>\n",
       "      <td>0.081520</td>\n",
       "      <td>-0.011732</td>\n",
       "      <td>0.002214</td>\n",
       "      <td>0.025508</td>\n",
       "      <td>0.011265</td>\n",
       "      <td>-0.014733</td>\n",
       "      <td>-0.004479</td>\n",
       "      <td>-0.021607</td>\n",
       "      <td>-0.049553</td>\n",
       "    </tr>\n",
       "    <tr>\n",
       "      <th>GEOCODE_SD2</th>\n",
       "      <td>-0.002556</td>\n",
       "      <td>-0.003298</td>\n",
       "      <td>-0.025682</td>\n",
       "      <td>-0.011583</td>\n",
       "      <td>-0.032801</td>\n",
       "      <td>-0.027870</td>\n",
       "      <td>-0.018023</td>\n",
       "      <td>-0.002580</td>\n",
       "      <td>-0.002460</td>\n",
       "      <td>-0.008892</td>\n",
       "      <td>...</td>\n",
       "      <td>0.011050</td>\n",
       "      <td>-0.023393</td>\n",
       "      <td>-0.003885</td>\n",
       "      <td>0.008312</td>\n",
       "      <td>0.001234</td>\n",
       "      <td>0.004955</td>\n",
       "      <td>0.002303</td>\n",
       "      <td>-0.005239</td>\n",
       "      <td>-0.003434</td>\n",
       "      <td>0.018974</td>\n",
       "    </tr>\n",
       "    <tr>\n",
       "      <th>OBEREG_2</th>\n",
       "      <td>0.068235</td>\n",
       "      <td>0.064570</td>\n",
       "      <td>0.317116</td>\n",
       "      <td>0.222799</td>\n",
       "      <td>-0.183288</td>\n",
       "      <td>-0.115208</td>\n",
       "      <td>-0.099998</td>\n",
       "      <td>-0.015406</td>\n",
       "      <td>-0.014688</td>\n",
       "      <td>-0.050630</td>\n",
       "      <td>...</td>\n",
       "      <td>-0.023688</td>\n",
       "      <td>0.289905</td>\n",
       "      <td>-0.024714</td>\n",
       "      <td>0.036443</td>\n",
       "      <td>0.039780</td>\n",
       "      <td>-0.044044</td>\n",
       "      <td>-0.089052</td>\n",
       "      <td>0.026309</td>\n",
       "      <td>-0.051646</td>\n",
       "      <td>-0.171567</td>\n",
       "    </tr>\n",
       "    <tr>\n",
       "      <th>OBEREG_3</th>\n",
       "      <td>0.112660</td>\n",
       "      <td>0.038351</td>\n",
       "      <td>-0.113017</td>\n",
       "      <td>0.195533</td>\n",
       "      <td>0.049214</td>\n",
       "      <td>-0.106976</td>\n",
       "      <td>-0.082243</td>\n",
       "      <td>-0.017337</td>\n",
       "      <td>-0.008365</td>\n",
       "      <td>-0.055175</td>\n",
       "      <td>...</td>\n",
       "      <td>0.004686</td>\n",
       "      <td>0.012116</td>\n",
       "      <td>-0.029706</td>\n",
       "      <td>0.024172</td>\n",
       "      <td>0.057275</td>\n",
       "      <td>0.071667</td>\n",
       "      <td>-0.072963</td>\n",
       "      <td>-0.029801</td>\n",
       "      <td>0.073873</td>\n",
       "      <td>-0.110637</td>\n",
       "    </tr>\n",
       "    <tr>\n",
       "      <th>OBEREG_4</th>\n",
       "      <td>-0.254827</td>\n",
       "      <td>-0.335939</td>\n",
       "      <td>-0.087674</td>\n",
       "      <td>-0.065168</td>\n",
       "      <td>0.278543</td>\n",
       "      <td>-0.079552</td>\n",
       "      <td>-0.060483</td>\n",
       "      <td>-0.015803</td>\n",
       "      <td>0.010884</td>\n",
       "      <td>-0.018104</td>\n",
       "      <td>...</td>\n",
       "      <td>-0.049348</td>\n",
       "      <td>-0.191705</td>\n",
       "      <td>-0.056857</td>\n",
       "      <td>-0.059485</td>\n",
       "      <td>-0.068293</td>\n",
       "      <td>-0.048326</td>\n",
       "      <td>0.064821</td>\n",
       "      <td>-0.075011</td>\n",
       "      <td>0.042417</td>\n",
       "      <td>0.325001</td>\n",
       "    </tr>\n",
       "    <tr>\n",
       "      <th>OBEREG_5</th>\n",
       "      <td>0.133401</td>\n",
       "      <td>0.258974</td>\n",
       "      <td>-0.397903</td>\n",
       "      <td>0.149667</td>\n",
       "      <td>-0.113928</td>\n",
       "      <td>0.401219</td>\n",
       "      <td>0.092349</td>\n",
       "      <td>0.015381</td>\n",
       "      <td>0.007448</td>\n",
       "      <td>0.236014</td>\n",
       "      <td>...</td>\n",
       "      <td>0.051906</td>\n",
       "      <td>-0.072049</td>\n",
       "      <td>0.019340</td>\n",
       "      <td>-0.003836</td>\n",
       "      <td>0.003286</td>\n",
       "      <td>0.113670</td>\n",
       "      <td>0.000857</td>\n",
       "      <td>-0.007306</td>\n",
       "      <td>0.009854</td>\n",
       "      <td>-0.074305</td>\n",
       "    </tr>\n",
       "    <tr>\n",
       "      <th>OBEREG_6</th>\n",
       "      <td>-0.050664</td>\n",
       "      <td>0.026689</td>\n",
       "      <td>-0.145185</td>\n",
       "      <td>-0.320068</td>\n",
       "      <td>-0.094033</td>\n",
       "      <td>0.037218</td>\n",
       "      <td>0.289393</td>\n",
       "      <td>0.043046</td>\n",
       "      <td>-0.010465</td>\n",
       "      <td>-0.012428</td>\n",
       "      <td>...</td>\n",
       "      <td>0.001402</td>\n",
       "      <td>-0.058911</td>\n",
       "      <td>0.004912</td>\n",
       "      <td>-0.020250</td>\n",
       "      <td>0.009265</td>\n",
       "      <td>0.054267</td>\n",
       "      <td>0.125328</td>\n",
       "      <td>-0.022352</td>\n",
       "      <td>-0.063706</td>\n",
       "      <td>0.004934</td>\n",
       "    </tr>\n",
       "    <tr>\n",
       "      <th>OBEREG_7</th>\n",
       "      <td>0.022112</td>\n",
       "      <td>-0.012286</td>\n",
       "      <td>-0.014795</td>\n",
       "      <td>-0.008737</td>\n",
       "      <td>-0.076156</td>\n",
       "      <td>0.094777</td>\n",
       "      <td>0.040887</td>\n",
       "      <td>-0.007247</td>\n",
       "      <td>-0.006909</td>\n",
       "      <td>-0.024976</td>\n",
       "      <td>...</td>\n",
       "      <td>0.004341</td>\n",
       "      <td>-0.064886</td>\n",
       "      <td>-0.025833</td>\n",
       "      <td>-0.002712</td>\n",
       "      <td>-0.031427</td>\n",
       "      <td>-0.038452</td>\n",
       "      <td>0.133864</td>\n",
       "      <td>-0.031638</td>\n",
       "      <td>-0.057167</td>\n",
       "      <td>0.121807</td>\n",
       "    </tr>\n",
       "    <tr>\n",
       "      <th>OBEREG_8</th>\n",
       "      <td>0.112444</td>\n",
       "      <td>0.093804</td>\n",
       "      <td>0.164104</td>\n",
       "      <td>-0.026065</td>\n",
       "      <td>-0.044318</td>\n",
       "      <td>0.033193</td>\n",
       "      <td>0.022645</td>\n",
       "      <td>0.020143</td>\n",
       "      <td>0.021893</td>\n",
       "      <td>-0.019469</td>\n",
       "      <td>...</td>\n",
       "      <td>0.045903</td>\n",
       "      <td>-0.006852</td>\n",
       "      <td>0.010628</td>\n",
       "      <td>0.004288</td>\n",
       "      <td>0.012719</td>\n",
       "      <td>-0.016626</td>\n",
       "      <td>0.001163</td>\n",
       "      <td>-0.036833</td>\n",
       "      <td>-0.066115</td>\n",
       "      <td>0.037418</td>\n",
       "    </tr>\n",
       "    <tr>\n",
       "      <th>OBEREG_9</th>\n",
       "      <td>-0.037593</td>\n",
       "      <td>0.080973</td>\n",
       "      <td>-0.342979</td>\n",
       "      <td>0.001870</td>\n",
       "      <td>-0.008616</td>\n",
       "      <td>-0.029444</td>\n",
       "      <td>-0.019040</td>\n",
       "      <td>0.037012</td>\n",
       "      <td>0.080752</td>\n",
       "      <td>-0.009394</td>\n",
       "      <td>...</td>\n",
       "      <td>0.032323</td>\n",
       "      <td>0.051923</td>\n",
       "      <td>0.036519</td>\n",
       "      <td>0.062323</td>\n",
       "      <td>-0.006832</td>\n",
       "      <td>-0.028365</td>\n",
       "      <td>-0.021588</td>\n",
       "      <td>-0.006926</td>\n",
       "      <td>-0.040155</td>\n",
       "      <td>-0.036284</td>\n",
       "    </tr>\n",
       "    <tr>\n",
       "      <th>LOCALE_12</th>\n",
       "      <td>0.190985</td>\n",
       "      <td>0.215695</td>\n",
       "      <td>0.000498</td>\n",
       "      <td>0.042755</td>\n",
       "      <td>-0.033612</td>\n",
       "      <td>0.020081</td>\n",
       "      <td>0.032306</td>\n",
       "      <td>-0.003884</td>\n",
       "      <td>0.025734</td>\n",
       "      <td>0.019610</td>\n",
       "      <td>...</td>\n",
       "      <td>-0.020464</td>\n",
       "      <td>-0.056829</td>\n",
       "      <td>-0.019065</td>\n",
       "      <td>-0.016987</td>\n",
       "      <td>-0.026960</td>\n",
       "      <td>-0.040415</td>\n",
       "      <td>-0.030759</td>\n",
       "      <td>-0.027045</td>\n",
       "      <td>-0.061833</td>\n",
       "      <td>-0.051700</td>\n",
       "    </tr>\n",
       "    <tr>\n",
       "      <th>LOCALE_13</th>\n",
       "      <td>0.216181</td>\n",
       "      <td>0.228763</td>\n",
       "      <td>-0.022107</td>\n",
       "      <td>0.066992</td>\n",
       "      <td>-0.009251</td>\n",
       "      <td>0.026389</td>\n",
       "      <td>-0.000450</td>\n",
       "      <td>0.011583</td>\n",
       "      <td>0.031432</td>\n",
       "      <td>-0.000552</td>\n",
       "      <td>...</td>\n",
       "      <td>1.000000</td>\n",
       "      <td>-0.091284</td>\n",
       "      <td>-0.030624</td>\n",
       "      <td>-0.027286</td>\n",
       "      <td>-0.043305</td>\n",
       "      <td>-0.064919</td>\n",
       "      <td>-0.049408</td>\n",
       "      <td>-0.043442</td>\n",
       "      <td>-0.099322</td>\n",
       "      <td>-0.083045</td>\n",
       "    </tr>\n",
       "    <tr>\n",
       "      <th>LOCALE_21</th>\n",
       "      <td>0.358447</td>\n",
       "      <td>0.336176</td>\n",
       "      <td>0.252591</td>\n",
       "      <td>0.211943</td>\n",
       "      <td>-0.140067</td>\n",
       "      <td>-0.100262</td>\n",
       "      <td>-0.051520</td>\n",
       "      <td>0.006039</td>\n",
       "      <td>0.007985</td>\n",
       "      <td>-0.048267</td>\n",
       "      <td>...</td>\n",
       "      <td>-0.091284</td>\n",
       "      <td>1.000000</td>\n",
       "      <td>-0.085044</td>\n",
       "      <td>-0.075775</td>\n",
       "      <td>-0.120262</td>\n",
       "      <td>-0.180286</td>\n",
       "      <td>-0.137211</td>\n",
       "      <td>-0.120641</td>\n",
       "      <td>-0.275825</td>\n",
       "      <td>-0.230623</td>\n",
       "    </tr>\n",
       "    <tr>\n",
       "      <th>LOCALE_22</th>\n",
       "      <td>0.096348</td>\n",
       "      <td>0.104695</td>\n",
       "      <td>0.040801</td>\n",
       "      <td>-0.010277</td>\n",
       "      <td>-0.020401</td>\n",
       "      <td>0.001369</td>\n",
       "      <td>0.034310</td>\n",
       "      <td>-0.005812</td>\n",
       "      <td>-0.005541</td>\n",
       "      <td>0.002361</td>\n",
       "      <td>...</td>\n",
       "      <td>-0.030624</td>\n",
       "      <td>-0.085044</td>\n",
       "      <td>1.000000</td>\n",
       "      <td>-0.025421</td>\n",
       "      <td>-0.040345</td>\n",
       "      <td>-0.060481</td>\n",
       "      <td>-0.046031</td>\n",
       "      <td>-0.040472</td>\n",
       "      <td>-0.092533</td>\n",
       "      <td>-0.077368</td>\n",
       "    </tr>\n",
       "    <tr>\n",
       "      <th>LOCALE_23</th>\n",
       "      <td>0.035255</td>\n",
       "      <td>0.052410</td>\n",
       "      <td>-0.013233</td>\n",
       "      <td>0.016557</td>\n",
       "      <td>-0.008136</td>\n",
       "      <td>-0.024620</td>\n",
       "      <td>0.008837</td>\n",
       "      <td>0.016078</td>\n",
       "      <td>-0.004937</td>\n",
       "      <td>-0.017848</td>\n",
       "      <td>...</td>\n",
       "      <td>-0.027286</td>\n",
       "      <td>-0.075775</td>\n",
       "      <td>-0.025421</td>\n",
       "      <td>1.000000</td>\n",
       "      <td>-0.035947</td>\n",
       "      <td>-0.053889</td>\n",
       "      <td>-0.041014</td>\n",
       "      <td>-0.036061</td>\n",
       "      <td>-0.082447</td>\n",
       "      <td>-0.068935</td>\n",
       "    </tr>\n",
       "    <tr>\n",
       "      <th>LOCALE_31</th>\n",
       "      <td>0.053037</td>\n",
       "      <td>0.052261</td>\n",
       "      <td>-0.011471</td>\n",
       "      <td>0.018387</td>\n",
       "      <td>-0.011190</td>\n",
       "      <td>-0.030502</td>\n",
       "      <td>0.030533</td>\n",
       "      <td>-0.008219</td>\n",
       "      <td>0.006683</td>\n",
       "      <td>-0.020190</td>\n",
       "      <td>...</td>\n",
       "      <td>-0.043305</td>\n",
       "      <td>-0.120262</td>\n",
       "      <td>-0.040345</td>\n",
       "      <td>-0.035947</td>\n",
       "      <td>1.000000</td>\n",
       "      <td>-0.085527</td>\n",
       "      <td>-0.065093</td>\n",
       "      <td>-0.057232</td>\n",
       "      <td>-0.130851</td>\n",
       "      <td>-0.109407</td>\n",
       "    </tr>\n",
       "    <tr>\n",
       "      <th>LOCALE_32</th>\n",
       "      <td>0.076277</td>\n",
       "      <td>0.102911</td>\n",
       "      <td>-0.116226</td>\n",
       "      <td>0.027051</td>\n",
       "      <td>-0.003491</td>\n",
       "      <td>0.105491</td>\n",
       "      <td>0.040653</td>\n",
       "      <td>0.007392</td>\n",
       "      <td>-0.001410</td>\n",
       "      <td>0.035745</td>\n",
       "      <td>...</td>\n",
       "      <td>-0.064919</td>\n",
       "      <td>-0.180286</td>\n",
       "      <td>-0.060481</td>\n",
       "      <td>-0.053889</td>\n",
       "      <td>-0.085527</td>\n",
       "      <td>1.000000</td>\n",
       "      <td>-0.097581</td>\n",
       "      <td>-0.085797</td>\n",
       "      <td>-0.196160</td>\n",
       "      <td>-0.164013</td>\n",
       "    </tr>\n",
       "    <tr>\n",
       "      <th>LOCALE_33</th>\n",
       "      <td>0.044125</td>\n",
       "      <td>0.058008</td>\n",
       "      <td>-0.091256</td>\n",
       "      <td>-0.029753</td>\n",
       "      <td>0.000827</td>\n",
       "      <td>0.111544</td>\n",
       "      <td>0.012834</td>\n",
       "      <td>-0.009377</td>\n",
       "      <td>-0.008941</td>\n",
       "      <td>0.029289</td>\n",
       "      <td>...</td>\n",
       "      <td>-0.049408</td>\n",
       "      <td>-0.137211</td>\n",
       "      <td>-0.046031</td>\n",
       "      <td>-0.041014</td>\n",
       "      <td>-0.065093</td>\n",
       "      <td>-0.097581</td>\n",
       "      <td>1.000000</td>\n",
       "      <td>-0.065298</td>\n",
       "      <td>-0.149293</td>\n",
       "      <td>-0.124827</td>\n",
       "    </tr>\n",
       "    <tr>\n",
       "      <th>LOCALE_41</th>\n",
       "      <td>-0.051190</td>\n",
       "      <td>-0.052013</td>\n",
       "      <td>0.085839</td>\n",
       "      <td>-0.027270</td>\n",
       "      <td>-0.028579</td>\n",
       "      <td>-0.058550</td>\n",
       "      <td>-0.011655</td>\n",
       "      <td>0.005560</td>\n",
       "      <td>-0.007861</td>\n",
       "      <td>-0.024359</td>\n",
       "      <td>...</td>\n",
       "      <td>-0.043442</td>\n",
       "      <td>-0.120641</td>\n",
       "      <td>-0.040472</td>\n",
       "      <td>-0.036061</td>\n",
       "      <td>-0.057232</td>\n",
       "      <td>-0.085797</td>\n",
       "      <td>-0.065298</td>\n",
       "      <td>1.000000</td>\n",
       "      <td>-0.131264</td>\n",
       "      <td>-0.109752</td>\n",
       "    </tr>\n",
       "    <tr>\n",
       "      <th>LOCALE_42</th>\n",
       "      <td>-0.315383</td>\n",
       "      <td>-0.308364</td>\n",
       "      <td>-0.061700</td>\n",
       "      <td>-0.116269</td>\n",
       "      <td>0.111970</td>\n",
       "      <td>-0.047358</td>\n",
       "      <td>-0.033984</td>\n",
       "      <td>-0.018851</td>\n",
       "      <td>-0.010187</td>\n",
       "      <td>0.024485</td>\n",
       "      <td>...</td>\n",
       "      <td>-0.099322</td>\n",
       "      <td>-0.275825</td>\n",
       "      <td>-0.092533</td>\n",
       "      <td>-0.082447</td>\n",
       "      <td>-0.130851</td>\n",
       "      <td>-0.196160</td>\n",
       "      <td>-0.149293</td>\n",
       "      <td>-0.131264</td>\n",
       "      <td>1.000000</td>\n",
       "      <td>-0.250930</td>\n",
       "    </tr>\n",
       "    <tr>\n",
       "      <th>LOCALE_43</th>\n",
       "      <td>-0.383669</td>\n",
       "      <td>-0.429240</td>\n",
       "      <td>-0.084534</td>\n",
       "      <td>-0.154619</td>\n",
       "      <td>0.082679</td>\n",
       "      <td>0.030614</td>\n",
       "      <td>0.006125</td>\n",
       "      <td>-0.007499</td>\n",
       "      <td>-0.015027</td>\n",
       "      <td>-0.000902</td>\n",
       "      <td>...</td>\n",
       "      <td>-0.083045</td>\n",
       "      <td>-0.230623</td>\n",
       "      <td>-0.077368</td>\n",
       "      <td>-0.068935</td>\n",
       "      <td>-0.109407</td>\n",
       "      <td>-0.164013</td>\n",
       "      <td>-0.124827</td>\n",
       "      <td>-0.109752</td>\n",
       "      <td>-0.250930</td>\n",
       "      <td>1.000000</td>\n",
       "    </tr>\n",
       "  </tbody>\n",
       "</table>\n",
       "<p>33 rows × 33 columns</p>\n",
       "</div>"
      ],
      "text/plain": [
       "               TOTCIR  POPU_LSA  STINCOME     STGVT  GEOCODE_CI2  GEOCODE_CO1  \\\n",
       "TOTCIR       1.000000  0.860231  0.083326  0.378904    -0.136142     0.211229   \n",
       "POPU_LSA     0.860231  1.000000 -0.030646  0.339485    -0.182581     0.289697   \n",
       "STINCOME     0.083326 -0.030646  1.000000 -0.002183    -0.133220    -0.190443   \n",
       "STGVT        0.378904  0.339485 -0.002183  1.000000    -0.258742     0.121421   \n",
       "GEOCODE_CI2 -0.136142 -0.182581 -0.133220 -0.258742     1.000000    -0.162598   \n",
       "GEOCODE_CO1  0.211229  0.289697 -0.190443  0.121421    -0.162598     1.000000   \n",
       "GEOCODE_CO2  0.045055  0.129652 -0.100826 -0.118843    -0.105147    -0.089340   \n",
       "GEOCODE_MA1  0.032746  0.033928 -0.016906 -0.004967    -0.015053    -0.012790   \n",
       "GEOCODE_MA2  0.024489  0.037839 -0.034960  0.001061    -0.014352    -0.012194   \n",
       "GEOCODE_MC1  0.103632  0.167239 -0.084369  0.139640    -0.051880    -0.044080   \n",
       "GEOCODE_MC2  0.069706  0.090633  0.000919  0.030645    -0.029108    -0.024733   \n",
       "GEOCODE_OTH -0.002858 -0.042266  0.140339  0.233074    -0.239721    -0.203683   \n",
       "GEOCODE_SD1  0.092056  0.049410 -0.005605  0.134612    -0.095487    -0.081133   \n",
       "GEOCODE_SD2 -0.002556 -0.003298 -0.025682 -0.011583    -0.032801    -0.027870   \n",
       "OBEREG_2     0.068235  0.064570  0.317116  0.222799    -0.183288    -0.115208   \n",
       "OBEREG_3     0.112660  0.038351 -0.113017  0.195533     0.049214    -0.106976   \n",
       "OBEREG_4    -0.254827 -0.335939 -0.087674 -0.065168     0.278543    -0.079552   \n",
       "OBEREG_5     0.133401  0.258974 -0.397903  0.149667    -0.113928     0.401219   \n",
       "OBEREG_6    -0.050664  0.026689 -0.145185 -0.320068    -0.094033     0.037218   \n",
       "OBEREG_7     0.022112 -0.012286 -0.014795 -0.008737    -0.076156     0.094777   \n",
       "OBEREG_8     0.112444  0.093804  0.164104 -0.026065    -0.044318     0.033193   \n",
       "OBEREG_9    -0.037593  0.080973 -0.342979  0.001870    -0.008616    -0.029444   \n",
       "LOCALE_12    0.190985  0.215695  0.000498  0.042755    -0.033612     0.020081   \n",
       "LOCALE_13    0.216181  0.228763 -0.022107  0.066992    -0.009251     0.026389   \n",
       "LOCALE_21    0.358447  0.336176  0.252591  0.211943    -0.140067    -0.100262   \n",
       "LOCALE_22    0.096348  0.104695  0.040801 -0.010277    -0.020401     0.001369   \n",
       "LOCALE_23    0.035255  0.052410 -0.013233  0.016557    -0.008136    -0.024620   \n",
       "LOCALE_31    0.053037  0.052261 -0.011471  0.018387    -0.011190    -0.030502   \n",
       "LOCALE_32    0.076277  0.102911 -0.116226  0.027051    -0.003491     0.105491   \n",
       "LOCALE_33    0.044125  0.058008 -0.091256 -0.029753     0.000827     0.111544   \n",
       "LOCALE_41   -0.051190 -0.052013  0.085839 -0.027270    -0.028579    -0.058550   \n",
       "LOCALE_42   -0.315383 -0.308364 -0.061700 -0.116269     0.111970    -0.047358   \n",
       "LOCALE_43   -0.383669 -0.429240 -0.084534 -0.154619     0.082679     0.030614   \n",
       "\n",
       "             GEOCODE_CO2  GEOCODE_MA1  GEOCODE_MA2  GEOCODE_MC1    ...      \\\n",
       "TOTCIR          0.045055     0.032746     0.024489     0.103632    ...       \n",
       "POPU_LSA        0.129652     0.033928     0.037839     0.167239    ...       \n",
       "STINCOME       -0.100826    -0.016906    -0.034960    -0.084369    ...       \n",
       "STGVT          -0.118843    -0.004967     0.001061     0.139640    ...       \n",
       "GEOCODE_CI2    -0.105147    -0.015053    -0.014352    -0.051880    ...       \n",
       "GEOCODE_CO1    -0.089340    -0.012790    -0.012194    -0.044080    ...       \n",
       "GEOCODE_CO2     1.000000    -0.008271    -0.007886    -0.028505    ...       \n",
       "GEOCODE_MA1    -0.008271     1.000000    -0.001129    -0.004081    ...       \n",
       "GEOCODE_MA2    -0.007886    -0.001129     1.000000    -0.003891    ...       \n",
       "GEOCODE_MC1    -0.028505    -0.004081    -0.003891     1.000000    ...       \n",
       "GEOCODE_MC2    -0.015994    -0.002290    -0.002183    -0.007891    ...       \n",
       "GEOCODE_OTH    -0.131715    -0.018857    -0.017978    -0.064988    ...       \n",
       "GEOCODE_SD1    -0.052466    -0.007511    -0.007161    -0.025887    ...       \n",
       "GEOCODE_SD2    -0.018023    -0.002580    -0.002460    -0.008892    ...       \n",
       "OBEREG_2       -0.099998    -0.015406    -0.014688    -0.050630    ...       \n",
       "OBEREG_3       -0.082243    -0.017337    -0.008365    -0.055175    ...       \n",
       "OBEREG_4       -0.060483    -0.015803     0.010884    -0.018104    ...       \n",
       "OBEREG_5        0.092349     0.015381     0.007448     0.236014    ...       \n",
       "OBEREG_6        0.289393     0.043046    -0.010465    -0.012428    ...       \n",
       "OBEREG_7        0.040887    -0.007247    -0.006909    -0.024976    ...       \n",
       "OBEREG_8        0.022645     0.020143     0.021893    -0.019469    ...       \n",
       "OBEREG_9       -0.019040     0.037012     0.080752    -0.009394    ...       \n",
       "LOCALE_12       0.032306    -0.003884     0.025734     0.019610    ...       \n",
       "LOCALE_13      -0.000450     0.011583     0.031432    -0.000552    ...       \n",
       "LOCALE_21      -0.051520     0.006039     0.007985    -0.048267    ...       \n",
       "LOCALE_22       0.034310    -0.005812    -0.005541     0.002361    ...       \n",
       "LOCALE_23       0.008837     0.016078    -0.004937    -0.017848    ...       \n",
       "LOCALE_31       0.030533    -0.008219     0.006683    -0.020190    ...       \n",
       "LOCALE_32       0.040653     0.007392    -0.001410     0.035745    ...       \n",
       "LOCALE_33       0.012834    -0.009377    -0.008941     0.029289    ...       \n",
       "LOCALE_41      -0.011655     0.005560    -0.007861    -0.024359    ...       \n",
       "LOCALE_42      -0.033984    -0.018851    -0.010187     0.024485    ...       \n",
       "LOCALE_43       0.006125    -0.007499    -0.015027    -0.000902    ...       \n",
       "\n",
       "             LOCALE_13  LOCALE_21  LOCALE_22  LOCALE_23  LOCALE_31  LOCALE_32  \\\n",
       "TOTCIR        0.216181   0.358447   0.096348   0.035255   0.053037   0.076277   \n",
       "POPU_LSA      0.228763   0.336176   0.104695   0.052410   0.052261   0.102911   \n",
       "STINCOME     -0.022107   0.252591   0.040801  -0.013233  -0.011471  -0.116226   \n",
       "STGVT         0.066992   0.211943  -0.010277   0.016557   0.018387   0.027051   \n",
       "GEOCODE_CI2  -0.009251  -0.140067  -0.020401  -0.008136  -0.011190  -0.003491   \n",
       "GEOCODE_CO1   0.026389  -0.100262   0.001369  -0.024620  -0.030502   0.105491   \n",
       "GEOCODE_CO2  -0.000450  -0.051520   0.034310   0.008837   0.030533   0.040653   \n",
       "GEOCODE_MA1   0.011583   0.006039  -0.005812   0.016078  -0.008219   0.007392   \n",
       "GEOCODE_MA2   0.031432   0.007985  -0.005541  -0.004937   0.006683  -0.001410   \n",
       "GEOCODE_MC1  -0.000552  -0.048267   0.002361  -0.017848  -0.020190   0.035745   \n",
       "GEOCODE_MC2   0.024919  -0.021381  -0.001357  -0.010014  -0.008711   0.006855   \n",
       "GEOCODE_OTH  -0.044123   0.129313   0.002201   0.028475   0.070074  -0.045100   \n",
       "GEOCODE_SD1  -0.030755   0.081520  -0.011732   0.002214   0.025508   0.011265   \n",
       "GEOCODE_SD2   0.011050  -0.023393  -0.003885   0.008312   0.001234   0.004955   \n",
       "OBEREG_2     -0.023688   0.289905  -0.024714   0.036443   0.039780  -0.044044   \n",
       "OBEREG_3      0.004686   0.012116  -0.029706   0.024172   0.057275   0.071667   \n",
       "OBEREG_4     -0.049348  -0.191705  -0.056857  -0.059485  -0.068293  -0.048326   \n",
       "OBEREG_5      0.051906  -0.072049   0.019340  -0.003836   0.003286   0.113670   \n",
       "OBEREG_6      0.001402  -0.058911   0.004912  -0.020250   0.009265   0.054267   \n",
       "OBEREG_7      0.004341  -0.064886  -0.025833  -0.002712  -0.031427  -0.038452   \n",
       "OBEREG_8      0.045903  -0.006852   0.010628   0.004288   0.012719  -0.016626   \n",
       "OBEREG_9      0.032323   0.051923   0.036519   0.062323  -0.006832  -0.028365   \n",
       "LOCALE_12    -0.020464  -0.056829  -0.019065  -0.016987  -0.026960  -0.040415   \n",
       "LOCALE_13     1.000000  -0.091284  -0.030624  -0.027286  -0.043305  -0.064919   \n",
       "LOCALE_21    -0.091284   1.000000  -0.085044  -0.075775  -0.120262  -0.180286   \n",
       "LOCALE_22    -0.030624  -0.085044   1.000000  -0.025421  -0.040345  -0.060481   \n",
       "LOCALE_23    -0.027286  -0.075775  -0.025421   1.000000  -0.035947  -0.053889   \n",
       "LOCALE_31    -0.043305  -0.120262  -0.040345  -0.035947   1.000000  -0.085527   \n",
       "LOCALE_32    -0.064919  -0.180286  -0.060481  -0.053889  -0.085527   1.000000   \n",
       "LOCALE_33    -0.049408  -0.137211  -0.046031  -0.041014  -0.065093  -0.097581   \n",
       "LOCALE_41    -0.043442  -0.120641  -0.040472  -0.036061  -0.057232  -0.085797   \n",
       "LOCALE_42    -0.099322  -0.275825  -0.092533  -0.082447  -0.130851  -0.196160   \n",
       "LOCALE_43    -0.083045  -0.230623  -0.077368  -0.068935  -0.109407  -0.164013   \n",
       "\n",
       "             LOCALE_33  LOCALE_41  LOCALE_42  LOCALE_43  \n",
       "TOTCIR        0.044125  -0.051190  -0.315383  -0.383669  \n",
       "POPU_LSA      0.058008  -0.052013  -0.308364  -0.429240  \n",
       "STINCOME     -0.091256   0.085839  -0.061700  -0.084534  \n",
       "STGVT        -0.029753  -0.027270  -0.116269  -0.154619  \n",
       "GEOCODE_CI2   0.000827  -0.028579   0.111970   0.082679  \n",
       "GEOCODE_CO1   0.111544  -0.058550  -0.047358   0.030614  \n",
       "GEOCODE_CO2   0.012834  -0.011655  -0.033984   0.006125  \n",
       "GEOCODE_MA1  -0.009377   0.005560  -0.018851  -0.007499  \n",
       "GEOCODE_MA2  -0.008941  -0.007861  -0.010187  -0.015027  \n",
       "GEOCODE_MC1   0.029289  -0.024359   0.024485  -0.000902  \n",
       "GEOCODE_MC2   0.001059  -0.001619   0.013618  -0.000473  \n",
       "GEOCODE_OTH  -0.099054   0.087111   0.053985  -0.155323  \n",
       "GEOCODE_SD1  -0.014733  -0.004479  -0.021607  -0.049553  \n",
       "GEOCODE_SD2   0.002303  -0.005239  -0.003434   0.018974  \n",
       "OBEREG_2     -0.089052   0.026309  -0.051646  -0.171567  \n",
       "OBEREG_3     -0.072963  -0.029801   0.073873  -0.110637  \n",
       "OBEREG_4      0.064821  -0.075011   0.042417   0.325001  \n",
       "OBEREG_5      0.000857  -0.007306   0.009854  -0.074305  \n",
       "OBEREG_6      0.125328  -0.022352  -0.063706   0.004934  \n",
       "OBEREG_7      0.133864  -0.031638  -0.057167   0.121807  \n",
       "OBEREG_8      0.001163  -0.036833  -0.066115   0.037418  \n",
       "OBEREG_9     -0.021588  -0.006926  -0.040155  -0.036284  \n",
       "LOCALE_12    -0.030759  -0.027045  -0.061833  -0.051700  \n",
       "LOCALE_13    -0.049408  -0.043442  -0.099322  -0.083045  \n",
       "LOCALE_21    -0.137211  -0.120641  -0.275825  -0.230623  \n",
       "LOCALE_22    -0.046031  -0.040472  -0.092533  -0.077368  \n",
       "LOCALE_23    -0.041014  -0.036061  -0.082447  -0.068935  \n",
       "LOCALE_31    -0.065093  -0.057232  -0.130851  -0.109407  \n",
       "LOCALE_32    -0.097581  -0.085797  -0.196160  -0.164013  \n",
       "LOCALE_33     1.000000  -0.065298  -0.149293  -0.124827  \n",
       "LOCALE_41    -0.065298   1.000000  -0.131264  -0.109752  \n",
       "LOCALE_42    -0.149293  -0.131264   1.000000  -0.250930  \n",
       "LOCALE_43    -0.124827  -0.109752  -0.250930   1.000000  \n",
       "\n",
       "[33 rows x 33 columns]"
      ]
     },
     "execution_count": 102,
     "metadata": {},
     "output_type": "execute_result"
    }
   ],
   "source": [
    "#correlation matrix\n",
    "dummy_df.corr()"
   ]
  },
  {
   "cell_type": "markdown",
   "metadata": {},
   "source": [
    "## Linear Regression"
   ]
  },
  {
   "cell_type": "code",
   "execution_count": 103,
   "metadata": {
    "collapsed": false
   },
   "outputs": [],
   "source": [
    "X = dummy_df.drop(['TOTCIR'], axis=1)\n",
    "y = dummy_df['TOTCIR']"
   ]
  },
  {
   "cell_type": "code",
   "execution_count": 104,
   "metadata": {
    "collapsed": false
   },
   "outputs": [
    {
     "data": {
      "text/html": [
       "<table class=\"simpletable\">\n",
       "<caption>OLS Regression Results</caption>\n",
       "<tr>\n",
       "  <th>Dep. Variable:</th>         <td>TOTCIR</td>      <th>  R-squared:         </th> <td>   0.994</td> \n",
       "</tr>\n",
       "<tr>\n",
       "  <th>Model:</th>                   <td>OLS</td>       <th>  Adj. R-squared:    </th> <td>   0.994</td> \n",
       "</tr>\n",
       "<tr>\n",
       "  <th>Method:</th>             <td>Least Squares</td>  <th>  F-statistic:       </th> <td>4.501e+04</td>\n",
       "</tr>\n",
       "<tr>\n",
       "  <th>Date:</th>             <td>Thu, 30 Mar 2017</td> <th>  Prob (F-statistic):</th>  <td>  0.00</td>  \n",
       "</tr>\n",
       "<tr>\n",
       "  <th>Time:</th>                 <td>01:24:43</td>     <th>  Log-Likelihood:    </th> <td> -4072.7</td> \n",
       "</tr>\n",
       "<tr>\n",
       "  <th>No. Observations:</th>      <td>  9301</td>      <th>  AIC:               </th> <td>   8209.</td> \n",
       "</tr>\n",
       "<tr>\n",
       "  <th>Df Residuals:</th>          <td>  9269</td>      <th>  BIC:               </th> <td>   8438.</td> \n",
       "</tr>\n",
       "<tr>\n",
       "  <th>Df Model:</th>              <td>    32</td>      <th>                     </th>     <td> </td>    \n",
       "</tr>\n",
       "<tr>\n",
       "  <th>Covariance Type:</th>      <td>nonrobust</td>    <th>                     </th>     <td> </td>    \n",
       "</tr>\n",
       "</table>\n",
       "<table class=\"simpletable\">\n",
       "<tr>\n",
       "       <td></td>          <th>coef</th>     <th>std err</th>      <th>t</th>      <th>P>|t|</th> <th>[95.0% Conf. Int.]</th> \n",
       "</tr>\n",
       "<tr>\n",
       "  <th>POPU_LSA</th>    <td>    0.9531</td> <td>    0.008</td> <td>  126.496</td> <td> 0.000</td> <td>    0.938     0.968</td>\n",
       "</tr>\n",
       "<tr>\n",
       "  <th>STINCOME</th>    <td>  1.06e-05</td> <td> 6.12e-07</td> <td>   17.338</td> <td> 0.000</td> <td>  9.4e-06  1.18e-05</td>\n",
       "</tr>\n",
       "<tr>\n",
       "  <th>STGVT</th>       <td>    0.0316</td> <td>    0.003</td> <td>   11.669</td> <td> 0.000</td> <td>    0.026     0.037</td>\n",
       "</tr>\n",
       "<tr>\n",
       "  <th>GEOCODE_CI2</th> <td>    0.1004</td> <td>    0.013</td> <td>    7.926</td> <td> 0.000</td> <td>    0.076     0.125</td>\n",
       "</tr>\n",
       "<tr>\n",
       "  <th>GEOCODE_CO1</th> <td>   -0.0233</td> <td>    0.016</td> <td>   -1.491</td> <td> 0.136</td> <td>   -0.054     0.007</td>\n",
       "</tr>\n",
       "<tr>\n",
       "  <th>GEOCODE_CO2</th> <td>   -0.1329</td> <td>    0.020</td> <td>   -6.798</td> <td> 0.000</td> <td>   -0.171    -0.095</td>\n",
       "</tr>\n",
       "<tr>\n",
       "  <th>GEOCODE_MA1</th> <td>    0.2500</td> <td>    0.114</td> <td>    2.193</td> <td> 0.028</td> <td>    0.026     0.473</td>\n",
       "</tr>\n",
       "<tr>\n",
       "  <th>GEOCODE_MA2</th> <td>   -0.0101</td> <td>    0.120</td> <td>   -0.085</td> <td> 0.932</td> <td>   -0.245     0.224</td>\n",
       "</tr>\n",
       "<tr>\n",
       "  <th>GEOCODE_MC1</th> <td>   -0.1959</td> <td>    0.037</td> <td>   -5.353</td> <td> 0.000</td> <td>   -0.268    -0.124</td>\n",
       "</tr>\n",
       "<tr>\n",
       "  <th>GEOCODE_MC2</th> <td>   -0.1134</td> <td>    0.060</td> <td>   -1.892</td> <td> 0.059</td> <td>   -0.231     0.004</td>\n",
       "</tr>\n",
       "<tr>\n",
       "  <th>GEOCODE_OTH</th> <td>    0.0483</td> <td>    0.012</td> <td>    3.912</td> <td> 0.000</td> <td>    0.024     0.072</td>\n",
       "</tr>\n",
       "<tr>\n",
       "  <th>GEOCODE_SD1</th> <td>    0.1503</td> <td>    0.021</td> <td>    7.211</td> <td> 0.000</td> <td>    0.109     0.191</td>\n",
       "</tr>\n",
       "<tr>\n",
       "  <th>GEOCODE_SD2</th> <td>   -0.0187</td> <td>    0.053</td> <td>   -0.353</td> <td> 0.724</td> <td>   -0.122     0.085</td>\n",
       "</tr>\n",
       "<tr>\n",
       "  <th>OBEREG_2</th>    <td>   -0.0254</td> <td>    0.016</td> <td>   -1.602</td> <td> 0.109</td> <td>   -0.056     0.006</td>\n",
       "</tr>\n",
       "<tr>\n",
       "  <th>OBEREG_3</th>    <td>    0.1961</td> <td>    0.015</td> <td>   12.660</td> <td> 0.000</td> <td>    0.166     0.226</td>\n",
       "</tr>\n",
       "<tr>\n",
       "  <th>OBEREG_4</th>    <td>    0.2050</td> <td>    0.016</td> <td>   12.915</td> <td> 0.000</td> <td>    0.174     0.236</td>\n",
       "</tr>\n",
       "<tr>\n",
       "  <th>OBEREG_5</th>    <td>    0.0352</td> <td>    0.020</td> <td>    1.722</td> <td> 0.085</td> <td>   -0.005     0.075</td>\n",
       "</tr>\n",
       "<tr>\n",
       "  <th>OBEREG_6</th>    <td>    0.0588</td> <td>    0.019</td> <td>    3.123</td> <td> 0.002</td> <td>    0.022     0.096</td>\n",
       "</tr>\n",
       "<tr>\n",
       "  <th>OBEREG_7</th>    <td>    0.2655</td> <td>    0.023</td> <td>   11.400</td> <td> 0.000</td> <td>    0.220     0.311</td>\n",
       "</tr>\n",
       "<tr>\n",
       "  <th>OBEREG_8</th>    <td>    0.1726</td> <td>    0.021</td> <td>    8.279</td> <td> 0.000</td> <td>    0.132     0.213</td>\n",
       "</tr>\n",
       "<tr>\n",
       "  <th>OBEREG_9</th>    <td>   -0.6869</td> <td>    0.057</td> <td>  -11.979</td> <td> 0.000</td> <td>   -0.799    -0.575</td>\n",
       "</tr>\n",
       "<tr>\n",
       "  <th>LOCALE_12</th>   <td>    0.2100</td> <td>    0.050</td> <td>    4.208</td> <td> 0.000</td> <td>    0.112     0.308</td>\n",
       "</tr>\n",
       "<tr>\n",
       "  <th>LOCALE_13</th>   <td>    0.2489</td> <td>    0.041</td> <td>    6.109</td> <td> 0.000</td> <td>    0.169     0.329</td>\n",
       "</tr>\n",
       "<tr>\n",
       "  <th>LOCALE_21</th>   <td>    0.2301</td> <td>    0.036</td> <td>    6.435</td> <td> 0.000</td> <td>    0.160     0.300</td>\n",
       "</tr>\n",
       "<tr>\n",
       "  <th>LOCALE_22</th>   <td>    0.2233</td> <td>    0.041</td> <td>    5.420</td> <td> 0.000</td> <td>    0.143     0.304</td>\n",
       "</tr>\n",
       "<tr>\n",
       "  <th>LOCALE_23</th>   <td>    0.1279</td> <td>    0.042</td> <td>    3.025</td> <td> 0.002</td> <td>    0.045     0.211</td>\n",
       "</tr>\n",
       "<tr>\n",
       "  <th>LOCALE_31</th>   <td>    0.1680</td> <td>    0.037</td> <td>    4.510</td> <td> 0.000</td> <td>    0.095     0.241</td>\n",
       "</tr>\n",
       "<tr>\n",
       "  <th>LOCALE_32</th>   <td>    0.1360</td> <td>    0.035</td> <td>    3.902</td> <td> 0.000</td> <td>    0.068     0.204</td>\n",
       "</tr>\n",
       "<tr>\n",
       "  <th>LOCALE_33</th>   <td>    0.1346</td> <td>    0.036</td> <td>    3.756</td> <td> 0.000</td> <td>    0.064     0.205</td>\n",
       "</tr>\n",
       "<tr>\n",
       "  <th>LOCALE_41</th>   <td>    0.1320</td> <td>    0.037</td> <td>    3.551</td> <td> 0.000</td> <td>    0.059     0.205</td>\n",
       "</tr>\n",
       "<tr>\n",
       "  <th>LOCALE_42</th>   <td>    0.0638</td> <td>    0.033</td> <td>    1.913</td> <td> 0.056</td> <td>   -0.002     0.129</td>\n",
       "</tr>\n",
       "<tr>\n",
       "  <th>LOCALE_43</th>   <td>    0.0878</td> <td>    0.033</td> <td>    2.623</td> <td> 0.009</td> <td>    0.022     0.153</td>\n",
       "</tr>\n",
       "</table>\n",
       "<table class=\"simpletable\">\n",
       "<tr>\n",
       "  <th>Omnibus:</th>       <td>3134.311</td> <th>  Durbin-Watson:     </th> <td>   1.768</td> \n",
       "</tr>\n",
       "<tr>\n",
       "  <th>Prob(Omnibus):</th>  <td> 0.000</td>  <th>  Jarque-Bera (JB):  </th> <td>30155.655</td>\n",
       "</tr>\n",
       "<tr>\n",
       "  <th>Skew:</th>           <td>-1.336</td>  <th>  Prob(JB):          </th> <td>    0.00</td> \n",
       "</tr>\n",
       "<tr>\n",
       "  <th>Kurtosis:</th>       <td>11.406</td>  <th>  Cond. No.          </th> <td>1.69e+06</td> \n",
       "</tr>\n",
       "</table>"
      ],
      "text/plain": [
       "<class 'statsmodels.iolib.summary.Summary'>\n",
       "\"\"\"\n",
       "                            OLS Regression Results                            \n",
       "==============================================================================\n",
       "Dep. Variable:                 TOTCIR   R-squared:                       0.994\n",
       "Model:                            OLS   Adj. R-squared:                  0.994\n",
       "Method:                 Least Squares   F-statistic:                 4.501e+04\n",
       "Date:                Thu, 30 Mar 2017   Prob (F-statistic):               0.00\n",
       "Time:                        01:24:43   Log-Likelihood:                -4072.7\n",
       "No. Observations:                9301   AIC:                             8209.\n",
       "Df Residuals:                    9269   BIC:                             8438.\n",
       "Df Model:                          32                                         \n",
       "Covariance Type:            nonrobust                                         \n",
       "===============================================================================\n",
       "                  coef    std err          t      P>|t|      [95.0% Conf. Int.]\n",
       "-------------------------------------------------------------------------------\n",
       "POPU_LSA        0.9531      0.008    126.496      0.000         0.938     0.968\n",
       "STINCOME      1.06e-05   6.12e-07     17.338      0.000       9.4e-06  1.18e-05\n",
       "STGVT           0.0316      0.003     11.669      0.000         0.026     0.037\n",
       "GEOCODE_CI2     0.1004      0.013      7.926      0.000         0.076     0.125\n",
       "GEOCODE_CO1    -0.0233      0.016     -1.491      0.136        -0.054     0.007\n",
       "GEOCODE_CO2    -0.1329      0.020     -6.798      0.000        -0.171    -0.095\n",
       "GEOCODE_MA1     0.2500      0.114      2.193      0.028         0.026     0.473\n",
       "GEOCODE_MA2    -0.0101      0.120     -0.085      0.932        -0.245     0.224\n",
       "GEOCODE_MC1    -0.1959      0.037     -5.353      0.000        -0.268    -0.124\n",
       "GEOCODE_MC2    -0.1134      0.060     -1.892      0.059        -0.231     0.004\n",
       "GEOCODE_OTH     0.0483      0.012      3.912      0.000         0.024     0.072\n",
       "GEOCODE_SD1     0.1503      0.021      7.211      0.000         0.109     0.191\n",
       "GEOCODE_SD2    -0.0187      0.053     -0.353      0.724        -0.122     0.085\n",
       "OBEREG_2       -0.0254      0.016     -1.602      0.109        -0.056     0.006\n",
       "OBEREG_3        0.1961      0.015     12.660      0.000         0.166     0.226\n",
       "OBEREG_4        0.2050      0.016     12.915      0.000         0.174     0.236\n",
       "OBEREG_5        0.0352      0.020      1.722      0.085        -0.005     0.075\n",
       "OBEREG_6        0.0588      0.019      3.123      0.002         0.022     0.096\n",
       "OBEREG_7        0.2655      0.023     11.400      0.000         0.220     0.311\n",
       "OBEREG_8        0.1726      0.021      8.279      0.000         0.132     0.213\n",
       "OBEREG_9       -0.6869      0.057    -11.979      0.000        -0.799    -0.575\n",
       "LOCALE_12       0.2100      0.050      4.208      0.000         0.112     0.308\n",
       "LOCALE_13       0.2489      0.041      6.109      0.000         0.169     0.329\n",
       "LOCALE_21       0.2301      0.036      6.435      0.000         0.160     0.300\n",
       "LOCALE_22       0.2233      0.041      5.420      0.000         0.143     0.304\n",
       "LOCALE_23       0.1279      0.042      3.025      0.002         0.045     0.211\n",
       "LOCALE_31       0.1680      0.037      4.510      0.000         0.095     0.241\n",
       "LOCALE_32       0.1360      0.035      3.902      0.000         0.068     0.204\n",
       "LOCALE_33       0.1346      0.036      3.756      0.000         0.064     0.205\n",
       "LOCALE_41       0.1320      0.037      3.551      0.000         0.059     0.205\n",
       "LOCALE_42       0.0638      0.033      1.913      0.056        -0.002     0.129\n",
       "LOCALE_43       0.0878      0.033      2.623      0.009         0.022     0.153\n",
       "==============================================================================\n",
       "Omnibus:                     3134.311   Durbin-Watson:                   1.768\n",
       "Prob(Omnibus):                  0.000   Jarque-Bera (JB):            30155.655\n",
       "Skew:                          -1.336   Prob(JB):                         0.00\n",
       "Kurtosis:                      11.406   Cond. No.                     1.69e+06\n",
       "==============================================================================\n",
       "\n",
       "Warnings:\n",
       "[1] Standard Errors assume that the covariance matrix of the errors is correctly specified.\n",
       "[2] The condition number is large, 1.69e+06. This might indicate that there are\n",
       "strong multicollinearity or other numerical problems.\n",
       "\"\"\""
      ]
     },
     "execution_count": 104,
     "metadata": {},
     "output_type": "execute_result"
    }
   ],
   "source": [
    "import statsmodels.formula.api as smf\n",
    "\n",
    "# statsmodel linear regression\n",
    "\n",
    "lin_model = smf.OLS(endog=y, exog=X)\n",
    "result = lin_model.fit()\n",
    "result.summary()"
   ]
  },
  {
   "cell_type": "code",
   "execution_count": 105,
   "metadata": {
    "collapsed": false
   },
   "outputs": [],
   "source": [
    "from sklearn.cross_validation import train_test_split\n",
    "dummy_df = dummy_df.astype(float)\n",
    "X, y = dummy_df.drop(['TOTCIR'], axis=1).values, dummy_df.loc[:, 'TOTCIR'].values\n",
    "X_train, X_test, y_train, y_test = train_test_split(X, y, test_size=0.2, random_state=0)"
   ]
  },
  {
   "cell_type": "code",
   "execution_count": 106,
   "metadata": {
    "collapsed": false
   },
   "outputs": [
    {
     "name": "stdout",
     "output_type": "stream",
     "text": [
      "0.788856026775\n"
     ]
    }
   ],
   "source": [
    "#sklearn linear regression\n",
    "from sklearn import linear_model, metrics\n",
    "\n",
    "lm=linear_model.LinearRegression().fit(X_train, y_train)\n",
    "print lm.score(X_train, y_train)"
   ]
  },
  {
   "cell_type": "code",
   "execution_count": 107,
   "metadata": {
    "collapsed": false
   },
   "outputs": [
    {
     "name": "stdout",
     "output_type": "stream",
     "text": [
      "Train OLS MSE:  0.141481200303\n",
      "Test OLS MSE: 0.131884542035\n",
      "Train Lasso MSE:  0.665922248821\n",
      "Test Lasso MSE: 0.631102398057\n",
      "Train Ridge MSE:  0.141488576519\n",
      "Test Ridge MSE: 0.131756811107\n"
     ]
    }
   ],
   "source": [
    "lm = linear_model.LinearRegression().fit(X_train, y_train)\n",
    "print 'Train OLS MSE: ', metrics.mean_squared_error(y_train, lm.predict(X_train))\n",
    "print 'Test OLS MSE:', metrics.mean_squared_error(y_test, lm.predict(X_test))\n",
    "\n",
    "lm = linear_model.Lasso().fit(X_train, y_train)\n",
    "print 'Train Lasso MSE: ', metrics.mean_squared_error(y_train, lm.predict(X_train))\n",
    "print 'Test Lasso MSE:', metrics.mean_squared_error(y_test, lm.predict(X_test))\n",
    "\n",
    "lm = linear_model.Ridge().fit(X_train, y_train)\n",
    "print 'Train Ridge MSE: ', metrics.mean_squared_error(y_train, lm.predict(X_train))\n",
    "print 'Test Ridge MSE:', metrics.mean_squared_error(y_test, lm.predict(X_test))"
   ]
  },
  {
   "cell_type": "code",
   "execution_count": 108,
   "metadata": {
    "collapsed": false
   },
   "outputs": [],
   "source": [
    "from sklearn import grid_search\n",
    "\n",
    "alphas = np.logspace(-10, 10, 21)\n",
    "gs = grid_search.GridSearchCV(\n",
    "    cv=5,\n",
    "    estimator=linear_model.Ridge(),\n",
    "    param_grid={'alpha': alphas, 'fit_intercept': [True, False]},\n",
    "    scoring='mean_squared_error')\n",
    "\n",
    "result = gs.fit(X_train, y_train)"
   ]
  },
  {
   "cell_type": "code",
   "execution_count": 109,
   "metadata": {
    "collapsed": false
   },
   "outputs": [
    {
     "name": "stdout",
     "output_type": "stream",
     "text": [
      "[mean: -0.14293, std: 0.01448, params: {'alpha': 1e-10, 'fit_intercept': True},\n",
      " mean: -0.14403, std: 0.01440, params: {'alpha': 1e-10, 'fit_intercept': False},\n",
      " mean: -0.14293, std: 0.01448, params: {'alpha': 1.0000000000000001e-09, 'fit_intercept': True},\n",
      " mean: -0.14403, std: 0.01440, params: {'alpha': 1.0000000000000001e-09, 'fit_intercept': False},\n",
      " mean: -0.14293, std: 0.01448, params: {'alpha': 1e-08, 'fit_intercept': True},\n",
      " mean: -0.14403, std: 0.01440, params: {'alpha': 1e-08, 'fit_intercept': False},\n",
      " mean: -0.14293, std: 0.01448, params: {'alpha': 9.9999999999999995e-08, 'fit_intercept': True},\n",
      " mean: -0.14403, std: 0.01440, params: {'alpha': 9.9999999999999995e-08, 'fit_intercept': False},\n",
      " mean: -0.14293, std: 0.01448, params: {'alpha': 9.9999999999999995e-07, 'fit_intercept': True},\n",
      " mean: -0.14403, std: 0.01440, params: {'alpha': 9.9999999999999995e-07, 'fit_intercept': False},\n",
      " mean: -0.14293, std: 0.01448, params: {'alpha': 1.0000000000000001e-05, 'fit_intercept': True},\n",
      " mean: -0.14403, std: 0.01440, params: {'alpha': 1.0000000000000001e-05, 'fit_intercept': False},\n",
      " mean: -0.14293, std: 0.01448, params: {'alpha': 0.0001, 'fit_intercept': True},\n",
      " mean: -0.14403, std: 0.01440, params: {'alpha': 0.0001, 'fit_intercept': False},\n",
      " mean: -0.14293, std: 0.01448, params: {'alpha': 0.001, 'fit_intercept': True},\n",
      " mean: -0.14403, std: 0.01440, params: {'alpha': 0.001, 'fit_intercept': False},\n",
      " mean: -0.14293, std: 0.01448, params: {'alpha': 0.01, 'fit_intercept': True},\n",
      " mean: -0.14403, std: 0.01440, params: {'alpha': 0.01, 'fit_intercept': False},\n",
      " mean: -0.14292, std: 0.01448, params: {'alpha': 0.10000000000000001, 'fit_intercept': True},\n",
      " mean: -0.14402, std: 0.01440, params: {'alpha': 0.10000000000000001, 'fit_intercept': False},\n",
      " mean: -0.14290, std: 0.01452, params: {'alpha': 1.0, 'fit_intercept': True},\n",
      " mean: -0.14400, std: 0.01441, params: {'alpha': 1.0, 'fit_intercept': False},\n",
      " mean: -0.14317, std: 0.01484, params: {'alpha': 10.0, 'fit_intercept': True},\n",
      " mean: -0.14423, std: 0.01457, params: {'alpha': 10.0, 'fit_intercept': False},\n",
      " mean: -0.14684, std: 0.01577, params: {'alpha': 100.0, 'fit_intercept': True},\n",
      " mean: -0.14728, std: 0.01503, params: {'alpha': 100.0, 'fit_intercept': False},\n",
      " mean: -0.17919, std: 0.01659, params: {'alpha': 1000.0, 'fit_intercept': True},\n",
      " mean: -0.17640, std: 0.01495, params: {'alpha': 1000.0, 'fit_intercept': False},\n",
      " mean: -0.38997, std: 0.01743, params: {'alpha': 10000.0, 'fit_intercept': True},\n",
      " mean: -0.46620, std: 0.02565, params: {'alpha': 10000.0, 'fit_intercept': False},\n",
      " mean: -0.60155, std: 0.02288, params: {'alpha': 100000.0, 'fit_intercept': True},\n",
      " mean: -0.88861, std: 0.05072, params: {'alpha': 100000.0, 'fit_intercept': False},\n",
      " mean: -0.65874, std: 0.02549, params: {'alpha': 1000000.0, 'fit_intercept': True},\n",
      " mean: -1.01938, std: 0.05859, params: {'alpha': 1000000.0, 'fit_intercept': False},\n",
      " mean: -0.66578, std: 0.02581, params: {'alpha': 10000000.0, 'fit_intercept': True},\n",
      " mean: -1.03586, std: 0.05953, params: {'alpha': 10000000.0, 'fit_intercept': False},\n",
      " mean: -0.66650, std: 0.02584, params: {'alpha': 100000000.0, 'fit_intercept': True},\n",
      " mean: -1.03755, std: 0.05963, params: {'alpha': 100000000.0, 'fit_intercept': False},\n",
      " mean: -0.66657, std: 0.02584, params: {'alpha': 1000000000.0, 'fit_intercept': True},\n",
      " mean: -1.03772, std: 0.05964, params: {'alpha': 1000000000.0, 'fit_intercept': False},\n",
      " mean: -0.66657, std: 0.02578, params: {'alpha': 10000000000.0, 'fit_intercept': True},\n",
      " mean: -1.03775, std: 0.05972, params: {'alpha': 10000000000.0, 'fit_intercept': False}]\n"
     ]
    }
   ],
   "source": [
    "from pprint import pprint\n",
    "pprint(gs.grid_scores_ )"
   ]
  },
  {
   "cell_type": "code",
   "execution_count": 110,
   "metadata": {
    "collapsed": false
   },
   "outputs": [
    {
     "name": "stdout",
     "output_type": "stream",
     "text": [
      "-0.142899713033\n",
      "Ridge(alpha=1.0, copy_X=True, fit_intercept=True, max_iter=None,\n",
      "   normalize=False, random_state=None, solver='auto', tol=0.001)\n"
     ]
    }
   ],
   "source": [
    "print gs.best_score_\n",
    "print gs.best_estimator_\n",
    "lrbestmodel=gs.best_estimator_"
   ]
  },
  {
   "cell_type": "code",
   "execution_count": 111,
   "metadata": {
    "collapsed": false
   },
   "outputs": [
    {
     "name": "stdout",
     "output_type": "stream",
     "text": [
      "[  9.03830590e-01   6.82179517e-06   3.32679475e-02   8.81638608e-02\n",
      "   3.06592090e-03  -1.00817824e-01   2.13546324e-01  -7.60678790e-03\n",
      "  -1.54631896e-01  -3.82358069e-02   4.54730804e-02   1.42564993e-01\n",
      "  -5.09424751e-02  -4.78590664e-02   1.59066331e-01   1.57649471e-01\n",
      "  -2.49493105e-02   1.94425563e-02   2.20202625e-01   1.68542560e-01\n",
      "  -9.21964115e-01   5.40058636e-03   2.22296832e-02  -1.88649734e-02\n",
      "  -3.05356798e-02  -1.30183148e-01  -1.09949892e-01  -1.39517232e-01\n",
      "  -1.34524699e-01  -1.58400695e-01  -2.38499775e-01  -2.21394071e-01]\n"
     ]
    }
   ],
   "source": [
    "print lrbestmodel.coef_"
   ]
  },
  {
   "cell_type": "code",
   "execution_count": 112,
   "metadata": {
    "collapsed": false
   },
   "outputs": [],
   "source": [
    "prediction = lrbestmodel.predict(X_test)"
   ]
  },
  {
   "cell_type": "code",
   "execution_count": 113,
   "metadata": {
    "collapsed": false
   },
   "outputs": [
    {
     "data": {
      "image/png": "[encoded data removed]",
      "text/plain": [
       "<matplotlib.figure.Figure at 0x19f23da0>"
      ]
     },
     "metadata": {},
     "output_type": "display_data"
    }
   ],
   "source": [
    "fig, ax = plt.subplots()\n",
    "ax.scatter(y_test, prediction)\n",
    "ax.plot([y.min(), y.max()], [y.min(), y.max()], 'k--', lw=4)\n",
    "ax.set_xlabel('y_test')\n",
    "ax.set_ylabel('Prediction')\n",
    "plt.show()"
   ]
  },
  {
   "cell_type": "code",
   "execution_count": 114,
   "metadata": {
    "collapsed": false
   },
   "outputs": [
    {
     "name": "stdout",
     "output_type": "stream",
     "text": [
      "Prediction: DescribeResult(nobs=1861L, minmax=(2.7621259606902622, 6.9677918299283563), mean=4.6294365713529446, variance=0.51474924349805029, skewness=0.1741817004652936, kurtosis=-0.30049203124321977)\n",
      "y_test: DescribeResult(nobs=1861L, minmax=(1.6627578316815741, 7.2612422363398883), mean=4.6361100710652536, variance=0.63725962483429255, skewness=-0.019595124169749786, kurtosis=0.058401921786591426)\n"
     ]
    },
    {
     "data": {
      "text/plain": [
       "0.79269931546685979"
      ]
     },
     "execution_count": 114,
     "metadata": {},
     "output_type": "execute_result"
    },
    {
     "data": {
      "image/png": "[encoded data removed]",
      "text/plain": [
       "<matplotlib.figure.Figure at 0x19f16748>"
      ]
     },
     "metadata": {},
     "output_type": "display_data"
    }
   ],
   "source": [
    "from scipy.stats import norm, normaltest, describe\n",
    "sns.distplot(prediction, fit=norm, rug=True, color='b');\n",
    "sns.distplot(y_test, fit=norm, rug=True, color='g');\n",
    "print \"Prediction:\", describe(prediction)\n",
    "stat, p = normaltest(prediction)\n",
    "p\n",
    "\n",
    "print \"y_test:\", describe(y_test)\n",
    "stat, p = normaltest(y_test)\n",
    "p"
   ]
  },
  {
   "cell_type": "code",
   "execution_count": 115,
   "metadata": {
    "collapsed": false
   },
   "outputs": [
    {
     "data": {
      "image/png": "[encoded data removed]",
      "text/plain": [
       "<matplotlib.figure.Figure at 0x1ba3c470>"
      ]
     },
     "metadata": {},
     "output_type": "display_data"
    }
   ],
   "source": [
    "fig, axes = plt.subplots(nrows=1, ncols=3, figsize=(10, 5))\n",
    "for i, col in enumerate(['POPU_LSA', 'STINCOME', 'STGVT']):\n",
    "    sns.residplot(y='TOTCIR', x=col, data=dummy_df, ax=axes[i])"
   ]
  },
  {
   "cell_type": "markdown",
   "metadata": {},
   "source": [
    "## Random Forest"
   ]
  },
  {
   "cell_type": "code",
   "execution_count": 116,
   "metadata": {
    "collapsed": false
   },
   "outputs": [
    {
     "data": {
      "text/plain": [
       "GridSearchCV(cv=5, error_score='raise',\n",
       "       estimator=RandomForestRegressor(bootstrap=True, criterion='mse', max_depth=None,\n",
       "           max_features='auto', max_leaf_nodes=None, min_samples_leaf=1,\n",
       "           min_samples_split=2, min_weight_fraction_leaf=0.0,\n",
       "           n_estimators=10, n_jobs=1, oob_score=False, random_state=None,\n",
       "           verbose=0, warm_start=False),\n",
       "       fit_params={}, iid=True, n_jobs=1,\n",
       "       param_grid={'min_samples_split': array([10, 20, 30, 40]), 'max_depth': array([ 2,  7, 12, 17, 22, 27, 32, 37, 42, 47, 52, 57, 62, 67, 72])},\n",
       "       pre_dispatch='2*n_jobs', refit=True, scoring='mean_squared_error',\n",
       "       verbose=0)"
      ]
     },
     "execution_count": 116,
     "metadata": {},
     "output_type": "execute_result"
    }
   ],
   "source": [
    "from sklearn.ensemble import RandomForestRegressor\n",
    "\n",
    "maxdepth = np.arange(2, 75, 5)\n",
    "minsamples = np.arange(10, 50, 10)\n",
    "randomforest_gs = grid_search.GridSearchCV(\n",
    "    cv=5,\n",
    "    estimator=RandomForestRegressor(),\n",
    "    param_grid={'max_depth': maxdepth, 'min_samples_split': minsamples},\n",
    "    scoring='mean_squared_error')\n",
    "\n",
    "randomforest_gs.fit(X_train, y_train)"
   ]
  },
  {
   "cell_type": "code",
   "execution_count": 117,
   "metadata": {
    "collapsed": false
   },
   "outputs": [
    {
     "name": "stdout",
     "output_type": "stream",
     "text": [
      "[mean: -0.21375, std: 0.01665, params: {'min_samples_split': 10, 'max_depth': 2},\n",
      " mean: -0.21216, std: 0.02017, params: {'min_samples_split': 20, 'max_depth': 2},\n",
      " mean: -0.21511, std: 0.01848, params: {'min_samples_split': 30, 'max_depth': 2},\n",
      " mean: -0.21333, std: 0.02058, params: {'min_samples_split': 40, 'max_depth': 2},\n",
      " mean: -0.14778, std: 0.01429, params: {'min_samples_split': 10, 'max_depth': 7},\n",
      " mean: -0.14614, std: 0.01447, params: {'min_samples_split': 20, 'max_depth': 7},\n",
      " mean: -0.14598, std: 0.01450, params: {'min_samples_split': 30, 'max_depth': 7},\n",
      " mean: -0.14529, std: 0.01319, params: {'min_samples_split': 40, 'max_depth': 7},\n",
      " mean: -0.14209, std: 0.01351, params: {'min_samples_split': 10, 'max_depth': 12},\n",
      " mean: -0.14087, std: 0.01413, params: {'min_samples_split': 20, 'max_depth': 12},\n",
      " mean: -0.14091, std: 0.01444, params: {'min_samples_split': 30, 'max_depth': 12},\n",
      " mean: -0.14123, std: 0.01469, params: {'min_samples_split': 40, 'max_depth': 12},\n",
      " mean: -0.14483, std: 0.01224, params: {'min_samples_split': 10, 'max_depth': 17},\n",
      " mean: -0.14079, std: 0.01404, params: {'min_samples_split': 20, 'max_depth': 17},\n",
      " mean: -0.14048, std: 0.01390, params: {'min_samples_split': 30, 'max_depth': 17},\n",
      " mean: -0.14050, std: 0.01472, params: {'min_samples_split': 40, 'max_depth': 17},\n",
      " mean: -0.14392, std: 0.01229, params: {'min_samples_split': 10, 'max_depth': 22},\n",
      " mean: -0.14149, std: 0.01206, params: {'min_samples_split': 20, 'max_depth': 22},\n",
      " mean: -0.13998, std: 0.01631, params: {'min_samples_split': 30, 'max_depth': 22},\n",
      " mean: -0.14038, std: 0.01513, params: {'min_samples_split': 40, 'max_depth': 22},\n",
      " mean: -0.14601, std: 0.01283, params: {'min_samples_split': 10, 'max_depth': 27},\n",
      " mean: -0.14132, std: 0.01411, params: {'min_samples_split': 20, 'max_depth': 27},\n",
      " mean: -0.14018, std: 0.01557, params: {'min_samples_split': 30, 'max_depth': 27},\n",
      " mean: -0.14148, std: 0.01557, params: {'min_samples_split': 40, 'max_depth': 27},\n",
      " mean: -0.14439, std: 0.01270, params: {'min_samples_split': 10, 'max_depth': 32},\n",
      " mean: -0.14131, std: 0.01431, params: {'min_samples_split': 20, 'max_depth': 32},\n",
      " mean: -0.14203, std: 0.01405, params: {'min_samples_split': 30, 'max_depth': 32},\n",
      " mean: -0.14098, std: 0.01485, params: {'min_samples_split': 40, 'max_depth': 32},\n",
      " mean: -0.14460, std: 0.01540, params: {'min_samples_split': 10, 'max_depth': 37},\n",
      " mean: -0.14170, std: 0.01389, params: {'min_samples_split': 20, 'max_depth': 37},\n",
      " mean: -0.14049, std: 0.01424, params: {'min_samples_split': 30, 'max_depth': 37},\n",
      " mean: -0.14037, std: 0.01378, params: {'min_samples_split': 40, 'max_depth': 37},\n",
      " mean: -0.14367, std: 0.01558, params: {'min_samples_split': 10, 'max_depth': 42},\n",
      " mean: -0.14087, std: 0.01415, params: {'min_samples_split': 20, 'max_depth': 42},\n",
      " mean: -0.13875, std: 0.01356, params: {'min_samples_split': 30, 'max_depth': 42},\n",
      " mean: -0.14145, std: 0.01511, params: {'min_samples_split': 40, 'max_depth': 42},\n",
      " mean: -0.14505, std: 0.01451, params: {'min_samples_split': 10, 'max_depth': 47},\n",
      " mean: -0.14124, std: 0.01498, params: {'min_samples_split': 20, 'max_depth': 47},\n",
      " mean: -0.14055, std: 0.01443, params: {'min_samples_split': 30, 'max_depth': 47},\n",
      " mean: -0.14008, std: 0.01379, params: {'min_samples_split': 40, 'max_depth': 47},\n",
      " mean: -0.14443, std: 0.01248, params: {'min_samples_split': 10, 'max_depth': 52},\n",
      " mean: -0.14108, std: 0.01393, params: {'min_samples_split': 20, 'max_depth': 52},\n",
      " mean: -0.14050, std: 0.01482, params: {'min_samples_split': 30, 'max_depth': 52},\n",
      " mean: -0.14061, std: 0.01539, params: {'min_samples_split': 40, 'max_depth': 52},\n",
      " mean: -0.14674, std: 0.01504, params: {'min_samples_split': 10, 'max_depth': 57},\n",
      " mean: -0.14144, std: 0.01425, params: {'min_samples_split': 20, 'max_depth': 57},\n",
      " mean: -0.14062, std: 0.01333, params: {'min_samples_split': 30, 'max_depth': 57},\n",
      " mean: -0.14105, std: 0.01581, params: {'min_samples_split': 40, 'max_depth': 57},\n",
      " mean: -0.14304, std: 0.01436, params: {'min_samples_split': 10, 'max_depth': 62},\n",
      " mean: -0.14052, std: 0.01431, params: {'min_samples_split': 20, 'max_depth': 62},\n",
      " mean: -0.13938, std: 0.01459, params: {'min_samples_split': 30, 'max_depth': 62},\n",
      " mean: -0.14065, std: 0.01346, params: {'min_samples_split': 40, 'max_depth': 62},\n",
      " mean: -0.14581, std: 0.01413, params: {'min_samples_split': 10, 'max_depth': 67},\n",
      " mean: -0.14129, std: 0.01353, params: {'min_samples_split': 20, 'max_depth': 67},\n",
      " mean: -0.14085, std: 0.01471, params: {'min_samples_split': 30, 'max_depth': 67},\n",
      " mean: -0.13954, std: 0.01569, params: {'min_samples_split': 40, 'max_depth': 67},\n",
      " mean: -0.14407, std: 0.01242, params: {'min_samples_split': 10, 'max_depth': 72},\n",
      " mean: -0.14168, std: 0.01520, params: {'min_samples_split': 20, 'max_depth': 72},\n",
      " mean: -0.14102, std: 0.01469, params: {'min_samples_split': 30, 'max_depth': 72},\n",
      " mean: -0.14022, std: 0.01521, params: {'min_samples_split': 40, 'max_depth': 72}]\n"
     ]
    }
   ],
   "source": [
    "pprint(randomforest_gs.grid_scores_ )"
   ]
  },
  {
   "cell_type": "code",
   "execution_count": 118,
   "metadata": {
    "collapsed": false
   },
   "outputs": [
    {
     "name": "stdout",
     "output_type": "stream",
     "text": [
      "-0.138745545914\n",
      "RandomForestRegressor(bootstrap=True, criterion='mse', max_depth=42,\n",
      "           max_features='auto', max_leaf_nodes=None, min_samples_leaf=1,\n",
      "           min_samples_split=30, min_weight_fraction_leaf=0.0,\n",
      "           n_estimators=10, n_jobs=1, oob_score=False, random_state=None,\n",
      "           verbose=0, warm_start=False)\n"
     ]
    }
   ],
   "source": [
    "print randomforest_gs.best_score_\n",
    "print randomforest_gs.best_estimator_\n",
    "rfbestmodel=randomforest_gs.best_estimator_"
   ]
  },
  {
   "cell_type": "code",
   "execution_count": 119,
   "metadata": {
    "collapsed": false
   },
   "outputs": [],
   "source": [
    "prediction = rfbestmodel.predict(X_test)"
   ]
  },
  {
   "cell_type": "code",
   "execution_count": 120,
   "metadata": {
    "collapsed": false
   },
   "outputs": [
    {
     "data": {
      "image/png": "[encoded data removed]",
      "text/plain": [
       "<matplotlib.figure.Figure at 0x16e50f60>"
      ]
     },
     "metadata": {},
     "output_type": "display_data"
    }
   ],
   "source": [
    "fig, ax = plt.subplots()\n",
    "ax.scatter(y_test, prediction)\n",
    "ax.plot([y.min(), y.max()], [y.min(), y.max()], 'k--', lw=4)\n",
    "ax.set_xlabel('y_test')\n",
    "ax.set_ylabel('prediction')\n",
    "plt.show()"
   ]
  },
  {
   "cell_type": "code",
   "execution_count": 121,
   "metadata": {
    "collapsed": false
   },
   "outputs": [
    {
     "name": "stdout",
     "output_type": "stream",
     "text": [
      "Prediction: DescribeResult(nobs=1861L, minmax=(2.8786742546317976, 6.9931387844375141), mean=4.6268506830538438, variance=0.51799302141928061, skewness=0.2124372664320474, kurtosis=-0.2020041300820994)\n",
      "y_test: DescribeResult(nobs=1861L, minmax=(1.6627578316815741, 7.2612422363398883), mean=4.6361100710652536, variance=0.63725962483429255, skewness=-0.019595124169749786, kurtosis=0.058401921786591426)\n"
     ]
    },
    {
     "data": {
      "text/plain": [
       "0.79269931546685979"
      ]
     },
     "execution_count": 121,
     "metadata": {},
     "output_type": "execute_result"
    },
    {
     "data": {
      "image/png": "[encoded data removed]",
      "text/plain": [
       "<matplotlib.figure.Figure at 0x1d2d5668>"
      ]
     },
     "metadata": {},
     "output_type": "display_data"
    }
   ],
   "source": [
    "from scipy.stats import norm, normaltest, describe\n",
    "sns.distplot(prediction, fit=norm, rug=True, color='b');\n",
    "sns.distplot(y_test, fit=norm, rug=True, color='g');\n",
    "print \"Prediction:\", describe(prediction)\n",
    "stat, p = normaltest(prediction)\n",
    "p\n",
    "\n",
    "print \"y_test:\", describe(y_test)\n",
    "stat, p = normaltest(y_test)\n",
    "p"
   ]
  },
  {
   "cell_type": "code",
   "execution_count": 122,
   "metadata": {
    "collapsed": false
   },
   "outputs": [
    {
     "data": {
      "image/png": "[encoded data removed]",
      "text/plain": [
       "<matplotlib.figure.Figure at 0x19f325c0>"
      ]
     },
     "metadata": {},
     "output_type": "display_data"
    }
   ],
   "source": [
    "importances = rfbestmodel.feature_importances_\n",
    "std = np.std([rfbestmodel.feature_importances_ for tree in rfbestmodel.estimators_],\n",
    "             axis=0)\n",
    "indices = np.argsort(importances)[::-1]\n",
    "\n",
    "plt.figure()\n",
    "plt.title(\"Feature importances\")\n",
    "plt.bar(range(X.shape[1]), importances[indices],\n",
    "       color=\"r\", yerr=std[indices], align=\"center\")\n",
    "plt.xticks(range(X.shape[1]), indices)\n",
    "plt.xlim([-1, X.shape[1]])\n",
    "plt.show()"
   ]
  },
  {
   "cell_type": "code",
   "execution_count": 123,
   "metadata": {
    "collapsed": false
   },
   "outputs": [
    {
     "data": {
      "text/html": [
       "<div>\n",
       "<table border=\"1\" class=\"dataframe\">\n",
       "  <thead>\n",
       "    <tr style=\"text-align: right;\">\n",
       "      <th></th>\n",
       "      <th>Features</th>\n",
       "      <th>Importance Score</th>\n",
       "    </tr>\n",
       "  </thead>\n",
       "  <tbody>\n",
       "    <tr>\n",
       "      <th>0</th>\n",
       "      <td>POPU_LSA</td>\n",
       "      <td>0.880085</td>\n",
       "    </tr>\n",
       "    <tr>\n",
       "      <th>1</th>\n",
       "      <td>STINCOME</td>\n",
       "      <td>0.041450</td>\n",
       "    </tr>\n",
       "    <tr>\n",
       "      <th>2</th>\n",
       "      <td>STGVT</td>\n",
       "      <td>0.026879</td>\n",
       "    </tr>\n",
       "    <tr>\n",
       "      <th>20</th>\n",
       "      <td>OBEREG_9</td>\n",
       "      <td>0.005608</td>\n",
       "    </tr>\n",
       "    <tr>\n",
       "      <th>14</th>\n",
       "      <td>OBEREG_3</td>\n",
       "      <td>0.005143</td>\n",
       "    </tr>\n",
       "  </tbody>\n",
       "</table>\n",
       "</div>"
      ],
      "text/plain": [
       "    Features  Importance Score\n",
       "0   POPU_LSA          0.880085\n",
       "1   STINCOME          0.041450\n",
       "2      STGVT          0.026879\n",
       "20  OBEREG_9          0.005608\n",
       "14  OBEREG_3          0.005143"
      ]
     },
     "execution_count": 123,
     "metadata": {},
     "output_type": "execute_result"
    }
   ],
   "source": [
    "features = dummy_df.drop(['TOTCIR'], axis=1).columns\n",
    "feature_importances = rfbestmodel.feature_importances_\n",
    "\n",
    "features_df = pd.DataFrame({'Features': features, 'Importance Score': feature_importances})\n",
    "features_df.sort_values('Importance Score', inplace=True, ascending=False)\n",
    "\n",
    "features_df.head()"
   ]
  },
  {
   "cell_type": "code",
   "execution_count": null,
   "metadata": {
    "collapsed": true
   },
   "outputs": [],
   "source": []
  }
 ],
 "metadata": {
  "anaconda-cloud": {},
  "kernelspec": {
   "display_name": "Python [conda root]",
   "language": "python",
   "name": "conda-root-py"
  },
  "language_info": {
   "codemirror_mode": {
    "name": "ipython",
    "version": 2
   },
   "file_extension": ".py",
   "mimetype": "text/x-python",
   "name": "python",
   "nbconvert_exporter": "python",
   "pygments_lexer": "ipython2",
   "version": "2.7.12"
  }
 },
 "nbformat": 4,
 "nbformat_minor": 1
}
