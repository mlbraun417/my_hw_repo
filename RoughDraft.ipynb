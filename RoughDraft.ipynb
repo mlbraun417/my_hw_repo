{
 "cells": [
  {
   "cell_type": "markdown",
   "metadata": {},
   "source": [
    "## Hypothesis"
   ]
  },
  {
   "cell_type": "markdown",
   "metadata": {},
   "source": [
    "Annual circulation can be predicted by library and geographical characteristics."
   ]
  },
  {
   "cell_type": "markdown",
   "metadata": {
    "collapsed": true
   },
   "source": [
    "## Data"
   ]
  },
  {
   "cell_type": "markdown",
   "metadata": {},
   "source": [
    "The data is from the 2014 Public Library Survey, the most recent available survey from the Institute of Museum and Library Services.  Three CSV files are publicly available, broken down by state, administrative entity, and library outlet. I will be using the administrative entity data set since it’s the most comprehensive.  There are 9,305 entries and 159 variables."
   ]
  },
  {
   "cell_type": "markdown",
   "metadata": {},
   "source": [
    "### Data Dictionary"
   ]
  },
  {
   "cell_type": "markdown",
   "metadata": {},
   "source": [
    "The data dictionary can be found here, starting at page 24 of the pdf.\n",
    "https://www.imls.gov/sites/default/files/fy2014_pls_data_file_documentation.pdf\n",
    "\n",
    "A data dictionary for the variables I will be using is below.\n",
    "\n",
    "Variable Name | Description | Type of Variable\n",
    ":---: | :---:| :---:\n",
    "TOTCIR | Total annual circulation | continuous\n",
    "STGVT | Operating revenue from state government | Continuous \n",
    "GEOCODE | Geographic Code| Categorical\n",
    "POPU_LSA | Population of the legal service area | Continuous\n",
    "OBEREG | Region | Categorical\n",
    "LOCALE | Geographic location | Categorical"
   ]
  },
  {
   "cell_type": "markdown",
   "metadata": {},
   "source": [
    "GEOCODE\n",
    "\n",
    "Code | Category\n",
    ":---: | :---\n",
    "CI1 | Municipal Government (city, town, or village) (exactly)\n",
    "CI2 | Municipal Government (city, town, or village) (most nearly)\n",
    "CO1 | County/Parish (exactly)\n",
    "CO2 | County/Parish (most nearly)\n",
    "MA1 | Metropolitan Area (exactly)\n",
    "MA2 | Metropolitan Area (most nearly)\n",
    "MC1 | Multi-County (exactly)\n",
    "MC2 | Multi-County (most nearly)\n",
    "SD1 | School Disctrict (exactly)\n",
    "SD2 | School District (most nearly)\n",
    "OTH | Other"
   ]
  },
  {
   "cell_type": "markdown",
   "metadata": {},
   "source": [
    "OBEREG\n",
    "\n",
    "Code | Category\n",
    ":---: | :---\n",
    "01 | New England (CT, ME, MA, NH, RI, VT)\n",
    "02 | Mid East (DE, DC, MD, NJ, NY, PA)\n",
    "03 | Great Lakes (IL, IN, MI, OH, WI)\n",
    "04 | Plains (IA, KS, MN, MO, NE, ND, SD)\n",
    "05 | Southeast (AL, AR, FL, GA, KY, LA, MS, NC, SC, TN, VA, WV)\n",
    "06 | Southwest (AZ, NM, OK, TX)\n",
    "07 | Rocky Mountains (CO, ID, MT, UT, WY)\n",
    "08 | Far West (AK, CA, HI, NV, OR, WA)\n",
    "09 | Outlying Areas (AS, GU, MP, PR, VI)"
   ]
  },
  {
   "cell_type": "markdown",
   "metadata": {},
   "source": [
    "LOCALE\n",
    "\n",
    "Code | Category\n",
    ":---: | :---\n",
    "11 | City, Large: Territory inside an urbanized area and inside a principal city with population of 250,000 or more.\n",
    "12 | City, Mid-Size: Territory inside an urbanized area and inside a principal city with a population less than 250,000 and greater than or equal to 100,000.\n",
    "13 | City, Small: Territory inside an urbanized area and inside a principal city with a population less than 100,000.\n",
    "21 | Suburb, Large: Territory outside a principal city and inside an urbanized area with population of 250,000 or more.\n",
    "22 | Suburb, Mid-size: Territory outside a principal city and inside an urbanized area with population of less than 250,000 and greater than or equal to 100,000.\n",
    "23 | Suburb, Small: Territory outside a principal city and inside an urbanized area with population less than 100,000.\n",
    "31 | Town, Fringe: Territory inside an urban cluster that is less than or equal to 10 miles from an urbanized area.\n",
    "32 | Town, Distant: Territory inside an urban cluster that is more than 10 miles and less than or equal to 35 miles from an urbanized area.\n",
    "33 | Town, Remote: Territory inside an urban cluster that is more than 35 miles from an urbanized area.\n",
    "41 | Rural, Fringe: Census-defined rural territory that is less than or equal to 5 miles from an urbanized area, as well as rural territory that is less than or equal to 2.5 miles from an urban cluster.\n",
    "42 | Rural, Distant: Census-defined rural territory that is more than 5 miles but less than or equal to 25 miles from an urbanized area, as well as rural territory that is more than 2.5 miles but less than or equal to 10 miles from an urban cluster.\n",
    "43 | Rural, Remote: Census-defined rural territory that is more than 25 miles from an urbanized area and is also more than 10 miles from an urban cluster."
   ]
  },
  {
   "cell_type": "markdown",
   "metadata": {},
   "source": [
    "I found that most of the continuous variables in the dataset were highly correlated.  This limited the combinations that I could use, and included more categorical variables."
   ]
  },
  {
   "cell_type": "markdown",
   "metadata": {},
   "source": [
    "I replaced the missing continuous data with the median and the missing categorical with the mode.  I also replaced all values of zero in the continuous variables so I could take the log.  The data in the original form was very skewed."
   ]
  },
  {
   "cell_type": "markdown",
   "metadata": {},
   "source": [
    "Finally, I split my data into train and test sets with 80% of the data in the train set and 20% in the test set"
   ]
  },
  {
   "cell_type": "markdown",
   "metadata": {
    "collapsed": true
   },
   "source": [
    "## Analysis"
   ]
  },
  {
   "cell_type": "markdown",
   "metadata": {},
   "source": [
    "After using a statsmodels linear regression to get a better understanding of the variables, I modeled the data using a linear regression in scikit learn and a random forest.  "
   ]
  },
  {
   "cell_type": "markdown",
   "metadata": {
    "collapsed": true
   },
   "source": [
    "### Linear Regression"
   ]
  },
  {
   "cell_type": "markdown",
   "metadata": {},
   "source": [
    "I used a ridge linear regression on my train data set and, through gridsearch, found that an alpha of 1.0 with an intercept was the best estimator, with a mean squared error of 0.14.  I also plotted the residuals of the model, which can be found in the appendix."
   ]
  },
  {
   "cell_type": "markdown",
   "metadata": {
    "collapsed": true
   },
   "source": [
    "### Random Forest"
   ]
  },
  {
   "cell_type": "markdown",
   "metadata": {},
   "source": [
    "Next, I used a random forest to predict circulation.  To do this I used 10 estimators and then plotted the residuals, which can be found in the appendix.  I also found that the population of the service area was the most important feature.  All other features had very low importance."
   ]
  },
  {
   "cell_type": "markdown",
   "metadata": {},
   "source": [
    "## Next Steps"
   ]
  },
  {
   "cell_type": "markdown",
   "metadata": {
    "collapsed": true
   },
   "source": [
    "The next step would be to include demographic data, such as area median income or the age distribution, to see how that affects circulation.  Unfortunately, I could not get the data in the right format in time to include it in the model."
   ]
  },
  {
   "cell_type": "code",
   "execution_count": null,
   "metadata": {
    "collapsed": true
   },
   "outputs": [],
   "source": []
  }
 ],
 "metadata": {
  "anaconda-cloud": {},
  "kernelspec": {
   "display_name": "Python [conda root]",
   "language": "python",
   "name": "conda-root-py"
  },
  "language_info": {
   "codemirror_mode": {
    "name": "ipython",
    "version": 2
   },
   "file_extension": ".py",
   "mimetype": "text/x-python",
   "name": "python",
   "nbconvert_exporter": "python",
   "pygments_lexer": "ipython2",
   "version": "2.7.12"
  }
 },
 "nbformat": 4,
 "nbformat_minor": 1
}
