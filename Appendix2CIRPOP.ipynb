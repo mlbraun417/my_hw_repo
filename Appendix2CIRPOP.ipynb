{
 "cells": [
  {
   "cell_type": "code",
   "execution_count": 76,
   "metadata": {
    "collapsed": true
   },
   "outputs": [],
   "source": [
    "import pandas as pd\n",
    "import numpy as np\n",
    "import matplotlib.pyplot as plt\n",
    "import seaborn as sns\n",
    "%matplotlib inline"
   ]
  },
  {
   "cell_type": "code",
   "execution_count": 77,
   "metadata": {
    "collapsed": true
   },
   "outputs": [],
   "source": [
    "raw = pd.read_csv(\"PLS_FY2014_AE_pupld14a1.csv\")"
   ]
  },
  {
   "cell_type": "markdown",
   "metadata": {},
   "source": [
    "## Original Data"
   ]
  },
  {
   "cell_type": "code",
   "execution_count": 78,
   "metadata": {
    "collapsed": false
   },
   "outputs": [
    {
     "name": "stdout",
     "output_type": "stream",
     "text": [
      "<class 'pandas.core.frame.DataFrame'>\n",
      "RangeIndex: 9301 entries, 0 to 9300\n",
      "Columns: 161 entries, STABR to YR_SUB\n",
      "dtypes: float64(10), int64(63), object(88)\n",
      "memory usage: 11.4+ MB\n"
     ]
    }
   ],
   "source": [
    "raw.info()"
   ]
  },
  {
   "cell_type": "code",
   "execution_count": 79,
   "metadata": {
    "collapsed": false
   },
   "outputs": [
    {
     "data": {
      "text/html": [
       "<div>\n",
       "<table border=\"1\" class=\"dataframe\">\n",
       "  <thead>\n",
       "    <tr style=\"text-align: right;\">\n",
       "      <th></th>\n",
       "      <th>TOTCIR</th>\n",
       "      <th>POPU_LSA</th>\n",
       "      <th>STINCOME</th>\n",
       "      <th>BKVOL</th>\n",
       "      <th>EBOOK</th>\n",
       "      <th>STGVT</th>\n",
       "      <th>FEDGVT</th>\n",
       "      <th>LOCGVT</th>\n",
       "      <th>TOTSTAFF</th>\n",
       "      <th>GEOCODE</th>\n",
       "      <th>OBEREG</th>\n",
       "      <th>LOCALE</th>\n",
       "    </tr>\n",
       "  </thead>\n",
       "  <tbody>\n",
       "    <tr>\n",
       "      <th>0</th>\n",
       "      <td>11607</td>\n",
       "      <td>2059</td>\n",
       "      <td>71829</td>\n",
       "      <td>16843</td>\n",
       "      <td>0</td>\n",
       "      <td>18993</td>\n",
       "      <td>2821</td>\n",
       "      <td>0</td>\n",
       "      <td>0.68</td>\n",
       "      <td>CI1</td>\n",
       "      <td>8</td>\n",
       "      <td>43</td>\n",
       "    </tr>\n",
       "    <tr>\n",
       "      <th>1</th>\n",
       "      <td>1886620</td>\n",
       "      <td>300549</td>\n",
       "      <td>71829</td>\n",
       "      <td>481861</td>\n",
       "      <td>9773</td>\n",
       "      <td>56724</td>\n",
       "      <td>157386</td>\n",
       "      <td>10448481</td>\n",
       "      <td>78.90</td>\n",
       "      <td>MA1</td>\n",
       "      <td>8</td>\n",
       "      <td>11</td>\n",
       "    </tr>\n",
       "    <tr>\n",
       "      <th>2</th>\n",
       "      <td>1092</td>\n",
       "      <td>209</td>\n",
       "      <td>71829</td>\n",
       "      <td>15304</td>\n",
       "      <td>0</td>\n",
       "      <td>6300</td>\n",
       "      <td>0</td>\n",
       "      <td>1000</td>\n",
       "      <td>0.50</td>\n",
       "      <td>CI1</td>\n",
       "      <td>8</td>\n",
       "      <td>43</td>\n",
       "    </tr>\n",
       "    <tr>\n",
       "      <th>3</th>\n",
       "      <td>12347</td>\n",
       "      <td>6241</td>\n",
       "      <td>71829</td>\n",
       "      <td>34115</td>\n",
       "      <td>165</td>\n",
       "      <td>6600</td>\n",
       "      <td>0</td>\n",
       "      <td>67600</td>\n",
       "      <td>3.00</td>\n",
       "      <td>CI1</td>\n",
       "      <td>8</td>\n",
       "      <td>33</td>\n",
       "    </tr>\n",
       "    <tr>\n",
       "      <th>4</th>\n",
       "      <td>59630</td>\n",
       "      <td>12793</td>\n",
       "      <td>71829</td>\n",
       "      <td>23810</td>\n",
       "      <td>9773</td>\n",
       "      <td>6600</td>\n",
       "      <td>4979</td>\n",
       "      <td>339574</td>\n",
       "      <td>3.00</td>\n",
       "      <td>CO1</td>\n",
       "      <td>8</td>\n",
       "      <td>42</td>\n",
       "    </tr>\n",
       "  </tbody>\n",
       "</table>\n",
       "</div>"
      ],
      "text/plain": [
       "    TOTCIR  POPU_LSA  STINCOME   BKVOL  EBOOK  STGVT  FEDGVT    LOCGVT  \\\n",
       "0    11607      2059     71829   16843      0  18993    2821         0   \n",
       "1  1886620    300549     71829  481861   9773  56724  157386  10448481   \n",
       "2     1092       209     71829   15304      0   6300       0      1000   \n",
       "3    12347      6241     71829   34115    165   6600       0     67600   \n",
       "4    59630     12793     71829   23810   9773   6600    4979    339574   \n",
       "\n",
       "   TOTSTAFF GEOCODE  OBEREG LOCALE  \n",
       "0      0.68     CI1       8     43  \n",
       "1     78.90     MA1       8     11  \n",
       "2      0.50     CI1       8     43  \n",
       "3      3.00     CI1       8     33  \n",
       "4      3.00     CO1       8     42  "
      ]
     },
     "execution_count": 79,
     "metadata": {},
     "output_type": "execute_result"
    }
   ],
   "source": [
    "#variables to use in the model\n",
    "to_use = ['TOTCIR', 'POPU_LSA', 'STINCOME', 'BKVOL', 'EBOOK', 'STGVT', 'FEDGVT', 'LOCGVT', 'TOTSTAFF', 'GEOCODE', 'OBEREG', 'LOCALE']\n",
    "to_use_df = raw[to_use]\n",
    "to_use_df.head()"
   ]
  },
  {
   "cell_type": "code",
   "execution_count": 80,
   "metadata": {
    "collapsed": false
   },
   "outputs": [
    {
     "name": "stdout",
     "output_type": "stream",
     "text": [
      "<class 'pandas.core.frame.DataFrame'>\n",
      "RangeIndex: 9301 entries, 0 to 9300\n",
      "Data columns (total 12 columns):\n",
      "TOTCIR      9301 non-null int64\n",
      "POPU_LSA    9301 non-null int64\n",
      "STINCOME    9301 non-null int64\n",
      "BKVOL       9301 non-null int64\n",
      "EBOOK       9301 non-null int64\n",
      "STGVT       9301 non-null int64\n",
      "FEDGVT      9301 non-null int64\n",
      "LOCGVT      9301 non-null int64\n",
      "TOTSTAFF    9301 non-null float64\n",
      "GEOCODE     9301 non-null object\n",
      "OBEREG      9301 non-null int64\n",
      "LOCALE      9301 non-null object\n",
      "dtypes: float64(1), int64(9), object(2)\n",
      "memory usage: 872.0+ KB\n"
     ]
    }
   ],
   "source": [
    "to_use_df.info()"
   ]
  },
  {
   "cell_type": "code",
   "execution_count": 81,
   "metadata": {
    "collapsed": false
   },
   "outputs": [
    {
     "data": {
      "text/html": [
       "<div>\n",
       "<table border=\"1\" class=\"dataframe\">\n",
       "  <thead>\n",
       "    <tr style=\"text-align: right;\">\n",
       "      <th></th>\n",
       "      <th>TOTCIR</th>\n",
       "      <th>POPU_LSA</th>\n",
       "      <th>STINCOME</th>\n",
       "      <th>BKVOL</th>\n",
       "      <th>EBOOK</th>\n",
       "      <th>STGVT</th>\n",
       "      <th>FEDGVT</th>\n",
       "      <th>LOCGVT</th>\n",
       "      <th>TOTSTAFF</th>\n",
       "      <th>OBEREG</th>\n",
       "    </tr>\n",
       "  </thead>\n",
       "  <tbody>\n",
       "    <tr>\n",
       "      <th>count</th>\n",
       "      <td>9.301000e+03</td>\n",
       "      <td>9.301000e+03</td>\n",
       "      <td>9301.000000</td>\n",
       "      <td>9.301000e+03</td>\n",
       "      <td>9.301000e+03</td>\n",
       "      <td>9.301000e+03</td>\n",
       "      <td>9.301000e+03</td>\n",
       "      <td>9.301000e+03</td>\n",
       "      <td>9301.000000</td>\n",
       "      <td>9301.000000</td>\n",
       "    </tr>\n",
       "    <tr>\n",
       "      <th>mean</th>\n",
       "      <td>2.488169e+05</td>\n",
       "      <td>3.431926e+04</td>\n",
       "      <td>54220.708096</td>\n",
       "      <td>8.257958e+04</td>\n",
       "      <td>2.300205e+04</td>\n",
       "      <td>9.140132e+04</td>\n",
       "      <td>4.939996e+03</td>\n",
       "      <td>1.105699e+06</td>\n",
       "      <td>14.915302</td>\n",
       "      <td>3.724116</td>\n",
       "    </tr>\n",
       "    <tr>\n",
       "      <th>std</th>\n",
       "      <td>1.028185e+06</td>\n",
       "      <td>1.366025e+05</td>\n",
       "      <td>7976.629792</td>\n",
       "      <td>3.450647e+05</td>\n",
       "      <td>4.147891e+04</td>\n",
       "      <td>8.204179e+05</td>\n",
       "      <td>5.034192e+04</td>\n",
       "      <td>4.729539e+06</td>\n",
       "      <td>55.079062</td>\n",
       "      <td>1.975933</td>\n",
       "    </tr>\n",
       "    <tr>\n",
       "      <th>min</th>\n",
       "      <td>-3.000000e+00</td>\n",
       "      <td>-3.000000e+00</td>\n",
       "      <td>19686.000000</td>\n",
       "      <td>-3.000000e+00</td>\n",
       "      <td>-3.000000e+00</td>\n",
       "      <td>-3.000000e+00</td>\n",
       "      <td>-3.000000e+00</td>\n",
       "      <td>-3.000000e+00</td>\n",
       "      <td>-3.000000</td>\n",
       "      <td>1.000000</td>\n",
       "    </tr>\n",
       "    <tr>\n",
       "      <th>25%</th>\n",
       "      <td>1.147500e+04</td>\n",
       "      <td>2.189000e+03</td>\n",
       "      <td>48849.000000</td>\n",
       "      <td>1.427600e+04</td>\n",
       "      <td>3.500000e+01</td>\n",
       "      <td>2.150000e+02</td>\n",
       "      <td>0.000000e+00</td>\n",
       "      <td>4.330000e+04</td>\n",
       "      <td>1.330000</td>\n",
       "      <td>2.000000</td>\n",
       "    </tr>\n",
       "    <tr>\n",
       "      <th>50%</th>\n",
       "      <td>4.107100e+04</td>\n",
       "      <td>7.281000e+03</td>\n",
       "      <td>52716.000000</td>\n",
       "      <td>2.861100e+04</td>\n",
       "      <td>7.514000e+03</td>\n",
       "      <td>4.052000e+03</td>\n",
       "      <td>0.000000e+00</td>\n",
       "      <td>1.619790e+05</td>\n",
       "      <td>3.740000</td>\n",
       "      <td>3.000000</td>\n",
       "    </tr>\n",
       "    <tr>\n",
       "      <th>75%</th>\n",
       "      <td>1.434180e+05</td>\n",
       "      <td>2.278700e+04</td>\n",
       "      <td>58687.000000</td>\n",
       "      <td>6.664900e+04</td>\n",
       "      <td>2.099500e+04</td>\n",
       "      <td>2.142900e+04</td>\n",
       "      <td>0.000000e+00</td>\n",
       "      <td>6.534580e+05</td>\n",
       "      <td>10.750000</td>\n",
       "      <td>5.000000</td>\n",
       "    </tr>\n",
       "    <tr>\n",
       "      <th>max</th>\n",
       "      <td>2.410174e+07</td>\n",
       "      <td>4.008651e+06</td>\n",
       "      <td>74149.000000</td>\n",
       "      <td>2.206467e+07</td>\n",
       "      <td>1.036312e+06</td>\n",
       "      <td>3.561788e+07</td>\n",
       "      <td>2.950716e+06</td>\n",
       "      <td>1.430909e+08</td>\n",
       "      <td>2453.550000</td>\n",
       "      <td>9.000000</td>\n",
       "    </tr>\n",
       "  </tbody>\n",
       "</table>\n",
       "</div>"
      ],
      "text/plain": [
       "             TOTCIR      POPU_LSA      STINCOME         BKVOL         EBOOK  \\\n",
       "count  9.301000e+03  9.301000e+03   9301.000000  9.301000e+03  9.301000e+03   \n",
       "mean   2.488169e+05  3.431926e+04  54220.708096  8.257958e+04  2.300205e+04   \n",
       "std    1.028185e+06  1.366025e+05   7976.629792  3.450647e+05  4.147891e+04   \n",
       "min   -3.000000e+00 -3.000000e+00  19686.000000 -3.000000e+00 -3.000000e+00   \n",
       "25%    1.147500e+04  2.189000e+03  48849.000000  1.427600e+04  3.500000e+01   \n",
       "50%    4.107100e+04  7.281000e+03  52716.000000  2.861100e+04  7.514000e+03   \n",
       "75%    1.434180e+05  2.278700e+04  58687.000000  6.664900e+04  2.099500e+04   \n",
       "max    2.410174e+07  4.008651e+06  74149.000000  2.206467e+07  1.036312e+06   \n",
       "\n",
       "              STGVT        FEDGVT        LOCGVT     TOTSTAFF       OBEREG  \n",
       "count  9.301000e+03  9.301000e+03  9.301000e+03  9301.000000  9301.000000  \n",
       "mean   9.140132e+04  4.939996e+03  1.105699e+06    14.915302     3.724116  \n",
       "std    8.204179e+05  5.034192e+04  4.729539e+06    55.079062     1.975933  \n",
       "min   -3.000000e+00 -3.000000e+00 -3.000000e+00    -3.000000     1.000000  \n",
       "25%    2.150000e+02  0.000000e+00  4.330000e+04     1.330000     2.000000  \n",
       "50%    4.052000e+03  0.000000e+00  1.619790e+05     3.740000     3.000000  \n",
       "75%    2.142900e+04  0.000000e+00  6.534580e+05    10.750000     5.000000  \n",
       "max    3.561788e+07  2.950716e+06  1.430909e+08  2453.550000     9.000000  "
      ]
     },
     "execution_count": 81,
     "metadata": {},
     "output_type": "execute_result"
    }
   ],
   "source": [
    "to_use_df.describe()\n",
    "# -3 and -1 are missing"
   ]
  },
  {
   "cell_type": "code",
   "execution_count": 82,
   "metadata": {
    "collapsed": false
   },
   "outputs": [
    {
     "data": {
      "text/plain": [
       "<matplotlib.axes._subplots.AxesSubplot at 0x1d591160>"
      ]
     },
     "execution_count": 82,
     "metadata": {},
     "output_type": "execute_result"
    },
    {
     "data": {
      "image/png": "[encoded data removed]",
      "text/plain": [
       "<matplotlib.figure.Figure at 0x1ca085f8>"
      ]
     },
     "metadata": {},
     "output_type": "display_data"
    }
   ],
   "source": [
    "sns.violinplot(to_use_df['TOTCIR'])"
   ]
  },
  {
   "cell_type": "code",
   "execution_count": 83,
   "metadata": {
    "collapsed": false
   },
   "outputs": [
    {
     "data": {
      "text/plain": [
       "<matplotlib.axes._subplots.AxesSubplot at 0x1c5e4240>"
      ]
     },
     "execution_count": 83,
     "metadata": {},
     "output_type": "execute_result"
    },
    {
     "data": {
      "image/png": "[encoded data removed]",
      "text/plain": [
       "<matplotlib.figure.Figure at 0x17a38240>"
      ]
     },
     "metadata": {},
     "output_type": "display_data"
    }
   ],
   "source": [
    "sns.violinplot(to_use_df['POPU_LSA'])"
   ]
  },
  {
   "cell_type": "code",
   "execution_count": 84,
   "metadata": {
    "collapsed": false
   },
   "outputs": [
    {
     "data": {
      "text/plain": [
       "<matplotlib.axes._subplots.AxesSubplot at 0x154e5518>"
      ]
     },
     "execution_count": 84,
     "metadata": {},
     "output_type": "execute_result"
    },
    {
     "data": {
      "image/png": "[encoded data removed]",
      "text/plain": [
       "<matplotlib.figure.Figure at 0x15def550>"
      ]
     },
     "metadata": {},
     "output_type": "display_data"
    }
   ],
   "source": [
    "sns.violinplot(to_use_df['STGVT'])"
   ]
  },
  {
   "cell_type": "code",
   "execution_count": 85,
   "metadata": {
    "collapsed": false
   },
   "outputs": [
    {
     "data": {
      "text/plain": [
       "<matplotlib.axes._subplots.AxesSubplot at 0x1d6ae6a0>"
      ]
     },
     "execution_count": 85,
     "metadata": {},
     "output_type": "execute_result"
    },
    {
     "data": {
      "image/png": "[encoded data removed]",
      "text/plain": [
       "<matplotlib.figure.Figure at 0x15de2c88>"
      ]
     },
     "metadata": {},
     "output_type": "display_data"
    }
   ],
   "source": [
    "sns.violinplot(log_df['BKVOL'])"
   ]
  },
  {
   "cell_type": "code",
   "execution_count": 86,
   "metadata": {
    "collapsed": false
   },
   "outputs": [
    {
     "data": {
      "text/plain": [
       "<matplotlib.axes._subplots.AxesSubplot at 0x1c6833c8>"
      ]
     },
     "execution_count": 86,
     "metadata": {},
     "output_type": "execute_result"
    },
    {
     "data": {
      "image/png": "[encoded data removed]",
      "text/plain": [
       "<matplotlib.figure.Figure at 0x129d2128>"
      ]
     },
     "metadata": {},
     "output_type": "display_data"
    }
   ],
   "source": [
    "sns.violinplot(to_use_df['EBOOK'])"
   ]
  },
  {
   "cell_type": "code",
   "execution_count": 87,
   "metadata": {
    "collapsed": false
   },
   "outputs": [
    {
     "data": {
      "text/plain": [
       "<matplotlib.axes._subplots.AxesSubplot at 0x1415eda0>"
      ]
     },
     "execution_count": 87,
     "metadata": {},
     "output_type": "execute_result"
    },
    {
     "data": {
      "image/png": "[encoded data removed]",
      "text/plain": [
       "<matplotlib.figure.Figure at 0x14351e48>"
      ]
     },
     "metadata": {},
     "output_type": "display_data"
    }
   ],
   "source": [
    "sns.violinplot(to_use_df['FEDGVT'])"
   ]
  },
  {
   "cell_type": "code",
   "execution_count": 88,
   "metadata": {
    "collapsed": false
   },
   "outputs": [
    {
     "data": {
      "text/plain": [
       "<matplotlib.axes._subplots.AxesSubplot at 0x177b0400>"
      ]
     },
     "execution_count": 88,
     "metadata": {},
     "output_type": "execute_result"
    },
    {
     "data": {
      "image/png": "[encoded data removed]",
      "text/plain": [
       "<matplotlib.figure.Figure at 0x110b7208>"
      ]
     },
     "metadata": {},
     "output_type": "display_data"
    }
   ],
   "source": [
    "sns.violinplot(to_use_df['LOCGVT'])"
   ]
  },
  {
   "cell_type": "code",
   "execution_count": 89,
   "metadata": {
    "collapsed": false
   },
   "outputs": [
    {
     "data": {
      "text/plain": [
       "<matplotlib.axes._subplots.AxesSubplot at 0xe2e1208>"
      ]
     },
     "execution_count": 89,
     "metadata": {},
     "output_type": "execute_result"
    },
    {
     "data": {
      "image/png": "[encoded data removed]",
      "text/plain": [
       "<matplotlib.figure.Figure at 0x17422908>"
      ]
     },
     "metadata": {},
     "output_type": "display_data"
    }
   ],
   "source": [
    "sns.violinplot(to_use_df['TOTSTAFF'])"
   ]
  },
  {
   "cell_type": "code",
   "execution_count": 90,
   "metadata": {
    "collapsed": false
   },
   "outputs": [
    {
     "data": {
      "text/plain": [
       "CI1    3356\n",
       "OTH    2148\n",
       "CI2    1494\n",
       "CO1    1129\n",
       "CO2     508\n",
       "SD1     423\n",
       "MC1     129\n",
       "SD2      52\n",
       "MC2      41\n",
       "MA1      11\n",
       "MA2      10\n",
       "Name: GEOCODE, dtype: int64"
      ]
     },
     "execution_count": 90,
     "metadata": {},
     "output_type": "execute_result"
    }
   ],
   "source": [
    "to_use_df['GEOCODE'].value_counts()"
   ]
  },
  {
   "cell_type": "code",
   "execution_count": 91,
   "metadata": {
    "collapsed": false
   },
   "outputs": [
    {
     "data": {
      "text/plain": [
       "3    1883\n",
       "4    1620\n",
       "2    1553\n",
       "1    1288\n",
       "5    1162\n",
       "6     859\n",
       "8     483\n",
       "7     395\n",
       "9      58\n",
       "Name: OBEREG, dtype: int64"
      ]
     },
     "execution_count": 91,
     "metadata": {},
     "output_type": "execute_result"
    }
   ],
   "source": [
    "to_use_df['OBEREG'].value_counts()"
   ]
  },
  {
   "cell_type": "code",
   "execution_count": 92,
   "metadata": {
    "collapsed": false
   },
   "outputs": [
    {
     "data": {
      "text/plain": [
       "42    2041\n",
       "21    1881\n",
       "43    1613\n",
       "32    1057\n",
       "33     643\n",
       "41     505\n",
       "31     502\n",
       "13     296\n",
       "22     258\n",
       "23     206\n",
       "12     117\n",
       ".      106\n",
       "11      76\n",
       "Name: LOCALE, dtype: int64"
      ]
     },
     "execution_count": 92,
     "metadata": {},
     "output_type": "execute_result"
    }
   ],
   "source": [
    "to_use_df['LOCALE'].value_counts()\n",
    "#period is missing"
   ]
  },
  {
   "cell_type": "code",
   "execution_count": 93,
   "metadata": {
    "collapsed": false
   },
   "outputs": [
    {
     "data": {
      "text/html": [
       "<div>\n",
       "<table border=\"1\" class=\"dataframe\">\n",
       "  <thead>\n",
       "    <tr style=\"text-align: right;\">\n",
       "      <th></th>\n",
       "      <th>TOTCIR</th>\n",
       "      <th>POPU_LSA</th>\n",
       "      <th>STINCOME</th>\n",
       "      <th>BKVOL</th>\n",
       "      <th>EBOOK</th>\n",
       "      <th>STGVT</th>\n",
       "      <th>FEDGVT</th>\n",
       "      <th>LOCGVT</th>\n",
       "      <th>TOTSTAFF</th>\n",
       "      <th>OBEREG</th>\n",
       "    </tr>\n",
       "  </thead>\n",
       "  <tbody>\n",
       "    <tr>\n",
       "      <th>TOTCIR</th>\n",
       "      <td>1.000000</td>\n",
       "      <td>0.792648</td>\n",
       "      <td>0.028471</td>\n",
       "      <td>0.718872</td>\n",
       "      <td>0.254712</td>\n",
       "      <td>0.518032</td>\n",
       "      <td>0.403121</td>\n",
       "      <td>0.869215</td>\n",
       "      <td>0.875628</td>\n",
       "      <td>0.097726</td>\n",
       "    </tr>\n",
       "    <tr>\n",
       "      <th>POPU_LSA</th>\n",
       "      <td>0.792648</td>\n",
       "      <td>1.000000</td>\n",
       "      <td>-0.002005</td>\n",
       "      <td>0.750211</td>\n",
       "      <td>0.180103</td>\n",
       "      <td>0.426403</td>\n",
       "      <td>0.473719</td>\n",
       "      <td>0.849983</td>\n",
       "      <td>0.853125</td>\n",
       "      <td>0.129824</td>\n",
       "    </tr>\n",
       "    <tr>\n",
       "      <th>STINCOME</th>\n",
       "      <td>0.028471</td>\n",
       "      <td>-0.002005</td>\n",
       "      <td>1.000000</td>\n",
       "      <td>0.029396</td>\n",
       "      <td>-0.104549</td>\n",
       "      <td>-0.012486</td>\n",
       "      <td>0.016627</td>\n",
       "      <td>0.054373</td>\n",
       "      <td>0.030073</td>\n",
       "      <td>-0.398696</td>\n",
       "    </tr>\n",
       "    <tr>\n",
       "      <th>BKVOL</th>\n",
       "      <td>0.718872</td>\n",
       "      <td>0.750211</td>\n",
       "      <td>0.029396</td>\n",
       "      <td>1.000000</td>\n",
       "      <td>0.272441</td>\n",
       "      <td>0.577949</td>\n",
       "      <td>0.450178</td>\n",
       "      <td>0.795990</td>\n",
       "      <td>0.885733</td>\n",
       "      <td>0.050161</td>\n",
       "    </tr>\n",
       "    <tr>\n",
       "      <th>EBOOK</th>\n",
       "      <td>0.254712</td>\n",
       "      <td>0.180103</td>\n",
       "      <td>-0.104549</td>\n",
       "      <td>0.272441</td>\n",
       "      <td>1.000000</td>\n",
       "      <td>0.251783</td>\n",
       "      <td>0.086525</td>\n",
       "      <td>0.217690</td>\n",
       "      <td>0.270001</td>\n",
       "      <td>-0.053886</td>\n",
       "    </tr>\n",
       "    <tr>\n",
       "      <th>STGVT</th>\n",
       "      <td>0.518032</td>\n",
       "      <td>0.426403</td>\n",
       "      <td>-0.012486</td>\n",
       "      <td>0.577949</td>\n",
       "      <td>0.251783</td>\n",
       "      <td>1.000000</td>\n",
       "      <td>0.435368</td>\n",
       "      <td>0.396750</td>\n",
       "      <td>0.571897</td>\n",
       "      <td>-0.011884</td>\n",
       "    </tr>\n",
       "    <tr>\n",
       "      <th>FEDGVT</th>\n",
       "      <td>0.403121</td>\n",
       "      <td>0.473719</td>\n",
       "      <td>0.016627</td>\n",
       "      <td>0.450178</td>\n",
       "      <td>0.086525</td>\n",
       "      <td>0.435368</td>\n",
       "      <td>1.000000</td>\n",
       "      <td>0.471998</td>\n",
       "      <td>0.503974</td>\n",
       "      <td>0.046037</td>\n",
       "    </tr>\n",
       "    <tr>\n",
       "      <th>LOCGVT</th>\n",
       "      <td>0.869215</td>\n",
       "      <td>0.849983</td>\n",
       "      <td>0.054373</td>\n",
       "      <td>0.795990</td>\n",
       "      <td>0.217690</td>\n",
       "      <td>0.396750</td>\n",
       "      <td>0.471998</td>\n",
       "      <td>1.000000</td>\n",
       "      <td>0.943720</td>\n",
       "      <td>0.089025</td>\n",
       "    </tr>\n",
       "    <tr>\n",
       "      <th>TOTSTAFF</th>\n",
       "      <td>0.875628</td>\n",
       "      <td>0.853125</td>\n",
       "      <td>0.030073</td>\n",
       "      <td>0.885733</td>\n",
       "      <td>0.270001</td>\n",
       "      <td>0.571897</td>\n",
       "      <td>0.503974</td>\n",
       "      <td>0.943720</td>\n",
       "      <td>1.000000</td>\n",
       "      <td>0.075684</td>\n",
       "    </tr>\n",
       "    <tr>\n",
       "      <th>OBEREG</th>\n",
       "      <td>0.097726</td>\n",
       "      <td>0.129824</td>\n",
       "      <td>-0.398696</td>\n",
       "      <td>0.050161</td>\n",
       "      <td>-0.053886</td>\n",
       "      <td>-0.011884</td>\n",
       "      <td>0.046037</td>\n",
       "      <td>0.089025</td>\n",
       "      <td>0.075684</td>\n",
       "      <td>1.000000</td>\n",
       "    </tr>\n",
       "  </tbody>\n",
       "</table>\n",
       "</div>"
      ],
      "text/plain": [
       "            TOTCIR  POPU_LSA  STINCOME     BKVOL     EBOOK     STGVT  \\\n",
       "TOTCIR    1.000000  0.792648  0.028471  0.718872  0.254712  0.518032   \n",
       "POPU_LSA  0.792648  1.000000 -0.002005  0.750211  0.180103  0.426403   \n",
       "STINCOME  0.028471 -0.002005  1.000000  0.029396 -0.104549 -0.012486   \n",
       "BKVOL     0.718872  0.750211  0.029396  1.000000  0.272441  0.577949   \n",
       "EBOOK     0.254712  0.180103 -0.104549  0.272441  1.000000  0.251783   \n",
       "STGVT     0.518032  0.426403 -0.012486  0.577949  0.251783  1.000000   \n",
       "FEDGVT    0.403121  0.473719  0.016627  0.450178  0.086525  0.435368   \n",
       "LOCGVT    0.869215  0.849983  0.054373  0.795990  0.217690  0.396750   \n",
       "TOTSTAFF  0.875628  0.853125  0.030073  0.885733  0.270001  0.571897   \n",
       "OBEREG    0.097726  0.129824 -0.398696  0.050161 -0.053886 -0.011884   \n",
       "\n",
       "            FEDGVT    LOCGVT  TOTSTAFF    OBEREG  \n",
       "TOTCIR    0.403121  0.869215  0.875628  0.097726  \n",
       "POPU_LSA  0.473719  0.849983  0.853125  0.129824  \n",
       "STINCOME  0.016627  0.054373  0.030073 -0.398696  \n",
       "BKVOL     0.450178  0.795990  0.885733  0.050161  \n",
       "EBOOK     0.086525  0.217690  0.270001 -0.053886  \n",
       "STGVT     0.435368  0.396750  0.571897 -0.011884  \n",
       "FEDGVT    1.000000  0.471998  0.503974  0.046037  \n",
       "LOCGVT    0.471998  1.000000  0.943720  0.089025  \n",
       "TOTSTAFF  0.503974  0.943720  1.000000  0.075684  \n",
       "OBEREG    0.046037  0.089025  0.075684  1.000000  "
      ]
     },
     "execution_count": 93,
     "metadata": {},
     "output_type": "execute_result"
    }
   ],
   "source": [
    "to_use_df.corr()"
   ]
  },
  {
   "cell_type": "markdown",
   "metadata": {},
   "source": [
    "## Impute Missing Data"
   ]
  },
  {
   "cell_type": "code",
   "execution_count": 94,
   "metadata": {
    "collapsed": false
   },
   "outputs": [
    {
     "name": "stderr",
     "output_type": "stream",
     "text": [
      "C:\\Users\\Molly\\Anaconda2\\lib\\site-packages\\ipykernel\\__main__.py:2: SettingWithCopyWarning: \n",
      "A value is trying to be set on a copy of a slice from a DataFrame.\n",
      "Try using .loc[row_indexer,col_indexer] = value instead\n",
      "\n",
      "See the caveats in the documentation: http://pandas.pydata.org/pandas-docs/stable/indexing.html#indexing-view-versus-copy\n",
      "  from ipykernel import kernelapp as app\n",
      "C:\\Users\\Molly\\Anaconda2\\lib\\site-packages\\ipykernel\\__main__.py:3: SettingWithCopyWarning: \n",
      "A value is trying to be set on a copy of a slice from a DataFrame.\n",
      "Try using .loc[row_indexer,col_indexer] = value instead\n",
      "\n",
      "See the caveats in the documentation: http://pandas.pydata.org/pandas-docs/stable/indexing.html#indexing-view-versus-copy\n",
      "  app.launch_new_instance()\n"
     ]
    }
   ],
   "source": [
    "temp_median = to_use_df['TOTCIR'].median()\n",
    "to_use_df['TOTCIR'] = to_use_df['TOTCIR'].replace(to_replace=-3.0, value=temp_median)\n",
    "to_use_df['TOTCIR'] = to_use_df['TOTCIR'].replace(to_replace=-1.0, value=temp_median)"
   ]
  },
  {
   "cell_type": "code",
   "execution_count": 95,
   "metadata": {
    "collapsed": false
   },
   "outputs": [
    {
     "name": "stderr",
     "output_type": "stream",
     "text": [
      "C:\\Users\\Molly\\Anaconda2\\lib\\site-packages\\ipykernel\\__main__.py:2: SettingWithCopyWarning: \n",
      "A value is trying to be set on a copy of a slice from a DataFrame.\n",
      "Try using .loc[row_indexer,col_indexer] = value instead\n",
      "\n",
      "See the caveats in the documentation: http://pandas.pydata.org/pandas-docs/stable/indexing.html#indexing-view-versus-copy\n",
      "  from ipykernel import kernelapp as app\n",
      "C:\\Users\\Molly\\Anaconda2\\lib\\site-packages\\ipykernel\\__main__.py:3: SettingWithCopyWarning: \n",
      "A value is trying to be set on a copy of a slice from a DataFrame.\n",
      "Try using .loc[row_indexer,col_indexer] = value instead\n",
      "\n",
      "See the caveats in the documentation: http://pandas.pydata.org/pandas-docs/stable/indexing.html#indexing-view-versus-copy\n",
      "  app.launch_new_instance()\n"
     ]
    }
   ],
   "source": [
    "temp_median = to_use_df['POPU_LSA'].median()\n",
    "to_use_df['POPU_LSA'] = to_use_df['POPU_LSA'].replace(to_replace=-3.0, value=temp_median)\n",
    "to_use_df['POPU_LSA'] = to_use_df['POPU_LSA'].replace(to_replace=-1.0, value=temp_median)"
   ]
  },
  {
   "cell_type": "code",
   "execution_count": 96,
   "metadata": {
    "collapsed": false
   },
   "outputs": [
    {
     "name": "stderr",
     "output_type": "stream",
     "text": [
      "C:\\Users\\Molly\\Anaconda2\\lib\\site-packages\\ipykernel\\__main__.py:2: SettingWithCopyWarning: \n",
      "A value is trying to be set on a copy of a slice from a DataFrame.\n",
      "Try using .loc[row_indexer,col_indexer] = value instead\n",
      "\n",
      "See the caveats in the documentation: http://pandas.pydata.org/pandas-docs/stable/indexing.html#indexing-view-versus-copy\n",
      "  from ipykernel import kernelapp as app\n",
      "C:\\Users\\Molly\\Anaconda2\\lib\\site-packages\\ipykernel\\__main__.py:3: SettingWithCopyWarning: \n",
      "A value is trying to be set on a copy of a slice from a DataFrame.\n",
      "Try using .loc[row_indexer,col_indexer] = value instead\n",
      "\n",
      "See the caveats in the documentation: http://pandas.pydata.org/pandas-docs/stable/indexing.html#indexing-view-versus-copy\n",
      "  app.launch_new_instance()\n"
     ]
    }
   ],
   "source": [
    "temp_median = to_use_df['STGVT'].median()\n",
    "to_use_df['STGVT'] = to_use_df['STGVT'].replace(to_replace=-3.0, value=temp_median)\n",
    "to_use_df['STGVT'] = to_use_df['STGVT'].replace(to_replace=-1.0, value=temp_median)"
   ]
  },
  {
   "cell_type": "code",
   "execution_count": 97,
   "metadata": {
    "collapsed": false
   },
   "outputs": [
    {
     "name": "stderr",
     "output_type": "stream",
     "text": [
      "C:\\Users\\Molly\\Anaconda2\\lib\\site-packages\\ipykernel\\__main__.py:2: SettingWithCopyWarning: \n",
      "A value is trying to be set on a copy of a slice from a DataFrame.\n",
      "Try using .loc[row_indexer,col_indexer] = value instead\n",
      "\n",
      "See the caveats in the documentation: http://pandas.pydata.org/pandas-docs/stable/indexing.html#indexing-view-versus-copy\n",
      "  from ipykernel import kernelapp as app\n",
      "C:\\Users\\Molly\\Anaconda2\\lib\\site-packages\\ipykernel\\__main__.py:3: SettingWithCopyWarning: \n",
      "A value is trying to be set on a copy of a slice from a DataFrame.\n",
      "Try using .loc[row_indexer,col_indexer] = value instead\n",
      "\n",
      "See the caveats in the documentation: http://pandas.pydata.org/pandas-docs/stable/indexing.html#indexing-view-versus-copy\n",
      "  app.launch_new_instance()\n"
     ]
    }
   ],
   "source": [
    "temp_median = to_use_df['BKVOL'].median()\n",
    "to_use_df['BKVOL'] = to_use_df['BKVOL'].replace(to_replace=-3.0, value=temp_median)\n",
    "to_use_df['BKVOL'] = to_use_df['BKVOL'].replace(to_replace=-1.0, value=temp_median)"
   ]
  },
  {
   "cell_type": "code",
   "execution_count": 98,
   "metadata": {
    "collapsed": false
   },
   "outputs": [
    {
     "name": "stderr",
     "output_type": "stream",
     "text": [
      "C:\\Users\\Molly\\Anaconda2\\lib\\site-packages\\ipykernel\\__main__.py:2: SettingWithCopyWarning: \n",
      "A value is trying to be set on a copy of a slice from a DataFrame.\n",
      "Try using .loc[row_indexer,col_indexer] = value instead\n",
      "\n",
      "See the caveats in the documentation: http://pandas.pydata.org/pandas-docs/stable/indexing.html#indexing-view-versus-copy\n",
      "  from ipykernel import kernelapp as app\n",
      "C:\\Users\\Molly\\Anaconda2\\lib\\site-packages\\ipykernel\\__main__.py:3: SettingWithCopyWarning: \n",
      "A value is trying to be set on a copy of a slice from a DataFrame.\n",
      "Try using .loc[row_indexer,col_indexer] = value instead\n",
      "\n",
      "See the caveats in the documentation: http://pandas.pydata.org/pandas-docs/stable/indexing.html#indexing-view-versus-copy\n",
      "  app.launch_new_instance()\n"
     ]
    }
   ],
   "source": [
    "temp_median = to_use_df['EBOOK'].median()\n",
    "to_use_df['EBOOK'] = to_use_df['EBOOK'].replace(to_replace=-3.0, value=temp_median)\n",
    "to_use_df['EBOOK'] = to_use_df['EBOOK'].replace(to_replace=-1.0, value=temp_median)"
   ]
  },
  {
   "cell_type": "code",
   "execution_count": 99,
   "metadata": {
    "collapsed": false
   },
   "outputs": [
    {
     "name": "stderr",
     "output_type": "stream",
     "text": [
      "C:\\Users\\Molly\\Anaconda2\\lib\\site-packages\\ipykernel\\__main__.py:2: SettingWithCopyWarning: \n",
      "A value is trying to be set on a copy of a slice from a DataFrame.\n",
      "Try using .loc[row_indexer,col_indexer] = value instead\n",
      "\n",
      "See the caveats in the documentation: http://pandas.pydata.org/pandas-docs/stable/indexing.html#indexing-view-versus-copy\n",
      "  from ipykernel import kernelapp as app\n",
      "C:\\Users\\Molly\\Anaconda2\\lib\\site-packages\\ipykernel\\__main__.py:3: SettingWithCopyWarning: \n",
      "A value is trying to be set on a copy of a slice from a DataFrame.\n",
      "Try using .loc[row_indexer,col_indexer] = value instead\n",
      "\n",
      "See the caveats in the documentation: http://pandas.pydata.org/pandas-docs/stable/indexing.html#indexing-view-versus-copy\n",
      "  app.launch_new_instance()\n"
     ]
    }
   ],
   "source": [
    "temp_median = to_use_df['FEDGVT'].median()\n",
    "to_use_df['FEDGVT'] = to_use_df['FEDGVT'].replace(to_replace=-3.0, value=temp_median)\n",
    "to_use_df['FEDGVT'] = to_use_df['FEDGVT'].replace(to_replace=-1.0, value=temp_median)"
   ]
  },
  {
   "cell_type": "code",
   "execution_count": 100,
   "metadata": {
    "collapsed": false
   },
   "outputs": [
    {
     "name": "stderr",
     "output_type": "stream",
     "text": [
      "C:\\Users\\Molly\\Anaconda2\\lib\\site-packages\\ipykernel\\__main__.py:2: SettingWithCopyWarning: \n",
      "A value is trying to be set on a copy of a slice from a DataFrame.\n",
      "Try using .loc[row_indexer,col_indexer] = value instead\n",
      "\n",
      "See the caveats in the documentation: http://pandas.pydata.org/pandas-docs/stable/indexing.html#indexing-view-versus-copy\n",
      "  from ipykernel import kernelapp as app\n",
      "C:\\Users\\Molly\\Anaconda2\\lib\\site-packages\\ipykernel\\__main__.py:3: SettingWithCopyWarning: \n",
      "A value is trying to be set on a copy of a slice from a DataFrame.\n",
      "Try using .loc[row_indexer,col_indexer] = value instead\n",
      "\n",
      "See the caveats in the documentation: http://pandas.pydata.org/pandas-docs/stable/indexing.html#indexing-view-versus-copy\n",
      "  app.launch_new_instance()\n"
     ]
    }
   ],
   "source": [
    "temp_median = to_use_df['LOCGVT'].median()\n",
    "to_use_df['LOCGVT'] = to_use_df['LOCGVT'].replace(to_replace=-3.0, value=temp_median)\n",
    "to_use_df['LOCGVT'] = to_use_df['LOCGVT'].replace(to_replace=-1.0, value=temp_median)"
   ]
  },
  {
   "cell_type": "code",
   "execution_count": 101,
   "metadata": {
    "collapsed": false
   },
   "outputs": [
    {
     "name": "stderr",
     "output_type": "stream",
     "text": [
      "C:\\Users\\Molly\\Anaconda2\\lib\\site-packages\\ipykernel\\__main__.py:2: SettingWithCopyWarning: \n",
      "A value is trying to be set on a copy of a slice from a DataFrame.\n",
      "Try using .loc[row_indexer,col_indexer] = value instead\n",
      "\n",
      "See the caveats in the documentation: http://pandas.pydata.org/pandas-docs/stable/indexing.html#indexing-view-versus-copy\n",
      "  from ipykernel import kernelapp as app\n",
      "C:\\Users\\Molly\\Anaconda2\\lib\\site-packages\\ipykernel\\__main__.py:3: SettingWithCopyWarning: \n",
      "A value is trying to be set on a copy of a slice from a DataFrame.\n",
      "Try using .loc[row_indexer,col_indexer] = value instead\n",
      "\n",
      "See the caveats in the documentation: http://pandas.pydata.org/pandas-docs/stable/indexing.html#indexing-view-versus-copy\n",
      "  app.launch_new_instance()\n"
     ]
    }
   ],
   "source": [
    "temp_median = to_use_df['TOTSTAFF'].median()\n",
    "to_use_df['TOTSTAFF'] = to_use_df['TOTSTAFF'].replace(to_replace=-3.0, value=temp_median)\n",
    "to_use_df['TOTSTAFF'] = to_use_df['TOTSTAFF'].replace(to_replace=-1.0, value=temp_median)"
   ]
  },
  {
   "cell_type": "code",
   "execution_count": 102,
   "metadata": {
    "collapsed": false
   },
   "outputs": [
    {
     "data": {
      "text/html": [
       "<div>\n",
       "<table border=\"1\" class=\"dataframe\">\n",
       "  <thead>\n",
       "    <tr style=\"text-align: right;\">\n",
       "      <th></th>\n",
       "      <th>TOTCIR</th>\n",
       "      <th>POPU_LSA</th>\n",
       "      <th>STINCOME</th>\n",
       "      <th>BKVOL</th>\n",
       "      <th>EBOOK</th>\n",
       "      <th>STGVT</th>\n",
       "      <th>FEDGVT</th>\n",
       "      <th>LOCGVT</th>\n",
       "      <th>TOTSTAFF</th>\n",
       "      <th>OBEREG</th>\n",
       "    </tr>\n",
       "  </thead>\n",
       "  <tbody>\n",
       "    <tr>\n",
       "      <th>count</th>\n",
       "      <td>9.301000e+03</td>\n",
       "      <td>9.301000e+03</td>\n",
       "      <td>9301.000000</td>\n",
       "      <td>9.301000e+03</td>\n",
       "      <td>9.301000e+03</td>\n",
       "      <td>9.301000e+03</td>\n",
       "      <td>9.301000e+03</td>\n",
       "      <td>9.301000e+03</td>\n",
       "      <td>9301.000000</td>\n",
       "      <td>9301.000000</td>\n",
       "    </tr>\n",
       "    <tr>\n",
       "      <th>mean</th>\n",
       "      <td>2.490554e+05</td>\n",
       "      <td>3.432709e+04</td>\n",
       "      <td>54220.708096</td>\n",
       "      <td>8.272109e+04</td>\n",
       "      <td>2.303599e+04</td>\n",
       "      <td>9.142703e+04</td>\n",
       "      <td>4.940004e+03</td>\n",
       "      <td>1.106674e+06</td>\n",
       "      <td>14.937327</td>\n",
       "      <td>3.724116</td>\n",
       "    </tr>\n",
       "    <tr>\n",
       "      <th>std</th>\n",
       "      <td>1.028132e+06</td>\n",
       "      <td>1.366007e+05</td>\n",
       "      <td>7976.629792</td>\n",
       "      <td>3.450367e+05</td>\n",
       "      <td>4.146314e+04</td>\n",
       "      <td>8.204151e+05</td>\n",
       "      <td>5.034192e+04</td>\n",
       "      <td>4.729328e+06</td>\n",
       "      <td>55.073508</td>\n",
       "      <td>1.975933</td>\n",
       "    </tr>\n",
       "    <tr>\n",
       "      <th>min</th>\n",
       "      <td>0.000000e+00</td>\n",
       "      <td>1.000000e+01</td>\n",
       "      <td>19686.000000</td>\n",
       "      <td>0.000000e+00</td>\n",
       "      <td>0.000000e+00</td>\n",
       "      <td>0.000000e+00</td>\n",
       "      <td>0.000000e+00</td>\n",
       "      <td>0.000000e+00</td>\n",
       "      <td>0.000000</td>\n",
       "      <td>1.000000</td>\n",
       "    </tr>\n",
       "    <tr>\n",
       "      <th>25%</th>\n",
       "      <td>1.191000e+04</td>\n",
       "      <td>2.195000e+03</td>\n",
       "      <td>48849.000000</td>\n",
       "      <td>1.450000e+04</td>\n",
       "      <td>4.800000e+01</td>\n",
       "      <td>3.250000e+02</td>\n",
       "      <td>0.000000e+00</td>\n",
       "      <td>4.509600e+04</td>\n",
       "      <td>1.350000</td>\n",
       "      <td>2.000000</td>\n",
       "    </tr>\n",
       "    <tr>\n",
       "      <th>50%</th>\n",
       "      <td>4.107100e+04</td>\n",
       "      <td>7.281000e+03</td>\n",
       "      <td>52716.000000</td>\n",
       "      <td>2.861100e+04</td>\n",
       "      <td>7.514000e+03</td>\n",
       "      <td>4.052000e+03</td>\n",
       "      <td>0.000000e+00</td>\n",
       "      <td>1.619790e+05</td>\n",
       "      <td>3.740000</td>\n",
       "      <td>3.000000</td>\n",
       "    </tr>\n",
       "    <tr>\n",
       "      <th>75%</th>\n",
       "      <td>1.434180e+05</td>\n",
       "      <td>2.278700e+04</td>\n",
       "      <td>58687.000000</td>\n",
       "      <td>6.664900e+04</td>\n",
       "      <td>2.099500e+04</td>\n",
       "      <td>2.142900e+04</td>\n",
       "      <td>0.000000e+00</td>\n",
       "      <td>6.534580e+05</td>\n",
       "      <td>10.750000</td>\n",
       "      <td>5.000000</td>\n",
       "    </tr>\n",
       "    <tr>\n",
       "      <th>max</th>\n",
       "      <td>2.410174e+07</td>\n",
       "      <td>4.008651e+06</td>\n",
       "      <td>74149.000000</td>\n",
       "      <td>2.206467e+07</td>\n",
       "      <td>1.036312e+06</td>\n",
       "      <td>3.561788e+07</td>\n",
       "      <td>2.950716e+06</td>\n",
       "      <td>1.430909e+08</td>\n",
       "      <td>2453.550000</td>\n",
       "      <td>9.000000</td>\n",
       "    </tr>\n",
       "  </tbody>\n",
       "</table>\n",
       "</div>"
      ],
      "text/plain": [
       "             TOTCIR      POPU_LSA      STINCOME         BKVOL         EBOOK  \\\n",
       "count  9.301000e+03  9.301000e+03   9301.000000  9.301000e+03  9.301000e+03   \n",
       "mean   2.490554e+05  3.432709e+04  54220.708096  8.272109e+04  2.303599e+04   \n",
       "std    1.028132e+06  1.366007e+05   7976.629792  3.450367e+05  4.146314e+04   \n",
       "min    0.000000e+00  1.000000e+01  19686.000000  0.000000e+00  0.000000e+00   \n",
       "25%    1.191000e+04  2.195000e+03  48849.000000  1.450000e+04  4.800000e+01   \n",
       "50%    4.107100e+04  7.281000e+03  52716.000000  2.861100e+04  7.514000e+03   \n",
       "75%    1.434180e+05  2.278700e+04  58687.000000  6.664900e+04  2.099500e+04   \n",
       "max    2.410174e+07  4.008651e+06  74149.000000  2.206467e+07  1.036312e+06   \n",
       "\n",
       "              STGVT        FEDGVT        LOCGVT     TOTSTAFF       OBEREG  \n",
       "count  9.301000e+03  9.301000e+03  9.301000e+03  9301.000000  9301.000000  \n",
       "mean   9.142703e+04  4.940004e+03  1.106674e+06    14.937327     3.724116  \n",
       "std    8.204151e+05  5.034192e+04  4.729328e+06    55.073508     1.975933  \n",
       "min    0.000000e+00  0.000000e+00  0.000000e+00     0.000000     1.000000  \n",
       "25%    3.250000e+02  0.000000e+00  4.509600e+04     1.350000     2.000000  \n",
       "50%    4.052000e+03  0.000000e+00  1.619790e+05     3.740000     3.000000  \n",
       "75%    2.142900e+04  0.000000e+00  6.534580e+05    10.750000     5.000000  \n",
       "max    3.561788e+07  2.950716e+06  1.430909e+08  2453.550000     9.000000  "
      ]
     },
     "execution_count": 102,
     "metadata": {},
     "output_type": "execute_result"
    }
   ],
   "source": [
    "to_use_df.describe()"
   ]
  },
  {
   "cell_type": "code",
   "execution_count": 103,
   "metadata": {
    "collapsed": false
   },
   "outputs": [
    {
     "name": "stdout",
     "output_type": "stream",
     "text": [
      "0    42\n",
      "dtype: object\n"
     ]
    }
   ],
   "source": [
    "temp_mode = to_use_df['LOCALE'].mode()\n",
    "print temp_mode"
   ]
  },
  {
   "cell_type": "code",
   "execution_count": 104,
   "metadata": {
    "collapsed": false
   },
   "outputs": [
    {
     "name": "stderr",
     "output_type": "stream",
     "text": [
      "C:\\Users\\Molly\\Anaconda2\\lib\\site-packages\\ipykernel\\__main__.py:1: SettingWithCopyWarning: \n",
      "A value is trying to be set on a copy of a slice from a DataFrame.\n",
      "Try using .loc[row_indexer,col_indexer] = value instead\n",
      "\n",
      "See the caveats in the documentation: http://pandas.pydata.org/pandas-docs/stable/indexing.html#indexing-view-versus-copy\n",
      "  if __name__ == '__main__':\n"
     ]
    }
   ],
   "source": [
    "to_use_df['LOCALE'] = to_use_df['LOCALE'].replace(to_replace='.', value=42).astype(int)"
   ]
  },
  {
   "cell_type": "code",
   "execution_count": 105,
   "metadata": {
    "collapsed": false
   },
   "outputs": [
    {
     "data": {
      "text/plain": [
       "42    2147\n",
       "21    1881\n",
       "43    1613\n",
       "32    1057\n",
       "33     643\n",
       "41     505\n",
       "31     502\n",
       "13     296\n",
       "22     258\n",
       "23     206\n",
       "12     117\n",
       "11      76\n",
       "Name: LOCALE, dtype: int64"
      ]
     },
     "execution_count": 105,
     "metadata": {},
     "output_type": "execute_result"
    }
   ],
   "source": [
    "to_use_df['LOCALE'].value_counts()"
   ]
  },
  {
   "cell_type": "markdown",
   "metadata": {},
   "source": [
    "## Transform continuous variables"
   ]
  },
  {
   "cell_type": "code",
   "execution_count": 106,
   "metadata": {
    "collapsed": false
   },
   "outputs": [
    {
     "name": "stderr",
     "output_type": "stream",
     "text": [
      "C:\\Users\\Molly\\Anaconda2\\lib\\site-packages\\ipykernel\\__main__.py:1: SettingWithCopyWarning: \n",
      "A value is trying to be set on a copy of a slice from a DataFrame.\n",
      "Try using .loc[row_indexer,col_indexer] = value instead\n",
      "\n",
      "See the caveats in the documentation: http://pandas.pydata.org/pandas-docs/stable/indexing.html#indexing-view-versus-copy\n",
      "  if __name__ == '__main__':\n"
     ]
    }
   ],
   "source": [
    "to_use_df['CIR/POP'] = to_use_df['TOTCIR']/to_use_df['POPU_LSA']"
   ]
  },
  {
   "cell_type": "code",
   "execution_count": 107,
   "metadata": {
    "collapsed": false
   },
   "outputs": [
    {
     "data": {
      "text/plain": [
       "<matplotlib.axes._subplots.AxesSubplot at 0x111415c0>"
      ]
     },
     "execution_count": 107,
     "metadata": {},
     "output_type": "execute_result"
    },
    {
     "data": {
      "image/png": "[encoded data removed]",
      "text/plain": [
       "<matplotlib.figure.Figure at 0x1c6837b8>"
      ]
     },
     "metadata": {},
     "output_type": "display_data"
    }
   ],
   "source": [
    "sns.violinplot(to_use_df['CIR/POP'])"
   ]
  },
  {
   "cell_type": "code",
   "execution_count": 108,
   "metadata": {
    "collapsed": false
   },
   "outputs": [],
   "source": [
    "log_columns = ['TOTCIR', 'POPU_LSA', 'BKVOL', 'EBOOK', 'STGVT', 'FEDGVT', 'LOCGVT', 'TOTSTAFF', 'CIR/POP']\n",
    "log_df = to_use_df.copy()\n",
    "log_df[log_columns] = log_df[log_columns].add(1)\n",
    "log_df[log_columns] = log_df[log_columns].apply(np.log10)"
   ]
  },
  {
   "cell_type": "code",
   "execution_count": 109,
   "metadata": {
    "collapsed": false
   },
   "outputs": [
    {
     "data": {
      "text/html": [
       "<div>\n",
       "<table border=\"1\" class=\"dataframe\">\n",
       "  <thead>\n",
       "    <tr style=\"text-align: right;\">\n",
       "      <th></th>\n",
       "      <th>TOTCIR</th>\n",
       "      <th>POPU_LSA</th>\n",
       "      <th>STINCOME</th>\n",
       "      <th>BKVOL</th>\n",
       "      <th>EBOOK</th>\n",
       "      <th>STGVT</th>\n",
       "      <th>FEDGVT</th>\n",
       "      <th>LOCGVT</th>\n",
       "      <th>TOTSTAFF</th>\n",
       "      <th>GEOCODE</th>\n",
       "      <th>OBEREG</th>\n",
       "      <th>LOCALE</th>\n",
       "      <th>CIR/POP</th>\n",
       "    </tr>\n",
       "  </thead>\n",
       "  <tbody>\n",
       "    <tr>\n",
       "      <th>0</th>\n",
       "      <td>4.064757</td>\n",
       "      <td>3.313867</td>\n",
       "      <td>71829</td>\n",
       "      <td>4.226445</td>\n",
       "      <td>0.000000</td>\n",
       "      <td>4.278616</td>\n",
       "      <td>3.450557</td>\n",
       "      <td>0.000000</td>\n",
       "      <td>0.225309</td>\n",
       "      <td>CI1</td>\n",
       "      <td>8</td>\n",
       "      <td>43</td>\n",
       "      <td>0.821985</td>\n",
       "    </tr>\n",
       "    <tr>\n",
       "      <th>1</th>\n",
       "      <td>6.275685</td>\n",
       "      <td>5.477917</td>\n",
       "      <td>71829</td>\n",
       "      <td>5.682923</td>\n",
       "      <td>3.990072</td>\n",
       "      <td>4.753775</td>\n",
       "      <td>5.196969</td>\n",
       "      <td>7.019053</td>\n",
       "      <td>1.902547</td>\n",
       "      <td>MA1</td>\n",
       "      <td>8</td>\n",
       "      <td>11</td>\n",
       "      <td>0.861967</td>\n",
       "    </tr>\n",
       "    <tr>\n",
       "      <th>2</th>\n",
       "      <td>3.038620</td>\n",
       "      <td>2.322219</td>\n",
       "      <td>71829</td>\n",
       "      <td>4.184833</td>\n",
       "      <td>0.000000</td>\n",
       "      <td>3.799409</td>\n",
       "      <td>0.000000</td>\n",
       "      <td>3.000434</td>\n",
       "      <td>0.176091</td>\n",
       "      <td>CI1</td>\n",
       "      <td>8</td>\n",
       "      <td>43</td>\n",
       "      <td>0.794131</td>\n",
       "    </tr>\n",
       "    <tr>\n",
       "      <th>3</th>\n",
       "      <td>4.091597</td>\n",
       "      <td>3.795324</td>\n",
       "      <td>71829</td>\n",
       "      <td>4.532958</td>\n",
       "      <td>2.220108</td>\n",
       "      <td>3.819610</td>\n",
       "      <td>0.000000</td>\n",
       "      <td>4.829953</td>\n",
       "      <td>0.602060</td>\n",
       "      <td>CI1</td>\n",
       "      <td>8</td>\n",
       "      <td>33</td>\n",
       "      <td>0.473978</td>\n",
       "    </tr>\n",
       "    <tr>\n",
       "      <th>4</th>\n",
       "      <td>4.775472</td>\n",
       "      <td>4.107006</td>\n",
       "      <td>71829</td>\n",
       "      <td>4.376778</td>\n",
       "      <td>3.990072</td>\n",
       "      <td>3.819610</td>\n",
       "      <td>3.697229</td>\n",
       "      <td>5.530936</td>\n",
       "      <td>0.602060</td>\n",
       "      <td>CO1</td>\n",
       "      <td>8</td>\n",
       "      <td>42</td>\n",
       "      <td>0.752904</td>\n",
       "    </tr>\n",
       "  </tbody>\n",
       "</table>\n",
       "</div>"
      ],
      "text/plain": [
       "     TOTCIR  POPU_LSA  STINCOME     BKVOL     EBOOK     STGVT    FEDGVT  \\\n",
       "0  4.064757  3.313867     71829  4.226445  0.000000  4.278616  3.450557   \n",
       "1  6.275685  5.477917     71829  5.682923  3.990072  4.753775  5.196969   \n",
       "2  3.038620  2.322219     71829  4.184833  0.000000  3.799409  0.000000   \n",
       "3  4.091597  3.795324     71829  4.532958  2.220108  3.819610  0.000000   \n",
       "4  4.775472  4.107006     71829  4.376778  3.990072  3.819610  3.697229   \n",
       "\n",
       "     LOCGVT  TOTSTAFF GEOCODE  OBEREG  LOCALE   CIR/POP  \n",
       "0  0.000000  0.225309     CI1       8      43  0.821985  \n",
       "1  7.019053  1.902547     MA1       8      11  0.861967  \n",
       "2  3.000434  0.176091     CI1       8      43  0.794131  \n",
       "3  4.829953  0.602060     CI1       8      33  0.473978  \n",
       "4  5.530936  0.602060     CO1       8      42  0.752904  "
      ]
     },
     "execution_count": 109,
     "metadata": {},
     "output_type": "execute_result"
    }
   ],
   "source": [
    "log_df.head()"
   ]
  },
  {
   "cell_type": "code",
   "execution_count": 110,
   "metadata": {
    "collapsed": false
   },
   "outputs": [
    {
     "data": {
      "text/html": [
       "<div>\n",
       "<table border=\"1\" class=\"dataframe\">\n",
       "  <thead>\n",
       "    <tr style=\"text-align: right;\">\n",
       "      <th></th>\n",
       "      <th>TOTCIR</th>\n",
       "      <th>POPU_LSA</th>\n",
       "      <th>STINCOME</th>\n",
       "      <th>BKVOL</th>\n",
       "      <th>EBOOK</th>\n",
       "      <th>STGVT</th>\n",
       "      <th>FEDGVT</th>\n",
       "      <th>LOCGVT</th>\n",
       "      <th>TOTSTAFF</th>\n",
       "      <th>OBEREG</th>\n",
       "      <th>LOCALE</th>\n",
       "      <th>CIR/POP</th>\n",
       "    </tr>\n",
       "  </thead>\n",
       "  <tbody>\n",
       "    <tr>\n",
       "      <th>count</th>\n",
       "      <td>9301.000000</td>\n",
       "      <td>9301.000000</td>\n",
       "      <td>9301.000000</td>\n",
       "      <td>9301.000000</td>\n",
       "      <td>9301.000000</td>\n",
       "      <td>9301.000000</td>\n",
       "      <td>9301.000000</td>\n",
       "      <td>9301.000000</td>\n",
       "      <td>9301.000000</td>\n",
       "      <td>9301.000000</td>\n",
       "      <td>9301.000000</td>\n",
       "      <td>9301.000000</td>\n",
       "    </tr>\n",
       "    <tr>\n",
       "      <th>mean</th>\n",
       "      <td>4.617195</td>\n",
       "      <td>3.869640</td>\n",
       "      <td>54220.708096</td>\n",
       "      <td>4.513093</td>\n",
       "      <td>3.074495</td>\n",
       "      <td>3.085505</td>\n",
       "      <td>0.810111</td>\n",
       "      <td>5.181519</td>\n",
       "      <td>0.771174</td>\n",
       "      <td>3.724116</td>\n",
       "      <td>32.990646</td>\n",
       "      <td>0.848690</td>\n",
       "    </tr>\n",
       "    <tr>\n",
       "      <th>std</th>\n",
       "      <td>0.814615</td>\n",
       "      <td>0.728793</td>\n",
       "      <td>7976.629792</td>\n",
       "      <td>0.517199</td>\n",
       "      <td>1.827015</td>\n",
       "      <td>1.861611</td>\n",
       "      <td>1.527561</td>\n",
       "      <td>1.031503</td>\n",
       "      <td>0.509292</td>\n",
       "      <td>1.975933</td>\n",
       "      <td>9.837614</td>\n",
       "      <td>0.303978</td>\n",
       "    </tr>\n",
       "    <tr>\n",
       "      <th>min</th>\n",
       "      <td>0.000000</td>\n",
       "      <td>1.041393</td>\n",
       "      <td>19686.000000</td>\n",
       "      <td>0.000000</td>\n",
       "      <td>0.000000</td>\n",
       "      <td>0.000000</td>\n",
       "      <td>0.000000</td>\n",
       "      <td>0.000000</td>\n",
       "      <td>0.000000</td>\n",
       "      <td>1.000000</td>\n",
       "      <td>11.000000</td>\n",
       "      <td>0.000000</td>\n",
       "    </tr>\n",
       "    <tr>\n",
       "      <th>25%</th>\n",
       "      <td>4.075948</td>\n",
       "      <td>3.341632</td>\n",
       "      <td>48849.000000</td>\n",
       "      <td>4.161398</td>\n",
       "      <td>1.690196</td>\n",
       "      <td>2.513218</td>\n",
       "      <td>0.000000</td>\n",
       "      <td>4.654148</td>\n",
       "      <td>0.371068</td>\n",
       "      <td>2.000000</td>\n",
       "      <td>21.000000</td>\n",
       "      <td>0.649697</td>\n",
       "    </tr>\n",
       "    <tr>\n",
       "      <th>50%</th>\n",
       "      <td>4.613546</td>\n",
       "      <td>3.862251</td>\n",
       "      <td>52716.000000</td>\n",
       "      <td>4.456548</td>\n",
       "      <td>3.875929</td>\n",
       "      <td>3.607777</td>\n",
       "      <td>0.000000</td>\n",
       "      <td>5.209461</td>\n",
       "      <td>0.675778</td>\n",
       "      <td>3.000000</td>\n",
       "      <td>33.000000</td>\n",
       "      <td>0.864793</td>\n",
       "    </tr>\n",
       "    <tr>\n",
       "      <th>75%</th>\n",
       "      <td>5.156607</td>\n",
       "      <td>4.357706</td>\n",
       "      <td>58687.000000</td>\n",
       "      <td>4.823800</td>\n",
       "      <td>4.322137</td>\n",
       "      <td>4.331022</td>\n",
       "      <td>0.000000</td>\n",
       "      <td>5.815218</td>\n",
       "      <td>1.070038</td>\n",
       "      <td>5.000000</td>\n",
       "      <td>42.000000</td>\n",
       "      <td>1.049222</td>\n",
       "    </tr>\n",
       "    <tr>\n",
       "      <th>max</th>\n",
       "      <td>7.382049</td>\n",
       "      <td>6.602998</td>\n",
       "      <td>74149.000000</td>\n",
       "      <td>7.343697</td>\n",
       "      <td>6.015491</td>\n",
       "      <td>7.551668</td>\n",
       "      <td>6.469928</td>\n",
       "      <td>8.155612</td>\n",
       "      <td>3.389972</td>\n",
       "      <td>9.000000</td>\n",
       "      <td>43.000000</td>\n",
       "      <td>2.413132</td>\n",
       "    </tr>\n",
       "  </tbody>\n",
       "</table>\n",
       "</div>"
      ],
      "text/plain": [
       "            TOTCIR     POPU_LSA      STINCOME        BKVOL        EBOOK  \\\n",
       "count  9301.000000  9301.000000   9301.000000  9301.000000  9301.000000   \n",
       "mean      4.617195     3.869640  54220.708096     4.513093     3.074495   \n",
       "std       0.814615     0.728793   7976.629792     0.517199     1.827015   \n",
       "min       0.000000     1.041393  19686.000000     0.000000     0.000000   \n",
       "25%       4.075948     3.341632  48849.000000     4.161398     1.690196   \n",
       "50%       4.613546     3.862251  52716.000000     4.456548     3.875929   \n",
       "75%       5.156607     4.357706  58687.000000     4.823800     4.322137   \n",
       "max       7.382049     6.602998  74149.000000     7.343697     6.015491   \n",
       "\n",
       "             STGVT       FEDGVT       LOCGVT     TOTSTAFF       OBEREG  \\\n",
       "count  9301.000000  9301.000000  9301.000000  9301.000000  9301.000000   \n",
       "mean      3.085505     0.810111     5.181519     0.771174     3.724116   \n",
       "std       1.861611     1.527561     1.031503     0.509292     1.975933   \n",
       "min       0.000000     0.000000     0.000000     0.000000     1.000000   \n",
       "25%       2.513218     0.000000     4.654148     0.371068     2.000000   \n",
       "50%       3.607777     0.000000     5.209461     0.675778     3.000000   \n",
       "75%       4.331022     0.000000     5.815218     1.070038     5.000000   \n",
       "max       7.551668     6.469928     8.155612     3.389972     9.000000   \n",
       "\n",
       "            LOCALE      CIR/POP  \n",
       "count  9301.000000  9301.000000  \n",
       "mean     32.990646     0.848690  \n",
       "std       9.837614     0.303978  \n",
       "min      11.000000     0.000000  \n",
       "25%      21.000000     0.649697  \n",
       "50%      33.000000     0.864793  \n",
       "75%      42.000000     1.049222  \n",
       "max      43.000000     2.413132  "
      ]
     },
     "execution_count": 110,
     "metadata": {},
     "output_type": "execute_result"
    }
   ],
   "source": [
    "log_df.describe()"
   ]
  },
  {
   "cell_type": "code",
   "execution_count": 111,
   "metadata": {
    "collapsed": false
   },
   "outputs": [
    {
     "data": {
      "text/plain": [
       "<matplotlib.axes._subplots.AxesSubplot at 0x1695cf98>"
      ]
     },
     "execution_count": 111,
     "metadata": {},
     "output_type": "execute_result"
    },
    {
     "data": {
      "image/png": "[encoded data removed]",
      "text/plain": [
       "<matplotlib.figure.Figure at 0x129a9438>"
      ]
     },
     "metadata": {},
     "output_type": "display_data"
    }
   ],
   "source": [
    "sns.violinplot(log_df['CIR/POP'])"
   ]
  },
  {
   "cell_type": "code",
   "execution_count": 112,
   "metadata": {
    "collapsed": false
   },
   "outputs": [
    {
     "data": {
      "text/plain": [
       "<matplotlib.axes._subplots.AxesSubplot at 0x17e00860>"
      ]
     },
     "execution_count": 112,
     "metadata": {},
     "output_type": "execute_result"
    },
    {
     "data": {
      "image/png": "[encoded data removed]",
      "text/plain": [
       "<matplotlib.figure.Figure at 0xecaeef0>"
      ]
     },
     "metadata": {},
     "output_type": "display_data"
    }
   ],
   "source": [
    "sns.violinplot(log_df['TOTCIR'])"
   ]
  },
  {
   "cell_type": "code",
   "execution_count": 113,
   "metadata": {
    "collapsed": false
   },
   "outputs": [
    {
     "data": {
      "text/plain": [
       "<matplotlib.axes._subplots.AxesSubplot at 0x17d772b0>"
      ]
     },
     "execution_count": 113,
     "metadata": {},
     "output_type": "execute_result"
    },
    {
     "data": {
      "image/png": "[encoded data removed]",
      "text/plain": [
       "<matplotlib.figure.Figure at 0x16963358>"
      ]
     },
     "metadata": {},
     "output_type": "display_data"
    }
   ],
   "source": [
    "sns.violinplot(log_df['POPU_LSA'])"
   ]
  },
  {
   "cell_type": "code",
   "execution_count": 114,
   "metadata": {
    "collapsed": false
   },
   "outputs": [
    {
     "data": {
      "text/plain": [
       "<matplotlib.axes._subplots.AxesSubplot at 0x177bd828>"
      ]
     },
     "execution_count": 114,
     "metadata": {},
     "output_type": "execute_result"
    },
    {
     "data": {
      "image/png": "[encoded data removed]",
      "text/plain": [
       "<matplotlib.figure.Figure at 0x1779b390>"
      ]
     },
     "metadata": {},
     "output_type": "display_data"
    }
   ],
   "source": [
    "sns.violinplot(log_df['STGVT'])"
   ]
  },
  {
   "cell_type": "code",
   "execution_count": 115,
   "metadata": {
    "collapsed": false
   },
   "outputs": [
    {
     "data": {
      "text/plain": [
       "<matplotlib.axes._subplots.AxesSubplot at 0x1c3fa9e8>"
      ]
     },
     "execution_count": 115,
     "metadata": {},
     "output_type": "execute_result"
    },
    {
     "data": {
      "image/png": "[encoded data removed]",
      "text/plain": [
       "<matplotlib.figure.Figure at 0x111f12b0>"
      ]
     },
     "metadata": {},
     "output_type": "display_data"
    }
   ],
   "source": [
    "sns.violinplot(log_df['BKVOL'])"
   ]
  },
  {
   "cell_type": "code",
   "execution_count": 116,
   "metadata": {
    "collapsed": false
   },
   "outputs": [
    {
     "data": {
      "text/plain": [
       "<matplotlib.axes._subplots.AxesSubplot at 0xe838208>"
      ]
     },
     "execution_count": 116,
     "metadata": {},
     "output_type": "execute_result"
    },
    {
     "data": {
      "image/png": "[encoded data removed]",
      "text/plain": [
       "<matplotlib.figure.Figure at 0x17895ba8>"
      ]
     },
     "metadata": {},
     "output_type": "display_data"
    }
   ],
   "source": [
    "sns.violinplot(log_df['EBOOK'])"
   ]
  },
  {
   "cell_type": "code",
   "execution_count": 117,
   "metadata": {
    "collapsed": false
   },
   "outputs": [
    {
     "data": {
      "text/plain": [
       "<matplotlib.axes._subplots.AxesSubplot at 0x1c26f8d0>"
      ]
     },
     "execution_count": 117,
     "metadata": {},
     "output_type": "execute_result"
    },
    {
     "data": {
      "image/png": "[encoded data removed]",
      "text/plain": [
       "<matplotlib.figure.Figure at 0x14418320>"
      ]
     },
     "metadata": {},
     "output_type": "display_data"
    }
   ],
   "source": [
    "sns.violinplot(log_df['FEDGVT'])"
   ]
  },
  {
   "cell_type": "code",
   "execution_count": 118,
   "metadata": {
    "collapsed": false
   },
   "outputs": [
    {
     "data": {
      "text/plain": [
       "<matplotlib.axes._subplots.AxesSubplot at 0x1434ffd0>"
      ]
     },
     "execution_count": 118,
     "metadata": {},
     "output_type": "execute_result"
    },
    {
     "data": {
      "image/png": "[encoded data removed]",
      "text/plain": [
       "<matplotlib.figure.Figure at 0x16c3f5f8>"
      ]
     },
     "metadata": {},
     "output_type": "display_data"
    }
   ],
   "source": [
    "sns.violinplot(log_df['LOCGVT'])"
   ]
  },
  {
   "cell_type": "code",
   "execution_count": 119,
   "metadata": {
    "collapsed": false
   },
   "outputs": [
    {
     "data": {
      "text/plain": [
       "<matplotlib.axes._subplots.AxesSubplot at 0x16c3a390>"
      ]
     },
     "execution_count": 119,
     "metadata": {},
     "output_type": "execute_result"
    },
    {
     "data": {
      "image/png": "[encoded data removed]",
      "text/plain": [
       "<matplotlib.figure.Figure at 0xc3844e0>"
      ]
     },
     "metadata": {},
     "output_type": "display_data"
    }
   ],
   "source": [
    "sns.violinplot(log_df['TOTSTAFF'])"
   ]
  },
  {
   "cell_type": "markdown",
   "metadata": {},
   "source": [
    "## Get Dummy Variables"
   ]
  },
  {
   "cell_type": "code",
   "execution_count": 120,
   "metadata": {
    "collapsed": false
   },
   "outputs": [],
   "source": [
    "dummy_df = pd.get_dummies(log_df, columns=['GEOCODE', 'OBEREG', 'LOCALE'], drop_first=True)"
   ]
  },
  {
   "cell_type": "code",
   "execution_count": 121,
   "metadata": {
    "collapsed": false
   },
   "outputs": [
    {
     "data": {
      "text/html": [
       "<div>\n",
       "<table border=\"1\" class=\"dataframe\">\n",
       "  <thead>\n",
       "    <tr style=\"text-align: right;\">\n",
       "      <th></th>\n",
       "      <th>TOTCIR</th>\n",
       "      <th>POPU_LSA</th>\n",
       "      <th>STINCOME</th>\n",
       "      <th>BKVOL</th>\n",
       "      <th>EBOOK</th>\n",
       "      <th>STGVT</th>\n",
       "      <th>FEDGVT</th>\n",
       "      <th>LOCGVT</th>\n",
       "      <th>TOTSTAFF</th>\n",
       "      <th>CIR/POP</th>\n",
       "      <th>...</th>\n",
       "      <th>LOCALE_13</th>\n",
       "      <th>LOCALE_21</th>\n",
       "      <th>LOCALE_22</th>\n",
       "      <th>LOCALE_23</th>\n",
       "      <th>LOCALE_31</th>\n",
       "      <th>LOCALE_32</th>\n",
       "      <th>LOCALE_33</th>\n",
       "      <th>LOCALE_41</th>\n",
       "      <th>LOCALE_42</th>\n",
       "      <th>LOCALE_43</th>\n",
       "    </tr>\n",
       "  </thead>\n",
       "  <tbody>\n",
       "    <tr>\n",
       "      <th>0</th>\n",
       "      <td>4.064757</td>\n",
       "      <td>3.313867</td>\n",
       "      <td>71829</td>\n",
       "      <td>4.226445</td>\n",
       "      <td>0.000000</td>\n",
       "      <td>4.278616</td>\n",
       "      <td>3.450557</td>\n",
       "      <td>0.000000</td>\n",
       "      <td>0.225309</td>\n",
       "      <td>0.821985</td>\n",
       "      <td>...</td>\n",
       "      <td>0.0</td>\n",
       "      <td>0.0</td>\n",
       "      <td>0.0</td>\n",
       "      <td>0.0</td>\n",
       "      <td>0.0</td>\n",
       "      <td>0.0</td>\n",
       "      <td>0.0</td>\n",
       "      <td>0.0</td>\n",
       "      <td>0.0</td>\n",
       "      <td>1.0</td>\n",
       "    </tr>\n",
       "    <tr>\n",
       "      <th>1</th>\n",
       "      <td>6.275685</td>\n",
       "      <td>5.477917</td>\n",
       "      <td>71829</td>\n",
       "      <td>5.682923</td>\n",
       "      <td>3.990072</td>\n",
       "      <td>4.753775</td>\n",
       "      <td>5.196969</td>\n",
       "      <td>7.019053</td>\n",
       "      <td>1.902547</td>\n",
       "      <td>0.861967</td>\n",
       "      <td>...</td>\n",
       "      <td>0.0</td>\n",
       "      <td>0.0</td>\n",
       "      <td>0.0</td>\n",
       "      <td>0.0</td>\n",
       "      <td>0.0</td>\n",
       "      <td>0.0</td>\n",
       "      <td>0.0</td>\n",
       "      <td>0.0</td>\n",
       "      <td>0.0</td>\n",
       "      <td>0.0</td>\n",
       "    </tr>\n",
       "    <tr>\n",
       "      <th>2</th>\n",
       "      <td>3.038620</td>\n",
       "      <td>2.322219</td>\n",
       "      <td>71829</td>\n",
       "      <td>4.184833</td>\n",
       "      <td>0.000000</td>\n",
       "      <td>3.799409</td>\n",
       "      <td>0.000000</td>\n",
       "      <td>3.000434</td>\n",
       "      <td>0.176091</td>\n",
       "      <td>0.794131</td>\n",
       "      <td>...</td>\n",
       "      <td>0.0</td>\n",
       "      <td>0.0</td>\n",
       "      <td>0.0</td>\n",
       "      <td>0.0</td>\n",
       "      <td>0.0</td>\n",
       "      <td>0.0</td>\n",
       "      <td>0.0</td>\n",
       "      <td>0.0</td>\n",
       "      <td>0.0</td>\n",
       "      <td>1.0</td>\n",
       "    </tr>\n",
       "    <tr>\n",
       "      <th>3</th>\n",
       "      <td>4.091597</td>\n",
       "      <td>3.795324</td>\n",
       "      <td>71829</td>\n",
       "      <td>4.532958</td>\n",
       "      <td>2.220108</td>\n",
       "      <td>3.819610</td>\n",
       "      <td>0.000000</td>\n",
       "      <td>4.829953</td>\n",
       "      <td>0.602060</td>\n",
       "      <td>0.473978</td>\n",
       "      <td>...</td>\n",
       "      <td>0.0</td>\n",
       "      <td>0.0</td>\n",
       "      <td>0.0</td>\n",
       "      <td>0.0</td>\n",
       "      <td>0.0</td>\n",
       "      <td>0.0</td>\n",
       "      <td>1.0</td>\n",
       "      <td>0.0</td>\n",
       "      <td>0.0</td>\n",
       "      <td>0.0</td>\n",
       "    </tr>\n",
       "    <tr>\n",
       "      <th>4</th>\n",
       "      <td>4.775472</td>\n",
       "      <td>4.107006</td>\n",
       "      <td>71829</td>\n",
       "      <td>4.376778</td>\n",
       "      <td>3.990072</td>\n",
       "      <td>3.819610</td>\n",
       "      <td>3.697229</td>\n",
       "      <td>5.530936</td>\n",
       "      <td>0.602060</td>\n",
       "      <td>0.752904</td>\n",
       "      <td>...</td>\n",
       "      <td>0.0</td>\n",
       "      <td>0.0</td>\n",
       "      <td>0.0</td>\n",
       "      <td>0.0</td>\n",
       "      <td>0.0</td>\n",
       "      <td>0.0</td>\n",
       "      <td>0.0</td>\n",
       "      <td>0.0</td>\n",
       "      <td>1.0</td>\n",
       "      <td>0.0</td>\n",
       "    </tr>\n",
       "  </tbody>\n",
       "</table>\n",
       "<p>5 rows × 39 columns</p>\n",
       "</div>"
      ],
      "text/plain": [
       "     TOTCIR  POPU_LSA  STINCOME     BKVOL     EBOOK     STGVT    FEDGVT  \\\n",
       "0  4.064757  3.313867     71829  4.226445  0.000000  4.278616  3.450557   \n",
       "1  6.275685  5.477917     71829  5.682923  3.990072  4.753775  5.196969   \n",
       "2  3.038620  2.322219     71829  4.184833  0.000000  3.799409  0.000000   \n",
       "3  4.091597  3.795324     71829  4.532958  2.220108  3.819610  0.000000   \n",
       "4  4.775472  4.107006     71829  4.376778  3.990072  3.819610  3.697229   \n",
       "\n",
       "     LOCGVT  TOTSTAFF   CIR/POP    ...      LOCALE_13  LOCALE_21  LOCALE_22  \\\n",
       "0  0.000000  0.225309  0.821985    ...            0.0        0.0        0.0   \n",
       "1  7.019053  1.902547  0.861967    ...            0.0        0.0        0.0   \n",
       "2  3.000434  0.176091  0.794131    ...            0.0        0.0        0.0   \n",
       "3  4.829953  0.602060  0.473978    ...            0.0        0.0        0.0   \n",
       "4  5.530936  0.602060  0.752904    ...            0.0        0.0        0.0   \n",
       "\n",
       "   LOCALE_23  LOCALE_31  LOCALE_32  LOCALE_33  LOCALE_41  LOCALE_42  LOCALE_43  \n",
       "0        0.0        0.0        0.0        0.0        0.0        0.0        1.0  \n",
       "1        0.0        0.0        0.0        0.0        0.0        0.0        0.0  \n",
       "2        0.0        0.0        0.0        0.0        0.0        0.0        1.0  \n",
       "3        0.0        0.0        0.0        1.0        0.0        0.0        0.0  \n",
       "4        0.0        0.0        0.0        0.0        0.0        1.0        0.0  \n",
       "\n",
       "[5 rows x 39 columns]"
      ]
     },
     "execution_count": 121,
     "metadata": {},
     "output_type": "execute_result"
    }
   ],
   "source": [
    "dummy_df.head()"
   ]
  },
  {
   "cell_type": "code",
   "execution_count": 122,
   "metadata": {
    "collapsed": false
   },
   "outputs": [
    {
     "data": {
      "text/html": [
       "<div>\n",
       "<table border=\"1\" class=\"dataframe\">\n",
       "  <thead>\n",
       "    <tr style=\"text-align: right;\">\n",
       "      <th></th>\n",
       "      <th>TOTCIR</th>\n",
       "      <th>POPU_LSA</th>\n",
       "      <th>STINCOME</th>\n",
       "      <th>BKVOL</th>\n",
       "      <th>EBOOK</th>\n",
       "      <th>STGVT</th>\n",
       "      <th>FEDGVT</th>\n",
       "      <th>LOCGVT</th>\n",
       "      <th>TOTSTAFF</th>\n",
       "      <th>CIR/POP</th>\n",
       "      <th>...</th>\n",
       "      <th>LOCALE_13</th>\n",
       "      <th>LOCALE_21</th>\n",
       "      <th>LOCALE_22</th>\n",
       "      <th>LOCALE_23</th>\n",
       "      <th>LOCALE_31</th>\n",
       "      <th>LOCALE_32</th>\n",
       "      <th>LOCALE_33</th>\n",
       "      <th>LOCALE_41</th>\n",
       "      <th>LOCALE_42</th>\n",
       "      <th>LOCALE_43</th>\n",
       "    </tr>\n",
       "  </thead>\n",
       "  <tbody>\n",
       "    <tr>\n",
       "      <th>count</th>\n",
       "      <td>9301.000000</td>\n",
       "      <td>9301.000000</td>\n",
       "      <td>9301.000000</td>\n",
       "      <td>9301.000000</td>\n",
       "      <td>9301.000000</td>\n",
       "      <td>9301.000000</td>\n",
       "      <td>9301.000000</td>\n",
       "      <td>9301.000000</td>\n",
       "      <td>9301.000000</td>\n",
       "      <td>9301.000000</td>\n",
       "      <td>...</td>\n",
       "      <td>9301.000000</td>\n",
       "      <td>9301.000000</td>\n",
       "      <td>9301.000000</td>\n",
       "      <td>9301.000000</td>\n",
       "      <td>9301.000000</td>\n",
       "      <td>9301.000000</td>\n",
       "      <td>9301.000000</td>\n",
       "      <td>9301.000000</td>\n",
       "      <td>9301.000000</td>\n",
       "      <td>9301.000000</td>\n",
       "    </tr>\n",
       "    <tr>\n",
       "      <th>mean</th>\n",
       "      <td>4.617195</td>\n",
       "      <td>3.869640</td>\n",
       "      <td>54220.708096</td>\n",
       "      <td>4.513093</td>\n",
       "      <td>3.074495</td>\n",
       "      <td>3.085505</td>\n",
       "      <td>0.810111</td>\n",
       "      <td>5.181519</td>\n",
       "      <td>0.771174</td>\n",
       "      <td>0.848690</td>\n",
       "      <td>...</td>\n",
       "      <td>0.031825</td>\n",
       "      <td>0.202236</td>\n",
       "      <td>0.027739</td>\n",
       "      <td>0.022148</td>\n",
       "      <td>0.053973</td>\n",
       "      <td>0.113644</td>\n",
       "      <td>0.069132</td>\n",
       "      <td>0.054295</td>\n",
       "      <td>0.230835</td>\n",
       "      <td>0.173422</td>\n",
       "    </tr>\n",
       "    <tr>\n",
       "      <th>std</th>\n",
       "      <td>0.814615</td>\n",
       "      <td>0.728793</td>\n",
       "      <td>7976.629792</td>\n",
       "      <td>0.517199</td>\n",
       "      <td>1.827015</td>\n",
       "      <td>1.861611</td>\n",
       "      <td>1.527561</td>\n",
       "      <td>1.031503</td>\n",
       "      <td>0.509292</td>\n",
       "      <td>0.303978</td>\n",
       "      <td>...</td>\n",
       "      <td>0.175542</td>\n",
       "      <td>0.401689</td>\n",
       "      <td>0.164233</td>\n",
       "      <td>0.147173</td>\n",
       "      <td>0.225976</td>\n",
       "      <td>0.317395</td>\n",
       "      <td>0.253693</td>\n",
       "      <td>0.226612</td>\n",
       "      <td>0.421390</td>\n",
       "      <td>0.378632</td>\n",
       "    </tr>\n",
       "    <tr>\n",
       "      <th>min</th>\n",
       "      <td>0.000000</td>\n",
       "      <td>1.041393</td>\n",
       "      <td>19686.000000</td>\n",
       "      <td>0.000000</td>\n",
       "      <td>0.000000</td>\n",
       "      <td>0.000000</td>\n",
       "      <td>0.000000</td>\n",
       "      <td>0.000000</td>\n",
       "      <td>0.000000</td>\n",
       "      <td>0.000000</td>\n",
       "      <td>...</td>\n",
       "      <td>0.000000</td>\n",
       "      <td>0.000000</td>\n",
       "      <td>0.000000</td>\n",
       "      <td>0.000000</td>\n",
       "      <td>0.000000</td>\n",
       "      <td>0.000000</td>\n",
       "      <td>0.000000</td>\n",
       "      <td>0.000000</td>\n",
       "      <td>0.000000</td>\n",
       "      <td>0.000000</td>\n",
       "    </tr>\n",
       "    <tr>\n",
       "      <th>25%</th>\n",
       "      <td>4.075948</td>\n",
       "      <td>3.341632</td>\n",
       "      <td>48849.000000</td>\n",
       "      <td>4.161398</td>\n",
       "      <td>1.690196</td>\n",
       "      <td>2.513218</td>\n",
       "      <td>0.000000</td>\n",
       "      <td>4.654148</td>\n",
       "      <td>0.371068</td>\n",
       "      <td>0.649697</td>\n",
       "      <td>...</td>\n",
       "      <td>0.000000</td>\n",
       "      <td>0.000000</td>\n",
       "      <td>0.000000</td>\n",
       "      <td>0.000000</td>\n",
       "      <td>0.000000</td>\n",
       "      <td>0.000000</td>\n",
       "      <td>0.000000</td>\n",
       "      <td>0.000000</td>\n",
       "      <td>0.000000</td>\n",
       "      <td>0.000000</td>\n",
       "    </tr>\n",
       "    <tr>\n",
       "      <th>50%</th>\n",
       "      <td>4.613546</td>\n",
       "      <td>3.862251</td>\n",
       "      <td>52716.000000</td>\n",
       "      <td>4.456548</td>\n",
       "      <td>3.875929</td>\n",
       "      <td>3.607777</td>\n",
       "      <td>0.000000</td>\n",
       "      <td>5.209461</td>\n",
       "      <td>0.675778</td>\n",
       "      <td>0.864793</td>\n",
       "      <td>...</td>\n",
       "      <td>0.000000</td>\n",
       "      <td>0.000000</td>\n",
       "      <td>0.000000</td>\n",
       "      <td>0.000000</td>\n",
       "      <td>0.000000</td>\n",
       "      <td>0.000000</td>\n",
       "      <td>0.000000</td>\n",
       "      <td>0.000000</td>\n",
       "      <td>0.000000</td>\n",
       "      <td>0.000000</td>\n",
       "    </tr>\n",
       "    <tr>\n",
       "      <th>75%</th>\n",
       "      <td>5.156607</td>\n",
       "      <td>4.357706</td>\n",
       "      <td>58687.000000</td>\n",
       "      <td>4.823800</td>\n",
       "      <td>4.322137</td>\n",
       "      <td>4.331022</td>\n",
       "      <td>0.000000</td>\n",
       "      <td>5.815218</td>\n",
       "      <td>1.070038</td>\n",
       "      <td>1.049222</td>\n",
       "      <td>...</td>\n",
       "      <td>0.000000</td>\n",
       "      <td>0.000000</td>\n",
       "      <td>0.000000</td>\n",
       "      <td>0.000000</td>\n",
       "      <td>0.000000</td>\n",
       "      <td>0.000000</td>\n",
       "      <td>0.000000</td>\n",
       "      <td>0.000000</td>\n",
       "      <td>0.000000</td>\n",
       "      <td>0.000000</td>\n",
       "    </tr>\n",
       "    <tr>\n",
       "      <th>max</th>\n",
       "      <td>7.382049</td>\n",
       "      <td>6.602998</td>\n",
       "      <td>74149.000000</td>\n",
       "      <td>7.343697</td>\n",
       "      <td>6.015491</td>\n",
       "      <td>7.551668</td>\n",
       "      <td>6.469928</td>\n",
       "      <td>8.155612</td>\n",
       "      <td>3.389972</td>\n",
       "      <td>2.413132</td>\n",
       "      <td>...</td>\n",
       "      <td>1.000000</td>\n",
       "      <td>1.000000</td>\n",
       "      <td>1.000000</td>\n",
       "      <td>1.000000</td>\n",
       "      <td>1.000000</td>\n",
       "      <td>1.000000</td>\n",
       "      <td>1.000000</td>\n",
       "      <td>1.000000</td>\n",
       "      <td>1.000000</td>\n",
       "      <td>1.000000</td>\n",
       "    </tr>\n",
       "  </tbody>\n",
       "</table>\n",
       "<p>8 rows × 39 columns</p>\n",
       "</div>"
      ],
      "text/plain": [
       "            TOTCIR     POPU_LSA      STINCOME        BKVOL        EBOOK  \\\n",
       "count  9301.000000  9301.000000   9301.000000  9301.000000  9301.000000   \n",
       "mean      4.617195     3.869640  54220.708096     4.513093     3.074495   \n",
       "std       0.814615     0.728793   7976.629792     0.517199     1.827015   \n",
       "min       0.000000     1.041393  19686.000000     0.000000     0.000000   \n",
       "25%       4.075948     3.341632  48849.000000     4.161398     1.690196   \n",
       "50%       4.613546     3.862251  52716.000000     4.456548     3.875929   \n",
       "75%       5.156607     4.357706  58687.000000     4.823800     4.322137   \n",
       "max       7.382049     6.602998  74149.000000     7.343697     6.015491   \n",
       "\n",
       "             STGVT       FEDGVT       LOCGVT     TOTSTAFF      CIR/POP  \\\n",
       "count  9301.000000  9301.000000  9301.000000  9301.000000  9301.000000   \n",
       "mean      3.085505     0.810111     5.181519     0.771174     0.848690   \n",
       "std       1.861611     1.527561     1.031503     0.509292     0.303978   \n",
       "min       0.000000     0.000000     0.000000     0.000000     0.000000   \n",
       "25%       2.513218     0.000000     4.654148     0.371068     0.649697   \n",
       "50%       3.607777     0.000000     5.209461     0.675778     0.864793   \n",
       "75%       4.331022     0.000000     5.815218     1.070038     1.049222   \n",
       "max       7.551668     6.469928     8.155612     3.389972     2.413132   \n",
       "\n",
       "          ...         LOCALE_13    LOCALE_21    LOCALE_22    LOCALE_23  \\\n",
       "count     ...       9301.000000  9301.000000  9301.000000  9301.000000   \n",
       "mean      ...          0.031825     0.202236     0.027739     0.022148   \n",
       "std       ...          0.175542     0.401689     0.164233     0.147173   \n",
       "min       ...          0.000000     0.000000     0.000000     0.000000   \n",
       "25%       ...          0.000000     0.000000     0.000000     0.000000   \n",
       "50%       ...          0.000000     0.000000     0.000000     0.000000   \n",
       "75%       ...          0.000000     0.000000     0.000000     0.000000   \n",
       "max       ...          1.000000     1.000000     1.000000     1.000000   \n",
       "\n",
       "         LOCALE_31    LOCALE_32    LOCALE_33    LOCALE_41    LOCALE_42  \\\n",
       "count  9301.000000  9301.000000  9301.000000  9301.000000  9301.000000   \n",
       "mean      0.053973     0.113644     0.069132     0.054295     0.230835   \n",
       "std       0.225976     0.317395     0.253693     0.226612     0.421390   \n",
       "min       0.000000     0.000000     0.000000     0.000000     0.000000   \n",
       "25%       0.000000     0.000000     0.000000     0.000000     0.000000   \n",
       "50%       0.000000     0.000000     0.000000     0.000000     0.000000   \n",
       "75%       0.000000     0.000000     0.000000     0.000000     0.000000   \n",
       "max       1.000000     1.000000     1.000000     1.000000     1.000000   \n",
       "\n",
       "         LOCALE_43  \n",
       "count  9301.000000  \n",
       "mean      0.173422  \n",
       "std       0.378632  \n",
       "min       0.000000  \n",
       "25%       0.000000  \n",
       "50%       0.000000  \n",
       "75%       0.000000  \n",
       "max       1.000000  \n",
       "\n",
       "[8 rows x 39 columns]"
      ]
     },
     "execution_count": 122,
     "metadata": {},
     "output_type": "execute_result"
    }
   ],
   "source": [
    "dummy_df.describe()"
   ]
  },
  {
   "cell_type": "code",
   "execution_count": 123,
   "metadata": {
    "collapsed": false
   },
   "outputs": [
    {
     "data": {
      "text/html": [
       "<div>\n",
       "<table border=\"1\" class=\"dataframe\">\n",
       "  <thead>\n",
       "    <tr style=\"text-align: right;\">\n",
       "      <th></th>\n",
       "      <th>TOTCIR</th>\n",
       "      <th>POPU_LSA</th>\n",
       "      <th>STINCOME</th>\n",
       "      <th>BKVOL</th>\n",
       "      <th>EBOOK</th>\n",
       "      <th>STGVT</th>\n",
       "      <th>FEDGVT</th>\n",
       "      <th>LOCGVT</th>\n",
       "      <th>TOTSTAFF</th>\n",
       "      <th>CIR/POP</th>\n",
       "      <th>...</th>\n",
       "      <th>LOCALE_13</th>\n",
       "      <th>LOCALE_21</th>\n",
       "      <th>LOCALE_22</th>\n",
       "      <th>LOCALE_23</th>\n",
       "      <th>LOCALE_31</th>\n",
       "      <th>LOCALE_32</th>\n",
       "      <th>LOCALE_33</th>\n",
       "      <th>LOCALE_41</th>\n",
       "      <th>LOCALE_42</th>\n",
       "      <th>LOCALE_43</th>\n",
       "    </tr>\n",
       "  </thead>\n",
       "  <tbody>\n",
       "    <tr>\n",
       "      <th>TOTCIR</th>\n",
       "      <td>1.000000</td>\n",
       "      <td>0.860231</td>\n",
       "      <td>0.083326</td>\n",
       "      <td>0.891047</td>\n",
       "      <td>0.503630</td>\n",
       "      <td>0.378904</td>\n",
       "      <td>0.207205</td>\n",
       "      <td>0.730118</td>\n",
       "      <td>0.906437</td>\n",
       "      <td>0.426757</td>\n",
       "      <td>...</td>\n",
       "      <td>0.216181</td>\n",
       "      <td>0.358447</td>\n",
       "      <td>0.096348</td>\n",
       "      <td>0.035255</td>\n",
       "      <td>0.053037</td>\n",
       "      <td>0.076277</td>\n",
       "      <td>0.044125</td>\n",
       "      <td>-0.051190</td>\n",
       "      <td>-0.315383</td>\n",
       "      <td>-0.383669</td>\n",
       "    </tr>\n",
       "    <tr>\n",
       "      <th>POPU_LSA</th>\n",
       "      <td>0.860231</td>\n",
       "      <td>1.000000</td>\n",
       "      <td>-0.030646</td>\n",
       "      <td>0.856240</td>\n",
       "      <td>0.395765</td>\n",
       "      <td>0.339485</td>\n",
       "      <td>0.221930</td>\n",
       "      <td>0.696398</td>\n",
       "      <td>0.885725</td>\n",
       "      <td>-0.072266</td>\n",
       "      <td>...</td>\n",
       "      <td>0.228763</td>\n",
       "      <td>0.336176</td>\n",
       "      <td>0.104695</td>\n",
       "      <td>0.052410</td>\n",
       "      <td>0.052261</td>\n",
       "      <td>0.102911</td>\n",
       "      <td>0.058008</td>\n",
       "      <td>-0.052013</td>\n",
       "      <td>-0.308364</td>\n",
       "      <td>-0.429240</td>\n",
       "    </tr>\n",
       "    <tr>\n",
       "      <th>STINCOME</th>\n",
       "      <td>0.083326</td>\n",
       "      <td>-0.030646</td>\n",
       "      <td>1.000000</td>\n",
       "      <td>0.077319</td>\n",
       "      <td>0.095519</td>\n",
       "      <td>-0.002183</td>\n",
       "      <td>-0.050489</td>\n",
       "      <td>0.106621</td>\n",
       "      <td>0.051053</td>\n",
       "      <td>0.205875</td>\n",
       "      <td>...</td>\n",
       "      <td>-0.022107</td>\n",
       "      <td>0.252591</td>\n",
       "      <td>0.040801</td>\n",
       "      <td>-0.013233</td>\n",
       "      <td>-0.011471</td>\n",
       "      <td>-0.116226</td>\n",
       "      <td>-0.091256</td>\n",
       "      <td>0.085839</td>\n",
       "      <td>-0.061700</td>\n",
       "      <td>-0.084534</td>\n",
       "    </tr>\n",
       "    <tr>\n",
       "      <th>BKVOL</th>\n",
       "      <td>0.891047</td>\n",
       "      <td>0.856240</td>\n",
       "      <td>0.077319</td>\n",
       "      <td>1.000000</td>\n",
       "      <td>0.401088</td>\n",
       "      <td>0.389489</td>\n",
       "      <td>0.224479</td>\n",
       "      <td>0.697243</td>\n",
       "      <td>0.913923</td>\n",
       "      <td>0.220533</td>\n",
       "      <td>...</td>\n",
       "      <td>0.223360</td>\n",
       "      <td>0.333055</td>\n",
       "      <td>0.079773</td>\n",
       "      <td>0.029769</td>\n",
       "      <td>0.019862</td>\n",
       "      <td>0.060608</td>\n",
       "      <td>0.045805</td>\n",
       "      <td>-0.074314</td>\n",
       "      <td>-0.306939</td>\n",
       "      <td>-0.331909</td>\n",
       "    </tr>\n",
       "    <tr>\n",
       "      <th>EBOOK</th>\n",
       "      <td>0.503630</td>\n",
       "      <td>0.395765</td>\n",
       "      <td>0.095519</td>\n",
       "      <td>0.401088</td>\n",
       "      <td>1.000000</td>\n",
       "      <td>0.162356</td>\n",
       "      <td>0.039062</td>\n",
       "      <td>0.362961</td>\n",
       "      <td>0.425273</td>\n",
       "      <td>0.290216</td>\n",
       "      <td>...</td>\n",
       "      <td>0.075339</td>\n",
       "      <td>0.168684</td>\n",
       "      <td>0.042333</td>\n",
       "      <td>0.040096</td>\n",
       "      <td>0.050959</td>\n",
       "      <td>0.070701</td>\n",
       "      <td>-0.017925</td>\n",
       "      <td>0.013244</td>\n",
       "      <td>-0.114829</td>\n",
       "      <td>-0.239142</td>\n",
       "    </tr>\n",
       "    <tr>\n",
       "      <th>STGVT</th>\n",
       "      <td>0.378904</td>\n",
       "      <td>0.339485</td>\n",
       "      <td>-0.002183</td>\n",
       "      <td>0.389489</td>\n",
       "      <td>0.162356</td>\n",
       "      <td>1.000000</td>\n",
       "      <td>0.151837</td>\n",
       "      <td>0.236801</td>\n",
       "      <td>0.421573</td>\n",
       "      <td>0.139891</td>\n",
       "      <td>...</td>\n",
       "      <td>0.066992</td>\n",
       "      <td>0.211943</td>\n",
       "      <td>-0.010277</td>\n",
       "      <td>0.016557</td>\n",
       "      <td>0.018387</td>\n",
       "      <td>0.027051</td>\n",
       "      <td>-0.029753</td>\n",
       "      <td>-0.027270</td>\n",
       "      <td>-0.116269</td>\n",
       "      <td>-0.154619</td>\n",
       "    </tr>\n",
       "    <tr>\n",
       "      <th>FEDGVT</th>\n",
       "      <td>0.207205</td>\n",
       "      <td>0.221930</td>\n",
       "      <td>-0.050489</td>\n",
       "      <td>0.224479</td>\n",
       "      <td>0.039062</td>\n",
       "      <td>0.151837</td>\n",
       "      <td>1.000000</td>\n",
       "      <td>0.168968</td>\n",
       "      <td>0.244661</td>\n",
       "      <td>0.011093</td>\n",
       "      <td>...</td>\n",
       "      <td>0.071223</td>\n",
       "      <td>-0.040109</td>\n",
       "      <td>-0.010001</td>\n",
       "      <td>-0.001814</td>\n",
       "      <td>0.010736</td>\n",
       "      <td>0.048524</td>\n",
       "      <td>0.037438</td>\n",
       "      <td>-0.045965</td>\n",
       "      <td>-0.060300</td>\n",
       "      <td>-0.025175</td>\n",
       "    </tr>\n",
       "    <tr>\n",
       "      <th>LOCGVT</th>\n",
       "      <td>0.730118</td>\n",
       "      <td>0.696398</td>\n",
       "      <td>0.106621</td>\n",
       "      <td>0.697243</td>\n",
       "      <td>0.362961</td>\n",
       "      <td>0.236801</td>\n",
       "      <td>0.168968</td>\n",
       "      <td>1.000000</td>\n",
       "      <td>0.748182</td>\n",
       "      <td>0.199798</td>\n",
       "      <td>...</td>\n",
       "      <td>0.179534</td>\n",
       "      <td>0.344155</td>\n",
       "      <td>0.078465</td>\n",
       "      <td>0.010383</td>\n",
       "      <td>0.011767</td>\n",
       "      <td>0.011553</td>\n",
       "      <td>0.050772</td>\n",
       "      <td>-0.038724</td>\n",
       "      <td>-0.271761</td>\n",
       "      <td>-0.302300</td>\n",
       "    </tr>\n",
       "    <tr>\n",
       "      <th>TOTSTAFF</th>\n",
       "      <td>0.906437</td>\n",
       "      <td>0.885725</td>\n",
       "      <td>0.051053</td>\n",
       "      <td>0.913923</td>\n",
       "      <td>0.425273</td>\n",
       "      <td>0.421573</td>\n",
       "      <td>0.244661</td>\n",
       "      <td>0.748182</td>\n",
       "      <td>1.000000</td>\n",
       "      <td>0.226339</td>\n",
       "      <td>...</td>\n",
       "      <td>0.245900</td>\n",
       "      <td>0.371659</td>\n",
       "      <td>0.084460</td>\n",
       "      <td>0.026982</td>\n",
       "      <td>0.020391</td>\n",
       "      <td>0.042608</td>\n",
       "      <td>0.021005</td>\n",
       "      <td>-0.073044</td>\n",
       "      <td>-0.315484</td>\n",
       "      <td>-0.357084</td>\n",
       "    </tr>\n",
       "    <tr>\n",
       "      <th>CIR/POP</th>\n",
       "      <td>0.426757</td>\n",
       "      <td>-0.072266</td>\n",
       "      <td>0.205875</td>\n",
       "      <td>0.220533</td>\n",
       "      <td>0.290216</td>\n",
       "      <td>0.139891</td>\n",
       "      <td>0.011093</td>\n",
       "      <td>0.199798</td>\n",
       "      <td>0.226339</td>\n",
       "      <td>1.000000</td>\n",
       "      <td>...</td>\n",
       "      <td>0.032557</td>\n",
       "      <td>0.127544</td>\n",
       "      <td>0.003097</td>\n",
       "      <td>-0.022228</td>\n",
       "      <td>0.007355</td>\n",
       "      <td>-0.042932</td>\n",
       "      <td>-0.024100</td>\n",
       "      <td>-0.006079</td>\n",
       "      <td>-0.084614</td>\n",
       "      <td>0.006031</td>\n",
       "    </tr>\n",
       "    <tr>\n",
       "      <th>GEOCODE_CI2</th>\n",
       "      <td>-0.136142</td>\n",
       "      <td>-0.182581</td>\n",
       "      <td>-0.133220</td>\n",
       "      <td>-0.181044</td>\n",
       "      <td>0.064195</td>\n",
       "      <td>-0.258742</td>\n",
       "      <td>-0.061452</td>\n",
       "      <td>-0.120962</td>\n",
       "      <td>-0.190931</td>\n",
       "      <td>0.060678</td>\n",
       "      <td>...</td>\n",
       "      <td>-0.009251</td>\n",
       "      <td>-0.140067</td>\n",
       "      <td>-0.020401</td>\n",
       "      <td>-0.008136</td>\n",
       "      <td>-0.011190</td>\n",
       "      <td>-0.003491</td>\n",
       "      <td>0.000827</td>\n",
       "      <td>-0.028579</td>\n",
       "      <td>0.111970</td>\n",
       "      <td>0.082679</td>\n",
       "    </tr>\n",
       "    <tr>\n",
       "      <th>GEOCODE_CO1</th>\n",
       "      <td>0.211229</td>\n",
       "      <td>0.289697</td>\n",
       "      <td>-0.190443</td>\n",
       "      <td>0.246921</td>\n",
       "      <td>0.075095</td>\n",
       "      <td>0.121421</td>\n",
       "      <td>0.128425</td>\n",
       "      <td>0.176229</td>\n",
       "      <td>0.246947</td>\n",
       "      <td>-0.115915</td>\n",
       "      <td>...</td>\n",
       "      <td>0.026389</td>\n",
       "      <td>-0.100262</td>\n",
       "      <td>0.001369</td>\n",
       "      <td>-0.024620</td>\n",
       "      <td>-0.030502</td>\n",
       "      <td>0.105491</td>\n",
       "      <td>0.111544</td>\n",
       "      <td>-0.058550</td>\n",
       "      <td>-0.047358</td>\n",
       "      <td>0.030614</td>\n",
       "    </tr>\n",
       "    <tr>\n",
       "      <th>GEOCODE_CO2</th>\n",
       "      <td>0.045055</td>\n",
       "      <td>0.129652</td>\n",
       "      <td>-0.100826</td>\n",
       "      <td>0.060918</td>\n",
       "      <td>-0.013688</td>\n",
       "      <td>-0.118843</td>\n",
       "      <td>0.006235</td>\n",
       "      <td>0.047344</td>\n",
       "      <td>0.051074</td>\n",
       "      <td>-0.144067</td>\n",
       "      <td>...</td>\n",
       "      <td>-0.000450</td>\n",
       "      <td>-0.051520</td>\n",
       "      <td>0.034310</td>\n",
       "      <td>0.008837</td>\n",
       "      <td>0.030533</td>\n",
       "      <td>0.040653</td>\n",
       "      <td>0.012834</td>\n",
       "      <td>-0.011655</td>\n",
       "      <td>-0.033984</td>\n",
       "      <td>0.006125</td>\n",
       "    </tr>\n",
       "    <tr>\n",
       "      <th>GEOCODE_MA1</th>\n",
       "      <td>0.032746</td>\n",
       "      <td>0.033928</td>\n",
       "      <td>-0.016906</td>\n",
       "      <td>0.029848</td>\n",
       "      <td>0.022367</td>\n",
       "      <td>-0.004967</td>\n",
       "      <td>-0.007607</td>\n",
       "      <td>0.028500</td>\n",
       "      <td>0.033201</td>\n",
       "      <td>0.004019</td>\n",
       "      <td>...</td>\n",
       "      <td>0.011583</td>\n",
       "      <td>0.006039</td>\n",
       "      <td>-0.005812</td>\n",
       "      <td>0.016078</td>\n",
       "      <td>-0.008219</td>\n",
       "      <td>0.007392</td>\n",
       "      <td>-0.009377</td>\n",
       "      <td>0.005560</td>\n",
       "      <td>-0.018851</td>\n",
       "      <td>-0.007499</td>\n",
       "    </tr>\n",
       "    <tr>\n",
       "      <th>GEOCODE_MA2</th>\n",
       "      <td>0.024489</td>\n",
       "      <td>0.037839</td>\n",
       "      <td>-0.034960</td>\n",
       "      <td>-0.009690</td>\n",
       "      <td>0.019440</td>\n",
       "      <td>0.001061</td>\n",
       "      <td>0.010482</td>\n",
       "      <td>0.025627</td>\n",
       "      <td>0.025715</td>\n",
       "      <td>-0.009346</td>\n",
       "      <td>...</td>\n",
       "      <td>0.031432</td>\n",
       "      <td>0.007985</td>\n",
       "      <td>-0.005541</td>\n",
       "      <td>-0.004937</td>\n",
       "      <td>0.006683</td>\n",
       "      <td>-0.001410</td>\n",
       "      <td>-0.008941</td>\n",
       "      <td>-0.007861</td>\n",
       "      <td>-0.010187</td>\n",
       "      <td>-0.015027</td>\n",
       "    </tr>\n",
       "    <tr>\n",
       "      <th>GEOCODE_MC1</th>\n",
       "      <td>0.103632</td>\n",
       "      <td>0.167239</td>\n",
       "      <td>-0.084369</td>\n",
       "      <td>0.151336</td>\n",
       "      <td>0.011970</td>\n",
       "      <td>0.139640</td>\n",
       "      <td>0.068715</td>\n",
       "      <td>0.088823</td>\n",
       "      <td>0.143137</td>\n",
       "      <td>-0.090208</td>\n",
       "      <td>...</td>\n",
       "      <td>-0.000552</td>\n",
       "      <td>-0.048267</td>\n",
       "      <td>0.002361</td>\n",
       "      <td>-0.017848</td>\n",
       "      <td>-0.020190</td>\n",
       "      <td>0.035745</td>\n",
       "      <td>0.029289</td>\n",
       "      <td>-0.024359</td>\n",
       "      <td>0.024485</td>\n",
       "      <td>-0.000902</td>\n",
       "    </tr>\n",
       "    <tr>\n",
       "      <th>GEOCODE_MC2</th>\n",
       "      <td>0.069706</td>\n",
       "      <td>0.090633</td>\n",
       "      <td>0.000919</td>\n",
       "      <td>0.086577</td>\n",
       "      <td>-0.000970</td>\n",
       "      <td>0.030645</td>\n",
       "      <td>0.102434</td>\n",
       "      <td>0.052357</td>\n",
       "      <td>0.079927</td>\n",
       "      <td>-0.022777</td>\n",
       "      <td>...</td>\n",
       "      <td>0.024919</td>\n",
       "      <td>-0.021381</td>\n",
       "      <td>-0.001357</td>\n",
       "      <td>-0.010014</td>\n",
       "      <td>-0.008711</td>\n",
       "      <td>0.006855</td>\n",
       "      <td>0.001059</td>\n",
       "      <td>-0.001619</td>\n",
       "      <td>0.013618</td>\n",
       "      <td>-0.000473</td>\n",
       "    </tr>\n",
       "    <tr>\n",
       "      <th>GEOCODE_OTH</th>\n",
       "      <td>-0.002858</td>\n",
       "      <td>-0.042266</td>\n",
       "      <td>0.140339</td>\n",
       "      <td>-0.042035</td>\n",
       "      <td>-0.003332</td>\n",
       "      <td>0.233074</td>\n",
       "      <td>-0.037853</td>\n",
       "      <td>-0.019686</td>\n",
       "      <td>-0.036806</td>\n",
       "      <td>0.069002</td>\n",
       "      <td>...</td>\n",
       "      <td>-0.044123</td>\n",
       "      <td>0.129313</td>\n",
       "      <td>0.002201</td>\n",
       "      <td>0.028475</td>\n",
       "      <td>0.070074</td>\n",
       "      <td>-0.045100</td>\n",
       "      <td>-0.099054</td>\n",
       "      <td>0.087111</td>\n",
       "      <td>0.053985</td>\n",
       "      <td>-0.155323</td>\n",
       "    </tr>\n",
       "    <tr>\n",
       "      <th>GEOCODE_SD1</th>\n",
       "      <td>0.092056</td>\n",
       "      <td>0.049410</td>\n",
       "      <td>-0.005605</td>\n",
       "      <td>0.078834</td>\n",
       "      <td>0.115322</td>\n",
       "      <td>0.134612</td>\n",
       "      <td>-0.052787</td>\n",
       "      <td>-0.018669</td>\n",
       "      <td>0.109199</td>\n",
       "      <td>0.102153</td>\n",
       "      <td>...</td>\n",
       "      <td>-0.030755</td>\n",
       "      <td>0.081520</td>\n",
       "      <td>-0.011732</td>\n",
       "      <td>0.002214</td>\n",
       "      <td>0.025508</td>\n",
       "      <td>0.011265</td>\n",
       "      <td>-0.014733</td>\n",
       "      <td>-0.004479</td>\n",
       "      <td>-0.021607</td>\n",
       "      <td>-0.049553</td>\n",
       "    </tr>\n",
       "    <tr>\n",
       "      <th>GEOCODE_SD2</th>\n",
       "      <td>-0.002556</td>\n",
       "      <td>-0.003298</td>\n",
       "      <td>-0.025682</td>\n",
       "      <td>-0.012055</td>\n",
       "      <td>0.011486</td>\n",
       "      <td>-0.011583</td>\n",
       "      <td>-0.025460</td>\n",
       "      <td>-0.024411</td>\n",
       "      <td>-0.003146</td>\n",
       "      <td>0.002592</td>\n",
       "      <td>...</td>\n",
       "      <td>0.011050</td>\n",
       "      <td>-0.023393</td>\n",
       "      <td>-0.003885</td>\n",
       "      <td>0.008312</td>\n",
       "      <td>0.001234</td>\n",
       "      <td>0.004955</td>\n",
       "      <td>0.002303</td>\n",
       "      <td>-0.005239</td>\n",
       "      <td>-0.003434</td>\n",
       "      <td>0.018974</td>\n",
       "    </tr>\n",
       "    <tr>\n",
       "      <th>OBEREG_2</th>\n",
       "      <td>0.068235</td>\n",
       "      <td>0.064570</td>\n",
       "      <td>0.317116</td>\n",
       "      <td>0.044544</td>\n",
       "      <td>0.046697</td>\n",
       "      <td>0.222799</td>\n",
       "      <td>-0.065659</td>\n",
       "      <td>0.050694</td>\n",
       "      <td>0.061879</td>\n",
       "      <td>0.006455</td>\n",
       "      <td>...</td>\n",
       "      <td>-0.023688</td>\n",
       "      <td>0.289905</td>\n",
       "      <td>-0.024714</td>\n",
       "      <td>0.036443</td>\n",
       "      <td>0.039780</td>\n",
       "      <td>-0.044044</td>\n",
       "      <td>-0.089052</td>\n",
       "      <td>0.026309</td>\n",
       "      <td>-0.051646</td>\n",
       "      <td>-0.171567</td>\n",
       "    </tr>\n",
       "    <tr>\n",
       "      <th>OBEREG_3</th>\n",
       "      <td>0.112660</td>\n",
       "      <td>0.038351</td>\n",
       "      <td>-0.113017</td>\n",
       "      <td>0.097326</td>\n",
       "      <td>0.170546</td>\n",
       "      <td>0.195533</td>\n",
       "      <td>-0.000855</td>\n",
       "      <td>0.018786</td>\n",
       "      <td>0.097937</td>\n",
       "      <td>0.160506</td>\n",
       "      <td>...</td>\n",
       "      <td>0.004686</td>\n",
       "      <td>0.012116</td>\n",
       "      <td>-0.029706</td>\n",
       "      <td>0.024172</td>\n",
       "      <td>0.057275</td>\n",
       "      <td>0.071667</td>\n",
       "      <td>-0.072963</td>\n",
       "      <td>-0.029801</td>\n",
       "      <td>0.073873</td>\n",
       "      <td>-0.110637</td>\n",
       "    </tr>\n",
       "    <tr>\n",
       "      <th>OBEREG_4</th>\n",
       "      <td>-0.254827</td>\n",
       "      <td>-0.335939</td>\n",
       "      <td>-0.087674</td>\n",
       "      <td>-0.249462</td>\n",
       "      <td>-0.208305</td>\n",
       "      <td>-0.065168</td>\n",
       "      <td>-0.063575</td>\n",
       "      <td>-0.175276</td>\n",
       "      <td>-0.258053</td>\n",
       "      <td>0.089517</td>\n",
       "      <td>...</td>\n",
       "      <td>-0.049348</td>\n",
       "      <td>-0.191705</td>\n",
       "      <td>-0.056857</td>\n",
       "      <td>-0.059485</td>\n",
       "      <td>-0.068293</td>\n",
       "      <td>-0.048326</td>\n",
       "      <td>0.064821</td>\n",
       "      <td>-0.075011</td>\n",
       "      <td>0.042417</td>\n",
       "      <td>0.325001</td>\n",
       "    </tr>\n",
       "    <tr>\n",
       "      <th>OBEREG_5</th>\n",
       "      <td>0.133401</td>\n",
       "      <td>0.258974</td>\n",
       "      <td>-0.397903</td>\n",
       "      <td>0.166697</td>\n",
       "      <td>0.104439</td>\n",
       "      <td>0.149667</td>\n",
       "      <td>0.184562</td>\n",
       "      <td>0.128191</td>\n",
       "      <td>0.177885</td>\n",
       "      <td>-0.211545</td>\n",
       "      <td>...</td>\n",
       "      <td>0.051906</td>\n",
       "      <td>-0.072049</td>\n",
       "      <td>0.019340</td>\n",
       "      <td>-0.003836</td>\n",
       "      <td>0.003286</td>\n",
       "      <td>0.113670</td>\n",
       "      <td>0.000857</td>\n",
       "      <td>-0.007306</td>\n",
       "      <td>0.009854</td>\n",
       "      <td>-0.074305</td>\n",
       "    </tr>\n",
       "    <tr>\n",
       "      <th>OBEREG_6</th>\n",
       "      <td>-0.050664</td>\n",
       "      <td>0.026689</td>\n",
       "      <td>-0.145185</td>\n",
       "      <td>-0.030010</td>\n",
       "      <td>-0.151944</td>\n",
       "      <td>-0.320068</td>\n",
       "      <td>-0.055926</td>\n",
       "      <td>-0.008461</td>\n",
       "      <td>-0.036277</td>\n",
       "      <td>-0.153353</td>\n",
       "      <td>...</td>\n",
       "      <td>0.001402</td>\n",
       "      <td>-0.058911</td>\n",
       "      <td>0.004912</td>\n",
       "      <td>-0.020250</td>\n",
       "      <td>0.009265</td>\n",
       "      <td>0.054267</td>\n",
       "      <td>0.125328</td>\n",
       "      <td>-0.022352</td>\n",
       "      <td>-0.063706</td>\n",
       "      <td>0.004934</td>\n",
       "    </tr>\n",
       "    <tr>\n",
       "      <th>OBEREG_7</th>\n",
       "      <td>0.022112</td>\n",
       "      <td>-0.012286</td>\n",
       "      <td>-0.014795</td>\n",
       "      <td>-0.002839</td>\n",
       "      <td>0.004932</td>\n",
       "      <td>-0.008737</td>\n",
       "      <td>-0.003543</td>\n",
       "      <td>0.028431</td>\n",
       "      <td>0.001177</td>\n",
       "      <td>0.064248</td>\n",
       "      <td>...</td>\n",
       "      <td>0.004341</td>\n",
       "      <td>-0.064886</td>\n",
       "      <td>-0.025833</td>\n",
       "      <td>-0.002712</td>\n",
       "      <td>-0.031427</td>\n",
       "      <td>-0.038452</td>\n",
       "      <td>0.133864</td>\n",
       "      <td>-0.031638</td>\n",
       "      <td>-0.057167</td>\n",
       "      <td>0.121807</td>\n",
       "    </tr>\n",
       "    <tr>\n",
       "      <th>OBEREG_8</th>\n",
       "      <td>0.112444</td>\n",
       "      <td>0.093804</td>\n",
       "      <td>0.164104</td>\n",
       "      <td>0.119869</td>\n",
       "      <td>0.041846</td>\n",
       "      <td>-0.026065</td>\n",
       "      <td>0.165916</td>\n",
       "      <td>0.094285</td>\n",
       "      <td>0.112750</td>\n",
       "      <td>0.060472</td>\n",
       "      <td>...</td>\n",
       "      <td>0.045903</td>\n",
       "      <td>-0.006852</td>\n",
       "      <td>0.010628</td>\n",
       "      <td>0.004288</td>\n",
       "      <td>0.012719</td>\n",
       "      <td>-0.016626</td>\n",
       "      <td>0.001163</td>\n",
       "      <td>-0.036833</td>\n",
       "      <td>-0.066115</td>\n",
       "      <td>0.037418</td>\n",
       "    </tr>\n",
       "    <tr>\n",
       "      <th>OBEREG_9</th>\n",
       "      <td>-0.037593</td>\n",
       "      <td>0.080973</td>\n",
       "      <td>-0.342979</td>\n",
       "      <td>-0.051717</td>\n",
       "      <td>-0.032003</td>\n",
       "      <td>0.001870</td>\n",
       "      <td>-0.037153</td>\n",
       "      <td>-0.003934</td>\n",
       "      <td>0.002902</td>\n",
       "      <td>-0.151169</td>\n",
       "      <td>...</td>\n",
       "      <td>0.032323</td>\n",
       "      <td>0.051923</td>\n",
       "      <td>0.036519</td>\n",
       "      <td>0.062323</td>\n",
       "      <td>-0.006832</td>\n",
       "      <td>-0.028365</td>\n",
       "      <td>-0.021588</td>\n",
       "      <td>-0.006926</td>\n",
       "      <td>-0.040155</td>\n",
       "      <td>-0.036284</td>\n",
       "    </tr>\n",
       "    <tr>\n",
       "      <th>LOCALE_12</th>\n",
       "      <td>0.190985</td>\n",
       "      <td>0.215695</td>\n",
       "      <td>0.000498</td>\n",
       "      <td>0.213868</td>\n",
       "      <td>0.055336</td>\n",
       "      <td>0.042755</td>\n",
       "      <td>0.100375</td>\n",
       "      <td>0.168162</td>\n",
       "      <td>0.242362</td>\n",
       "      <td>-0.003981</td>\n",
       "      <td>...</td>\n",
       "      <td>-0.020464</td>\n",
       "      <td>-0.056829</td>\n",
       "      <td>-0.019065</td>\n",
       "      <td>-0.016987</td>\n",
       "      <td>-0.026960</td>\n",
       "      <td>-0.040415</td>\n",
       "      <td>-0.030759</td>\n",
       "      <td>-0.027045</td>\n",
       "      <td>-0.061833</td>\n",
       "      <td>-0.051700</td>\n",
       "    </tr>\n",
       "    <tr>\n",
       "      <th>LOCALE_13</th>\n",
       "      <td>0.216181</td>\n",
       "      <td>0.228763</td>\n",
       "      <td>-0.022107</td>\n",
       "      <td>0.223360</td>\n",
       "      <td>0.075339</td>\n",
       "      <td>0.066992</td>\n",
       "      <td>0.071223</td>\n",
       "      <td>0.179534</td>\n",
       "      <td>0.245900</td>\n",
       "      <td>0.032557</td>\n",
       "      <td>...</td>\n",
       "      <td>1.000000</td>\n",
       "      <td>-0.091284</td>\n",
       "      <td>-0.030624</td>\n",
       "      <td>-0.027286</td>\n",
       "      <td>-0.043305</td>\n",
       "      <td>-0.064919</td>\n",
       "      <td>-0.049408</td>\n",
       "      <td>-0.043442</td>\n",
       "      <td>-0.099322</td>\n",
       "      <td>-0.083045</td>\n",
       "    </tr>\n",
       "    <tr>\n",
       "      <th>LOCALE_21</th>\n",
       "      <td>0.358447</td>\n",
       "      <td>0.336176</td>\n",
       "      <td>0.252591</td>\n",
       "      <td>0.333055</td>\n",
       "      <td>0.168684</td>\n",
       "      <td>0.211943</td>\n",
       "      <td>-0.040109</td>\n",
       "      <td>0.344155</td>\n",
       "      <td>0.371659</td>\n",
       "      <td>0.127544</td>\n",
       "      <td>...</td>\n",
       "      <td>-0.091284</td>\n",
       "      <td>1.000000</td>\n",
       "      <td>-0.085044</td>\n",
       "      <td>-0.075775</td>\n",
       "      <td>-0.120262</td>\n",
       "      <td>-0.180286</td>\n",
       "      <td>-0.137211</td>\n",
       "      <td>-0.120641</td>\n",
       "      <td>-0.275825</td>\n",
       "      <td>-0.230623</td>\n",
       "    </tr>\n",
       "    <tr>\n",
       "      <th>LOCALE_22</th>\n",
       "      <td>0.096348</td>\n",
       "      <td>0.104695</td>\n",
       "      <td>0.040801</td>\n",
       "      <td>0.079773</td>\n",
       "      <td>0.042333</td>\n",
       "      <td>-0.010277</td>\n",
       "      <td>-0.010001</td>\n",
       "      <td>0.078465</td>\n",
       "      <td>0.084460</td>\n",
       "      <td>0.003097</td>\n",
       "      <td>...</td>\n",
       "      <td>-0.030624</td>\n",
       "      <td>-0.085044</td>\n",
       "      <td>1.000000</td>\n",
       "      <td>-0.025421</td>\n",
       "      <td>-0.040345</td>\n",
       "      <td>-0.060481</td>\n",
       "      <td>-0.046031</td>\n",
       "      <td>-0.040472</td>\n",
       "      <td>-0.092533</td>\n",
       "      <td>-0.077368</td>\n",
       "    </tr>\n",
       "    <tr>\n",
       "      <th>LOCALE_23</th>\n",
       "      <td>0.035255</td>\n",
       "      <td>0.052410</td>\n",
       "      <td>-0.013233</td>\n",
       "      <td>0.029769</td>\n",
       "      <td>0.040096</td>\n",
       "      <td>0.016557</td>\n",
       "      <td>-0.001814</td>\n",
       "      <td>0.010383</td>\n",
       "      <td>0.026982</td>\n",
       "      <td>-0.022228</td>\n",
       "      <td>...</td>\n",
       "      <td>-0.027286</td>\n",
       "      <td>-0.075775</td>\n",
       "      <td>-0.025421</td>\n",
       "      <td>1.000000</td>\n",
       "      <td>-0.035947</td>\n",
       "      <td>-0.053889</td>\n",
       "      <td>-0.041014</td>\n",
       "      <td>-0.036061</td>\n",
       "      <td>-0.082447</td>\n",
       "      <td>-0.068935</td>\n",
       "    </tr>\n",
       "    <tr>\n",
       "      <th>LOCALE_31</th>\n",
       "      <td>0.053037</td>\n",
       "      <td>0.052261</td>\n",
       "      <td>-0.011471</td>\n",
       "      <td>0.019862</td>\n",
       "      <td>0.050959</td>\n",
       "      <td>0.018387</td>\n",
       "      <td>0.010736</td>\n",
       "      <td>0.011767</td>\n",
       "      <td>0.020391</td>\n",
       "      <td>0.007355</td>\n",
       "      <td>...</td>\n",
       "      <td>-0.043305</td>\n",
       "      <td>-0.120262</td>\n",
       "      <td>-0.040345</td>\n",
       "      <td>-0.035947</td>\n",
       "      <td>1.000000</td>\n",
       "      <td>-0.085527</td>\n",
       "      <td>-0.065093</td>\n",
       "      <td>-0.057232</td>\n",
       "      <td>-0.130851</td>\n",
       "      <td>-0.109407</td>\n",
       "    </tr>\n",
       "    <tr>\n",
       "      <th>LOCALE_32</th>\n",
       "      <td>0.076277</td>\n",
       "      <td>0.102911</td>\n",
       "      <td>-0.116226</td>\n",
       "      <td>0.060608</td>\n",
       "      <td>0.070701</td>\n",
       "      <td>0.027051</td>\n",
       "      <td>0.048524</td>\n",
       "      <td>0.011553</td>\n",
       "      <td>0.042608</td>\n",
       "      <td>-0.042932</td>\n",
       "      <td>...</td>\n",
       "      <td>-0.064919</td>\n",
       "      <td>-0.180286</td>\n",
       "      <td>-0.060481</td>\n",
       "      <td>-0.053889</td>\n",
       "      <td>-0.085527</td>\n",
       "      <td>1.000000</td>\n",
       "      <td>-0.097581</td>\n",
       "      <td>-0.085797</td>\n",
       "      <td>-0.196160</td>\n",
       "      <td>-0.164013</td>\n",
       "    </tr>\n",
       "    <tr>\n",
       "      <th>LOCALE_33</th>\n",
       "      <td>0.044125</td>\n",
       "      <td>0.058008</td>\n",
       "      <td>-0.091256</td>\n",
       "      <td>0.045805</td>\n",
       "      <td>-0.017925</td>\n",
       "      <td>-0.029753</td>\n",
       "      <td>0.037438</td>\n",
       "      <td>0.050772</td>\n",
       "      <td>0.021005</td>\n",
       "      <td>-0.024100</td>\n",
       "      <td>...</td>\n",
       "      <td>-0.049408</td>\n",
       "      <td>-0.137211</td>\n",
       "      <td>-0.046031</td>\n",
       "      <td>-0.041014</td>\n",
       "      <td>-0.065093</td>\n",
       "      <td>-0.097581</td>\n",
       "      <td>1.000000</td>\n",
       "      <td>-0.065298</td>\n",
       "      <td>-0.149293</td>\n",
       "      <td>-0.124827</td>\n",
       "    </tr>\n",
       "    <tr>\n",
       "      <th>LOCALE_41</th>\n",
       "      <td>-0.051190</td>\n",
       "      <td>-0.052013</td>\n",
       "      <td>0.085839</td>\n",
       "      <td>-0.074314</td>\n",
       "      <td>0.013244</td>\n",
       "      <td>-0.027270</td>\n",
       "      <td>-0.045965</td>\n",
       "      <td>-0.038724</td>\n",
       "      <td>-0.073044</td>\n",
       "      <td>-0.006079</td>\n",
       "      <td>...</td>\n",
       "      <td>-0.043442</td>\n",
       "      <td>-0.120641</td>\n",
       "      <td>-0.040472</td>\n",
       "      <td>-0.036061</td>\n",
       "      <td>-0.057232</td>\n",
       "      <td>-0.085797</td>\n",
       "      <td>-0.065298</td>\n",
       "      <td>1.000000</td>\n",
       "      <td>-0.131264</td>\n",
       "      <td>-0.109752</td>\n",
       "    </tr>\n",
       "    <tr>\n",
       "      <th>LOCALE_42</th>\n",
       "      <td>-0.315383</td>\n",
       "      <td>-0.308364</td>\n",
       "      <td>-0.061700</td>\n",
       "      <td>-0.306939</td>\n",
       "      <td>-0.114829</td>\n",
       "      <td>-0.116269</td>\n",
       "      <td>-0.060300</td>\n",
       "      <td>-0.271761</td>\n",
       "      <td>-0.315484</td>\n",
       "      <td>-0.084614</td>\n",
       "      <td>...</td>\n",
       "      <td>-0.099322</td>\n",
       "      <td>-0.275825</td>\n",
       "      <td>-0.092533</td>\n",
       "      <td>-0.082447</td>\n",
       "      <td>-0.130851</td>\n",
       "      <td>-0.196160</td>\n",
       "      <td>-0.149293</td>\n",
       "      <td>-0.131264</td>\n",
       "      <td>1.000000</td>\n",
       "      <td>-0.250930</td>\n",
       "    </tr>\n",
       "    <tr>\n",
       "      <th>LOCALE_43</th>\n",
       "      <td>-0.383669</td>\n",
       "      <td>-0.429240</td>\n",
       "      <td>-0.084534</td>\n",
       "      <td>-0.331909</td>\n",
       "      <td>-0.239142</td>\n",
       "      <td>-0.154619</td>\n",
       "      <td>-0.025175</td>\n",
       "      <td>-0.302300</td>\n",
       "      <td>-0.357084</td>\n",
       "      <td>0.006031</td>\n",
       "      <td>...</td>\n",
       "      <td>-0.083045</td>\n",
       "      <td>-0.230623</td>\n",
       "      <td>-0.077368</td>\n",
       "      <td>-0.068935</td>\n",
       "      <td>-0.109407</td>\n",
       "      <td>-0.164013</td>\n",
       "      <td>-0.124827</td>\n",
       "      <td>-0.109752</td>\n",
       "      <td>-0.250930</td>\n",
       "      <td>1.000000</td>\n",
       "    </tr>\n",
       "  </tbody>\n",
       "</table>\n",
       "<p>39 rows × 39 columns</p>\n",
       "</div>"
      ],
      "text/plain": [
       "               TOTCIR  POPU_LSA  STINCOME     BKVOL     EBOOK     STGVT  \\\n",
       "TOTCIR       1.000000  0.860231  0.083326  0.891047  0.503630  0.378904   \n",
       "POPU_LSA     0.860231  1.000000 -0.030646  0.856240  0.395765  0.339485   \n",
       "STINCOME     0.083326 -0.030646  1.000000  0.077319  0.095519 -0.002183   \n",
       "BKVOL        0.891047  0.856240  0.077319  1.000000  0.401088  0.389489   \n",
       "EBOOK        0.503630  0.395765  0.095519  0.401088  1.000000  0.162356   \n",
       "STGVT        0.378904  0.339485 -0.002183  0.389489  0.162356  1.000000   \n",
       "FEDGVT       0.207205  0.221930 -0.050489  0.224479  0.039062  0.151837   \n",
       "LOCGVT       0.730118  0.696398  0.106621  0.697243  0.362961  0.236801   \n",
       "TOTSTAFF     0.906437  0.885725  0.051053  0.913923  0.425273  0.421573   \n",
       "CIR/POP      0.426757 -0.072266  0.205875  0.220533  0.290216  0.139891   \n",
       "GEOCODE_CI2 -0.136142 -0.182581 -0.133220 -0.181044  0.064195 -0.258742   \n",
       "GEOCODE_CO1  0.211229  0.289697 -0.190443  0.246921  0.075095  0.121421   \n",
       "GEOCODE_CO2  0.045055  0.129652 -0.100826  0.060918 -0.013688 -0.118843   \n",
       "GEOCODE_MA1  0.032746  0.033928 -0.016906  0.029848  0.022367 -0.004967   \n",
       "GEOCODE_MA2  0.024489  0.037839 -0.034960 -0.009690  0.019440  0.001061   \n",
       "GEOCODE_MC1  0.103632  0.167239 -0.084369  0.151336  0.011970  0.139640   \n",
       "GEOCODE_MC2  0.069706  0.090633  0.000919  0.086577 -0.000970  0.030645   \n",
       "GEOCODE_OTH -0.002858 -0.042266  0.140339 -0.042035 -0.003332  0.233074   \n",
       "GEOCODE_SD1  0.092056  0.049410 -0.005605  0.078834  0.115322  0.134612   \n",
       "GEOCODE_SD2 -0.002556 -0.003298 -0.025682 -0.012055  0.011486 -0.011583   \n",
       "OBEREG_2     0.068235  0.064570  0.317116  0.044544  0.046697  0.222799   \n",
       "OBEREG_3     0.112660  0.038351 -0.113017  0.097326  0.170546  0.195533   \n",
       "OBEREG_4    -0.254827 -0.335939 -0.087674 -0.249462 -0.208305 -0.065168   \n",
       "OBEREG_5     0.133401  0.258974 -0.397903  0.166697  0.104439  0.149667   \n",
       "OBEREG_6    -0.050664  0.026689 -0.145185 -0.030010 -0.151944 -0.320068   \n",
       "OBEREG_7     0.022112 -0.012286 -0.014795 -0.002839  0.004932 -0.008737   \n",
       "OBEREG_8     0.112444  0.093804  0.164104  0.119869  0.041846 -0.026065   \n",
       "OBEREG_9    -0.037593  0.080973 -0.342979 -0.051717 -0.032003  0.001870   \n",
       "LOCALE_12    0.190985  0.215695  0.000498  0.213868  0.055336  0.042755   \n",
       "LOCALE_13    0.216181  0.228763 -0.022107  0.223360  0.075339  0.066992   \n",
       "LOCALE_21    0.358447  0.336176  0.252591  0.333055  0.168684  0.211943   \n",
       "LOCALE_22    0.096348  0.104695  0.040801  0.079773  0.042333 -0.010277   \n",
       "LOCALE_23    0.035255  0.052410 -0.013233  0.029769  0.040096  0.016557   \n",
       "LOCALE_31    0.053037  0.052261 -0.011471  0.019862  0.050959  0.018387   \n",
       "LOCALE_32    0.076277  0.102911 -0.116226  0.060608  0.070701  0.027051   \n",
       "LOCALE_33    0.044125  0.058008 -0.091256  0.045805 -0.017925 -0.029753   \n",
       "LOCALE_41   -0.051190 -0.052013  0.085839 -0.074314  0.013244 -0.027270   \n",
       "LOCALE_42   -0.315383 -0.308364 -0.061700 -0.306939 -0.114829 -0.116269   \n",
       "LOCALE_43   -0.383669 -0.429240 -0.084534 -0.331909 -0.239142 -0.154619   \n",
       "\n",
       "               FEDGVT    LOCGVT  TOTSTAFF   CIR/POP    ...      LOCALE_13  \\\n",
       "TOTCIR       0.207205  0.730118  0.906437  0.426757    ...       0.216181   \n",
       "POPU_LSA     0.221930  0.696398  0.885725 -0.072266    ...       0.228763   \n",
       "STINCOME    -0.050489  0.106621  0.051053  0.205875    ...      -0.022107   \n",
       "BKVOL        0.224479  0.697243  0.913923  0.220533    ...       0.223360   \n",
       "EBOOK        0.039062  0.362961  0.425273  0.290216    ...       0.075339   \n",
       "STGVT        0.151837  0.236801  0.421573  0.139891    ...       0.066992   \n",
       "FEDGVT       1.000000  0.168968  0.244661  0.011093    ...       0.071223   \n",
       "LOCGVT       0.168968  1.000000  0.748182  0.199798    ...       0.179534   \n",
       "TOTSTAFF     0.244661  0.748182  1.000000  0.226339    ...       0.245900   \n",
       "CIR/POP      0.011093  0.199798  0.226339  1.000000    ...       0.032557   \n",
       "GEOCODE_CI2 -0.061452 -0.120962 -0.190931  0.060678    ...      -0.009251   \n",
       "GEOCODE_CO1  0.128425  0.176229  0.246947 -0.115915    ...       0.026389   \n",
       "GEOCODE_CO2  0.006235  0.047344  0.051074 -0.144067    ...      -0.000450   \n",
       "GEOCODE_MA1 -0.007607  0.028500  0.033201  0.004019    ...       0.011583   \n",
       "GEOCODE_MA2  0.010482  0.025627  0.025715 -0.009346    ...       0.031432   \n",
       "GEOCODE_MC1  0.068715  0.088823  0.143137 -0.090208    ...      -0.000552   \n",
       "GEOCODE_MC2  0.102434  0.052357  0.079927 -0.022777    ...       0.024919   \n",
       "GEOCODE_OTH -0.037853 -0.019686 -0.036806  0.069002    ...      -0.044123   \n",
       "GEOCODE_SD1 -0.052787 -0.018669  0.109199  0.102153    ...      -0.030755   \n",
       "GEOCODE_SD2 -0.025460 -0.024411 -0.003146  0.002592    ...       0.011050   \n",
       "OBEREG_2    -0.065659  0.050694  0.061879  0.006455    ...      -0.023688   \n",
       "OBEREG_3    -0.000855  0.018786  0.097937  0.160506    ...       0.004686   \n",
       "OBEREG_4    -0.063575 -0.175276 -0.258053  0.089517    ...      -0.049348   \n",
       "OBEREG_5     0.184562  0.128191  0.177885 -0.211545    ...       0.051906   \n",
       "OBEREG_6    -0.055926 -0.008461 -0.036277 -0.153353    ...       0.001402   \n",
       "OBEREG_7    -0.003543  0.028431  0.001177  0.064248    ...       0.004341   \n",
       "OBEREG_8     0.165916  0.094285  0.112750  0.060472    ...       0.045903   \n",
       "OBEREG_9    -0.037153 -0.003934  0.002902 -0.151169    ...       0.032323   \n",
       "LOCALE_12    0.100375  0.168162  0.242362 -0.003981    ...      -0.020464   \n",
       "LOCALE_13    0.071223  0.179534  0.245900  0.032557    ...       1.000000   \n",
       "LOCALE_21   -0.040109  0.344155  0.371659  0.127544    ...      -0.091284   \n",
       "LOCALE_22   -0.010001  0.078465  0.084460  0.003097    ...      -0.030624   \n",
       "LOCALE_23   -0.001814  0.010383  0.026982 -0.022228    ...      -0.027286   \n",
       "LOCALE_31    0.010736  0.011767  0.020391  0.007355    ...      -0.043305   \n",
       "LOCALE_32    0.048524  0.011553  0.042608 -0.042932    ...      -0.064919   \n",
       "LOCALE_33    0.037438  0.050772  0.021005 -0.024100    ...      -0.049408   \n",
       "LOCALE_41   -0.045965 -0.038724 -0.073044 -0.006079    ...      -0.043442   \n",
       "LOCALE_42   -0.060300 -0.271761 -0.315484 -0.084614    ...      -0.099322   \n",
       "LOCALE_43   -0.025175 -0.302300 -0.357084  0.006031    ...      -0.083045   \n",
       "\n",
       "             LOCALE_21  LOCALE_22  LOCALE_23  LOCALE_31  LOCALE_32  LOCALE_33  \\\n",
       "TOTCIR        0.358447   0.096348   0.035255   0.053037   0.076277   0.044125   \n",
       "POPU_LSA      0.336176   0.104695   0.052410   0.052261   0.102911   0.058008   \n",
       "STINCOME      0.252591   0.040801  -0.013233  -0.011471  -0.116226  -0.091256   \n",
       "BKVOL         0.333055   0.079773   0.029769   0.019862   0.060608   0.045805   \n",
       "EBOOK         0.168684   0.042333   0.040096   0.050959   0.070701  -0.017925   \n",
       "STGVT         0.211943  -0.010277   0.016557   0.018387   0.027051  -0.029753   \n",
       "FEDGVT       -0.040109  -0.010001  -0.001814   0.010736   0.048524   0.037438   \n",
       "LOCGVT        0.344155   0.078465   0.010383   0.011767   0.011553   0.050772   \n",
       "TOTSTAFF      0.371659   0.084460   0.026982   0.020391   0.042608   0.021005   \n",
       "CIR/POP       0.127544   0.003097  -0.022228   0.007355  -0.042932  -0.024100   \n",
       "GEOCODE_CI2  -0.140067  -0.020401  -0.008136  -0.011190  -0.003491   0.000827   \n",
       "GEOCODE_CO1  -0.100262   0.001369  -0.024620  -0.030502   0.105491   0.111544   \n",
       "GEOCODE_CO2  -0.051520   0.034310   0.008837   0.030533   0.040653   0.012834   \n",
       "GEOCODE_MA1   0.006039  -0.005812   0.016078  -0.008219   0.007392  -0.009377   \n",
       "GEOCODE_MA2   0.007985  -0.005541  -0.004937   0.006683  -0.001410  -0.008941   \n",
       "GEOCODE_MC1  -0.048267   0.002361  -0.017848  -0.020190   0.035745   0.029289   \n",
       "GEOCODE_MC2  -0.021381  -0.001357  -0.010014  -0.008711   0.006855   0.001059   \n",
       "GEOCODE_OTH   0.129313   0.002201   0.028475   0.070074  -0.045100  -0.099054   \n",
       "GEOCODE_SD1   0.081520  -0.011732   0.002214   0.025508   0.011265  -0.014733   \n",
       "GEOCODE_SD2  -0.023393  -0.003885   0.008312   0.001234   0.004955   0.002303   \n",
       "OBEREG_2      0.289905  -0.024714   0.036443   0.039780  -0.044044  -0.089052   \n",
       "OBEREG_3      0.012116  -0.029706   0.024172   0.057275   0.071667  -0.072963   \n",
       "OBEREG_4     -0.191705  -0.056857  -0.059485  -0.068293  -0.048326   0.064821   \n",
       "OBEREG_5     -0.072049   0.019340  -0.003836   0.003286   0.113670   0.000857   \n",
       "OBEREG_6     -0.058911   0.004912  -0.020250   0.009265   0.054267   0.125328   \n",
       "OBEREG_7     -0.064886  -0.025833  -0.002712  -0.031427  -0.038452   0.133864   \n",
       "OBEREG_8     -0.006852   0.010628   0.004288   0.012719  -0.016626   0.001163   \n",
       "OBEREG_9      0.051923   0.036519   0.062323  -0.006832  -0.028365  -0.021588   \n",
       "LOCALE_12    -0.056829  -0.019065  -0.016987  -0.026960  -0.040415  -0.030759   \n",
       "LOCALE_13    -0.091284  -0.030624  -0.027286  -0.043305  -0.064919  -0.049408   \n",
       "LOCALE_21     1.000000  -0.085044  -0.075775  -0.120262  -0.180286  -0.137211   \n",
       "LOCALE_22    -0.085044   1.000000  -0.025421  -0.040345  -0.060481  -0.046031   \n",
       "LOCALE_23    -0.075775  -0.025421   1.000000  -0.035947  -0.053889  -0.041014   \n",
       "LOCALE_31    -0.120262  -0.040345  -0.035947   1.000000  -0.085527  -0.065093   \n",
       "LOCALE_32    -0.180286  -0.060481  -0.053889  -0.085527   1.000000  -0.097581   \n",
       "LOCALE_33    -0.137211  -0.046031  -0.041014  -0.065093  -0.097581   1.000000   \n",
       "LOCALE_41    -0.120641  -0.040472  -0.036061  -0.057232  -0.085797  -0.065298   \n",
       "LOCALE_42    -0.275825  -0.092533  -0.082447  -0.130851  -0.196160  -0.149293   \n",
       "LOCALE_43    -0.230623  -0.077368  -0.068935  -0.109407  -0.164013  -0.124827   \n",
       "\n",
       "             LOCALE_41  LOCALE_42  LOCALE_43  \n",
       "TOTCIR       -0.051190  -0.315383  -0.383669  \n",
       "POPU_LSA     -0.052013  -0.308364  -0.429240  \n",
       "STINCOME      0.085839  -0.061700  -0.084534  \n",
       "BKVOL        -0.074314  -0.306939  -0.331909  \n",
       "EBOOK         0.013244  -0.114829  -0.239142  \n",
       "STGVT        -0.027270  -0.116269  -0.154619  \n",
       "FEDGVT       -0.045965  -0.060300  -0.025175  \n",
       "LOCGVT       -0.038724  -0.271761  -0.302300  \n",
       "TOTSTAFF     -0.073044  -0.315484  -0.357084  \n",
       "CIR/POP      -0.006079  -0.084614   0.006031  \n",
       "GEOCODE_CI2  -0.028579   0.111970   0.082679  \n",
       "GEOCODE_CO1  -0.058550  -0.047358   0.030614  \n",
       "GEOCODE_CO2  -0.011655  -0.033984   0.006125  \n",
       "GEOCODE_MA1   0.005560  -0.018851  -0.007499  \n",
       "GEOCODE_MA2  -0.007861  -0.010187  -0.015027  \n",
       "GEOCODE_MC1  -0.024359   0.024485  -0.000902  \n",
       "GEOCODE_MC2  -0.001619   0.013618  -0.000473  \n",
       "GEOCODE_OTH   0.087111   0.053985  -0.155323  \n",
       "GEOCODE_SD1  -0.004479  -0.021607  -0.049553  \n",
       "GEOCODE_SD2  -0.005239  -0.003434   0.018974  \n",
       "OBEREG_2      0.026309  -0.051646  -0.171567  \n",
       "OBEREG_3     -0.029801   0.073873  -0.110637  \n",
       "OBEREG_4     -0.075011   0.042417   0.325001  \n",
       "OBEREG_5     -0.007306   0.009854  -0.074305  \n",
       "OBEREG_6     -0.022352  -0.063706   0.004934  \n",
       "OBEREG_7     -0.031638  -0.057167   0.121807  \n",
       "OBEREG_8     -0.036833  -0.066115   0.037418  \n",
       "OBEREG_9     -0.006926  -0.040155  -0.036284  \n",
       "LOCALE_12    -0.027045  -0.061833  -0.051700  \n",
       "LOCALE_13    -0.043442  -0.099322  -0.083045  \n",
       "LOCALE_21    -0.120641  -0.275825  -0.230623  \n",
       "LOCALE_22    -0.040472  -0.092533  -0.077368  \n",
       "LOCALE_23    -0.036061  -0.082447  -0.068935  \n",
       "LOCALE_31    -0.057232  -0.130851  -0.109407  \n",
       "LOCALE_32    -0.085797  -0.196160  -0.164013  \n",
       "LOCALE_33    -0.065298  -0.149293  -0.124827  \n",
       "LOCALE_41     1.000000  -0.131264  -0.109752  \n",
       "LOCALE_42    -0.131264   1.000000  -0.250930  \n",
       "LOCALE_43    -0.109752  -0.250930   1.000000  \n",
       "\n",
       "[39 rows x 39 columns]"
      ]
     },
     "execution_count": 123,
     "metadata": {},
     "output_type": "execute_result"
    }
   ],
   "source": [
    "#correlation matrix\n",
    "dummy_df.corr()"
   ]
  },
  {
   "cell_type": "markdown",
   "metadata": {},
   "source": [
    "## Linear Regression"
   ]
  },
  {
   "cell_type": "code",
   "execution_count": 124,
   "metadata": {
    "collapsed": false
   },
   "outputs": [],
   "source": [
    "X = dummy_df.drop(['TOTCIR', 'POPU_LSA', 'CIR/POP'], axis=1)\n",
    "y = dummy_df['CIR/POP']"
   ]
  },
  {
   "cell_type": "code",
   "execution_count": 125,
   "metadata": {
    "collapsed": false
   },
   "outputs": [
    {
     "data": {
      "text/html": [
       "<table class=\"simpletable\">\n",
       "<caption>OLS Regression Results</caption>\n",
       "<tr>\n",
       "  <th>Dep. Variable:</th>         <td>CIR/POP</td>     <th>  R-squared:         </th> <td>   0.920</td>\n",
       "</tr>\n",
       "<tr>\n",
       "  <th>Model:</th>                   <td>OLS</td>       <th>  Adj. R-squared:    </th> <td>   0.919</td>\n",
       "</tr>\n",
       "<tr>\n",
       "  <th>Method:</th>             <td>Least Squares</td>  <th>  F-statistic:       </th> <td>   2945.</td>\n",
       "</tr>\n",
       "<tr>\n",
       "  <th>Date:</th>             <td>Thu, 30 Mar 2017</td> <th>  Prob (F-statistic):</th>  <td>  0.00</td> \n",
       "</tr>\n",
       "<tr>\n",
       "  <th>Time:</th>                 <td>01:23:05</td>     <th>  Log-Likelihood:    </th> <td> -508.32</td>\n",
       "</tr>\n",
       "<tr>\n",
       "  <th>No. Observations:</th>      <td>  9301</td>      <th>  AIC:               </th> <td>   1089.</td>\n",
       "</tr>\n",
       "<tr>\n",
       "  <th>Df Residuals:</th>          <td>  9265</td>      <th>  BIC:               </th> <td>   1346.</td>\n",
       "</tr>\n",
       "<tr>\n",
       "  <th>Df Model:</th>              <td>    36</td>      <th>                     </th>     <td> </td>   \n",
       "</tr>\n",
       "<tr>\n",
       "  <th>Covariance Type:</th>      <td>nonrobust</td>    <th>                     </th>     <td> </td>   \n",
       "</tr>\n",
       "</table>\n",
       "<table class=\"simpletable\">\n",
       "<tr>\n",
       "       <td></td>          <th>coef</th>     <th>std err</th>      <th>t</th>      <th>P>|t|</th> <th>[95.0% Conf. Int.]</th> \n",
       "</tr>\n",
       "<tr>\n",
       "  <th>STINCOME</th>    <td> 2.264e-06</td> <td> 4.75e-07</td> <td>    4.764</td> <td> 0.000</td> <td> 1.33e-06  3.19e-06</td>\n",
       "</tr>\n",
       "<tr>\n",
       "  <th>BKVOL</th>       <td>    0.0234</td> <td>    0.009</td> <td>    2.561</td> <td> 0.010</td> <td>    0.006     0.041</td>\n",
       "</tr>\n",
       "<tr>\n",
       "  <th>EBOOK</th>       <td>    0.0353</td> <td>    0.002</td> <td>   20.513</td> <td> 0.000</td> <td>    0.032     0.039</td>\n",
       "</tr>\n",
       "<tr>\n",
       "  <th>STGVT</th>       <td>    0.0043</td> <td>    0.002</td> <td>    2.257</td> <td> 0.024</td> <td>    0.001     0.008</td>\n",
       "</tr>\n",
       "<tr>\n",
       "  <th>FEDGVT</th>      <td>   -0.0013</td> <td>    0.002</td> <td>   -0.682</td> <td> 0.495</td> <td>   -0.005     0.002</td>\n",
       "</tr>\n",
       "<tr>\n",
       "  <th>LOCGVT</th>      <td>    0.0097</td> <td>    0.004</td> <td>    2.400</td> <td> 0.016</td> <td>    0.002     0.018</td>\n",
       "</tr>\n",
       "<tr>\n",
       "  <th>TOTSTAFF</th>    <td>    0.1935</td> <td>    0.014</td> <td>   13.659</td> <td> 0.000</td> <td>    0.166     0.221</td>\n",
       "</tr>\n",
       "<tr>\n",
       "  <th>GEOCODE_CI2</th> <td>    0.0031</td> <td>    0.009</td> <td>    0.352</td> <td> 0.725</td> <td>   -0.014     0.020</td>\n",
       "</tr>\n",
       "<tr>\n",
       "  <th>GEOCODE_CO1</th> <td>   -0.1697</td> <td>    0.011</td> <td>  -15.992</td> <td> 0.000</td> <td>   -0.190    -0.149</td>\n",
       "</tr>\n",
       "<tr>\n",
       "  <th>GEOCODE_CO2</th> <td>   -0.1936</td> <td>    0.013</td> <td>  -14.728</td> <td> 0.000</td> <td>   -0.219    -0.168</td>\n",
       "</tr>\n",
       "<tr>\n",
       "  <th>GEOCODE_MA1</th> <td>    0.0142</td> <td>    0.078</td> <td>    0.182</td> <td> 0.856</td> <td>   -0.138     0.167</td>\n",
       "</tr>\n",
       "<tr>\n",
       "  <th>GEOCODE_MA2</th> <td>   -0.0641</td> <td>    0.082</td> <td>   -0.786</td> <td> 0.432</td> <td>   -0.224     0.096</td>\n",
       "</tr>\n",
       "<tr>\n",
       "  <th>GEOCODE_MC1</th> <td>   -0.3293</td> <td>    0.025</td> <td>  -13.174</td> <td> 0.000</td> <td>   -0.378    -0.280</td>\n",
       "</tr>\n",
       "<tr>\n",
       "  <th>GEOCODE_MC2</th> <td>   -0.2719</td> <td>    0.041</td> <td>   -6.632</td> <td> 0.000</td> <td>   -0.352    -0.192</td>\n",
       "</tr>\n",
       "<tr>\n",
       "  <th>GEOCODE_OTH</th> <td>    0.0370</td> <td>    0.008</td> <td>    4.384</td> <td> 0.000</td> <td>    0.020     0.054</td>\n",
       "</tr>\n",
       "<tr>\n",
       "  <th>GEOCODE_SD1</th> <td>    0.0369</td> <td>    0.014</td> <td>    2.557</td> <td> 0.011</td> <td>    0.009     0.065</td>\n",
       "</tr>\n",
       "<tr>\n",
       "  <th>GEOCODE_SD2</th> <td>   -0.0803</td> <td>    0.036</td> <td>   -2.231</td> <td> 0.026</td> <td>   -0.151    -0.010</td>\n",
       "</tr>\n",
       "<tr>\n",
       "  <th>OBEREG_2</th>    <td>   -0.0457</td> <td>    0.011</td> <td>   -4.219</td> <td> 0.000</td> <td>   -0.067    -0.024</td>\n",
       "</tr>\n",
       "<tr>\n",
       "  <th>OBEREG_3</th>    <td>    0.0427</td> <td>    0.011</td> <td>    3.931</td> <td> 0.000</td> <td>    0.021     0.064</td>\n",
       "</tr>\n",
       "<tr>\n",
       "  <th>OBEREG_4</th>    <td>    0.1274</td> <td>    0.011</td> <td>   11.394</td> <td> 0.000</td> <td>    0.105     0.149</td>\n",
       "</tr>\n",
       "<tr>\n",
       "  <th>OBEREG_5</th>    <td>   -0.0931</td> <td>    0.014</td> <td>   -6.435</td> <td> 0.000</td> <td>   -0.121    -0.065</td>\n",
       "</tr>\n",
       "<tr>\n",
       "  <th>OBEREG_6</th>    <td>   -0.0161</td> <td>    0.013</td> <td>   -1.221</td> <td> 0.222</td> <td>   -0.042     0.010</td>\n",
       "</tr>\n",
       "<tr>\n",
       "  <th>OBEREG_7</th>    <td>    0.1182</td> <td>    0.016</td> <td>    7.332</td> <td> 0.000</td> <td>    0.087     0.150</td>\n",
       "</tr>\n",
       "<tr>\n",
       "  <th>OBEREG_8</th>    <td>    0.0523</td> <td>    0.014</td> <td>    3.623</td> <td> 0.000</td> <td>    0.024     0.081</td>\n",
       "</tr>\n",
       "<tr>\n",
       "  <th>OBEREG_9</th>    <td>   -0.4148</td> <td>    0.039</td> <td>  -10.641</td> <td> 0.000</td> <td>   -0.491    -0.338</td>\n",
       "</tr>\n",
       "<tr>\n",
       "  <th>LOCALE_12</th>   <td>    0.0790</td> <td>    0.035</td> <td>    2.227</td> <td> 0.026</td> <td>    0.009     0.148</td>\n",
       "</tr>\n",
       "<tr>\n",
       "  <th>LOCALE_13</th>   <td>    0.2186</td> <td>    0.030</td> <td>    7.169</td> <td> 0.000</td> <td>    0.159     0.278</td>\n",
       "</tr>\n",
       "<tr>\n",
       "  <th>LOCALE_21</th>   <td>    0.2710</td> <td>    0.028</td> <td>    9.657</td> <td> 0.000</td> <td>    0.216     0.326</td>\n",
       "</tr>\n",
       "<tr>\n",
       "  <th>LOCALE_22</th>   <td>    0.2778</td> <td>    0.032</td> <td>    8.759</td> <td> 0.000</td> <td>    0.216     0.340</td>\n",
       "</tr>\n",
       "<tr>\n",
       "  <th>LOCALE_23</th>   <td>    0.2470</td> <td>    0.033</td> <td>    7.523</td> <td> 0.000</td> <td>    0.183     0.311</td>\n",
       "</tr>\n",
       "<tr>\n",
       "  <th>LOCALE_31</th>   <td>    0.3016</td> <td>    0.030</td> <td>   10.062</td> <td> 0.000</td> <td>    0.243     0.360</td>\n",
       "</tr>\n",
       "<tr>\n",
       "  <th>LOCALE_32</th>   <td>    0.2930</td> <td>    0.029</td> <td>   10.135</td> <td> 0.000</td> <td>    0.236     0.350</td>\n",
       "</tr>\n",
       "<tr>\n",
       "  <th>LOCALE_33</th>   <td>    0.2950</td> <td>    0.030</td> <td>    9.930</td> <td> 0.000</td> <td>    0.237     0.353</td>\n",
       "</tr>\n",
       "<tr>\n",
       "  <th>LOCALE_41</th>   <td>    0.3261</td> <td>    0.030</td> <td>   10.752</td> <td> 0.000</td> <td>    0.267     0.386</td>\n",
       "</tr>\n",
       "<tr>\n",
       "  <th>LOCALE_42</th>   <td>    0.3370</td> <td>    0.029</td> <td>   11.673</td> <td> 0.000</td> <td>    0.280     0.394</td>\n",
       "</tr>\n",
       "<tr>\n",
       "  <th>LOCALE_43</th>   <td>    0.4063</td> <td>    0.029</td> <td>   13.826</td> <td> 0.000</td> <td>    0.349     0.464</td>\n",
       "</tr>\n",
       "</table>\n",
       "<table class=\"simpletable\">\n",
       "<tr>\n",
       "  <th>Omnibus:</th>       <td>241.795</td> <th>  Durbin-Watson:     </th> <td>   1.760</td>\n",
       "</tr>\n",
       "<tr>\n",
       "  <th>Prob(Omnibus):</th> <td> 0.000</td>  <th>  Jarque-Bera (JB):  </th> <td> 421.057</td>\n",
       "</tr>\n",
       "<tr>\n",
       "  <th>Skew:</th>          <td> 0.222</td>  <th>  Prob(JB):          </th> <td>3.70e-92</td>\n",
       "</tr>\n",
       "<tr>\n",
       "  <th>Kurtosis:</th>      <td> 3.943</td>  <th>  Cond. No.          </th> <td>1.92e+06</td>\n",
       "</tr>\n",
       "</table>"
      ],
      "text/plain": [
       "<class 'statsmodels.iolib.summary.Summary'>\n",
       "\"\"\"\n",
       "                            OLS Regression Results                            \n",
       "==============================================================================\n",
       "Dep. Variable:                CIR/POP   R-squared:                       0.920\n",
       "Model:                            OLS   Adj. R-squared:                  0.919\n",
       "Method:                 Least Squares   F-statistic:                     2945.\n",
       "Date:                Thu, 30 Mar 2017   Prob (F-statistic):               0.00\n",
       "Time:                        01:23:05   Log-Likelihood:                -508.32\n",
       "No. Observations:                9301   AIC:                             1089.\n",
       "Df Residuals:                    9265   BIC:                             1346.\n",
       "Df Model:                          36                                         \n",
       "Covariance Type:            nonrobust                                         \n",
       "===============================================================================\n",
       "                  coef    std err          t      P>|t|      [95.0% Conf. Int.]\n",
       "-------------------------------------------------------------------------------\n",
       "STINCOME     2.264e-06   4.75e-07      4.764      0.000      1.33e-06  3.19e-06\n",
       "BKVOL           0.0234      0.009      2.561      0.010         0.006     0.041\n",
       "EBOOK           0.0353      0.002     20.513      0.000         0.032     0.039\n",
       "STGVT           0.0043      0.002      2.257      0.024         0.001     0.008\n",
       "FEDGVT         -0.0013      0.002     -0.682      0.495        -0.005     0.002\n",
       "LOCGVT          0.0097      0.004      2.400      0.016         0.002     0.018\n",
       "TOTSTAFF        0.1935      0.014     13.659      0.000         0.166     0.221\n",
       "GEOCODE_CI2     0.0031      0.009      0.352      0.725        -0.014     0.020\n",
       "GEOCODE_CO1    -0.1697      0.011    -15.992      0.000        -0.190    -0.149\n",
       "GEOCODE_CO2    -0.1936      0.013    -14.728      0.000        -0.219    -0.168\n",
       "GEOCODE_MA1     0.0142      0.078      0.182      0.856        -0.138     0.167\n",
       "GEOCODE_MA2    -0.0641      0.082     -0.786      0.432        -0.224     0.096\n",
       "GEOCODE_MC1    -0.3293      0.025    -13.174      0.000        -0.378    -0.280\n",
       "GEOCODE_MC2    -0.2719      0.041     -6.632      0.000        -0.352    -0.192\n",
       "GEOCODE_OTH     0.0370      0.008      4.384      0.000         0.020     0.054\n",
       "GEOCODE_SD1     0.0369      0.014      2.557      0.011         0.009     0.065\n",
       "GEOCODE_SD2    -0.0803      0.036     -2.231      0.026        -0.151    -0.010\n",
       "OBEREG_2       -0.0457      0.011     -4.219      0.000        -0.067    -0.024\n",
       "OBEREG_3        0.0427      0.011      3.931      0.000         0.021     0.064\n",
       "OBEREG_4        0.1274      0.011     11.394      0.000         0.105     0.149\n",
       "OBEREG_5       -0.0931      0.014     -6.435      0.000        -0.121    -0.065\n",
       "OBEREG_6       -0.0161      0.013     -1.221      0.222        -0.042     0.010\n",
       "OBEREG_7        0.1182      0.016      7.332      0.000         0.087     0.150\n",
       "OBEREG_8        0.0523      0.014      3.623      0.000         0.024     0.081\n",
       "OBEREG_9       -0.4148      0.039    -10.641      0.000        -0.491    -0.338\n",
       "LOCALE_12       0.0790      0.035      2.227      0.026         0.009     0.148\n",
       "LOCALE_13       0.2186      0.030      7.169      0.000         0.159     0.278\n",
       "LOCALE_21       0.2710      0.028      9.657      0.000         0.216     0.326\n",
       "LOCALE_22       0.2778      0.032      8.759      0.000         0.216     0.340\n",
       "LOCALE_23       0.2470      0.033      7.523      0.000         0.183     0.311\n",
       "LOCALE_31       0.3016      0.030     10.062      0.000         0.243     0.360\n",
       "LOCALE_32       0.2930      0.029     10.135      0.000         0.236     0.350\n",
       "LOCALE_33       0.2950      0.030      9.930      0.000         0.237     0.353\n",
       "LOCALE_41       0.3261      0.030     10.752      0.000         0.267     0.386\n",
       "LOCALE_42       0.3370      0.029     11.673      0.000         0.280     0.394\n",
       "LOCALE_43       0.4063      0.029     13.826      0.000         0.349     0.464\n",
       "==============================================================================\n",
       "Omnibus:                      241.795   Durbin-Watson:                   1.760\n",
       "Prob(Omnibus):                  0.000   Jarque-Bera (JB):              421.057\n",
       "Skew:                           0.222   Prob(JB):                     3.70e-92\n",
       "Kurtosis:                       3.943   Cond. No.                     1.92e+06\n",
       "==============================================================================\n",
       "\n",
       "Warnings:\n",
       "[1] Standard Errors assume that the covariance matrix of the errors is correctly specified.\n",
       "[2] The condition number is large, 1.92e+06. This might indicate that there are\n",
       "strong multicollinearity or other numerical problems.\n",
       "\"\"\""
      ]
     },
     "execution_count": 125,
     "metadata": {},
     "output_type": "execute_result"
    }
   ],
   "source": [
    "import statsmodels.formula.api as smf\n",
    "\n",
    "# statsmodel linear regression\n",
    "\n",
    "lin_model = smf.OLS(endog=y, exog=X)\n",
    "result = lin_model.fit()\n",
    "result.summary()"
   ]
  },
  {
   "cell_type": "code",
   "execution_count": 126,
   "metadata": {
    "collapsed": false
   },
   "outputs": [],
   "source": [
    "from sklearn.cross_validation import train_test_split\n",
    "dummy_df = dummy_df.astype(float)\n",
    "X, y = dummy_df.drop(['TOTCIR', 'POPU_LSA', 'CIR/POP'], axis=1).values, dummy_df.loc[:, 'CIR/POP'].values\n",
    "X_train, X_test, y_train, y_test = train_test_split(X, y, test_size=0.2, random_state=0)"
   ]
  },
  {
   "cell_type": "code",
   "execution_count": 127,
   "metadata": {
    "collapsed": false
   },
   "outputs": [
    {
     "name": "stdout",
     "output_type": "stream",
     "text": [
      "0.293022535105\n"
     ]
    }
   ],
   "source": [
    "#sklearn linear regression\n",
    "from sklearn import linear_model, metrics\n",
    "\n",
    "lm=linear_model.LinearRegression().fit(X_train, y_train)\n",
    "print lm.score(X_train, y_train)"
   ]
  },
  {
   "cell_type": "code",
   "execution_count": 128,
   "metadata": {
    "collapsed": false
   },
   "outputs": [
    {
     "name": "stdout",
     "output_type": "stream",
     "text": [
      "Train OLS MSE:  0.0647914535886\n",
      "Test OLS MSE: 0.0672726652242\n",
      "Train Lasso MSE:  0.0879443787368\n",
      "Test Lasso MSE: 0.0906298089218\n",
      "Train Ridge MSE:  0.0648162793828\n",
      "Test Ridge MSE: 0.0673232275052\n"
     ]
    }
   ],
   "source": [
    "lm = linear_model.LinearRegression().fit(X_train, y_train)\n",
    "print 'Train OLS MSE: ', metrics.mean_squared_error(y_train, lm.predict(X_train))\n",
    "print 'Test OLS MSE:', metrics.mean_squared_error(y_test, lm.predict(X_test))\n",
    "\n",
    "lm = linear_model.Lasso().fit(X_train, y_train)\n",
    "print 'Train Lasso MSE: ', metrics.mean_squared_error(y_train, lm.predict(X_train))\n",
    "print 'Test Lasso MSE:', metrics.mean_squared_error(y_test, lm.predict(X_test))\n",
    "\n",
    "lm = linear_model.Ridge().fit(X_train, y_train)\n",
    "print 'Train Ridge MSE: ', metrics.mean_squared_error(y_train, lm.predict(X_train))\n",
    "print 'Test Ridge MSE:', metrics.mean_squared_error(y_test, lm.predict(X_test))"
   ]
  },
  {
   "cell_type": "code",
   "execution_count": 129,
   "metadata": {
    "collapsed": false
   },
   "outputs": [
    {
     "data": {
      "text/plain": [
       "GridSearchCV(cv=5, error_score='raise',\n",
       "       estimator=Ridge(alpha=1.0, copy_X=True, fit_intercept=True, max_iter=None,\n",
       "   normalize=False, random_state=None, solver='auto', tol=0.001),\n",
       "       fit_params={}, iid=True, n_jobs=1,\n",
       "       param_grid={'alpha': array([  1.00000e-10,   1.00000e-09,   1.00000e-08,   1.00000e-07,\n",
       "         1.00000e-06,   1.00000e-05,   1.00000e-04,   1.00000e-03,\n",
       "         1.00000e-02,   1.00000e-01,   1.00000e+00,   1.00000e+01,\n",
       "         1.00000e+02,   1.00000e+03,   1.00000e+04,   1.00000e+05,\n",
       "         1.00000e+06,   1.00000e+07,   1.00000e+08,   1.00000e+09,\n",
       "         1.00000e+10]), 'fit_intercept': [True, False]},\n",
       "       pre_dispatch='2*n_jobs', refit=True, scoring='mean_squared_error',\n",
       "       verbose=0)"
      ]
     },
     "execution_count": 129,
     "metadata": {},
     "output_type": "execute_result"
    }
   ],
   "source": [
    "from sklearn import grid_search\n",
    "\n",
    "alphas = np.logspace(-10, 10, 21)\n",
    "gs = grid_search.GridSearchCV(\n",
    "    cv=5,\n",
    "    estimator=linear_model.Ridge(),\n",
    "    param_grid={'alpha': alphas, 'fit_intercept': [True, False]},\n",
    "    scoring='mean_squared_error')\n",
    "\n",
    "gs.fit(X_train, y_train)"
   ]
  },
  {
   "cell_type": "code",
   "execution_count": 130,
   "metadata": {
    "collapsed": false
   },
   "outputs": [
    {
     "name": "stdout",
     "output_type": "stream",
     "text": [
      "[mean: -0.06555, std: 0.00277, params: {'alpha': 1e-10, 'fit_intercept': True},\n",
      " mean: -0.06558, std: 0.00288, params: {'alpha': 1e-10, 'fit_intercept': False},\n",
      " mean: -0.06555, std: 0.00277, params: {'alpha': 1.0000000000000001e-09, 'fit_intercept': True},\n",
      " mean: -0.06558, std: 0.00288, params: {'alpha': 1.0000000000000001e-09, 'fit_intercept': False},\n",
      " mean: -0.06555, std: 0.00277, params: {'alpha': 1e-08, 'fit_intercept': True},\n",
      " mean: -0.06558, std: 0.00288, params: {'alpha': 1e-08, 'fit_intercept': False},\n",
      " mean: -0.06555, std: 0.00277, params: {'alpha': 9.9999999999999995e-08, 'fit_intercept': True},\n",
      " mean: -0.06558, std: 0.00288, params: {'alpha': 9.9999999999999995e-08, 'fit_intercept': False},\n",
      " mean: -0.06555, std: 0.00277, params: {'alpha': 9.9999999999999995e-07, 'fit_intercept': True},\n",
      " mean: -0.06558, std: 0.00288, params: {'alpha': 9.9999999999999995e-07, 'fit_intercept': False},\n",
      " mean: -0.06555, std: 0.00277, params: {'alpha': 1.0000000000000001e-05, 'fit_intercept': True},\n",
      " mean: -0.06558, std: 0.00288, params: {'alpha': 1.0000000000000001e-05, 'fit_intercept': False},\n",
      " mean: -0.06555, std: 0.00277, params: {'alpha': 0.0001, 'fit_intercept': True},\n",
      " mean: -0.06558, std: 0.00288, params: {'alpha': 0.0001, 'fit_intercept': False},\n",
      " mean: -0.06555, std: 0.00277, params: {'alpha': 0.001, 'fit_intercept': True},\n",
      " mean: -0.06558, std: 0.00288, params: {'alpha': 0.001, 'fit_intercept': False},\n",
      " mean: -0.06555, std: 0.00277, params: {'alpha': 0.01, 'fit_intercept': True},\n",
      " mean: -0.06558, std: 0.00288, params: {'alpha': 0.01, 'fit_intercept': False},\n",
      " mean: -0.06555, std: 0.00277, params: {'alpha': 0.10000000000000001, 'fit_intercept': True},\n",
      " mean: -0.06557, std: 0.00288, params: {'alpha': 0.10000000000000001, 'fit_intercept': False},\n",
      " mean: -0.06557, std: 0.00276, params: {'alpha': 1.0, 'fit_intercept': True},\n",
      " mean: -0.06558, std: 0.00284, params: {'alpha': 1.0, 'fit_intercept': False},\n",
      " mean: -0.06602, std: 0.00272, params: {'alpha': 10.0, 'fit_intercept': True},\n",
      " mean: -0.06595, std: 0.00274, params: {'alpha': 10.0, 'fit_intercept': False},\n",
      " mean: -0.06769, std: 0.00281, params: {'alpha': 100.0, 'fit_intercept': True},\n",
      " mean: -0.06762, std: 0.00280, params: {'alpha': 100.0, 'fit_intercept': False},\n",
      " mean: -0.07219, std: 0.00307, params: {'alpha': 1000.0, 'fit_intercept': True},\n",
      " mean: -0.07212, std: 0.00302, params: {'alpha': 1000.0, 'fit_intercept': False},\n",
      " mean: -0.07888, std: 0.00312, params: {'alpha': 10000.0, 'fit_intercept': True},\n",
      " mean: -0.07933, std: 0.00322, params: {'alpha': 10000.0, 'fit_intercept': False},\n",
      " mean: -0.08489, std: 0.00314, params: {'alpha': 100000.0, 'fit_intercept': True},\n",
      " mean: -0.08724, std: 0.00344, params: {'alpha': 100000.0, 'fit_intercept': False},\n",
      " mean: -0.08757, std: 0.00318, params: {'alpha': 1000000.0, 'fit_intercept': True},\n",
      " mean: -0.09135, std: 0.00359, params: {'alpha': 1000000.0, 'fit_intercept': False},\n",
      " mean: -0.08794, std: 0.00319, params: {'alpha': 10000000.0, 'fit_intercept': True},\n",
      " mean: -0.09194, std: 0.00361, params: {'alpha': 10000000.0, 'fit_intercept': False},\n",
      " mean: -0.08798, std: 0.00319, params: {'alpha': 100000000.0, 'fit_intercept': True},\n",
      " mean: -0.09200, std: 0.00361, params: {'alpha': 100000000.0, 'fit_intercept': False},\n",
      " mean: -0.08798, std: 0.00319, params: {'alpha': 1000000000.0, 'fit_intercept': True},\n",
      " mean: -0.09201, std: 0.00361, params: {'alpha': 1000000000.0, 'fit_intercept': False},\n",
      " mean: -0.08798, std: 0.00318, params: {'alpha': 10000000000.0, 'fit_intercept': True},\n",
      " mean: -0.09201, std: 0.00362, params: {'alpha': 10000000000.0, 'fit_intercept': False}]\n"
     ]
    }
   ],
   "source": [
    "from pprint import pprint\n",
    "pprint(gs.grid_scores_ )"
   ]
  },
  {
   "cell_type": "code",
   "execution_count": 131,
   "metadata": {
    "collapsed": false
   },
   "outputs": [
    {
     "name": "stdout",
     "output_type": "stream",
     "text": [
      "-0.0655454847247\n",
      "Ridge(alpha=0.10000000000000001, copy_X=True, fit_intercept=True,\n",
      "   max_iter=None, normalize=False, random_state=None, solver='auto',\n",
      "   tol=0.001)\n"
     ]
    }
   ],
   "source": [
    "print gs.best_score_\n",
    "print gs.best_estimator_\n",
    "lrbestmodel=gs.best_estimator_"
   ]
  },
  {
   "cell_type": "code",
   "execution_count": 132,
   "metadata": {
    "collapsed": false
   },
   "outputs": [
    {
     "name": "stdout",
     "output_type": "stream",
     "text": [
      "[  2.96072494e-06   5.69641923e-02   3.62059066e-02   4.46508277e-03\n",
      "  -7.47477884e-04   1.22036701e-02   1.60928398e-01   8.74178252e-03\n",
      "  -1.67248410e-01  -1.89773480e-01   4.33384616e-02  -1.30721570e-02\n",
      "  -3.40948553e-01  -2.84033602e-01   5.10370266e-02   5.06944063e-02\n",
      "  -9.49292891e-02  -4.99902459e-02   4.79003402e-02   1.34286119e-01\n",
      "  -7.39742871e-02   9.51551877e-03   1.20174602e-01   6.76007721e-02\n",
      "  -3.74491224e-01   1.25240558e-01   2.67389084e-01   3.06736170e-01\n",
      "   3.18859433e-01   3.00922049e-01   3.38841808e-01   3.35646373e-01\n",
      "   3.43208544e-01   3.63448004e-01   3.79684874e-01   4.56683945e-01]\n"
     ]
    }
   ],
   "source": [
    "print lrbestmodel.coef_"
   ]
  },
  {
   "cell_type": "code",
   "execution_count": 133,
   "metadata": {
    "collapsed": false
   },
   "outputs": [],
   "source": [
    "prediction = lrbestmodel.predict(X_test)"
   ]
  },
  {
   "cell_type": "code",
   "execution_count": 134,
   "metadata": {
    "collapsed": false
   },
   "outputs": [
    {
     "data": {
      "image/png": "[encoded data removed]",
      "text/plain": [
       "<matplotlib.figure.Figure at 0x1c251358>"
      ]
     },
     "metadata": {},
     "output_type": "display_data"
    }
   ],
   "source": [
    "fig, ax = plt.subplots()\n",
    "ax.scatter(y_test, prediction)\n",
    "ax.plot([y.min(), y.max()], [y.min(), y.max()], 'k--', lw=4)\n",
    "ax.set_xlabel('y_test')\n",
    "ax.set_ylabel('Prediction')\n",
    "plt.show()"
   ]
  },
  {
   "cell_type": "code",
   "execution_count": 135,
   "metadata": {
    "collapsed": false
   },
   "outputs": [
    {
     "name": "stdout",
     "output_type": "stream",
     "text": [
      "Prediction: DescribeResult(nobs=1861L, minmax=(0.15721985534489707, 1.3071293461803282), mean=0.85142496060871176, variance=0.026409481362803636, skewness=-0.43682456126596486, kurtosis=0.1895368855312327)\n",
      "y_test: DescribeResult(nobs=1861L, minmax=(0.0098384532973182469, 2.0958017025375568), mean=0.85214808906249651, variance=0.095416217858548716, skewness=0.01845386289665569, kurtosis=0.02295662443024815)\n"
     ]
    },
    {
     "data": {
      "text/plain": [
       "0.9103459126756841"
      ]
     },
     "execution_count": 135,
     "metadata": {},
     "output_type": "execute_result"
    },
    {
     "data": {
      "image/png": "[encoded data removed]",
      "text/plain": [
       "<matplotlib.figure.Figure at 0x12859550>"
      ]
     },
     "metadata": {},
     "output_type": "display_data"
    }
   ],
   "source": [
    "from scipy.stats import norm, normaltest, describe\n",
    "sns.distplot(prediction, fit=norm, rug=True, color='b');\n",
    "sns.distplot(y_test, fit=norm, rug=True, color='g');\n",
    "print \"Prediction:\", describe(prediction)\n",
    "stat, p = normaltest(prediction)\n",
    "p\n",
    "\n",
    "print \"y_test:\", describe(y_test)\n",
    "stat, p = normaltest(y_test)\n",
    "p"
   ]
  },
  {
   "cell_type": "code",
   "execution_count": 136,
   "metadata": {
    "collapsed": false,
    "scrolled": true
   },
   "outputs": [
    {
     "data": {
      "image/png": "[encoded data removed]",
      "text/plain": [
       "<matplotlib.figure.Figure at 0xb8bca20>"
      ]
     },
     "metadata": {},
     "output_type": "display_data"
    }
   ],
   "source": [
    "fig, axes = plt.subplots(nrows=1, ncols=4, figsize=(10, 5))\n",
    "for i, col in enumerate(['STINCOME', 'STGVT', 'EBOOK', 'BKVOL']):\n",
    "    sns.residplot(y='CIR/POP', x=col, data=dummy_df, ax=axes[i])"
   ]
  },
  {
   "cell_type": "markdown",
   "metadata": {},
   "source": [
    "## Random Forest"
   ]
  },
  {
   "cell_type": "code",
   "execution_count": 137,
   "metadata": {
    "collapsed": false
   },
   "outputs": [
    {
     "data": {
      "text/plain": [
       "GridSearchCV(cv=5, error_score='raise',\n",
       "       estimator=RandomForestRegressor(bootstrap=True, criterion='mse', max_depth=None,\n",
       "           max_features='auto', max_leaf_nodes=None, min_samples_leaf=1,\n",
       "           min_samples_split=2, min_weight_fraction_leaf=0.0,\n",
       "           n_estimators=10, n_jobs=1, oob_score=False, random_state=None,\n",
       "           verbose=0, warm_start=False),\n",
       "       fit_params={}, iid=True, n_jobs=1,\n",
       "       param_grid={'min_samples_split': array([10, 20, 30, 40]), 'max_depth': array([ 2,  7, 12, 17, 22, 27, 32, 37, 42, 47, 52, 57, 62, 67, 72])},\n",
       "       pre_dispatch='2*n_jobs', refit=True, scoring='mean_squared_error',\n",
       "       verbose=0)"
      ]
     },
     "execution_count": 137,
     "metadata": {},
     "output_type": "execute_result"
    }
   ],
   "source": [
    "from sklearn.ensemble import RandomForestRegressor\n",
    "\n",
    "maxdepth = np.arange(2, 75, 5)\n",
    "minsamples = np.arange(10, 50, 10)\n",
    "randomforest_gs = grid_search.GridSearchCV(\n",
    "    cv=5,\n",
    "    estimator=RandomForestRegressor(),\n",
    "    param_grid={'max_depth': maxdepth, 'min_samples_split': minsamples},\n",
    "    scoring='mean_squared_error')\n",
    "\n",
    "randomforest_gs.fit(X_train, y_train)"
   ]
  },
  {
   "cell_type": "code",
   "execution_count": 138,
   "metadata": {
    "collapsed": false
   },
   "outputs": [
    {
     "name": "stdout",
     "output_type": "stream",
     "text": [
      "[mean: -0.07768, std: 0.00339, params: {'min_samples_split': 10, 'max_depth': 2},\n",
      " mean: -0.07787, std: 0.00367, params: {'min_samples_split': 20, 'max_depth': 2},\n",
      " mean: -0.07772, std: 0.00339, params: {'min_samples_split': 30, 'max_depth': 2},\n",
      " mean: -0.07812, std: 0.00350, params: {'min_samples_split': 40, 'max_depth': 2},\n",
      " mean: -0.06409, std: 0.00304, params: {'min_samples_split': 10, 'max_depth': 7},\n",
      " mean: -0.06406, std: 0.00277, params: {'min_samples_split': 20, 'max_depth': 7},\n",
      " mean: -0.06383, std: 0.00298, params: {'min_samples_split': 30, 'max_depth': 7},\n",
      " mean: -0.06469, std: 0.00282, params: {'min_samples_split': 40, 'max_depth': 7},\n",
      " mean: -0.06224, std: 0.00274, params: {'min_samples_split': 10, 'max_depth': 12},\n",
      " mean: -0.06162, std: 0.00330, params: {'min_samples_split': 20, 'max_depth': 12},\n",
      " mean: -0.06175, std: 0.00342, params: {'min_samples_split': 30, 'max_depth': 12},\n",
      " mean: -0.06147, std: 0.00301, params: {'min_samples_split': 40, 'max_depth': 12},\n",
      " mean: -0.06226, std: 0.00267, params: {'min_samples_split': 10, 'max_depth': 17},\n",
      " mean: -0.06176, std: 0.00260, params: {'min_samples_split': 20, 'max_depth': 17},\n",
      " mean: -0.06148, std: 0.00342, params: {'min_samples_split': 30, 'max_depth': 17},\n",
      " mean: -0.06165, std: 0.00273, params: {'min_samples_split': 40, 'max_depth': 17},\n",
      " mean: -0.06241, std: 0.00253, params: {'min_samples_split': 10, 'max_depth': 22},\n",
      " mean: -0.06192, std: 0.00261, params: {'min_samples_split': 20, 'max_depth': 22},\n",
      " mean: -0.06092, std: 0.00339, params: {'min_samples_split': 30, 'max_depth': 22},\n",
      " mean: -0.06118, std: 0.00309, params: {'min_samples_split': 40, 'max_depth': 22},\n",
      " mean: -0.06231, std: 0.00259, params: {'min_samples_split': 10, 'max_depth': 27},\n",
      " mean: -0.06102, std: 0.00304, params: {'min_samples_split': 20, 'max_depth': 27},\n",
      " mean: -0.06157, std: 0.00315, params: {'min_samples_split': 30, 'max_depth': 27},\n",
      " mean: -0.06158, std: 0.00344, params: {'min_samples_split': 40, 'max_depth': 27},\n",
      " mean: -0.06301, std: 0.00249, params: {'min_samples_split': 10, 'max_depth': 32},\n",
      " mean: -0.06240, std: 0.00239, params: {'min_samples_split': 20, 'max_depth': 32},\n",
      " mean: -0.06173, std: 0.00295, params: {'min_samples_split': 30, 'max_depth': 32},\n",
      " mean: -0.06209, std: 0.00296, params: {'min_samples_split': 40, 'max_depth': 32},\n",
      " mean: -0.06279, std: 0.00263, params: {'min_samples_split': 10, 'max_depth': 37},\n",
      " mean: -0.06133, std: 0.00311, params: {'min_samples_split': 20, 'max_depth': 37},\n",
      " mean: -0.06134, std: 0.00295, params: {'min_samples_split': 30, 'max_depth': 37},\n",
      " mean: -0.06195, std: 0.00333, params: {'min_samples_split': 40, 'max_depth': 37},\n",
      " mean: -0.06160, std: 0.00263, params: {'min_samples_split': 10, 'max_depth': 42},\n",
      " mean: -0.06154, std: 0.00310, params: {'min_samples_split': 20, 'max_depth': 42},\n",
      " mean: -0.06191, std: 0.00354, params: {'min_samples_split': 30, 'max_depth': 42},\n",
      " mean: -0.06141, std: 0.00304, params: {'min_samples_split': 40, 'max_depth': 42},\n",
      " mean: -0.06179, std: 0.00332, params: {'min_samples_split': 10, 'max_depth': 47},\n",
      " mean: -0.06159, std: 0.00320, params: {'min_samples_split': 20, 'max_depth': 47},\n",
      " mean: -0.06083, std: 0.00292, params: {'min_samples_split': 30, 'max_depth': 47},\n",
      " mean: -0.06103, std: 0.00323, params: {'min_samples_split': 40, 'max_depth': 47},\n",
      " mean: -0.06319, std: 0.00303, params: {'min_samples_split': 10, 'max_depth': 52},\n",
      " mean: -0.06113, std: 0.00276, params: {'min_samples_split': 20, 'max_depth': 52},\n",
      " mean: -0.06137, std: 0.00285, params: {'min_samples_split': 30, 'max_depth': 52},\n",
      " mean: -0.06122, std: 0.00325, params: {'min_samples_split': 40, 'max_depth': 52},\n",
      " mean: -0.06261, std: 0.00329, params: {'min_samples_split': 10, 'max_depth': 57},\n",
      " mean: -0.06139, std: 0.00336, params: {'min_samples_split': 20, 'max_depth': 57},\n",
      " mean: -0.06116, std: 0.00322, params: {'min_samples_split': 30, 'max_depth': 57},\n",
      " mean: -0.06120, std: 0.00271, params: {'min_samples_split': 40, 'max_depth': 57},\n",
      " mean: -0.06242, std: 0.00275, params: {'min_samples_split': 10, 'max_depth': 62},\n",
      " mean: -0.06156, std: 0.00315, params: {'min_samples_split': 20, 'max_depth': 62},\n",
      " mean: -0.06158, std: 0.00335, params: {'min_samples_split': 30, 'max_depth': 62},\n",
      " mean: -0.06175, std: 0.00349, params: {'min_samples_split': 40, 'max_depth': 62},\n",
      " mean: -0.06216, std: 0.00225, params: {'min_samples_split': 10, 'max_depth': 67},\n",
      " mean: -0.06143, std: 0.00279, params: {'min_samples_split': 20, 'max_depth': 67},\n",
      " mean: -0.06154, std: 0.00353, params: {'min_samples_split': 30, 'max_depth': 67},\n",
      " mean: -0.06141, std: 0.00292, params: {'min_samples_split': 40, 'max_depth': 67},\n",
      " mean: -0.06177, std: 0.00278, params: {'min_samples_split': 10, 'max_depth': 72},\n",
      " mean: -0.06150, std: 0.00273, params: {'min_samples_split': 20, 'max_depth': 72},\n",
      " mean: -0.06126, std: 0.00318, params: {'min_samples_split': 30, 'max_depth': 72},\n",
      " mean: -0.06125, std: 0.00288, params: {'min_samples_split': 40, 'max_depth': 72}]\n"
     ]
    }
   ],
   "source": [
    "pprint(randomforest_gs.grid_scores_ )"
   ]
  },
  {
   "cell_type": "code",
   "execution_count": 139,
   "metadata": {
    "collapsed": false
   },
   "outputs": [
    {
     "name": "stdout",
     "output_type": "stream",
     "text": [
      "-0.0608346568754\n",
      "RandomForestRegressor(bootstrap=True, criterion='mse', max_depth=47,\n",
      "           max_features='auto', max_leaf_nodes=None, min_samples_leaf=1,\n",
      "           min_samples_split=30, min_weight_fraction_leaf=0.0,\n",
      "           n_estimators=10, n_jobs=1, oob_score=False, random_state=None,\n",
      "           verbose=0, warm_start=False)\n"
     ]
    }
   ],
   "source": [
    "print randomforest_gs.best_score_\n",
    "print randomforest_gs.best_estimator_\n",
    "rfbestmodel=randomforest_gs.best_estimator_"
   ]
  },
  {
   "cell_type": "code",
   "execution_count": 140,
   "metadata": {
    "collapsed": false
   },
   "outputs": [],
   "source": [
    "prediction = rfbestmodel.predict(X_test)"
   ]
  },
  {
   "cell_type": "code",
   "execution_count": 141,
   "metadata": {
    "collapsed": false
   },
   "outputs": [
    {
     "data": {
      "image/png": "[encoded data removed]",
      "text/plain": [
       "<matplotlib.figure.Figure at 0x21aecb70>"
      ]
     },
     "metadata": {},
     "output_type": "display_data"
    }
   ],
   "source": [
    "fig, ax = plt.subplots()\n",
    "ax.scatter(y_test, prediction)\n",
    "ax.plot([y.min(), y.max()], [y.min(), y.max()], 'k--', lw=4)\n",
    "ax.set_xlabel('y_test')\n",
    "ax.set_ylabel('prediction')\n",
    "plt.show()"
   ]
  },
  {
   "cell_type": "code",
   "execution_count": 142,
   "metadata": {
    "collapsed": false
   },
   "outputs": [
    {
     "name": "stdout",
     "output_type": "stream",
     "text": [
      "Prediction: DescribeResult(nobs=1861L, minmax=(0.19266789099727982, 1.4017599495931712), mean=0.85477554783324428, variance=0.033595287600460676, skewness=-0.41534603367750383, kurtosis=0.059030212377578106)\n",
      "y_test: DescribeResult(nobs=1861L, minmax=(0.0098384532973182469, 2.0958017025375568), mean=0.85214808906249651, variance=0.095416217858548716, skewness=0.01845386289665569, kurtosis=0.02295662443024815)\n"
     ]
    },
    {
     "data": {
      "text/plain": [
       "0.9103459126756841"
      ]
     },
     "execution_count": 142,
     "metadata": {},
     "output_type": "execute_result"
    },
    {
     "data": {
      "image/png": "[encoded data removed]",
      "text/plain": [
       "<matplotlib.figure.Figure at 0x21c9f860>"
      ]
     },
     "metadata": {},
     "output_type": "display_data"
    }
   ],
   "source": [
    "from scipy.stats import norm, normaltest, describe\n",
    "sns.distplot(prediction, fit=norm, rug=True, color='b');\n",
    "sns.distplot(y_test, fit=norm, rug=True, color='g');\n",
    "print \"Prediction:\", describe(prediction)\n",
    "stat, p = normaltest(prediction)\n",
    "p\n",
    "\n",
    "print \"y_test:\", describe(y_test)\n",
    "stat, p = normaltest(y_test)\n",
    "p"
   ]
  },
  {
   "cell_type": "code",
   "execution_count": 143,
   "metadata": {
    "collapsed": false
   },
   "outputs": [
    {
     "data": {
      "image/png": "[encoded data removed]",
      "text/plain": [
       "<matplotlib.figure.Figure at 0x21e8dba8>"
      ]
     },
     "metadata": {},
     "output_type": "display_data"
    }
   ],
   "source": [
    "importances = rfbestmodel.feature_importances_\n",
    "std = np.std([rfbestmodel.feature_importances_ for tree in rfbestmodel.estimators_],\n",
    "             axis=0)\n",
    "indices = np.argsort(importances)[::-1]\n",
    "\n",
    "plt.figure()\n",
    "plt.title(\"Feature importances\")\n",
    "plt.bar(range(X.shape[1]), importances[indices],\n",
    "       color=\"r\", yerr=std[indices], align=\"center\")\n",
    "plt.xticks(range(X.shape[1]), indices)\n",
    "plt.xlim([-1, X.shape[1]])\n",
    "plt.show()"
   ]
  },
  {
   "cell_type": "code",
   "execution_count": 144,
   "metadata": {
    "collapsed": false
   },
   "outputs": [
    {
     "data": {
      "text/html": [
       "<div>\n",
       "<table border=\"1\" class=\"dataframe\">\n",
       "  <thead>\n",
       "    <tr style=\"text-align: right;\">\n",
       "      <th></th>\n",
       "      <th>Features</th>\n",
       "      <th>Importance Score</th>\n",
       "    </tr>\n",
       "  </thead>\n",
       "  <tbody>\n",
       "    <tr>\n",
       "      <th>2</th>\n",
       "      <td>EBOOK</td>\n",
       "      <td>0.222509</td>\n",
       "    </tr>\n",
       "    <tr>\n",
       "      <th>0</th>\n",
       "      <td>STINCOME</td>\n",
       "      <td>0.164920</td>\n",
       "    </tr>\n",
       "    <tr>\n",
       "      <th>5</th>\n",
       "      <td>LOCGVT</td>\n",
       "      <td>0.123789</td>\n",
       "    </tr>\n",
       "    <tr>\n",
       "      <th>1</th>\n",
       "      <td>BKVOL</td>\n",
       "      <td>0.123227</td>\n",
       "    </tr>\n",
       "    <tr>\n",
       "      <th>3</th>\n",
       "      <td>STGVT</td>\n",
       "      <td>0.115214</td>\n",
       "    </tr>\n",
       "    <tr>\n",
       "      <th>6</th>\n",
       "      <td>TOTSTAFF</td>\n",
       "      <td>0.064166</td>\n",
       "    </tr>\n",
       "    <tr>\n",
       "      <th>4</th>\n",
       "      <td>FEDGVT</td>\n",
       "      <td>0.024548</td>\n",
       "    </tr>\n",
       "    <tr>\n",
       "      <th>19</th>\n",
       "      <td>OBEREG_4</td>\n",
       "      <td>0.022051</td>\n",
       "    </tr>\n",
       "    <tr>\n",
       "      <th>20</th>\n",
       "      <td>OBEREG_5</td>\n",
       "      <td>0.014901</td>\n",
       "    </tr>\n",
       "    <tr>\n",
       "      <th>9</th>\n",
       "      <td>GEOCODE_CO2</td>\n",
       "      <td>0.014386</td>\n",
       "    </tr>\n",
       "  </tbody>\n",
       "</table>\n",
       "</div>"
      ],
      "text/plain": [
       "       Features  Importance Score\n",
       "2         EBOOK          0.222509\n",
       "0      STINCOME          0.164920\n",
       "5        LOCGVT          0.123789\n",
       "1         BKVOL          0.123227\n",
       "3         STGVT          0.115214\n",
       "6      TOTSTAFF          0.064166\n",
       "4        FEDGVT          0.024548\n",
       "19     OBEREG_4          0.022051\n",
       "20     OBEREG_5          0.014901\n",
       "9   GEOCODE_CO2          0.014386"
      ]
     },
     "execution_count": 144,
     "metadata": {},
     "output_type": "execute_result"
    }
   ],
   "source": [
    "features = dummy_df.drop(['TOTCIR', 'POPU_LSA', 'CIR/POP'], axis=1).columns\n",
    "feature_importances = rfbestmodel.feature_importances_\n",
    "\n",
    "features_df = pd.DataFrame({'Features': features, 'Importance Score': feature_importances})\n",
    "features_df.sort_values('Importance Score', inplace=True, ascending=False)\n",
    "\n",
    "features_df.head(10)"
   ]
  },
  {
   "cell_type": "code",
   "execution_count": null,
   "metadata": {
    "collapsed": true
   },
   "outputs": [],
   "source": []
  }
 ],
 "metadata": {
  "anaconda-cloud": {},
  "kernelspec": {
   "display_name": "Python [conda root]",
   "language": "python",
   "name": "conda-root-py"
  },
  "language_info": {
   "codemirror_mode": {
    "name": "ipython",
    "version": 2
   },
   "file_extension": ".py",
   "mimetype": "text/x-python",
   "name": "python",
   "nbconvert_exporter": "python",
   "pygments_lexer": "ipython2",
   "version": "2.7.12"
  }
 },
 "nbformat": 4,
 "nbformat_minor": 1
}
