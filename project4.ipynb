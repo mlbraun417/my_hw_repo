{
 "cells": [
  {
   "cell_type": "markdown",
   "metadata": {},
   "source": [
    "# Project 4\n",
    "\n",
    "In this project, you will summarize and present your analysis from Projects 1-3."
   ]
  },
  {
   "cell_type": "markdown",
   "metadata": {},
   "source": [
    "### Intro: Write a problem Statement/ Specific Aim for this project"
   ]
  },
  {
   "cell_type": "markdown",
   "metadata": {},
   "source": [
    "Answer: The aim of this project is to predict the probability that a student will get into graduate school based on the prestige of their undergraduate school, GRE score, and GPA."
   ]
  },
  {
   "cell_type": "markdown",
   "metadata": {},
   "source": [
    "### Dataset:  Write up a description of your data and any cleaning that was completed"
   ]
  },
  {
   "cell_type": "markdown",
   "metadata": {},
   "source": [
    "Answer: The data has 4 variables, described in the data dictionary below:\n",
    "\n",
    "Variable | Description | Type of Variable\n",
    "---| :---:| :---:\n",
    "admit | 0 = not admitted, 1 = admitted | binary\n",
    "gre | 200-800 | continuous \n",
    "gpa | 0-4 | continuous\n",
    "prestige | 1, 2, 3, 4 | ordinal\n",
    "\n",
    "There were 3 rows with missing data, so those rows were removed from the original 400 rows, leaving 397 rows for analysis."
   ]
  },
  {
   "cell_type": "markdown",
   "metadata": {
    "collapsed": true
   },
   "source": [
    "### Demo: Provide a table that explains the data by admission status"
   ]
  },
  {
   "cell_type": "markdown",
   "metadata": {},
   "source": [
    "Mean (STD) or counts by admission status for each variable \n",
    "\n",
    "| Not Admitted | Admitted\n",
    ":---:| :---:|:---:\n",
    "GPA | mean: 3.35, std: 0.376 | mean: 3.49, std: 0.372\n",
    "GRE |mean: 573.58, std: 116.05 | mean: 618.57, std: 109.26\n",
    "Prestige 1 | 45.9% | 54.1%\n",
    "Prestige 2 | 64.2% | 35.8%\n",
    "Prestige 3 | 76.9% | 23.1%\n",
    "Prestige 4 | 82.1% | 17.9%"
   ]
  },
  {
   "cell_type": "markdown",
   "metadata": {},
   "source": [
    "### Methods: Write up the methods used in your analysis"
   ]
  },
  {
   "cell_type": "markdown",
   "metadata": {},
   "source": [
    "Answer:\n",
    "Since prestige is an ordinal variable, broken into 4 categories, I created 3 dummy variables for prestige.  I also added a column for the intercept, since it's required for the statsmodel Logit model.  I used all the data to fit the model."
   ]
  },
  {
   "cell_type": "markdown",
   "metadata": {},
   "source": [
    "### Results: Write up your results"
   ]
  },
  {
   "cell_type": "markdown",
   "metadata": {},
   "source": [
    "Answer: The coefficients for all the variables had p-values small enough to be statistically significant. \n",
    "\n",
    "In order to predict the probability of admission, I created a table with all possible combinations of gpa, gre, and prestige and predicted the results using the Logit model fitted to the test data.  "
   ]
  },
  {
   "cell_type": "markdown",
   "metadata": {},
   "source": [
    "### Visuals: Provide a table or visualization of these results"
   ]
  },
  {
   "cell_type": "markdown",
   "metadata": {},
   "source": [
    " Logit Regression Results                           \n",
    "\n",
    "\n",
    "Variable | Coefficient | Std Error | 95% Confidence Interval\n",
    ":---:| :---:| :---: | :---:\n",
    "gre | 0.0022 | 0.001 | 7.44e-5 -- 0.004\n",
    "gpa | 0.7793 | 0.333 | 0.128 -- 1.431\n",
    "prestige 2 | -0.6801 | 0.317 | -1.301 -- -0.059\n",
    "prestige 3 | -1.3387 | 0.345 | -2.015 -- -0.663\n",
    "prestige 4 | -1.5534 | 0.417 | -2.372 -- -0.735\n",
    "intercept | -3.8769 | 1.142 | -6.116 -- -1.638"
   ]
  },
  {
   "cell_type": "markdown",
   "metadata": {},
   "source": [
    "### Discussion: Write up your discussion and future steps"
   ]
  },
  {
   "cell_type": "markdown",
   "metadata": {},
   "source": [
    "Answer: The gre and gpa variables are positively related to admission, as they increase, so does the probability of being relates.  In this data set, prestige level 1 is the most prestigious and level 4, the least. The coefficients for prestige levels 2 to 4 are negative, with level 4 having the largest absolute value.\n",
    "\n",
    "Looking at the predictions, it showed that when gre and gpa are the same, a student has a higher probability of being admitted if they went to a more prestigious school.\n",
    "\n",
    "According to this model, if a student is interested in attending graduate school, they should attend a more prestigious undergraduate school."
   ]
  },
  {
   "cell_type": "code",
   "execution_count": null,
   "metadata": {
    "collapsed": true
   },
   "outputs": [],
   "source": [
    ""
   ]
  }
 ],
 "metadata": {
  "anaconda-cloud": {},
  "kernelspec": {
   "display_name": "Python [default]",
   "language": "python",
   "name": "python2"
  },
  "language_info": {
   "codemirror_mode": {
    "name": "ipython",
    "version": 2.0
   },
   "file_extension": ".py",
   "mimetype": "text/x-python",
   "name": "python",
   "nbconvert_exporter": "python",
   "pygments_lexer": "ipython2",
   "version": "2.7.12"
  }
 },
 "nbformat": 4,
 "nbformat_minor": 0
}